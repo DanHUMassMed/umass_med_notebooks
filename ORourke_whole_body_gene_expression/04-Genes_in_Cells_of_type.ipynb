{
 "cells": [
  {
   "cell_type": "markdown",
   "id": "00ffafde-718a-4c28-b5e0-f7853132e5ae",
   "metadata": {},
   "source": [
    "# Analysis of Genes in Cell Types\n",
    "\n",
    "Prior to running this Notebook you must generate **gene_in_cell_type.csv** file by running **02-batch_run_expression** Notebook\n",
    "\n",
    "\n",
    "Note `include_gene_in_cells = True` must be set to **True**\n"
   ]
  },
  {
   "cell_type": "code",
   "execution_count": null,
   "id": "63372e2b-59b8-4ed9-a862-fa47156efa85",
   "metadata": {},
   "outputs": [],
   "source": [
    "import pandas as pd\n",
    "import numpy as np\n",
    "import matplotlib.pyplot as plt"
   ]
  },
  {
   "cell_type": "code",
   "execution_count": null,
   "id": "b8b2b0fe-1038-41ed-960c-0e78c791294b",
   "metadata": {},
   "outputs": [],
   "source": [
    "input_dir='./output_data/poorly_annotated_20'\n",
    "genes_in_cell_type_df = pd.read_csv(f'{input_dir}/genes_in_cell_type_group.csv') \n",
    "cell_types = genes_in_cell_type_df.columns\n",
    "cell_types = cell_types[1:] # drop wormbase_id\n",
    "#genes_in_cell_type_df"
   ]
  },
  {
   "cell_type": "code",
   "execution_count": null,
   "id": "4193c864-e4f8-477c-851e-9cc15f09e45a",
   "metadata": {},
   "outputs": [],
   "source": [
    "genes_in_cell_type_df['expressed_count'] = genes_in_cell_type_df[cell_types].count(axis=1)\n",
    "genes_in_cell_type_df = genes_in_cell_type_df.fillna(0)\n",
    "genes_in_cell_type_df['expressed_sum'] = genes_in_cell_type_df[cell_types].sum(axis=1)\n",
    "\n",
    "# Print the result\n",
    "\n",
    "genes_in_cell_type_sorted = genes_in_cell_type_df.sort_values(['expressed_count', 'expressed_sum'], ascending=[False, False])\n",
    "genes_in_cell_type_sorted\n"
   ]
  },
  {
   "cell_type": "code",
   "execution_count": null,
   "id": "d368d918-beed-4f13-a5fb-3c3d24ff49ba",
   "metadata": {},
   "outputs": [],
   "source": [
    "rows = 50\n",
    "df_subset = genes_in_cell_type_sorted[cell_types].head(rows)\n",
    "yticks = genes_in_cell_type_sorted['wormbase_id'].head(rows)\n",
    "yticks"
   ]
  },
  {
   "cell_type": "code",
   "execution_count": null,
   "id": "d0643e76-e710-4132-8a31-33a0c59f9333",
   "metadata": {},
   "outputs": [],
   "source": [
    "import numpy as np\n",
    "import matplotlib.pyplot as plt\n",
    "\n",
    "# Create heatmap\n",
    "#fig = plt.figure(figsize=(8, 4))\n",
    "fig, ax = plt.subplots(figsize=(20, 15))\n",
    "df_log = df_subset.applymap(lambda x: np.log(x))\n",
    "df_log = df_log.replace(-np.inf, 0)\n",
    "\n",
    "\n",
    "im = ax.imshow(df_log, cmap='coolwarm')\n",
    "\n",
    "# Add colorbar\n",
    "cbar = ax.figure.colorbar(im, ax=ax)\n",
    "\n",
    "# Set tick labels\n",
    "ax.set_xticks(np.arange(len(cell_types)))\n",
    "ax.set_yticks(np.arange(len(yticks)))\n",
    "ax.set_xticklabels(cell_types)\n",
    "ax.set_yticklabels(yticks)\n",
    "\n",
    "# Rotate tick labels and set label for x and y axis\n",
    "plt.setp(ax.get_xticklabels(), rotation=45, ha=\"right\", rotation_mode=\"anchor\")\n",
    "ax.set_title(\"Heatmap Top 50 Genes \\nby Cell Type Group\")\n",
    "ax.set_xlabel('Cell Type')\n",
    "ax.set_ylabel('Gene WormBase ID')\n",
    "\n",
    "# Display plot\n",
    "plt.show()\n",
    "df_log"
   ]
  },
  {
   "cell_type": "code",
   "execution_count": null,
   "id": "e39d57b1-b8ca-4fc1-91e2-e703dabed3d8",
   "metadata": {},
   "outputs": [],
   "source": []
  },
  {
   "cell_type": "code",
   "execution_count": null,
   "id": "6ae85740-c12e-47d7-82c0-c6d0ea7c9c8e",
   "metadata": {},
   "outputs": [],
   "source": []
  }
 ],
 "metadata": {
  "kernelspec": {
   "display_name": "Python [conda env:dan-dev-sc]",
   "language": "python",
   "name": "conda-env-dan-dev-sc-py"
  },
  "language_info": {
   "codemirror_mode": {
    "name": "ipython",
    "version": 3
   },
   "file_extension": ".py",
   "mimetype": "text/x-python",
   "name": "python",
   "nbconvert_exporter": "python",
   "pygments_lexer": "ipython3",
   "version": "3.9.16"
  }
 },
 "nbformat": 4,
 "nbformat_minor": 5
}
