{
 "cells": [
  {
   "cell_type": "markdown",
   "id": "7b06ef81-e9f1-474e-bf53-55f64c2af9a8",
   "metadata": {},
   "source": [
    "## FDR False Discovery Rates\n",
    "\n",
    "FDR = Benjamini-Hickberg procedure\n"
   ]
  },
  {
   "cell_type": "code",
   "execution_count": null,
   "id": "803125ec-5ad6-489d-9eed-be64b24b12c2",
   "metadata": {},
   "outputs": [],
   "source": [
    "'''\n",
    "Goal: demo how to apply the False Discovery Rate (FDR) formula in Python\n",
    "FDR = Benjamini-Hochberg procedure\n",
    "\n",
    "The purpose of the FDR adjustment is for when you have thousands of p values, it will allow you to determine the subset of p-values for which you are even more confident there is no Type 1 (false positive) error made.\n",
    "Formula: p_val*len_p_val_list/rank\n",
    "\n",
    "Type 1 error = incorrectly rejecting the the null hypothesis (the null hypothesis is true, but the test concludes that it is false)\n",
    "\n",
    "'''\n",
    "\n",
    "import random\n",
    "\n",
    "\n",
    "def fdr_Adjusted significance level = Original significance level / Number of tests(p_val_list):\n",
    "    # now perform the FDR adjustment\n",
    "    # start by sorting the list asc\n",
    "    p_val_list.sort()\n",
    "\n",
    "    # next, assign a rank to each item in list, start at 1\n",
    "    rank = 1\n",
    "    len_p_val_list = len(p_val_list)\n",
    "    \n",
    "    p_adj_list = []\n",
    "    for p_val in p_val_list:\n",
    "        fdr_adj_p_val = p_val*len_p_val_list/rank\n",
    "        rank += 1\n",
    "        p_adj_list.append(\n",
    "            {\n",
    "                \"p_val\": p_val,\n",
    "                \"fdr_adj_p_val\": fdr_adj_p_val\n",
    "            }\n",
    "        )\n",
    "    return p_adj_list\n",
    "        \n"
   ]
  },
  {
   "cell_type": "code",
   "execution_count": null,
   "id": "88583d4a-13e4-4b58-974e-13afb075bc94",
   "metadata": {},
   "outputs": [],
   "source": [
    "# create a uniform distribution of 1000 p-values\n",
    "# for testing we know this data has know this data is just random so we should not reject the null hyposesis \n",
    "p_val_list = []\n",
    "for i in range(50):\n",
    "    p_val = random.random()\n",
    "    p_val_list.append(p_val)\n",
    "    \n",
    "p_adj_list = fdr_benjamini_hochberg(p_val_list)\n",
    "for p in p_adj_list:\n",
    "    print(f\"'p_val'={p['p_val']:<20} \\t {p['fdr_adj_p_val']=}\")"
   ]
  },
  {
   "cell_type": "code",
   "execution_count": null,
   "id": "6b9d5e59-0f8e-4c88-a998-513a0b8112a4",
   "metadata": {},
   "outputs": [],
   "source": [
    "import matplotlib.pyplot as plt\n",
    "\n",
    "plt.hist(p_val_list)\n",
    "plt.title(\"Histogram of Data\")\n",
    "plt.xlabel(\"Values\")\n",
    "plt.ylabel(\"Frequency\")\n",
    "plt.show()"
   ]
  },
  {
   "cell_type": "code",
   "execution_count": null,
   "id": "b1c8d69d-5fba-424e-81e4-875298e0718f",
   "metadata": {},
   "outputs": [],
   "source": [
    "Adjusted significance level = Original significance level / Number of tests\n"
   ]
  }
 ],
 "metadata": {
  "kernelspec": {
   "display_name": "Python [conda env:dan-dev-sc]",
   "language": "python",
   "name": "conda-env-dan-dev-sc-py"
  },
  "language_info": {
   "codemirror_mode": {
    "name": "ipython",
    "version": 3
   },
   "file_extension": ".py",
   "mimetype": "text/x-python",
   "name": "python",
   "nbconvert_exporter": "python",
   "pygments_lexer": "ipython3",
   "version": "3.9.16"
  }
 },
 "nbformat": 4,
 "nbformat_minor": 5
}
