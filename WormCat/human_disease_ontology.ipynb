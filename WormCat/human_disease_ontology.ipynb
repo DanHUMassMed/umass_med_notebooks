{
 "cells": [
  {
   "cell_type": "markdown",
   "id": "9665abca-dd32-4086-8886-25a608a57f49",
   "metadata": {},
   "source": [
    "# Human Disease Ontology\n",
    "---\n",
    "### Data for this analysis comes from Wormbase\n",
    "\n",
    "https://wormbase.org/tools/ontology_browser/\n",
    "\n",
    "![Image](./input_data/Wormbase-screenshot.png)\n",
    "\n",
    "--- \n",
    "### Summary of findings\n",
    "\n",
    "\n",
    "* 3.0% of __Unassigned Genes__ are related to Human Disease.\n",
    "* 6.0% of __Poorly Annotated Genes__ are related to Human Disease.\n",
    "* 11.0% of __All Worm Genes__ are related to Human Disease.\n",
    "\n",
    "\n",
    "__Notes:__\n",
    "\n",
    "* We define ___Poorly Annotated Genes (PAG)___ as Genes in Category 1 of WormCat with the descriptions ['Unassigned','Transmembrane protein', 'Transmembrane transport']"
   ]
  },
  {
   "cell_type": "code",
   "execution_count": null,
   "id": "d0ede522-6969-416e-9089-64fb47993ad6",
   "metadata": {},
   "outputs": [],
   "source": [
    "import pandas as pd"
   ]
  },
  {
   "cell_type": "code",
   "execution_count": null,
   "id": "7e4aa873-f3af-4b14-8e15-a2fbb0e84c80",
   "metadata": {},
   "outputs": [],
   "source": [
    "# Read in the Disease Ontology\n",
    "# The data has comes from Wormbase\n",
    "xlsx_file_nm = './input_data/Human_Disease_Ontology.xlsx'\n",
    "human_disease_xlsx = pd.ExcelFile(xlsx_file_nm)"
   ]
  },
  {
   "cell_type": "code",
   "execution_count": null,
   "id": "ca279333-6f44-48b2-bb69-569bfd335f4d",
   "metadata": {},
   "outputs": [],
   "source": [
    "# Lets take a look at the sheets that are in this Excel\n",
    "sheet_names = human_disease_xlsx.sheet_names\n",
    "sheet_names"
   ]
  },
  {
   "cell_type": "code",
   "execution_count": null,
   "id": "f9240750-06c0-49b4-ae39-302db1bb87b5",
   "metadata": {},
   "outputs": [],
   "source": [
    "# Create a dictionary of each human disease with the aligned Wormbase_ids\n",
    "human_disease_dfs = {}\n",
    "for sheet_name in sheet_names:\n",
    "    human_disease_dfs[sheet_name] = pd.read_excel(xlsx_file_nm, sheet_name=sheet_name)\n",
    "    human_disease_dfs[sheet_name] = human_disease_dfs[sheet_name].rename(columns={'disease_type': sheet_name})\n",
    "    human_disease_dfs[sheet_name][sheet_name]=True\n",
    "    human_disease_dfs[sheet_name] = human_disease_dfs[sheet_name].drop(columns=['DOID', 'descendant terms'])\n",
    "    \n"
   ]
  },
  {
   "cell_type": "code",
   "execution_count": null,
   "id": "55f87dd9-3c65-4d9c-a871-48739053aa22",
   "metadata": {},
   "outputs": [],
   "source": [
    "#human_disease_dfs"
   ]
  },
  {
   "cell_type": "code",
   "execution_count": null,
   "id": "a14eb737-b460-4b6e-a142-f9e7690636f8",
   "metadata": {},
   "outputs": [],
   "source": [
    "# merge the individual dataframes of disease into a single dataframe\n",
    "merged_df = pd.merge(human_disease_dfs[sheet_names[0]], human_disease_dfs[sheet_names[1]], on='wormbase_id', how='outer')\n",
    "print(sheet_names[0])\n",
    "print(sheet_names[1])\n",
    "for index in range(2,len(sheet_names)):\n",
    "    print(sheet_names[index])\n",
    "    merged_df = pd.merge(merged_df, human_disease_dfs[sheet_names[index]], on='wormbase_id', how='outer')\n",
    "    \n",
    "len(merged_df)"
   ]
  },
  {
   "cell_type": "code",
   "execution_count": null,
   "id": "c29857e0-0ee6-4b6c-9f9c-0f208057da5e",
   "metadata": {},
   "outputs": [],
   "source": [
    "merged_df = merged_df.rename(columns={'wormbase_id':'wormbase_id_disease'})\n",
    "merged_df"
   ]
  },
  {
   "cell_type": "code",
   "execution_count": null,
   "id": "078a8e9f-020b-4f54-86ad-46bb2ee120ec",
   "metadata": {},
   "outputs": [],
   "source": [
    "# Load the wormbase category list\n",
    "wormcat_df = pd.read_csv('./input_data/whole_genome_v2_nov-11-2021.csv') \n",
    "wormcat_df = wormcat_df.rename(columns={'Sequence ID':'sequence_id','Wormbase ID':'wormbase_id','Category 1':'category_1','Category 2':'category_2','Category 3':'category_3'})\n",
    "wormcat_df.columns"
   ]
  },
  {
   "cell_type": "code",
   "execution_count": null,
   "id": "45bead04-2f97-4bad-854b-8d2202519e0b",
   "metadata": {},
   "outputs": [],
   "source": [
    "# Select the Unassigned Genes\n",
    "unassigned = wormcat_df.query(\"category_1 == 'Unassigned'\")['wormbase_id']\n",
    "unassigned_df = unassigned.to_frame()\n",
    "print(f\"We have {len(unassigned_df):,} unassigned genes.\")"
   ]
  },
  {
   "cell_type": "code",
   "execution_count": null,
   "id": "24d16738-9ef3-441b-a9e2-7be05dbd06a5",
   "metadata": {},
   "outputs": [],
   "source": [
    "unassigned_merged_df = pd.merge(unassigned_df, merged_df, left_on='wormbase_id', right_on='wormbase_id_disease', how='left')\n",
    "unassigned_merged_df\n"
   ]
  },
  {
   "cell_type": "code",
   "execution_count": null,
   "id": "284eeed3-eb30-4d56-9d6a-5f869f8dffd9",
   "metadata": {},
   "outputs": [],
   "source": [
    "unassigned_diseased = unassigned_merged_df[~unassigned_merged_df.wormbase_id_disease.isnull()]\n",
    "unassigned_diseased"
   ]
  },
  {
   "cell_type": "code",
   "execution_count": null,
   "id": "8d49e5a1-9358-4c69-83a4-89d987c41777",
   "metadata": {},
   "outputs": [],
   "source": [
    "# Lets get the poorly annotated genes\n",
    "#Unassigned, transmembrane protein and transmembrane transporter\n",
    "pag_series = wormcat_df.query(\"category_1 in ['Unassigned','Transmembrane protein', 'Transmembrane transport']\")['wormbase_id']\n",
    "pag_df = pag_series.to_frame()\n",
    "print(f\"We have {len(pag_df):,} PAG's.\")"
   ]
  },
  {
   "cell_type": "code",
   "execution_count": null,
   "id": "af15d6bd-3b06-4e8f-b325-d225315cdbb2",
   "metadata": {},
   "outputs": [],
   "source": [
    "pag_merged_df = pd.merge(pag_series, merged_df, left_on='wormbase_id', right_on='wormbase_id_disease', how='left')\n",
    "pag_merged_df"
   ]
  },
  {
   "cell_type": "code",
   "execution_count": null,
   "id": "2dbd9504-984c-444a-a4ae-c6e910196384",
   "metadata": {},
   "outputs": [],
   "source": [
    "pag_diseased = pag_merged_df[~pag_merged_df.wormbase_id_disease.isnull()]\n",
    "pag_diseased"
   ]
  },
  {
   "cell_type": "markdown",
   "id": "5d62bc37-25cd-4713-b8d4-0679c2dcc7c9",
   "metadata": {},
   "source": [
    "## Create Visualizations"
   ]
  },
  {
   "cell_type": "code",
   "execution_count": null,
   "id": "af3de95f-1db0-4d4b-ab75-7ffddcf6d737",
   "metadata": {},
   "outputs": [],
   "source": [
    "import matplotlib.pyplot as plt\n",
    "import numpy as np\n",
    "\n",
    "def get_data_dict(merged_df):\n",
    "    print(f' Disease{\"\":<21} Count')\n",
    "    print('-'*40)\n",
    "    data = {}\n",
    "    for sheet_name in sheet_names:\n",
    "        data[sheet_name]=list(merged_df[sheet_name].value_counts())[0]\n",
    "        print(f\" {sheet_name:<30} {data[sheet_name]:>6,}\")\n",
    "    return data\n",
    "\n",
    "def create_plot_disease_ontology(data, y_title):\n",
    "    sorted_dict = dict(sorted(data.items(), key=lambda x: x[1]*-1))\n",
    "    x = sorted_dict.keys()\n",
    "    y = sorted_dict.values()\n",
    "\n",
    "    fig, ax = plt.subplots(figsize=(10, 5))\n",
    "    # Create bar plot\n",
    "    plt.bar(x, y)\n",
    "\n",
    "    # Set title and labels\n",
    "    plt.title(f\"Human Disease Ontology\",fontsize=15)\n",
    "    plt.ylabel(y_title)\n",
    "    plt.xlabel(\"Human Disease\")\n",
    "    plt.setp(ax.get_xticklabels(), rotation=45, ha=\"right\",\n",
    "             rotation_mode=\"anchor\")\n",
    "    # Show plot\n",
    "    plt.show()\n"
   ]
  },
  {
   "cell_type": "code",
   "execution_count": null,
   "id": "dbfce3ea-2ee6-4b5e-b4d3-2e95c9a79362",
   "metadata": {},
   "outputs": [],
   "source": [
    "print(f\"{round(len(unassigned_merged_df[unassigned_merged_df['wormbase_id_disease'].notnull()])/len(unassigned_merged_df),2)*100}% of Unassigned Genes are related to Human Disease.\")\n",
    "print(f\"{round(len(pag_merged_df[pag_merged_df['wormbase_id_disease'].notnull()])/len(pag_merged_df),2)*100}% of Poorly Annotated Genes are related to Human Disease.\")\n",
    "\n",
    "wormcat_merged_df = pd.merge(wormcat_df, merged_df, left_on='wormbase_id', right_on='wormbase_id_disease', how='left')\n",
    "print(f\"{round(len(wormcat_merged_df[wormcat_merged_df['wormbase_id_disease'].notnull()])/len(wormcat_merged_df),2)*100}% of All Worm Genes are related to Human Disease.\")"
   ]
  },
  {
   "cell_type": "code",
   "execution_count": null,
   "id": "56202334-7918-4b7b-b735-7c31d3b0d4b3",
   "metadata": {},
   "outputs": [],
   "source": [
    "data = get_data_dict(unassigned_merged_df)    \n",
    "create_plot_disease_ontology(data, \"Unassigned Occurances\")    "
   ]
  },
  {
   "cell_type": "code",
   "execution_count": null,
   "id": "76698f5a-8f5f-4ce5-a5ac-f0e51ae73a52",
   "metadata": {},
   "outputs": [],
   "source": [
    "data = get_data_dict(wormcat_merged_df)    \n",
    "create_plot_disease_ontology(data, \"Worm Genes Occurances\")    "
   ]
  },
  {
   "cell_type": "code",
   "execution_count": null,
   "id": "532f705d-b99b-4723-b213-8bda07101ee2",
   "metadata": {},
   "outputs": [],
   "source": [
    "data = get_data_dict(pag_merged_df)    \n",
    "create_plot_disease_ontology(data, \"Poorly Annotated Genes Occurances\")  "
   ]
  },
  {
   "cell_type": "markdown",
   "id": "473af0f0-ee35-4448-867f-5a564d8adfd6",
   "metadata": {},
   "source": [
    "# Appendix\n",
    "\n",
    "Utility functions"
   ]
  },
  {
   "cell_type": "code",
   "execution_count": null,
   "id": "f2d2aa87-ad8f-4220-b283-e45a325ccc14",
   "metadata": {},
   "outputs": [],
   "source": [
    "%%bash\n",
    "echo \"Start image resize\"\n",
    "\n",
    "# Replace file name with the name of file to be resized\n",
    "file_dir='./input_data'\n",
    "file_nm='Wormbase-screenshot.png'\n",
    "full_path=`echo ${file_dir}/${file_nm}`\n",
    "echo ${full_path}\n",
    "\n",
    "pic_size=`identify -format \"%[fx:w]x%[fx:h]\" ${full_path}`\n",
    "echo $pic_size\n",
    "\n",
    "if [[ \"${pic_size}\" == \"936x544\" ]]; then\n",
    "    echo image ${pic_size} resized\n",
    "    full_tmp_path=`echo ${file_dir}/tmp_${file_nm}`\n",
    "    echo convert ${full_path} -resize 40% ${full_tmp_path}\n",
    "    echo mv ${full_tmp_path} ${file_nm}\n",
    "else\n",
    "    echo image already resized ${pic_size}\n",
    "fi"
   ]
  },
  {
   "cell_type": "code",
   "execution_count": null,
   "id": "da52a12e-66ef-4c44-9620-b05872e082c1",
   "metadata": {},
   "outputs": [],
   "source": [
    "!convert ./input_data/Wormbase-screenshot.png -resize 50% ./input_data/tmp_Wormbase-screenshot.png\n"
   ]
  },
  {
   "cell_type": "markdown",
   "id": "49c68724-7612-4e0c-a1be-3a10e2b90017",
   "metadata": {},
   "source": [
    "# Appendix"
   ]
  },
  {
   "cell_type": "code",
   "execution_count": null,
   "id": "3adabb52-e8cc-45eb-a9ae-9c0a61052b45",
   "metadata": {},
   "outputs": [],
   "source": [
    "# Convert Microsoft Documents to pdf for easy reading in Jupyter\n",
    "#!libreoffice --convert-to pdf \"./Analysis/Graphics_for_Assignment1.pptx\"\n",
    "!libreoffice --convert-to pdf \"./admin_sup2.docx\""
   ]
  },
  {
   "cell_type": "code",
   "execution_count": null,
   "id": "4482258f-a0f3-4c7e-8229-9643ba423ee3",
   "metadata": {},
   "outputs": [],
   "source": []
  }
 ],
 "metadata": {
  "kernelspec": {
   "display_name": "Python [conda env:dan-dev-sc]",
   "language": "python",
   "name": "conda-env-dan-dev-sc-py"
  },
  "language_info": {
   "codemirror_mode": {
    "name": "ipython",
    "version": 3
   },
   "file_extension": ".py",
   "mimetype": "text/x-python",
   "name": "python",
   "nbconvert_exporter": "python",
   "pygments_lexer": "ipython3",
   "version": "3.9.16"
  }
 },
 "nbformat": 4,
 "nbformat_minor": 5
}
