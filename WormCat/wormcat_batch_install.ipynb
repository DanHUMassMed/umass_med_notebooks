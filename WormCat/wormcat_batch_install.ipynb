{
 "cells": [
  {
   "cell_type": "markdown",
   "id": "a01e8b42-165d-4a00-be4d-f88bf312d2af",
   "metadata": {},
   "source": [
    "# WormCat and WormCat Batch installation\n",
    "\n",
    "\n",
    "This notebook provides step-by-step instructions for installing WormCat and WormCat Batch on a Linux Machine Running Conda.\n",
    "\n",
    "---\n",
    "\n",
    "The reasons you may desire to execute your own instance of WormCat and WormCat Batch:\n",
    "\n",
    "1. You have _many_ gene sets to run against, and you do not want to manually run them through the WormCat website.\n",
    "2. You would like to provide your own Annotation file or modify one of the provided Annotation files.\n",
    "3. You desire to integrate WormCat into a Bioinformatics pipeline.\n",
    "\n",
    "---\n",
    "\n",
    "Before installing, be sure the other more straightforward ways to work with WormCat have been reviewed.\n",
    "\n",
    "* The WormCat [website](http://www.wormcat.com) is the primary way researcher interact WormCat\n",
    "* The WormCat [Docker Container](https://hub.docker.com/r/danhumassmed/wormcat_batch) is a more convenient way to run locally\n"
   ]
  },
  {
   "cell_type": "markdown",
   "id": "12dc1eff-bdf4-443a-a77f-958490593ce9",
   "metadata": {},
   "source": [
    "## BEFORE STARTING Validate the current Compute Environment\n",
    "Let's compare my system to yours to check for alignment.\n",
    "\n",
    "* We should be running some version of `Linux`.\n",
    "* And the underlying Architecture should be `x86_64`. \n",
    "    * x86_64 Tells us we are Running on 64 Bit Intel/AMD Hardware\n",
    "* The Linux Distribution is less important but good to know for comparison.\n",
    "  * I Will be installing on a Long Term Support (LTS) version of Ubuntu \n",
    "* Finally, we should be running a relatively up-to-date version of Conda.\n",
    "\n",
    "__Note:__ All the commands executed in %%bash windows can also be directly copied into a bash command line shell. "
   ]
  },
  {
   "cell_type": "code",
   "execution_count": null,
   "id": "a23b6e03-f057-4e0f-a007-c46f88c79c52",
   "metadata": {},
   "outputs": [],
   "source": [
    "%%bash\n",
    "# What Type of OS and Architecture is being used?\n",
    "uname -sp"
   ]
  },
  {
   "cell_type": "code",
   "execution_count": null,
   "id": "01c4cb6f-69e8-4c6b-8bea-3bb2e21f2094",
   "metadata": {},
   "outputs": [],
   "source": [
    "%%bash\n",
    "# What Linux Distribution is being used?\n",
    "lsb_release -a"
   ]
  },
  {
   "cell_type": "code",
   "execution_count": null,
   "id": "a278b5e1-0b1c-47f0-9a3a-81ac85a9dd02",
   "metadata": {},
   "outputs": [],
   "source": [
    "%%bash\n",
    "# What Version of Conda are we using?\n",
    "conda --version\n"
   ]
  },
  {
   "cell_type": "markdown",
   "id": "77120366-e640-416b-b28b-d9dab16e04fb",
   "metadata": {},
   "source": [
    "## Installation Process\n",
    "\n",
    "1. Create a Conda Environment\n",
    "2. Install Python (WormCat Batch is a Python Program)\n",
    "3. Install R and R Devtools (WormCat is an R Program)\n",
    "4. Install the Prerequisite packages for WormCat\n",
    "5. Install WormCat & WormCat Batch"
   ]
  },
  {
   "cell_type": "markdown",
   "id": "e50093ca-a50f-425b-8130-1f8c15e78cb3",
   "metadata": {},
   "source": [
    "#### Create a new conda environment and install Python 3.9 as the base\n",
    "\n",
    "* __Note:__ We could use any Version of Python 3.5 or greater\n",
    "* __Note:__ ipykernel installs IPython Kernel for Jupyter (interactive Python)\n",
    "    * ipykernel is _Not required_ if you are not using Jupyter Notebooks\n"
   ]
  },
  {
   "cell_type": "code",
   "execution_count": null,
   "id": "178d5fad-c1d8-4e96-a382-8f62255c4c46",
   "metadata": {},
   "outputs": [],
   "source": [
    "%%bash\n",
    "conda create -q -n wormcat_env python=3.9 ipykernel"
   ]
  },
  {
   "cell_type": "markdown",
   "id": "0cdb6e41-f811-44c3-be2f-f4e94b904733",
   "metadata": {},
   "source": [
    "#### Install R and devtools\n",
    "\n",
    "* Here we install R 4.3.1 but any R greater than 4.0.0 should work (although not specifically tested)\n",
    "* We are also installing devtool to support the later installation of WormCat\n",
    "\n",
    "\n",
    "__Note:__\n",
    "\n",
    "* You can install `conda install -n base conda-libmamba-solver`\n",
    "* And add __--solver=libmamba__ as a suffix to you `conda install` commands\n",
    "* This program is _NOT required_ but makes Conda resolver run significantly faster."
   ]
  },
  {
   "cell_type": "code",
   "execution_count": null,
   "id": "1b997ccc-c4dc-45f7-bada-5403a0b28728",
   "metadata": {},
   "outputs": [],
   "source": [
    "%%bash\n",
    "conda install -q -y -n wormcat_env -c conda-forge r-base=4.3.1 --solver=libmamba\n",
    "conda install -q -y -n wormcat_env -c r r-devtools --solver=libmamba\n"
   ]
  },
  {
   "cell_type": "markdown",
   "id": "957584cb-3d94-4189-9d76-521cceef66f9",
   "metadata": {},
   "source": [
    "#### Install the WormCat & WormCat Batch dependencies\n",
    "\n",
    "* WormCat requires: ggplot2, ggthemes, plyr, and svglite\n",
    "* WormCat Batch requires argparse \n",
    "    * __Note:__ Although WormCat Batch is a Python program, it requires R's argparse to call WormCat correctly.\n"
   ]
  },
  {
   "cell_type": "code",
   "execution_count": null,
   "id": "5c544abc-979a-4dba-8bd2-86a7314dc4f3",
   "metadata": {},
   "outputs": [],
   "source": [
    "%%bash\n",
    "conda install -q -y -n wormcat_env -c conda-forge r-ggplot2 r-ggthemes r-plyr r-svglite\n",
    "conda install -q -y -n wormcat_env -c bioconda r-argparse"
   ]
  },
  {
   "cell_type": "markdown",
   "id": "c42ca4c8-8da7-4582-96c0-114d7f301165",
   "metadata": {},
   "source": [
    "#### Install the WormCat & WormCat Batch\n",
    "\n",
    "* Activate the newly created Conda Environment\n",
    "* Install wormcat\n",
    "* Install wormcat_batch"
   ]
  },
  {
   "cell_type": "code",
   "execution_count": null,
   "id": "f9f297b9-404c-4bc4-81a3-bb930a0fa6c3",
   "metadata": {},
   "outputs": [],
   "source": [
    "%%bash\n",
    "eval \"$(conda shell.bash hook)\"\n",
    "conda activate wormcat_env\n",
    "\n",
    "R -e \"library('devtools'); install_github('dphiggs01/wormcat', dep = FALSE)\"\n",
    "pip install wormcat_batch"
   ]
  },
  {
   "cell_type": "markdown",
   "id": "00303d67-ed91-4dd0-98b2-290cfc42a8ad",
   "metadata": {},
   "source": [
    "# Before Testing, set the Environment to `wormcat_env`\n",
    "\n",
    "If you are working from the console, you have already done this above:`conda activate wormcat_env.`\n"
   ]
  },
  {
   "cell_type": "code",
   "execution_count": null,
   "id": "43a89d7b-db14-4495-9372-2721196a939f",
   "metadata": {},
   "outputs": [],
   "source": [
    "%%bash\n",
    "# Ensure wormcat_cli is pointing to the environment we just installed and activated (wormcat_env)\n",
    "which wormcat_cli\n"
   ]
  },
  {
   "cell_type": "code",
   "execution_count": null,
   "id": "8e7e5779-811a-4499-82b0-bcf1de02d804",
   "metadata": {},
   "outputs": [],
   "source": [
    "%%bash\n",
    "# Take a look at the WormCat Batch help.\n",
    "wormcat_cli --help"
   ]
  },
  {
   "cell_type": "markdown",
   "id": "455e1339-5fac-41c5-8bd7-750579486eed",
   "metadata": {},
   "source": [
    "### Run a test using an Excel file\n",
    "\n",
    "__Steps__\n",
    "1. Create a Test Directory and make sure it is empty\n",
    "2. Download an Example Excel file to test with\n",
    "3. Execute WormCat Batch cli (Command Line Interface)\n",
    "4. Evaluate the Results"
   ]
  },
  {
   "cell_type": "code",
   "execution_count": null,
   "id": "00050fbc-c4ab-4f1e-ab4d-16c54eef5333",
   "metadata": {},
   "outputs": [],
   "source": [
    "%%bash\n",
    "mkdir -p ~/wormcat_test  # Make a directory if it does not exist\n",
    "rm -rf ~/wormcat_test/*  # Delete the contents if we have already run some tests here\n",
    "cd ~/wormcat_test        # Change into the test directory\n",
    "wget -q -O Murphy_TS.xlsx http://www.wormcat.com/static/download/Murphy_TS.xlsx # Download a sample Excel\n",
    "wget -q -O customized.csv https://dphiggs01.github.io/Wormcat_data/data/whole_genome_v2_nov-11-2021.csv # Download a sample Annotation file\n",
    "ls -lh ~/wormcat_test        # List the current directory content"
   ]
  },
  {
   "cell_type": "markdown",
   "id": "a6064bef-b105-485a-83f2-a21d761bd981",
   "metadata": {},
   "source": [
    "#### Make a simple call to WormCat Batch\n",
    "\n",
    "* Here, we are providing an Excel file as input and are using a Customized Annotation file"
   ]
  },
  {
   "cell_type": "code",
   "execution_count": null,
   "id": "49e10995-a874-41e1-b2b5-10b19ecc423a",
   "metadata": {},
   "outputs": [],
   "source": [
    "%%bash\n",
    "cd ~/wormcat_test\n",
    "wormcat_cli --input-excel ./Murphy_TS.xlsx --output-path ./wormcat_out_xlsx --annotation-file ./customized.csv"
   ]
  },
  {
   "cell_type": "markdown",
   "id": "d9ddab88-3d05-49c2-8375-22234bc85472",
   "metadata": {},
   "source": [
    "#### Let's take a look at the output\n",
    "\n",
    "__tree__ is a lunix utility to pretty print a Ditectory structure\n",
    "\n",
    "Here we can see that the output directory is created and the zipfile with the results are included\n",
    "\n",
    "__Note:__ \n",
    "* If you do not have __tree__ installed `sudo apt-get install tree`\n"
   ]
  },
  {
   "cell_type": "code",
   "execution_count": null,
   "id": "661d051c-8f6a-4a65-b73b-b4775985a1be",
   "metadata": {},
   "outputs": [],
   "source": [
    "%%bash\n",
    "cd ~/wormcat_test\n",
    "tree"
   ]
  },
  {
   "cell_type": "markdown",
   "id": "82801e46-8058-4d65-bdd5-5c4f4bed886f",
   "metadata": {},
   "source": [
    "#### Call WormCat Batch with a Directory that contains the the Gene Sets to be processed\n",
    "\n",
    "* Here, we are providing a Directory as input \n",
    "* and we are passing the Annotation file name\n",
    "* and we are not deleting the intermediate files"
   ]
  },
  {
   "cell_type": "code",
   "execution_count": null,
   "id": "28abb8f7-f681-4c52-8cf2-786cab20be9f",
   "metadata": {},
   "outputs": [],
   "source": [
    "%%bash\n",
    "rm -rf ~/wormcat_test/* \n",
    "cd ~/wormcat_test\n",
    "\n",
    "echo \"1. wget -q -O Murphy_TS_csv.zip\"\n",
    "wget -q -O Murphy_TS_csv.zip https://github.com/dphiggs01/Wormcat_batch/raw/master/docker/wormcat_batch/Murphy_TS_csv.zip\n",
    "echo\n",
    "\n",
    "echo \"2. unzip Murphy_TS_csv.zip\"\n",
    "unzip Murphy_TS_csv.zip\n",
    "echo\n",
    "\n",
    "echo \"3. List Directory Content\"\n",
    "ls -l Murphy_TS_csv\n",
    "echo\n",
    "\n",
    "echo \"4. Look at Content of one of the files to be processed\"\n",
    "head Murphy_TS_csv/hypodermis.csv"
   ]
  },
  {
   "cell_type": "code",
   "execution_count": null,
   "id": "b819853f-6deb-463f-9a50-cff93bf638ea",
   "metadata": {},
   "outputs": [],
   "source": [
    "%%bash\n",
    "cd ~/wormcat_test/\n",
    "wormcat_cli --input-csv-path ./Murphy_TS_csv --output-path ./wormcat_out_csv --annotation-file whole_genome_v2_nov-11-2021.csv --clean-temp False"
   ]
  },
  {
   "cell_type": "code",
   "execution_count": null,
   "id": "51da2fb4-71df-4c98-b2ac-754272b81086",
   "metadata": {},
   "outputs": [],
   "source": [
    "%%bash\n",
    "cd ~/wormcat_test\n",
    "tree"
   ]
  },
  {
   "cell_type": "markdown",
   "id": "3542f4d4-67f3-437e-ab67-d001d60e4f60",
   "metadata": {},
   "source": [
    "#### Call WormCat R function directly\n",
    "\n",
    "* Here, we are providing one csv file\n",
    "* The output directory  \n",
    "* and we are pointing to an Annotation File on the Web!"
   ]
  },
  {
   "cell_type": "code",
   "execution_count": null,
   "id": "63e9a838-5df9-4d42-8b35-fd6d3881c479",
   "metadata": {},
   "outputs": [],
   "source": [
    "%%bash\n",
    "conda install -q -y -n wormcat_env -c r rpy2"
   ]
  },
  {
   "cell_type": "code",
   "execution_count": null,
   "id": "36a11ac0-b01b-428f-ab67-03a04173f483",
   "metadata": {},
   "outputs": [],
   "source": [
    "%load_ext rpy2.ipython\n",
    "#Enable R Calls"
   ]
  },
  {
   "cell_type": "code",
   "execution_count": null,
   "id": "ad616f11-6453-4d97-a240-8ee5f2c80ec1",
   "metadata": {},
   "outputs": [],
   "source": [
    "%%R\n",
    "library(wormcat)\n",
    "\n",
    "file_to_process <- \"~/wormcat_test/Murphy_TS_csv/hypodermis.csv\"\n",
    "title <- \"hypodermis\"\n",
    "output_dir <- \"~/wormcat_test/wormcat_out_single\"\n",
    "rm_dir <- FALSE\n",
    "annotation_file <- \"https://dphiggs01.github.io/Wormcat_data/data/whole_genome_v2_nov-11-2021.csv\"\n",
    "input_type <- \"Wormbase.ID\"\n",
    "zip_files <- FALSE\n",
    "\n",
    "\n",
    "# Call the WormCat function\n",
    "cat(\"Calling wormcat\\n\")\n",
    "worm_cat_fun(file_to_process,\n",
    "             title,\n",
    "             output_dir,\n",
    "             rm_dir,\n",
    "             annotation_file,\n",
    "             input_type,\n",
    "             zip_files)\n"
   ]
  }
 ],
 "metadata": {
  "kernelspec": {
   "display_name": "Python [conda env:wormcat_env]",
   "language": "python",
   "name": "conda-env-wormcat_env-py"
  },
  "language_info": {
   "codemirror_mode": {
    "name": "ipython",
    "version": 3
   },
   "file_extension": ".py",
   "mimetype": "text/x-python",
   "name": "python",
   "nbconvert_exporter": "python",
   "pygments_lexer": "ipython3",
   "version": "3.9.18"
  }
 },
 "nbformat": 4,
 "nbformat_minor": 5
}
