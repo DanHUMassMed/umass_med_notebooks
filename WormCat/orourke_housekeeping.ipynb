{
 "cells": [
  {
   "cell_type": "code",
   "execution_count": null,
   "id": "231d5691-dbee-4388-9af1-06f03d339fc7",
   "metadata": {},
   "outputs": [],
   "source": [
    "import pandas as pd"
   ]
  },
  {
   "cell_type": "code",
   "execution_count": null,
   "id": "36e946d0-7c4e-4732-96f1-f01e6010cea3",
   "metadata": {},
   "outputs": [],
   "source": [
    "%%html\n",
    "<!-- \"Force the table in the next cell to left justify\" -->\n",
    "<style>\n",
    "table {float:left}\n",
    "</style>"
   ]
  },
  {
   "cell_type": "markdown",
   "id": "fd5fd629-7e86-4cab-9ad8-da333083467c",
   "metadata": {
    "tags": []
   },
   "source": [
    "\n",
    "# Review the Housekeeping Genes from the O'Rourke paper\n",
    "\n",
    "Whole-body gene expression atlas of an adult metazoan\n",
    "\n",
    "https://www.biorxiv.org/content/10.1101/2022.11.06.515345v2\n",
    "\n",
    "\n",
    "\n",
    " Sheet | Description\n",
    "------ | ---------------\n",
    "2 | List of genes with negative skew\n",
    "3 | List of genes with Gini < 0.3\n",
    "4 | List of genes with Gini < 0.3 found in L2 as housekeeping\n",
    "5 | List of genes with Gini < 0.3 found in L2 as housekeeping and essential \n",
    "6 | List of genes with Gini < 0.3 found in L2 as housekeeping, essential and conserved across species"
   ]
  },
  {
   "cell_type": "markdown",
   "id": "37ae604b-4dba-4174-beeb-1d1f4895fa33",
   "metadata": {},
   "source": [
    "## How well do the O'Rourke Housekeeping genes Aligh with the Wormcat Cetorgories?\n",
    "\n",
    "* Data indicates an expected results for most genes.\n",
    "* However 15 Housekeeping Genes were identified as unassigned\n",
    "* Additionally some unassigned genes had limited expression yet still showed up as housekeeping\n",
    "\n",
    "wormbase_id\t|Sequence ID\t| Observed in Cell Count \t| Cumulative Expression \t| Max Expression Observed \n",
    "------------|--------------|--------------------------|--------------------------|------------------------\n",
    "WBGene00019537\t|K08D12.3\t| 13,309 \t| 138,109.968 \t| 135.986 \n",
    "WBGene00019466\t|K07B1.6\t| 10,812 \t| 94,266.221 \t| 1,074.407 \n",
    "WBGene00007630\t|C16C10.11\t| 4,949 \t| 35,813.754 \t| 72.790 \n",
    "WBGene00022053\t|Y67D2.3\t| 2,104 \t| 14,001.399 \t| 59.574 \n",
    "WBGene00022114\t|Y71F9AL.9\t| 1,672 \t| 13,220.190 \t| 61.342 \n",
    "WBGene00007192\t|B0491.5\t| 1,628 \t| 10,969.477 \t| 72.247 \n",
    "WBGene00011735\t|T12D8.8\t| 1,560 \t| 12,546.396 \t| 51.983 \n",
    "WBGene00014016\t|ZK632.9\t| 1,280 \t| 10,731.927 \t| 103.150 \n",
    "WBGene00004167\t|Y57A10A.18\t| 1,269 \t| 10,381.947 \t| 159.451 \n",
    "WBGene00009688\t|F44E5.1\t| 1,059 \t| 6,648.277 \t| 51.690 \n",
    "WBGene00019893\t|R05F9.10\t| 1,032 \t| 7,475.850 \t| 37.841 \n",
    "WBGene00010639\t|K07F5.15\t| 1,021 \t| 6,281.891 \t| 64.413 \n",
    "WBGene00017088\t|E01A2.6\t| 667 \t| 5,077.094 \t| 35.484 \n",
    "WBGene00008530\t|F02E9.5\t| 438 \t| 3,231.856 \t| 41.776 \n",
    "WBGene00004138\t|R07B7.3\t| 434 \t| 3,631.449 \t| 185.442 "
   ]
  },
  {
   "cell_type": "code",
   "execution_count": null,
   "id": "570f1128-87bf-45ac-bded-87460531d6d8",
   "metadata": {},
   "outputs": [],
   "source": [
    "# supplementary-material with Housekeeping genes\n",
    "# https://www.biorxiv.org/content/10.1101/2022.11.06.515345v2.supplementary-material\n",
    "\n",
    "xlsx_file_nm = './input_data/media-2.xlsx'\n",
    "fpkm_adult_xlsx = pd.ExcelFile(xlsx_file_nm)"
   ]
  },
  {
   "cell_type": "code",
   "execution_count": null,
   "id": "f5f36de4-a016-4488-a64b-ae193fb344ff",
   "metadata": {
    "tags": []
   },
   "outputs": [],
   "source": [
    "sheet_names = fpkm_adult_xlsx.sheet_names\n",
    "sheet_names"
   ]
  },
  {
   "cell_type": "code",
   "execution_count": null,
   "id": "d161ab6f-06e4-459e-848c-e5c1a10b5429",
   "metadata": {},
   "outputs": [],
   "source": [
    "# Sheet4 has the \"List of genes with Gini < 0.3 found in L2 as housekeeping\"\n",
    "\n",
    "housekeeping_df = pd.read_excel(xlsx_file_nm, sheet_name='Sheet4')"
   ]
  },
  {
   "cell_type": "code",
   "execution_count": null,
   "id": "b8369790-06cc-45ea-9f04-fff8ef9e31c8",
   "metadata": {},
   "outputs": [],
   "source": [
    "housekeeping_df"
   ]
  },
  {
   "cell_type": "code",
   "execution_count": null,
   "id": "224bedb7-9ad6-4db8-af39-ae45e0995a87",
   "metadata": {},
   "outputs": [],
   "source": [
    "# Read in the Wormcat Catalog\n",
    "wormcat_df = pd.read_csv('./input_data/whole_genome_v2_nov-11-2021.csv')"
   ]
  },
  {
   "cell_type": "code",
   "execution_count": null,
   "id": "78eb5a60-f6dc-4916-aee1-e9db1b11deac",
   "metadata": {},
   "outputs": [],
   "source": [
    "wormcat_df"
   ]
  },
  {
   "cell_type": "code",
   "execution_count": null,
   "id": "9dd8d823-592e-4f45-8a76-7bd18b208f65",
   "metadata": {},
   "outputs": [],
   "source": [
    "# Merge the data joining on the Wormbase ID use a Left join as to not drop any Wormcat rows rows\n",
    "wormcat_w_housekeeping_df = pd.merge(wormcat_df, housekeeping_df, left_on='Wormbase ID', right_on='gene_ID', how='left')"
   ]
  },
  {
   "cell_type": "code",
   "execution_count": null,
   "id": "33a0eb64-d0ea-4bd1-9b8b-1b14e8904b5b",
   "metadata": {},
   "outputs": [],
   "source": [
    "wormcat_w_housekeeping_df"
   ]
  },
  {
   "cell_type": "code",
   "execution_count": null,
   "id": "e7c0831a-cf74-4290-9a38-d72bf66cc80a",
   "metadata": {},
   "outputs": [],
   "source": [
    "# Check how many Wormbase IDs do not have house keeping genes\n",
    "missing = wormcat_w_housekeeping_df['gene_ID'].isna()\n",
    "missing.value_counts()"
   ]
  },
  {
   "cell_type": "code",
   "execution_count": null,
   "id": "2fe08533-9b8c-46b6-ae7f-1fa9826ff505",
   "metadata": {},
   "outputs": [],
   "source": [
    "# Yes, just joining with out a Left join would return the same results\n",
    "# The extra step is just a sanity check\n",
    "wormcat_w_housekeeping_df = wormcat_w_housekeeping_df[~wormcat_w_housekeeping_df['gene_ID'].isna()]\n",
    "wormcat_w_housekeeping_df = wormcat_w_housekeeping_df.drop(['Unnamed: 0','gene_ID'], axis=1)\n",
    "wormcat_w_housekeeping_df"
   ]
  },
  {
   "cell_type": "code",
   "execution_count": null,
   "id": "0735688c-e4f2-430f-8e39-58a24a52a400",
   "metadata": {},
   "outputs": [],
   "source": [
    "wormcat_w_housekeeping_df.to_csv('./output_data/wormcat_w_housekeeping.csv', index=False)"
   ]
  },
  {
   "cell_type": "code",
   "execution_count": null,
   "id": "d1bf65d3-138d-4f4f-a563-4b8ae8e0c6df",
   "metadata": {},
   "outputs": [],
   "source": []
  }
 ],
 "metadata": {
  "kernelspec": {
   "display_name": "Python [conda env:dan-dev-sc]",
   "language": "python",
   "name": "conda-env-dan-dev-sc-py"
  },
  "language_info": {
   "codemirror_mode": {
    "name": "ipython",
    "version": 3
   },
   "file_extension": ".py",
   "mimetype": "text/x-python",
   "name": "python",
   "nbconvert_exporter": "python",
   "pygments_lexer": "ipython3",
   "version": "3.9.16"
  }
 },
 "nbformat": 4,
 "nbformat_minor": 5
}
