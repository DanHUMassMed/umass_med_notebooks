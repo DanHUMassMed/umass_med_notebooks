{
 "cells": [
  {
   "cell_type": "markdown",
   "id": "757e02d4-1593-4943-ac62-6916777be138",
   "metadata": {},
   "source": [
    "# Update WormCat Annotations\n",
    "\n",
    "1. Find Changed Sequence IDs\n",
    "2. Find Dead Genes\n",
    "3. Find New Genes (Added Live)\n",
    "4. Update Annotation text"
   ]
  },
  {
   "cell_type": "markdown",
   "id": "8065eed9-b9af-4ccd-a5a2-c0100b155236",
   "metadata": {},
   "source": [
    "# Pull Data from Wormbase\n",
    "Pull the Gene IDs and from the current version of Wormbase and the latest version on Wormbase website\n",
    "* Latest from Wormbase website WS289\n",
    "* Current WormCat version used WS270\n",
    "\n",
    "Also pull the functional gene descriptions from the latest version"
   ]
  },
  {
   "cell_type": "code",
   "execution_count": 1,
   "id": "33397a4c-0903-439b-8546-365d46b445c1",
   "metadata": {},
   "outputs": [
    {
     "name": "stderr",
     "output_type": "stream",
     "text": [
      "2023-08-28 11:32:24 URL: ftp://ftp.wormbase.org/pub/wormbase/releases/WS289/species/c_elegans/PRJNA13758/annotation/c_elegans.PRJNA13758.WS289.geneIDs.txt.gz [416537] -> \"./input_data/c_elegans.PRJNA13758.WS289.geneIDs.txt.gz\" [1]\n",
      "2023-08-28 11:32:24 URL: ftp://ftp.wormbase.org/pub/wormbase/releases/WS270/species/c_elegans/PRJNA13758/annotation/c_elegans.PRJNA13758.WS270.geneIDs.txt.gz [407443] -> \"./input_data/c_elegans.PRJNA13758.WS270.geneIDs.txt.gz\" [1]\n",
      "2023-08-28 11:32:25 URL: ftp://ftp.wormbase.org/pub/wormbase/releases/WS289/species/c_elegans/PRJNA13758/annotation/c_elegans.PRJNA13758.WS289.functional_descriptions.txt.gz [2472804] -> \"./input_data/c_elegans.PRJNA13758.WS289.functional_descriptions.txt.gz\" [1]\n"
     ]
    }
   ],
   "source": [
    "%%bash\n",
    "# Pull down data from Wormbase and unzip\n",
    "INPUT_DATA=\"./input_data\"\n",
    "get_wormbase_data() {\n",
    "    local WORMBASE_VERSION=\"$1\"\n",
    "    local FILE_ROOT=\"$2\"\n",
    "    local BASE_FTP=\"ftp://ftp.wormbase.org/pub/wormbase/releases\"\n",
    "    local SPECIES_DIR=\"species/c_elegans/PRJNA13758/annotation\"\n",
    "    local FILE_PREFIX=\"c_elegans.PRJNA13758\"\n",
    "\n",
    "    wget -nv -P ${INPUT_DATA} ${BASE_FTP}/${WORMBASE_VERSION}/${SPECIES_DIR}/${FILE_PREFIX}.${WORMBASE_VERSION}.${FILE_ROOT}\n",
    "    gunzip -f ${INPUT_DATA}/${FILE_PREFIX}.${WORMBASE_VERSION}.${FILE_ROOT}\n",
    "}\n",
    "\n",
    "# Pull down geneIDs.txt\n",
    "get_geneids() {\n",
    "    local WORMBASE_VERSION=\"$1\"\n",
    "    get_wormbase_data $WORMBASE_VERSION \"geneIDs.txt.gz\"\n",
    "}\n",
    "\n",
    "# Pull down functional_descriptions.txt\n",
    "get_functional_descriptions() {\n",
    "    local WORMBASE_VERSION=\"$1\"\n",
    "    get_wormbase_data $WORMBASE_VERSION \"functional_descriptions.txt.gz\"\n",
    "}\n",
    "\n",
    "# Get GeneId data from the old version used for WormCat and the latest version on wormbase\n",
    "get_geneids \"WS289\"\n",
    "get_geneids \"WS270\"\n",
    "\n",
    "# Get the get_functional_descriptions of genes for the lastest Wormbase version\n",
    "get_functional_descriptions \"WS289\"\n",
    "\n"
   ]
  },
  {
   "cell_type": "markdown",
   "id": "b074eabb-505d-4a9e-ac0c-14666a289cf9",
   "metadata": {},
   "source": [
    "### Convert the functional gene descriptions to CSV format"
   ]
  },
  {
   "cell_type": "code",
   "execution_count": 2,
   "id": "8371fb42-5a96-4261-9c00-1d6f6fcb7e5d",
   "metadata": {},
   "outputs": [
    {
     "name": "stdout",
     "output_type": "stream",
     "text": [
      "len(functional_descriptions_df)=52,109\n"
     ]
    }
   ],
   "source": [
    "import pandas as pd\n",
    "from convert_func_desc_to_csv import convert_functional_description_to_csv\n",
    "\n",
    "from_file_nm = './input_data/c_elegans.PRJNA13758.WS289.functional_descriptions.txt'\n",
    "to_file_nm = './output_data/functional_descriptions.csv'\n",
    "convert_functional_description_to_csv(from_file_nm, to_file_nm)\n",
    "functional_descriptions_df = pd.read_csv(to_file_nm, low_memory=False)\n",
    "print(f\"{len(functional_descriptions_df)=:,}\")"
   ]
  },
  {
   "cell_type": "markdown",
   "id": "2b53bf4e-9bcb-4420-b9fa-5a3ac5dd05de",
   "metadata": {},
   "source": [
    "### Read the Gene IDs into a Dataframe"
   ]
  },
  {
   "cell_type": "code",
   "execution_count": 3,
   "id": "0969988b-00cc-410b-8400-1cd6adb3a0e7",
   "metadata": {},
   "outputs": [
    {
     "name": "stdout",
     "output_type": "stream",
     "text": [
      "len(wormbase_270_df)=51,254\n",
      "len(wormbase_289_df)=52,109\n",
      "len(wormbase_289_df)-len(wormbase_270_df)=855\n"
     ]
    }
   ],
   "source": [
    "import pandas as pd\n",
    "# Note: The raw data does not have columns assigned\n",
    "INPUT_DATA='./input_data'\n",
    "\n",
    "def read_geneids(wormbase_version, prefix_column_nm=True):\n",
    "    FILE_PREFIX=\"c_elegans.PRJNA13758\"\n",
    "    FILE_ROOT=\"geneIDs.txt\"\n",
    "\n",
    "    gene_id_file=f'{INPUT_DATA}/{FILE_PREFIX}.{wormbase_version}.{FILE_ROOT}'\n",
    "    columns = [\"junk\", \"Wormbase_Id\", \"Gene_name\", \"Sequence_id\", \"Status\", \"Gene_Type\"]\n",
    "    if prefix_column_nm:\n",
    "        columns = [f\"{wormbase_version}_{column}\" for column in columns]\n",
    "    geneids_df = pd.read_csv(gene_id_file, low_memory=False, header=None, names=columns)\n",
    "    geneids_df = geneids_df.drop(columns=columns[0])\n",
    "    return geneids_df\n",
    "\n",
    "wormbase_270_df = read_geneids(\"WS270\")\n",
    "wormbase_289_df = read_geneids(\"WS289\")\n",
    "\n",
    "print(f\"{len(wormbase_270_df)=:,}\")\n",
    "print(f\"{len(wormbase_289_df)=:,}\")\n",
    "print(f\"{len(wormbase_289_df)-len(wormbase_270_df)=:,}\")\n"
   ]
  },
  {
   "cell_type": "code",
   "execution_count": 4,
   "id": "623b9a60-69c6-43c7-a885-5acc99439d55",
   "metadata": {},
   "outputs": [
    {
     "data": {
      "text/plain": [
       "['WS270_Wormbase_Id',\n",
       " 'WS270_Gene_name',\n",
       " 'WS270_Sequence_id',\n",
       " 'WS270_Status',\n",
       " 'WS270_Gene_Type']"
      ]
     },
     "execution_count": 4,
     "metadata": {},
     "output_type": "execute_result"
    }
   ],
   "source": [
    "column_names = wormbase_270_df.columns.tolist()\n",
    "column_names"
   ]
  },
  {
   "cell_type": "markdown",
   "id": "062d5efe-b5d7-45ef-99ea-a8cedb4f9bb3",
   "metadata": {},
   "source": [
    "### Load the WormCat Annotation file"
   ]
  },
  {
   "cell_type": "code",
   "execution_count": 5,
   "id": "66d6d6d8-5601-4e24-9e33-84c9e1786c4c",
   "metadata": {},
   "outputs": [
    {
     "name": "stdout",
     "output_type": "stream",
     "text": [
      "len(wormcat_df)=31,389\n"
     ]
    }
   ],
   "source": [
    "# Load the Current WormCat Annotation file\n",
    "INPUT_DATA='./input_data'\n",
    "WORMCAT_ANNOTATIONS='whole_genome_v2_nov-11-2021.csv'\n",
    "wormcat_file = f\"{INPUT_DATA}/{WORMCAT_ANNOTATIONS}\"\n",
    "\n",
    "wormcat_df = pd.read_csv(wormcat_file, low_memory=False)\n",
    "print(f\"{len(wormcat_df)=:,}\")"
   ]
  },
  {
   "cell_type": "markdown",
   "id": "f20dfb15-a708-4d9b-a2c3-84cc651af178",
   "metadata": {},
   "source": [
    "### Join the Wormbase 270 Gene IDs with WormCat\n",
    "Do some simple tests on the data to see that they all match"
   ]
  },
  {
   "cell_type": "code",
   "execution_count": 6,
   "id": "f7e52d8f-fbf1-453a-89f7-ce4f048a82e0",
   "metadata": {},
   "outputs": [
    {
     "name": "stdout",
     "output_type": "stream",
     "text": [
      "len(wormcat_270_df)=31,389\n"
     ]
    }
   ],
   "source": [
    "wormcat_270_df = wormcat_df.merge(wormbase_270_df, how='left', left_on='Wormbase ID', right_on='WS270_Wormbase_Id')\n",
    "\n",
    "wormcat_df.rename(columns={'Wormbase ID': 'Wormbase_Id'}, inplace=True)\n",
    "print(f\"{len(wormcat_270_df)=:,}\")\n",
    "#wormcat_270_df"
   ]
  },
  {
   "cell_type": "code",
   "execution_count": 8,
   "id": "db7cb64b-2388-4c32-96bd-141211432775",
   "metadata": {},
   "outputs": [
    {
     "data": {
      "text/plain": [
       "Live    31389\n",
       "Name: WS270_Status, dtype: int64"
      ]
     },
     "execution_count": 8,
     "metadata": {},
     "output_type": "execute_result"
    }
   ],
   "source": [
    "# We expect to find ONLY Live Genes\n",
    "wormcat_270_df['WS270_Status'].value_counts()\n",
    "# And that is exactly what we find!"
   ]
  },
  {
   "cell_type": "code",
   "execution_count": 9,
   "id": "545c2823-8a43-4b3a-a147-569fddeb5d51",
   "metadata": {},
   "outputs": [
    {
     "data": {
      "text/html": [
       "<div>\n",
       "<style scoped>\n",
       "    .dataframe tbody tr th:only-of-type {\n",
       "        vertical-align: middle;\n",
       "    }\n",
       "\n",
       "    .dataframe tbody tr th {\n",
       "        vertical-align: top;\n",
       "    }\n",
       "\n",
       "    .dataframe thead th {\n",
       "        text-align: right;\n",
       "    }\n",
       "</style>\n",
       "<table border=\"1\" class=\"dataframe\">\n",
       "  <thead>\n",
       "    <tr style=\"text-align: right;\">\n",
       "      <th></th>\n",
       "      <th>Sequence ID</th>\n",
       "      <th>Wormbase ID</th>\n",
       "      <th>Category 1</th>\n",
       "      <th>Category 2</th>\n",
       "      <th>Category 3</th>\n",
       "      <th>Automated Description</th>\n",
       "      <th>WS270_Wormbase_Id</th>\n",
       "      <th>WS270_Gene_name</th>\n",
       "      <th>WS270_Sequence_id</th>\n",
       "      <th>WS270_Status</th>\n",
       "      <th>WS270_Gene_Type</th>\n",
       "      <th>sequence_ids_equal</th>\n",
       "    </tr>\n",
       "  </thead>\n",
       "  <tbody>\n",
       "    <tr>\n",
       "      <th>1994</th>\n",
       "      <td>K08E3.5</td>\n",
       "      <td>WBGene00010716</td>\n",
       "      <td>Metabolism</td>\n",
       "      <td>Metabolism: carbohydrate</td>\n",
       "      <td>Metabolism: carbohydrate</td>\n",
       "      <td>K08E3.5 is an ortholog of human UGP2\\; is pred...</td>\n",
       "      <td>WBGene00010716</td>\n",
       "      <td>lge-1</td>\n",
       "      <td>K09C8.4</td>\n",
       "      <td>Live</td>\n",
       "      <td>protein_coding_gene</td>\n",
       "      <td>0</td>\n",
       "    </tr>\n",
       "  </tbody>\n",
       "</table>\n",
       "</div>"
      ],
      "text/plain": [
       "     Sequence ID     Wormbase ID  Category 1                Category 2  \\\n",
       "1994     K08E3.5  WBGene00010716  Metabolism  Metabolism: carbohydrate   \n",
       "\n",
       "                    Category 3  \\\n",
       "1994  Metabolism: carbohydrate   \n",
       "\n",
       "                                  Automated Description WS270_Wormbase_Id  \\\n",
       "1994  K08E3.5 is an ortholog of human UGP2\\; is pred...    WBGene00010716   \n",
       "\n",
       "     WS270_Gene_name WS270_Sequence_id WS270_Status      WS270_Gene_Type  \\\n",
       "1994           lge-1           K09C8.4         Live  protein_coding_gene   \n",
       "\n",
       "      sequence_ids_equal  \n",
       "1994                   0  "
      ]
     },
     "execution_count": 9,
     "metadata": {},
     "output_type": "execute_result"
    }
   ],
   "source": [
    "# We expect not to find any differences in sequence ids\n",
    "wormcat_270_df['sequence_ids_equal'] = wormcat_270_df['Sequence ID'].str.upper().eq(wormcat_270_df['WS270_Sequence_id'].str.upper()).astype(int)\n",
    "result = wormcat_270_df[wormcat_270_df['sequence_ids_equal'] == 0]\n",
    "wormcat_270_df = wormcat_270_df.drop(columns=['sequence_ids_equal'])\n",
    "result\n",
    "# But we find we find one"
   ]
  },
  {
   "cell_type": "markdown",
   "id": "83058dee-3138-400f-8594-2767c4715c88",
   "metadata": {},
   "source": [
    "### Join WormCat with Wormbase 289 Gene Ids\n",
    "This will give us the start of the New Annotation List\n"
   ]
  },
  {
   "cell_type": "code",
   "execution_count": 10,
   "id": "2cfa318a-a4bf-4b7d-a579-d90a533ace11",
   "metadata": {},
   "outputs": [],
   "source": [
    "wormbase_289_wormcat_270_df = wormbase_289_df.merge(wormcat_270_df, how='left', left_on='WS289_Wormbase_Id', right_on='Wormbase ID')\n"
   ]
  },
  {
   "cell_type": "code",
   "execution_count": 11,
   "id": "76a2e3b0-35c9-4a43-b8f7-d5774c4a7ce5",
   "metadata": {},
   "outputs": [],
   "source": [
    "#column_names = wormbase_289_wormcat_270_df.columns.tolist()\n",
    "#column_names"
   ]
  },
  {
   "cell_type": "markdown",
   "id": "e38742c5-f37b-444f-8aef-f8be25ad39e4",
   "metadata": {},
   "source": [
    "#### How Many Current WormCat IDs have Died?"
   ]
  },
  {
   "cell_type": "code",
   "execution_count": 12,
   "id": "97bc07b0-6d29-4db3-bbd3-728fc30db222",
   "metadata": {},
   "outputs": [
    {
     "name": "stdout",
     "output_type": "stream",
     "text": [
      "len(wormbase_dead_ids_df)=20\n"
     ]
    }
   ],
   "source": [
    "dead_ids_df = wormbase_289_wormcat_270_df[~wormbase_289_wormcat_270_df['WS289_Status'].isin(['Live'])]\n",
    "wormbase_dead_ids_df = dead_ids_df[dead_ids_df['Wormbase ID'].notna()]\n",
    "#pd.set_option('display.max_rows', None) \n",
    "pd.reset_option('display.max_rows')\n",
    "print(f\"{len(wormbase_dead_ids_df)=}\")\n",
    "#wormbase_dead_ids"
   ]
  },
  {
   "cell_type": "markdown",
   "id": "3d922323-99da-4234-9fe6-327fb2c2b7b6",
   "metadata": {},
   "source": [
    "#### How Many Current WormCat Sequence IDs have changed?"
   ]
  },
  {
   "cell_type": "code",
   "execution_count": 13,
   "id": "6101958d-a75e-4339-8e3d-83a4bc137966",
   "metadata": {},
   "outputs": [
    {
     "name": "stdout",
     "output_type": "stream",
     "text": [
      "1 WormCat Sequence ID(s) have changed.\n"
     ]
    },
    {
     "data": {
      "text/html": [
       "<div>\n",
       "<style scoped>\n",
       "    .dataframe tbody tr th:only-of-type {\n",
       "        vertical-align: middle;\n",
       "    }\n",
       "\n",
       "    .dataframe tbody tr th {\n",
       "        vertical-align: top;\n",
       "    }\n",
       "\n",
       "    .dataframe thead th {\n",
       "        text-align: right;\n",
       "    }\n",
       "</style>\n",
       "<table border=\"1\" class=\"dataframe\">\n",
       "  <thead>\n",
       "    <tr style=\"text-align: right;\">\n",
       "      <th></th>\n",
       "      <th>WS289_Wormbase_Id</th>\n",
       "      <th>WS289_Gene_name</th>\n",
       "      <th>WS289_Sequence_id</th>\n",
       "      <th>WS289_Status</th>\n",
       "      <th>WS289_Gene_Type</th>\n",
       "      <th>Sequence ID</th>\n",
       "      <th>Wormbase ID</th>\n",
       "      <th>Category 1</th>\n",
       "      <th>Category 2</th>\n",
       "      <th>Category 3</th>\n",
       "      <th>Automated Description</th>\n",
       "      <th>WS270_Wormbase_Id</th>\n",
       "      <th>WS270_Gene_name</th>\n",
       "      <th>WS270_Sequence_id</th>\n",
       "      <th>WS270_Status</th>\n",
       "      <th>WS270_Gene_Type</th>\n",
       "      <th>sequence_ids_equal</th>\n",
       "    </tr>\n",
       "  </thead>\n",
       "  <tbody>\n",
       "    <tr>\n",
       "      <th>10642</th>\n",
       "      <td>WBGene00010716</td>\n",
       "      <td>lge-1</td>\n",
       "      <td>K09C8.4</td>\n",
       "      <td>Live</td>\n",
       "      <td>protein_coding_gene</td>\n",
       "      <td>K08E3.5</td>\n",
       "      <td>WBGene00010716</td>\n",
       "      <td>Metabolism</td>\n",
       "      <td>Metabolism: carbohydrate</td>\n",
       "      <td>Metabolism: carbohydrate</td>\n",
       "      <td>K08E3.5 is an ortholog of human UGP2\\; is pred...</td>\n",
       "      <td>WBGene00010716</td>\n",
       "      <td>lge-1</td>\n",
       "      <td>K09C8.4</td>\n",
       "      <td>Live</td>\n",
       "      <td>protein_coding_gene</td>\n",
       "      <td>0</td>\n",
       "    </tr>\n",
       "  </tbody>\n",
       "</table>\n",
       "</div>"
      ],
      "text/plain": [
       "      WS289_Wormbase_Id WS289_Gene_name WS289_Sequence_id WS289_Status  \\\n",
       "10642    WBGene00010716           lge-1           K09C8.4         Live   \n",
       "\n",
       "           WS289_Gene_Type Sequence ID     Wormbase ID  Category 1  \\\n",
       "10642  protein_coding_gene     K08E3.5  WBGene00010716  Metabolism   \n",
       "\n",
       "                     Category 2                Category 3  \\\n",
       "10642  Metabolism: carbohydrate  Metabolism: carbohydrate   \n",
       "\n",
       "                                   Automated Description WS270_Wormbase_Id  \\\n",
       "10642  K08E3.5 is an ortholog of human UGP2\\; is pred...    WBGene00010716   \n",
       "\n",
       "      WS270_Gene_name WS270_Sequence_id WS270_Status      WS270_Gene_Type  \\\n",
       "10642           lge-1           K09C8.4         Live  protein_coding_gene   \n",
       "\n",
       "       sequence_ids_equal  \n",
       "10642                   0  "
      ]
     },
     "execution_count": 13,
     "metadata": {},
     "output_type": "execute_result"
    }
   ],
   "source": [
    "# We expect not to find any differences in sequence ids\n",
    "wormbase_289_wormcat_270_df['sequence_ids_equal'] = wormbase_289_wormcat_270_df['Sequence ID'].str.upper().eq(wormbase_289_wormcat_270_df['WS289_Sequence_id'].str.upper()).astype(int)\n",
    "result = wormbase_289_wormcat_270_df[(wormbase_289_wormcat_270_df['sequence_ids_equal'] == 0) & \n",
    "                                     (wormbase_289_wormcat_270_df['WS289_Status'] == 'Live') &\n",
    "                                     wormbase_289_wormcat_270_df['Wormbase ID'].notna()]\n",
    "wormbase_289_wormcat_270_df = wormbase_289_wormcat_270_df.drop(columns=['sequence_ids_equal'])\n",
    "print(f\"{len(result)} WormCat Sequence ID(s) have changed.\") \n",
    "result"
   ]
  },
  {
   "cell_type": "markdown",
   "id": "63f64fe7-825a-4ec3-b124-734ffd175ef7",
   "metadata": {},
   "source": [
    "### We only want Live genes in the Annotation List"
   ]
  },
  {
   "cell_type": "code",
   "execution_count": 14,
   "id": "6cdd6657-9973-4069-86f9-de2be395f225",
   "metadata": {},
   "outputs": [],
   "source": [
    "wormbase_289_wormcat_270_live_df = wormbase_289_wormcat_270_df[wormbase_289_wormcat_270_df['WS289_Status'].isin(['Live'])]"
   ]
  },
  {
   "cell_type": "code",
   "execution_count": 15,
   "id": "49a79529-bd34-480b-9f5d-b749c2a48e1f",
   "metadata": {},
   "outputs": [
    {
     "data": {
      "text/plain": [
       "protein_coding_gene      19984\n",
       "piRNA_gene               15363\n",
       "ncRNA_gene                8487\n",
       "pseudogene                2131\n",
       "gene                      1525\n",
       "tRNA_gene                  634\n",
       "snoRNA_gene                346\n",
       "miRNA_gene                 261\n",
       "lincRNA_gene               193\n",
       "snRNA_gene                 129\n",
       "antisense_lncRNA_gene      100\n",
       "rRNA_gene                   22\n",
       "scRNA_gene                   1\n",
       "Name: WS289_Gene_Type, dtype: int64"
      ]
     },
     "execution_count": 15,
     "metadata": {},
     "output_type": "execute_result"
    }
   ],
   "source": [
    "wormbase_289_wormcat_270_live_df['WS289_Gene_Type'].value_counts()"
   ]
  },
  {
   "cell_type": "markdown",
   "id": "26339a65-3bdb-423a-8afc-1f5cf70e3d96",
   "metadata": {},
   "source": [
    "#### We do not want genes of Type `piRNA_gene`, `gene`, or `transposable_element_gene` in the Annotation List\n",
    "\n",
    "__Note__ From reviewing the data we see that all `transposable_element_gene` are also Dead Genes so they do not show up anyway"
   ]
  },
  {
   "cell_type": "code",
   "execution_count": 16,
   "id": "12842eff-75a3-4c63-a1eb-920c0647edb8",
   "metadata": {},
   "outputs": [
    {
     "name": "stdout",
     "output_type": "stream",
     "text": [
      "The New Annotation List will have 32,288 genes.\n"
     ]
    }
   ],
   "source": [
    "wormbase_289_wormcat_270_live_type_df = wormbase_289_wormcat_270_live_df[~wormbase_289_wormcat_270_live_df['WS289_Gene_Type'].isin(['piRNA_gene','gene', 'transposable_element_gene'])]\n",
    "print(f\"The New Annotation List will have {len(wormbase_289_wormcat_270_live_type_df):,} genes.\")"
   ]
  },
  {
   "cell_type": "code",
   "execution_count": 17,
   "id": "1e5312b7-24b6-4411-b49c-338656bce83a",
   "metadata": {},
   "outputs": [
    {
     "name": "stdout",
     "output_type": "stream",
     "text": [
      "The New Annotation List will have 919 new genes.\n"
     ]
    }
   ],
   "source": [
    "wormbase_289_wormcat_270_live_type_df['WS289_Status'].value_counts()\n",
    "net_new = len(wormbase_289_wormcat_270_live_type_df[wormbase_289_wormcat_270_live_type_df['Wormbase ID'].isna()])\n",
    "print(f\"The New Annotation List will have {net_new:,} new genes.\")"
   ]
  },
  {
   "cell_type": "code",
   "execution_count": 18,
   "id": "23a94250-21ed-4b7a-b230-ffd6f2c4980b",
   "metadata": {},
   "outputs": [
    {
     "data": {
      "text/html": [
       "<div>\n",
       "<style scoped>\n",
       "    .dataframe tbody tr th:only-of-type {\n",
       "        vertical-align: middle;\n",
       "    }\n",
       "\n",
       "    .dataframe tbody tr th {\n",
       "        vertical-align: top;\n",
       "    }\n",
       "\n",
       "    .dataframe thead th {\n",
       "        text-align: right;\n",
       "    }\n",
       "</style>\n",
       "<table border=\"1\" class=\"dataframe\">\n",
       "  <thead>\n",
       "    <tr style=\"text-align: right;\">\n",
       "      <th></th>\n",
       "      <th>Wormbase ID</th>\n",
       "      <th>WS289_Gene_name</th>\n",
       "      <th>Sequence ID</th>\n",
       "      <th>WS289_Gene_Type</th>\n",
       "      <th>Category 1</th>\n",
       "      <th>Category 2</th>\n",
       "      <th>Category 3</th>\n",
       "      <th>Automated Description</th>\n",
       "    </tr>\n",
       "  </thead>\n",
       "  <tbody>\n",
       "    <tr>\n",
       "      <th>0</th>\n",
       "      <td>WBGene00000001</td>\n",
       "      <td>aap-1</td>\n",
       "      <td>Y110A7A.10</td>\n",
       "      <td>protein_coding_gene</td>\n",
       "      <td>Signaling</td>\n",
       "      <td>Signaling: lipid</td>\n",
       "      <td>Signaling: lipid: kinase PI3</td>\n",
       "      <td>aap-1 is an ortholog of human PIK3R1 (phosphoi...</td>\n",
       "    </tr>\n",
       "    <tr>\n",
       "      <th>1</th>\n",
       "      <td>WBGene00000002</td>\n",
       "      <td>aat-1</td>\n",
       "      <td>F27C8.1</td>\n",
       "      <td>protein_coding_gene</td>\n",
       "      <td>Transmembrane transport</td>\n",
       "      <td>Transmembrane transport: amino acid</td>\n",
       "      <td>Transmembrane transport: amino acid</td>\n",
       "      <td>aat-1 is an ortholog of human SLC7A5 (solute c...</td>\n",
       "    </tr>\n",
       "    <tr>\n",
       "      <th>2</th>\n",
       "      <td>WBGene00000003</td>\n",
       "      <td>aat-2</td>\n",
       "      <td>F07C3.7</td>\n",
       "      <td>protein_coding_gene</td>\n",
       "      <td>Transmembrane transport</td>\n",
       "      <td>Transmembrane transport: amino acid</td>\n",
       "      <td>Transmembrane transport: amino acid</td>\n",
       "      <td>aat-2 is an ortholog of human SLC7A11 (solute ...</td>\n",
       "    </tr>\n",
       "    <tr>\n",
       "      <th>3</th>\n",
       "      <td>WBGene00000004</td>\n",
       "      <td>aat-3</td>\n",
       "      <td>F52H2.2</td>\n",
       "      <td>protein_coding_gene</td>\n",
       "      <td>Transmembrane transport</td>\n",
       "      <td>Transmembrane transport: amino acid</td>\n",
       "      <td>Transmembrane transport: amino acid</td>\n",
       "      <td>aat-3 is an ortholog of human SLC7A5, SLC7A6 (...</td>\n",
       "    </tr>\n",
       "    <tr>\n",
       "      <th>4</th>\n",
       "      <td>WBGene00000005</td>\n",
       "      <td>aat-4</td>\n",
       "      <td>T13A10.10</td>\n",
       "      <td>protein_coding_gene</td>\n",
       "      <td>Transmembrane transport</td>\n",
       "      <td>Transmembrane transport: amino acid</td>\n",
       "      <td>Transmembrane transport: amino acid</td>\n",
       "      <td>aat-4 is an ortholog of human SLC7A11 (solute ...</td>\n",
       "    </tr>\n",
       "    <tr>\n",
       "      <th>...</th>\n",
       "      <td>...</td>\n",
       "      <td>...</td>\n",
       "      <td>...</td>\n",
       "      <td>...</td>\n",
       "      <td>...</td>\n",
       "      <td>...</td>\n",
       "      <td>...</td>\n",
       "      <td>...</td>\n",
       "    </tr>\n",
       "    <tr>\n",
       "      <th>52104</th>\n",
       "      <td>WBGene00306126</td>\n",
       "      <td>cone-1</td>\n",
       "      <td>Y54F10AM.16</td>\n",
       "      <td>protein_coding_gene</td>\n",
       "      <td>NaN</td>\n",
       "      <td>NaN</td>\n",
       "      <td>NaN</td>\n",
       "      <td>NaN</td>\n",
       "    </tr>\n",
       "    <tr>\n",
       "      <th>52105</th>\n",
       "      <td>WBGene00306131</td>\n",
       "      <td>NaN</td>\n",
       "      <td>Y34B4A.20</td>\n",
       "      <td>protein_coding_gene</td>\n",
       "      <td>NaN</td>\n",
       "      <td>NaN</td>\n",
       "      <td>NaN</td>\n",
       "      <td>NaN</td>\n",
       "    </tr>\n",
       "    <tr>\n",
       "      <th>52106</th>\n",
       "      <td>WBGene00306132</td>\n",
       "      <td>NaN</td>\n",
       "      <td>F54D10.10</td>\n",
       "      <td>protein_coding_gene</td>\n",
       "      <td>NaN</td>\n",
       "      <td>NaN</td>\n",
       "      <td>NaN</td>\n",
       "      <td>NaN</td>\n",
       "    </tr>\n",
       "    <tr>\n",
       "      <th>52107</th>\n",
       "      <td>WBGene00306133</td>\n",
       "      <td>azyx-1</td>\n",
       "      <td>F42G4.11</td>\n",
       "      <td>protein_coding_gene</td>\n",
       "      <td>NaN</td>\n",
       "      <td>NaN</td>\n",
       "      <td>NaN</td>\n",
       "      <td>NaN</td>\n",
       "    </tr>\n",
       "    <tr>\n",
       "      <th>52108</th>\n",
       "      <td>WBGene00306134</td>\n",
       "      <td>srlf-8</td>\n",
       "      <td>F11F1.9</td>\n",
       "      <td>protein_coding_gene</td>\n",
       "      <td>NaN</td>\n",
       "      <td>NaN</td>\n",
       "      <td>NaN</td>\n",
       "      <td>NaN</td>\n",
       "    </tr>\n",
       "  </tbody>\n",
       "</table>\n",
       "<p>32288 rows × 8 columns</p>\n",
       "</div>"
      ],
      "text/plain": [
       "          Wormbase ID WS289_Gene_name  Sequence ID      WS289_Gene_Type  \\\n",
       "0      WBGene00000001           aap-1   Y110A7A.10  protein_coding_gene   \n",
       "1      WBGene00000002           aat-1      F27C8.1  protein_coding_gene   \n",
       "2      WBGene00000003           aat-2      F07C3.7  protein_coding_gene   \n",
       "3      WBGene00000004           aat-3      F52H2.2  protein_coding_gene   \n",
       "4      WBGene00000005           aat-4    T13A10.10  protein_coding_gene   \n",
       "...               ...             ...          ...                  ...   \n",
       "52104  WBGene00306126          cone-1  Y54F10AM.16  protein_coding_gene   \n",
       "52105  WBGene00306131             NaN    Y34B4A.20  protein_coding_gene   \n",
       "52106  WBGene00306132             NaN    F54D10.10  protein_coding_gene   \n",
       "52107  WBGene00306133          azyx-1     F42G4.11  protein_coding_gene   \n",
       "52108  WBGene00306134          srlf-8      F11F1.9  protein_coding_gene   \n",
       "\n",
       "                    Category 1                           Category 2  \\\n",
       "0                    Signaling                     Signaling: lipid   \n",
       "1      Transmembrane transport  Transmembrane transport: amino acid   \n",
       "2      Transmembrane transport  Transmembrane transport: amino acid   \n",
       "3      Transmembrane transport  Transmembrane transport: amino acid   \n",
       "4      Transmembrane transport  Transmembrane transport: amino acid   \n",
       "...                        ...                                  ...   \n",
       "52104                      NaN                                  NaN   \n",
       "52105                      NaN                                  NaN   \n",
       "52106                      NaN                                  NaN   \n",
       "52107                      NaN                                  NaN   \n",
       "52108                      NaN                                  NaN   \n",
       "\n",
       "                                Category 3  \\\n",
       "0             Signaling: lipid: kinase PI3   \n",
       "1      Transmembrane transport: amino acid   \n",
       "2      Transmembrane transport: amino acid   \n",
       "3      Transmembrane transport: amino acid   \n",
       "4      Transmembrane transport: amino acid   \n",
       "...                                    ...   \n",
       "52104                                  NaN   \n",
       "52105                                  NaN   \n",
       "52106                                  NaN   \n",
       "52107                                  NaN   \n",
       "52108                                  NaN   \n",
       "\n",
       "                                   Automated Description  \n",
       "0      aap-1 is an ortholog of human PIK3R1 (phosphoi...  \n",
       "1      aat-1 is an ortholog of human SLC7A5 (solute c...  \n",
       "2      aat-2 is an ortholog of human SLC7A11 (solute ...  \n",
       "3      aat-3 is an ortholog of human SLC7A5, SLC7A6 (...  \n",
       "4      aat-4 is an ortholog of human SLC7A11 (solute ...  \n",
       "...                                                  ...  \n",
       "52104                                                NaN  \n",
       "52105                                                NaN  \n",
       "52106                                                NaN  \n",
       "52107                                                NaN  \n",
       "52108                                                NaN  \n",
       "\n",
       "[32288 rows x 8 columns]"
      ]
     },
     "execution_count": 18,
     "metadata": {},
     "output_type": "execute_result"
    }
   ],
   "source": [
    "columns_to_drop = ['Wormbase ID', 'Sequence ID', 'WS289_Status', \n",
    "                   'WS270_Wormbase_Id', 'WS270_Gene_name', 'WS270_Sequence_id', 'WS270_Status', 'WS270_Gene_Type']\n",
    "\n",
    "wormcat_new_df = wormbase_289_wormcat_270_live_type_df.drop(columns=columns_to_drop)\n",
    "wormcat_new_df = wormcat_new_df.rename(columns={'WS289_Wormbase_Id': 'Wormbase ID', 'WS289_Sequence_id': 'Sequence ID'})\n",
    "wormcat_new_df"
   ]
  },
  {
   "cell_type": "code",
   "execution_count": 19,
   "id": "f13e76b5-1d15-4879-ada0-92d0d5832e80",
   "metadata": {},
   "outputs": [
    {
     "data": {
      "text/html": [
       "<div>\n",
       "<style scoped>\n",
       "    .dataframe tbody tr th:only-of-type {\n",
       "        vertical-align: middle;\n",
       "    }\n",
       "\n",
       "    .dataframe tbody tr th {\n",
       "        vertical-align: top;\n",
       "    }\n",
       "\n",
       "    .dataframe thead th {\n",
       "        text-align: right;\n",
       "    }\n",
       "</style>\n",
       "<table border=\"1\" class=\"dataframe\">\n",
       "  <thead>\n",
       "    <tr style=\"text-align: right;\">\n",
       "      <th></th>\n",
       "      <th>Wormbase ID</th>\n",
       "      <th>WS289_Gene_name</th>\n",
       "      <th>Sequence ID</th>\n",
       "      <th>WS289_Gene_Type</th>\n",
       "      <th>Category 1</th>\n",
       "      <th>Category 2</th>\n",
       "      <th>Category 3</th>\n",
       "      <th>Automated Description</th>\n",
       "      <th>automated_description</th>\n",
       "    </tr>\n",
       "  </thead>\n",
       "  <tbody>\n",
       "    <tr>\n",
       "      <th>0</th>\n",
       "      <td>WBGene00000001</td>\n",
       "      <td>aap-1</td>\n",
       "      <td>Y110A7A.10</td>\n",
       "      <td>protein_coding_gene</td>\n",
       "      <td>Signaling</td>\n",
       "      <td>Signaling: lipid</td>\n",
       "      <td>Signaling: lipid: kinase PI3</td>\n",
       "      <td>aap-1 is an ortholog of human PIK3R1 (phosphoi...</td>\n",
       "      <td>Enables protein kinase binding activity. Invol...</td>\n",
       "    </tr>\n",
       "    <tr>\n",
       "      <th>1</th>\n",
       "      <td>WBGene00000002</td>\n",
       "      <td>aat-1</td>\n",
       "      <td>F27C8.1</td>\n",
       "      <td>protein_coding_gene</td>\n",
       "      <td>Transmembrane transport</td>\n",
       "      <td>Transmembrane transport: amino acid</td>\n",
       "      <td>Transmembrane transport: amino acid</td>\n",
       "      <td>aat-1 is an ortholog of human SLC7A5 (solute c...</td>\n",
       "      <td>Contributes to L-amino acid transmembrane tran...</td>\n",
       "    </tr>\n",
       "    <tr>\n",
       "      <th>2</th>\n",
       "      <td>WBGene00000003</td>\n",
       "      <td>aat-2</td>\n",
       "      <td>F07C3.7</td>\n",
       "      <td>protein_coding_gene</td>\n",
       "      <td>Transmembrane transport</td>\n",
       "      <td>Transmembrane transport: amino acid</td>\n",
       "      <td>Transmembrane transport: amino acid</td>\n",
       "      <td>aat-2 is an ortholog of human SLC7A11 (solute ...</td>\n",
       "      <td>Predicted to enable L-amino acid transmembrane...</td>\n",
       "    </tr>\n",
       "    <tr>\n",
       "      <th>3</th>\n",
       "      <td>WBGene00000004</td>\n",
       "      <td>aat-3</td>\n",
       "      <td>F52H2.2</td>\n",
       "      <td>protein_coding_gene</td>\n",
       "      <td>Transmembrane transport</td>\n",
       "      <td>Transmembrane transport: amino acid</td>\n",
       "      <td>Transmembrane transport: amino acid</td>\n",
       "      <td>aat-3 is an ortholog of human SLC7A5, SLC7A6 (...</td>\n",
       "      <td>Contributes to L-amino acid transmembrane tran...</td>\n",
       "    </tr>\n",
       "    <tr>\n",
       "      <th>4</th>\n",
       "      <td>WBGene00000005</td>\n",
       "      <td>aat-4</td>\n",
       "      <td>T13A10.10</td>\n",
       "      <td>protein_coding_gene</td>\n",
       "      <td>Transmembrane transport</td>\n",
       "      <td>Transmembrane transport: amino acid</td>\n",
       "      <td>Transmembrane transport: amino acid</td>\n",
       "      <td>aat-4 is an ortholog of human SLC7A11 (solute ...</td>\n",
       "      <td>Predicted to enable L-amino acid transmembrane...</td>\n",
       "    </tr>\n",
       "    <tr>\n",
       "      <th>...</th>\n",
       "      <td>...</td>\n",
       "      <td>...</td>\n",
       "      <td>...</td>\n",
       "      <td>...</td>\n",
       "      <td>...</td>\n",
       "      <td>...</td>\n",
       "      <td>...</td>\n",
       "      <td>...</td>\n",
       "      <td>...</td>\n",
       "    </tr>\n",
       "    <tr>\n",
       "      <th>32283</th>\n",
       "      <td>WBGene00306126</td>\n",
       "      <td>cone-1</td>\n",
       "      <td>Y54F10AM.16</td>\n",
       "      <td>protein_coding_gene</td>\n",
       "      <td>NaN</td>\n",
       "      <td>NaN</td>\n",
       "      <td>NaN</td>\n",
       "      <td>NaN</td>\n",
       "      <td>Predicted to be involved in intra-Golgi vesicl...</td>\n",
       "    </tr>\n",
       "    <tr>\n",
       "      <th>32284</th>\n",
       "      <td>WBGene00306131</td>\n",
       "      <td>NaN</td>\n",
       "      <td>Y34B4A.20</td>\n",
       "      <td>protein_coding_gene</td>\n",
       "      <td>NaN</td>\n",
       "      <td>NaN</td>\n",
       "      <td>NaN</td>\n",
       "      <td>NaN</td>\n",
       "      <td>none available</td>\n",
       "    </tr>\n",
       "    <tr>\n",
       "      <th>32285</th>\n",
       "      <td>WBGene00306132</td>\n",
       "      <td>NaN</td>\n",
       "      <td>F54D10.10</td>\n",
       "      <td>protein_coding_gene</td>\n",
       "      <td>NaN</td>\n",
       "      <td>NaN</td>\n",
       "      <td>NaN</td>\n",
       "      <td>NaN</td>\n",
       "      <td>Is affected by several genes including dpy-10;...</td>\n",
       "    </tr>\n",
       "    <tr>\n",
       "      <th>32286</th>\n",
       "      <td>WBGene00306133</td>\n",
       "      <td>azyx-1</td>\n",
       "      <td>F42G4.11</td>\n",
       "      <td>protein_coding_gene</td>\n",
       "      <td>NaN</td>\n",
       "      <td>NaN</td>\n",
       "      <td>NaN</td>\n",
       "      <td>NaN</td>\n",
       "      <td>Is affected by sir-2.1 based on microarray stu...</td>\n",
       "    </tr>\n",
       "    <tr>\n",
       "      <th>32287</th>\n",
       "      <td>WBGene00306134</td>\n",
       "      <td>srlf-8</td>\n",
       "      <td>F11F1.9</td>\n",
       "      <td>protein_coding_gene</td>\n",
       "      <td>NaN</td>\n",
       "      <td>NaN</td>\n",
       "      <td>NaN</td>\n",
       "      <td>NaN</td>\n",
       "      <td>Is affected by sir-2.1 and daf-2 based on micr...</td>\n",
       "    </tr>\n",
       "  </tbody>\n",
       "</table>\n",
       "<p>32288 rows × 9 columns</p>\n",
       "</div>"
      ],
      "text/plain": [
       "          Wormbase ID WS289_Gene_name  Sequence ID      WS289_Gene_Type  \\\n",
       "0      WBGene00000001           aap-1   Y110A7A.10  protein_coding_gene   \n",
       "1      WBGene00000002           aat-1      F27C8.1  protein_coding_gene   \n",
       "2      WBGene00000003           aat-2      F07C3.7  protein_coding_gene   \n",
       "3      WBGene00000004           aat-3      F52H2.2  protein_coding_gene   \n",
       "4      WBGene00000005           aat-4    T13A10.10  protein_coding_gene   \n",
       "...               ...             ...          ...                  ...   \n",
       "32283  WBGene00306126          cone-1  Y54F10AM.16  protein_coding_gene   \n",
       "32284  WBGene00306131             NaN    Y34B4A.20  protein_coding_gene   \n",
       "32285  WBGene00306132             NaN    F54D10.10  protein_coding_gene   \n",
       "32286  WBGene00306133          azyx-1     F42G4.11  protein_coding_gene   \n",
       "32287  WBGene00306134          srlf-8      F11F1.9  protein_coding_gene   \n",
       "\n",
       "                    Category 1                           Category 2  \\\n",
       "0                    Signaling                     Signaling: lipid   \n",
       "1      Transmembrane transport  Transmembrane transport: amino acid   \n",
       "2      Transmembrane transport  Transmembrane transport: amino acid   \n",
       "3      Transmembrane transport  Transmembrane transport: amino acid   \n",
       "4      Transmembrane transport  Transmembrane transport: amino acid   \n",
       "...                        ...                                  ...   \n",
       "32283                      NaN                                  NaN   \n",
       "32284                      NaN                                  NaN   \n",
       "32285                      NaN                                  NaN   \n",
       "32286                      NaN                                  NaN   \n",
       "32287                      NaN                                  NaN   \n",
       "\n",
       "                                Category 3  \\\n",
       "0             Signaling: lipid: kinase PI3   \n",
       "1      Transmembrane transport: amino acid   \n",
       "2      Transmembrane transport: amino acid   \n",
       "3      Transmembrane transport: amino acid   \n",
       "4      Transmembrane transport: amino acid   \n",
       "...                                    ...   \n",
       "32283                                  NaN   \n",
       "32284                                  NaN   \n",
       "32285                                  NaN   \n",
       "32286                                  NaN   \n",
       "32287                                  NaN   \n",
       "\n",
       "                                   Automated Description  \\\n",
       "0      aap-1 is an ortholog of human PIK3R1 (phosphoi...   \n",
       "1      aat-1 is an ortholog of human SLC7A5 (solute c...   \n",
       "2      aat-2 is an ortholog of human SLC7A11 (solute ...   \n",
       "3      aat-3 is an ortholog of human SLC7A5, SLC7A6 (...   \n",
       "4      aat-4 is an ortholog of human SLC7A11 (solute ...   \n",
       "...                                                  ...   \n",
       "32283                                                NaN   \n",
       "32284                                                NaN   \n",
       "32285                                                NaN   \n",
       "32286                                                NaN   \n",
       "32287                                                NaN   \n",
       "\n",
       "                                   automated_description  \n",
       "0      Enables protein kinase binding activity. Invol...  \n",
       "1      Contributes to L-amino acid transmembrane tran...  \n",
       "2      Predicted to enable L-amino acid transmembrane...  \n",
       "3      Contributes to L-amino acid transmembrane tran...  \n",
       "4      Predicted to enable L-amino acid transmembrane...  \n",
       "...                                                  ...  \n",
       "32283  Predicted to be involved in intra-Golgi vesicl...  \n",
       "32284                                     none available  \n",
       "32285  Is affected by several genes including dpy-10;...  \n",
       "32286  Is affected by sir-2.1 based on microarray stu...  \n",
       "32287  Is affected by sir-2.1 and daf-2 based on micr...  \n",
       "\n",
       "[32288 rows x 9 columns]"
      ]
     },
     "execution_count": 19,
     "metadata": {},
     "output_type": "execute_result"
    }
   ],
   "source": [
    "columns_to_drop = ['Wormbase_Id', 'gene_nm', 'sequence_id', 'concise_description', 'gene_class_description']\n",
    "wormcat_new_desc_df = wormcat_new_df.merge(functional_descriptions_df, how='left', left_on='Wormbase ID', right_on='Wormbase_Id')\n",
    "wormcat_new_desc_df = wormcat_new_desc_df.drop(columns=columns_to_drop)\n",
    "\n",
    "wormcat_new_desc_df"
   ]
  },
  {
   "cell_type": "code",
   "execution_count": 20,
   "id": "c2999ad0-6f10-49ca-96b3-8140a266c522",
   "metadata": {},
   "outputs": [
    {
     "data": {
      "text/plain": [
       "['Wormbase ID',\n",
       " 'WS289_Gene_name',\n",
       " 'Sequence ID',\n",
       " 'WS289_Gene_Type',\n",
       " 'Category 1',\n",
       " 'Category 2',\n",
       " 'Category 3',\n",
       " 'Automated Description',\n",
       " 'automated_description']"
      ]
     },
     "execution_count": 20,
     "metadata": {},
     "output_type": "execute_result"
    }
   ],
   "source": [
    "column_names = wormcat_new_desc_df.columns.tolist()\n",
    "column_names"
   ]
  },
  {
   "cell_type": "code",
   "execution_count": 21,
   "id": "a19e9b26-7c4e-45db-a0e1-d3114509cb14",
   "metadata": {},
   "outputs": [],
   "source": [
    "import pandas as pd\n",
    "from sentence_transformers import SentenceTransformer, util\n",
    "\n",
    "# Load a pre-trained model\n",
    "model = SentenceTransformer('bert-base-nli-stsb-mean-tokens')\n",
    "\n",
    "# Define the check_similarity function\n",
    "def check_similarity(text1, text2):\n",
    "    if pd.isna(text1) or pd.isna(text2):\n",
    "        return 0.0  # Return 0 if either text1 or text2 is NaN\n",
    "    \n",
    "    embedding1 = model.encode(text1, convert_to_tensor=True)\n",
    "    embedding2 = model.encode(text2, convert_to_tensor=True)\n",
    "    similarity_score = util.pytorch_cos_sim(embedding1, embedding2)[0][0].item()\n",
    "    return similarity_score\n",
    "\n",
    "\n",
    "wormcat_new_desc_df['similarity_score'] = wormcat_new_desc_df.apply(lambda row: check_similarity(row['Automated Description'], row['automated_description']), axis=1)"
   ]
  },
  {
   "cell_type": "code",
   "execution_count": 22,
   "id": "2b9d648a-46d9-4bcb-b7ac-bce47e8dfb91",
   "metadata": {},
   "outputs": [],
   "source": [
    "desired_column_order = ['Wormbase ID', 'Sequence ID', 'Category 1', 'Category 2', 'Category 3',\n",
    " 'Automated Description', 'automated_description', 'similarity_score',\n",
    " 'WS289_Gene_name','WS289_Gene_Type']\n",
    "wormcat_new_desc_df = wormcat_new_desc_df[desired_column_order]\n",
    "wormcat_new_desc_df = wormcat_new_desc_df.rename(columns={'WS289_Gene_name': 'Gene_name', 'WS289_Gene_Type': 'Gene_Type'})"
   ]
  },
  {
   "cell_type": "code",
   "execution_count": 23,
   "id": "921d5aa7-061d-4700-a6c7-ef11db6f1a18",
   "metadata": {},
   "outputs": [],
   "source": [
    "wormcat_new_desc_df.to_csv('./output_data/whole_genome_v3_aug-25-2023.csv', index=False)"
   ]
  },
  {
   "cell_type": "code",
   "execution_count": null,
   "id": "083da513-6561-4c29-9ffb-f02b220fedc1",
   "metadata": {},
   "outputs": [],
   "source": []
  }
 ],
 "metadata": {
  "kernelspec": {
   "display_name": "Python [conda env:dan-dev-sc]",
   "language": "python",
   "name": "conda-env-dan-dev-sc-py"
  },
  "language_info": {
   "codemirror_mode": {
    "name": "ipython",
    "version": 3
   },
   "file_extension": ".py",
   "mimetype": "text/x-python",
   "name": "python",
   "nbconvert_exporter": "python",
   "pygments_lexer": "ipython3",
   "version": "3.9.16"
  }
 },
 "nbformat": 4,
 "nbformat_minor": 5
}
