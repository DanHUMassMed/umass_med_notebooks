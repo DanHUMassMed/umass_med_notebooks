{
 "cells": [
  {
   "cell_type": "markdown",
   "id": "b4c17108-1c7b-42c2-bc31-93b6c9c5d81b",
   "metadata": {},
   "source": [
    "# Evaluate modENCODE FPKM of Adult Worms\n",
    "\n",
    "Map the average expressions from the FPKM data to WormCat Categories and calculate some basic stats.\n",
    "\n",
    "The question we are asking: \n",
    "\n",
    "* __Is the expression levels for Unassigned Genes similar to other Wormcat categories?__\n",
    "\n",
    "__Answer: Yes__\n",
    "* Unassigned Genes have a _Mean_ FPKM Expression  of ___28___ and fall in the ___Third quartile___ when compared to all other Wormcat categories\n",
    "* Unassigned Genes have a _Std_ FPKM Expression of ___180___ and falls in the ___Second quartile___ when compared to all other Wormcat categories\n",
    "\n",
    "---\n",
    "Notes:\n",
    "* There are 492 Genes in WormCat that are not in ModENCODE\n",
    "* Unique Categories\n",
    "  * Category 1 has 34 unique categories.\n",
    "  * Category 2 has 249 unique categories.\n",
    "  * Category 3 has 471 unique categories.\n",
    "\n"
   ]
  },
  {
   "cell_type": "code",
   "execution_count": null,
   "id": "58c5c250-14aa-4034-af04-f5c7c5bc7822",
   "metadata": {},
   "outputs": [],
   "source": [
    "import pandas as pd\n"
   ]
  },
  {
   "cell_type": "code",
   "execution_count": null,
   "id": "0c37463e-4a3a-4331-ab86-5df4f4cb3267",
   "metadata": {},
   "outputs": [],
   "source": [
    "# Read in the Wormcat Catalog\n",
    "wormcat_df = pd.read_csv('./input_data/whole_genome_v2_nov-11-2021.csv')"
   ]
  },
  {
   "cell_type": "code",
   "execution_count": null,
   "id": "05ccaec4-ef12-42d6-9187-44ae6d759e5b",
   "metadata": {},
   "outputs": [],
   "source": [
    "wormcat_df"
   ]
  },
  {
   "cell_type": "code",
   "execution_count": null,
   "id": "1db4072a-5d87-4765-b059-efd1852cea00",
   "metadata": {},
   "outputs": [],
   "source": [
    "# Read in the Excel Sheet to get the Tab Names\n",
    "xlsx_file_nm = './input_data/fpkm_adult.xlsx'\n",
    "fpkm_adult_xlsx = pd.ExcelFile(xlsx_file_nm)"
   ]
  },
  {
   "cell_type": "code",
   "execution_count": null,
   "id": "e2eaa29b-b1c3-451d-9b6b-cabf79e7120a",
   "metadata": {},
   "outputs": [],
   "source": [
    "sheet_names = fpkm_adult_xlsx.sheet_names\n",
    "sheet_names"
   ]
  },
  {
   "cell_type": "code",
   "execution_count": null,
   "id": "672d7c9d-246a-4535-baaf-dbc8afbd36d0",
   "metadata": {},
   "outputs": [],
   "source": [
    "# Read the 'comp FPKM' Tab\n",
    "fpkm_df = pd.read_excel(xlsx_file_nm, sheet_name='comp FPKM')"
   ]
  },
  {
   "cell_type": "code",
   "execution_count": null,
   "id": "a2c6f81f-da80-4137-b1ec-a20c6e9ab549",
   "metadata": {},
   "outputs": [],
   "source": [
    "fpkm_df"
   ]
  },
  {
   "cell_type": "code",
   "execution_count": null,
   "id": "22051e8b-20ba-49d6-825c-2fcd9534f943",
   "metadata": {},
   "outputs": [],
   "source": [
    "# Merge the data joining on the Wormbase ID use a Left join as to not drop any wormcat rows\n",
    "wormcat_w_fpkm_df = pd.merge(wormcat_df, fpkm_df, left_on='Wormbase ID', right_on='Gene.ID', how='left')\n"
   ]
  },
  {
   "cell_type": "code",
   "execution_count": null,
   "id": "e59336f9-08b2-4627-8b44-3dd4d9e3631c",
   "metadata": {},
   "outputs": [],
   "source": [
    "# Check how many Wormbase IDs do not have a fpkm from ModENCODE\n",
    "# there are 492 Genes in WormCat that are not in ModENCODE\n",
    "missing = wormcat_w_fpkm_df['Gene.ID'].isna()\n",
    "missing.value_counts()"
   ]
  },
  {
   "cell_type": "code",
   "execution_count": null,
   "id": "71a9e9ca-a4e6-496f-976c-64d2cb7fc1ec",
   "metadata": {},
   "outputs": [],
   "source": [
    "# OK Now we that we know how many rows are missing data we can drop them so they dont mess up the stats\n",
    "\n",
    "wormcat_w_fpkm_df = wormcat_w_fpkm_df[~wormcat_w_fpkm_df['Gene.ID'].isna()]\n",
    "wormcat_w_fpkm_df = wormcat_w_fpkm_df.drop(['Unnamed: 1','Gene.ID'], axis=1)\n",
    "wormcat_w_fpkm_df.rename(columns={'average adult FPKMs': 'Avg_FPKM','st dev':'Std_FPKM'}, inplace=True)\n",
    "wormcat_w_fpkm_df"
   ]
  },
  {
   "cell_type": "code",
   "execution_count": null,
   "id": "416dc8cd-589e-49ef-9fb4-58b6c9c97b8f",
   "metadata": {},
   "outputs": [],
   "source": [
    "# How many unique cataegory items are there in each main category?\n",
    "for c in ['Category 1','Category 2','Category 3']:\n",
    "    category = wormcat_w_fpkm_df[c].value_counts()\n",
    "    print(f'{c} has {len(category)} unique categories.')"
   ]
  },
  {
   "cell_type": "code",
   "execution_count": null,
   "id": "ca5de94a-c7b0-4d6d-9106-4619284c74e9",
   "metadata": {},
   "outputs": [],
   "source": [
    "# Calculate some basic stats and Write to an excel sheet\n",
    "data = {}\n",
    "for category in ['Category 1','Category 2','Category 3']:\n",
    "    grouped = wormcat_w_fpkm_df.groupby(category)\n",
    "    column_nm='Avg_FPKM'\n",
    "    stat_mean = grouped[column_nm].mean()\n",
    "    stat_mean.name = 'mean'\n",
    "    stat_count = grouped[column_nm].count()\n",
    "    stat_count.name= 'count'\n",
    "    stat_min = grouped[column_nm].min()\n",
    "    stat_min.name = 'min'\n",
    "    stat_max = grouped[column_nm].max()\n",
    "    stat_max.name = 'max'\n",
    "    stat_std = grouped[column_nm].std()\n",
    "    stat_std.name = 'std'\n",
    "    stats = pd.concat([stat_mean, stat_std, stat_count, stat_min, stat_max], axis=1)\n",
    "    stats\n",
    "    data[category]=stats\n",
    "    mode = 'w' if category=='Category 1' else 'a'\n",
    "    with pd.ExcelWriter('./output_data/wormcat_modencode.xlsx', mode=mode) as writer:\n",
    "        stats.to_excel(writer, sheet_name=category)\n"
   ]
  },
  {
   "cell_type": "code",
   "execution_count": null,
   "id": "bc81639b-33fc-451c-8a09-fc2084553938",
   "metadata": {},
   "outputs": [],
   "source": [
    "# write the FULL details to the excel sheet\n",
    "with pd.ExcelWriter('./output_data/wormcat_modencode.xlsx', mode='a') as writer:\n",
    "        wormcat_w_fpkm_df.to_excel(writer, sheet_name='full detail', index=False)"
   ]
  },
  {
   "cell_type": "code",
   "execution_count": null,
   "id": "6aabc77e-c8dc-46a1-bca6-c4d210d1ca27",
   "metadata": {},
   "outputs": [],
   "source": [
    "grouped = wormcat_w_fpkm_df.groupby('Category 1')\n",
    "stat = grouped['Avg_FPKM'].std()\n",
    "stat.sort_values()"
   ]
  },
  {
   "cell_type": "code",
   "execution_count": null,
   "id": "4492c84d-b9d7-4d5e-ba76-ca227cc1d75b",
   "metadata": {},
   "outputs": [],
   "source": [
    "grouped = wormcat_w_fpkm_df.groupby('Category 1')\n",
    "stat = grouped['Avg_FPKM'].mean()\n",
    "stat.sort_values()"
   ]
  },
  {
   "cell_type": "code",
   "execution_count": null,
   "id": "d1bf65d3-138d-4f4f-a563-4b8ae8e0c6df",
   "metadata": {},
   "outputs": [],
   "source": [
    "import matplotlib.pyplot as plt\n",
    "import numpy as np\n",
    "\n",
    "\n",
    "Category_1_mean = data['Category 1']['mean'].sort_values(ascending=False)\n",
    "Category_1_mean.index\n",
    "\n",
    "x = Category_1_mean.index\n",
    "y = np.log2(Category_1_mean.values)\n",
    "#y = Category_1_mean.values\n",
    "\n",
    "\n",
    "fig, ax = plt.subplots(figsize=(10, 5))\n",
    "# Create bar plot\n",
    "plt.bar(x, y)\n",
    "\n",
    "# Set title and labels\n",
    "plt.title(\"Modencode FPKM of Adult Worms\",fontsize=15)\n",
    "plt.ylabel(\"log2(mean FPKM) \")\n",
    "plt.xlabel(\"WormCat Category 1\")\n",
    "plt.setp(ax.get_xticklabels(), rotation=45, ha=\"right\",\n",
    "         rotation_mode=\"anchor\")\n",
    "# Show plot\n",
    "# Adding annotation on the plot.\n",
    "ax.annotate('UNASSIGNED', xy=(23, 5), xytext=(18, 9), fontsize=12,\n",
    "            arrowprops=dict(facecolor='green', shrink=0.05))\n",
    "\n",
    "# only one line may be specified; full height\n",
    "plt.axvline(x = 8, color = 'black', label = 'axvline - full height')\n",
    "plt.axvline(x = 16.5, color = 'black', label = 'axvline - full height') \n",
    "plt.axvline(x = 25, color = 'black', label = 'axvline - full height') \n",
    "\n",
    "ax.text(3, 12, 'Q1', style='italic', bbox={\n",
    "        'facecolor': 'grey', 'alpha': 0.5, 'pad': 10})\n",
    "ax.text(12, 12, 'Q2', style='italic', bbox={\n",
    "        'facecolor': 'grey', 'alpha': 0.5, 'pad': 10})\n",
    "ax.text(21, 12, 'Q3', style='italic', bbox={\n",
    "        'facecolor': 'grey', 'alpha': 0.5, 'pad': 10})\n",
    "ax.text(30, 12, 'Q4', style='italic', bbox={\n",
    "        'facecolor': 'grey', 'alpha': 0.5, 'pad': 10})\n",
    "\n",
    "plt.show()\n"
   ]
  },
  {
   "cell_type": "code",
   "execution_count": null,
   "id": "0f33f493-d24d-4f19-99cd-d829e603c4a6",
   "metadata": {},
   "outputs": [],
   "source": [
    "import matplotlib.pyplot as plt\n",
    "import numpy as np\n",
    "\n",
    "\n",
    "Category_1_mean = data['Category 1']['std'].sort_values(ascending=False)\n",
    "Category_1_mean.index\n",
    "\n",
    "x = Category_1_mean.index\n",
    "y = np.log2(Category_1_mean.values)\n",
    "#y = Category_1_mean.values\n",
    "\n",
    "\n",
    "fig, ax = plt.subplots(figsize=(10, 5))\n",
    "# Create bar plot\n",
    "plt.bar(x, y)\n",
    "\n",
    "# Set title and labels\n",
    "plt.title(\"Modencode FPKM of Adult Worms\",fontsize=15)\n",
    "plt.ylabel(\"log2(std FPKM) \")\n",
    "plt.xlabel(\"WormCat Category 1\")\n",
    "plt.setp(ax.get_xticklabels(), rotation=45, ha=\"right\",\n",
    "         rotation_mode=\"anchor\")\n",
    "# Show plot\n",
    "# Adding annotation on the plot.\n",
    "ax.annotate('UNASSIGNED', xy=(15, 8), xytext=(10, 11), fontsize=12,\n",
    "            arrowprops=dict(facecolor='green', shrink=0.05))\n",
    "\n",
    "# only one line may be specified; full height\n",
    "plt.axvline(x = 8, color = 'black', label = 'axvline - full height')\n",
    "plt.axvline(x = 16.5, color = 'black', label = 'axvline - full height') \n",
    "plt.axvline(x = 25, color = 'black', label = 'axvline - full height') \n",
    "\n",
    "ax.text(3, 15, 'Q1', style='italic', bbox={\n",
    "        'facecolor': 'grey', 'alpha': 0.5, 'pad': 10})\n",
    "ax.text(12, 15, 'Q2', style='italic', bbox={\n",
    "        'facecolor': 'grey', 'alpha': 0.5, 'pad': 10})\n",
    "ax.text(21, 15, 'Q3', style='italic', bbox={\n",
    "        'facecolor': 'grey', 'alpha': 0.5, 'pad': 10})\n",
    "ax.text(30, 15, 'Q4', style='italic', bbox={\n",
    "        'facecolor': 'grey', 'alpha': 0.5, 'pad': 10})\n",
    "\n",
    "\n",
    "plt.show()"
   ]
  },
  {
   "cell_type": "code",
   "execution_count": null,
   "id": "5b5a4f3c-99b9-4e2b-a2f8-1e56dcabff99",
   "metadata": {},
   "outputs": [],
   "source": []
  }
 ],
 "metadata": {
  "kernelspec": {
   "display_name": "Python [conda env:dan-dev-sc]",
   "language": "python",
   "name": "conda-env-dan-dev-sc-py"
  },
  "language_info": {
   "codemirror_mode": {
    "name": "ipython",
    "version": 3
   },
   "file_extension": ".py",
   "mimetype": "text/x-python",
   "name": "python",
   "nbconvert_exporter": "python",
   "pygments_lexer": "ipython3",
   "version": "3.9.16"
  }
 },
 "nbformat": 4,
 "nbformat_minor": 5
}
