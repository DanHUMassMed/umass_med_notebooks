{
 "cells": [
  {
   "cell_type": "markdown",
   "metadata": {},
   "source": [
    "# Review the Annotation file before publishing\n",
    "---\n",
    "__Notes__\n",
    "\n",
    "This Notebook was created to review the manually curated annotations file that may have typos or other small errors."
   ]
  },
  {
   "cell_type": "markdown",
   "metadata": {},
   "source": [
    "## Load the Annotations\n",
    "Drop the unused columns"
   ]
  },
  {
   "cell_type": "code",
   "execution_count": null,
   "metadata": {
    "tags": []
   },
   "outputs": [],
   "source": [
    "import pandas as pd \n",
    "data = pd.read_csv(\"./input_data/2.0_annotation.csv\") \n",
    "#data.drop(data.columns[[6,7,8,9,10]], axis=1, inplace=True) \n",
    "#del data['Unnamed: 6']\n",
    "data['index_col'] = data.index\n",
    "data.head()"
   ]
  },
  {
   "cell_type": "markdown",
   "metadata": {},
   "source": [
    "## Check for Empty Categories"
   ]
  },
  {
   "cell_type": "code",
   "execution_count": null,
   "metadata": {},
   "outputs": [],
   "source": [
    "print(\"=========================================\")\n",
    "print(\"=========      Category 1      ==========\")\n",
    "print(data[data['Category 1'].isnull()]['Wormbase ID'])\n",
    "print(\"=========================================\")\n",
    "print(\"=========      Category 2      ==========\")\n",
    "print(data[data['Category 2'].isnull()]['Wormbase ID'])\n",
    "print(\"=========================================\")\n",
    "print(\"=========      Category 3      ==========\")\n",
    "print(data[data['Category 3'].isnull()]['Wormbase ID'])\n",
    "\n"
   ]
  },
  {
   "cell_type": "markdown",
   "metadata": {},
   "source": [
    "## Check for Duplicate Wormbase ID's"
   ]
  },
  {
   "cell_type": "code",
   "execution_count": null,
   "metadata": {},
   "outputs": [],
   "source": [
    "ids = data['Wormbase ID']\n",
    "dup_ids = ids[ids.duplicated()]\n",
    "#print(dup_ids)\n",
    "df_dup_ids = pd.DataFrame({'Index':dup_ids.index, 'Wormbase ID':dup_ids.values})\n",
    "print(\"Full List={} Dups={}\".format(len(ids.index),len(dup_ids.index)))\n",
    "df_dup_ids = df_dup_ids.sort_values('Wormbase ID')\n",
    "total_dups = pd.DataFrame()\n",
    "for i, row in df_dup_ids.iterrows():\n",
    "    dup_row = data.loc[data['Wormbase ID'] == row['Wormbase ID']]\n",
    "    dup_row = dup_row[['Sequence ID','Wormbase ID','Category 1']]\n",
    "    total_dups = total_dups.append(dup_row)\n",
    "\n",
    "pd.set_option('display.max_rows', 400)    \n",
    "print(total_dups)\n",
    "print('==================')\n",
    "    "
   ]
  },
  {
   "cell_type": "markdown",
   "metadata": {},
   "source": [
    "## Find Differences in Category 1 and Catergory 2\n",
    "Each Category 1 Item should start with the Same text in Category 2\n",
    "Check each category and sum the count if they match we are good\n",
    "if they do not further investivation is needed."
   ]
  },
  {
   "cell_type": "code",
   "execution_count": null,
   "metadata": {},
   "outputs": [],
   "source": [
    "cat1 = data['Category 1'].unique()\n",
    "\n",
    "series = data.groupby('Category 1')['index_col'].nunique()\n",
    "unique_cat1 = pd.DataFrame({'Category 1':series.index, 'Count':series.values})\n",
    "#print(\"type {}\".format(unique_cat1))\n",
    "\n",
    "print(\" Cat1  Cat2  Diff Category 1\")\n",
    "for i, row in unique_cat1.iterrows():\n",
    "    regex = \"^{}\".format(row['Category 1'])\n",
    "    count = data.set_index('Category 2').filter(regex=regex, axis=0)['Wormbase ID'].count()\n",
    "    if(count != row['Count']):\n",
    "        print(\"{0: >5} {1: >5}  {2: >4} '{3}'\".format(row['Count'],count,(count-row['Count']),row['Category 1']))\n",
    "\n",
    "        "
   ]
  },
  {
   "cell_type": "markdown",
   "metadata": {},
   "source": [
    "## Let's look at Extracellular material"
   ]
  },
  {
   "cell_type": "code",
   "execution_count": null,
   "metadata": {},
   "outputs": [],
   "source": [
    "unique_2 = data.set_index('Category 2').filter(regex='^Extracellular material', axis=0)\n",
    "#unique_2.set_index('index_col', inplace=True)\n",
    "unique_1 = data.set_index('Category 1').filter(regex='^Extracellular material', axis=0)\n",
    "print(\"Unique Cat 1={0:} Cat 2={1:}\".format(len(unique_1.index),len(unique_2.index)))\n",
    "count=0\n",
    "for i, row in unique_1.iterrows():\n",
    "    dup_row = unique_2.loc[unique_2['index_col'] == row['index_col']]\n",
    "    if(dup_row.empty):\n",
    "        count +=1\n",
    "        print(\"{0:>2} {1:}\".format(count,row[1]))\n",
    "    \n",
    "\n",
    "        "
   ]
  },
  {
   "cell_type": "markdown",
   "metadata": {},
   "source": [
    "## Let's look at Transcription: other"
   ]
  },
  {
   "cell_type": "code",
   "execution_count": null,
   "metadata": {},
   "outputs": [],
   "source": [
    "unique_2 = data.set_index('Category 2').filter(regex='^Transcription: other', axis=0)\n",
    "#unique_2.set_index('index_col', inplace=True)\n",
    "unique_1 = data.set_index('Category 1').filter(regex='^Transcription: other', axis=0)\n",
    "print(\"{0: >5} {1: >5}\".format(len(unique_1.index),len(unique_2.index)))\n",
    "for i, row in unique_2.iterrows():\n",
    "    dup_row = unique_1.loc[unique_1['index_col'] == row['index_col']]\n",
    "    if(dup_row.empty):\n",
    "        print(row)\n",
    "   "
   ]
  },
  {
   "cell_type": "markdown",
   "metadata": {},
   "source": [
    "## Find Differences in Category 2 and Catergory 3\n",
    "\n"
   ]
  },
  {
   "cell_type": "code",
   "execution_count": null,
   "metadata": {},
   "outputs": [],
   "source": [
    "cat2 = data['Category 2'].unique()\n",
    "#print(cat2)\n",
    "series = data.groupby('Category 2')['Sequence ID'].nunique()\n",
    "df = pd.DataFrame({'Category 2':series.index, 'Count':series.values})\n",
    "\n",
    "print(\" Cat2  Cat3  Diff Category 2\")\n",
    "for i, row in df.iterrows():\n",
    "    regex = \"^{}\".format(row['Category 2'])\n",
    "    count = data.set_index('Category 3').filter(regex=regex, axis=0)['Sequence ID'].count()\n",
    "    if(count-row['Count']<0):\n",
    "        print(\"{0: >5} {1: >5}  {2: >4} '{3}'\".format(row['Count'],count,(count-row['Count']),row['Category 2']))\n",
    "    if(count-row['Count']>0):\n",
    "        print(\"{0: >5} {1: >5}  {2: >4} '{3}'\".format(row['Count'],count,(count-row['Count']),row['Category 2']))\n",
    "\n",
    "        "
   ]
  },
  {
   "cell_type": "code",
   "execution_count": null,
   "metadata": {},
   "outputs": [],
   "source": [
    "unique_3 = data.set_index('Category 3').filter(regex='^Unknown', axis=0)\n",
    "unique_2 = data.set_index('Category 2').filter(regex='^Unknown$', axis=0)\n",
    "print(\"{0: >5} {1: >5}\".format(len(unique_2.index),len(unique_3.index)))\n",
    "for i, row in unique_2.iterrows():\n",
    "        row_data = data.loc[data['index_col'] == row['index_col']]\n",
    "        #print(row_data['Category 3'])\n",
    "   "
   ]
  },
  {
   "cell_type": "markdown",
   "metadata": {},
   "source": [
    "## List of unique categories in 1, 2, 3"
   ]
  },
  {
   "cell_type": "code",
   "execution_count": null,
   "metadata": {},
   "outputs": [],
   "source": [
    "cat1 = data['Category 1'].unique()\n",
    "for c in cat1:\n",
    "    print(c)"
   ]
  },
  {
   "cell_type": "code",
   "execution_count": null,
   "metadata": {},
   "outputs": [],
   "source": [
    "pd.set_option('display.max_rows', 400) \n",
    "cat2 = data['Category 2'].unique()\n",
    "for c in cat2:\n",
    "    print(c)"
   ]
  },
  {
   "cell_type": "code",
   "execution_count": null,
   "metadata": {},
   "outputs": [],
   "source": [
    "cat3 = data['Category 3'].unique()\n",
    "for c in cat3:\n",
    "    print(c)"
   ]
  },
  {
   "cell_type": "code",
   "execution_count": null,
   "metadata": {},
   "outputs": [],
   "source": []
  }
 ],
 "metadata": {
  "kernelspec": {
   "display_name": "Python [conda env:dan-dev-sc]",
   "language": "python",
   "name": "conda-env-dan-dev-sc-py"
  },
  "language_info": {
   "codemirror_mode": {
    "name": "ipython",
    "version": 3
   },
   "file_extension": ".py",
   "mimetype": "text/x-python",
   "name": "python",
   "nbconvert_exporter": "python",
   "pygments_lexer": "ipython3",
   "version": "3.9.16"
  }
 },
 "nbformat": 4,
 "nbformat_minor": 4
}
