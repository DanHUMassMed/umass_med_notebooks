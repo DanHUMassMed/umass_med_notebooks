{
 "cells": [
  {
   "cell_type": "markdown",
   "id": "24af8fc4",
   "metadata": {
    "tags": []
   },
   "source": [
    "# Data Analysis of ad_worm_aging file\n",
    "\n",
    "\n",
    "In this notebook, we evaluate the contents of [single cell C. elegans aging count data](http://c.elegans.aging.atlas.research.calicolabs.com/data)\n",
    "\n",
    "The data in the ad_worm_aging file was created for this paper\n",
    "[The complete cell atlas of an aging multicellular organism](https://www.biorxiv.org/content/10.1101/2022.06.15.496201v1)\n",
    "\n"
   ]
  },
  {
   "cell_type": "markdown",
   "id": "cb6665ca-9b27-4a8b-aa09-ac5679e24637",
   "metadata": {},
   "source": [
    "### C. elegans scRNA-seq uncovers nearly every known tissue type\n",
    "\n",
    "Single-cell RNA-sequencing of the adult C. elegans population reveals 47,423 cells quantifying 20,305 genes. Unsupervised clustering reveals 211 distinct cell-type clusters. Cell type annotation is performed using WormBase anatomy gene sets."
   ]
  },
  {
   "cell_type": "markdown",
   "id": "0d7bf8a7",
   "metadata": {
    "tags": []
   },
   "source": [
    "### Some characteristics of the file ad_worm_aging.h5ad have been provided:\n",
    "* Data are formatted following the AnnData conventions. \n",
    "* Low-quality cells/genes has been removed following the procedures described in the manuscript. \n",
    "* CellBender is applied for ambient RNA removal. \n",
    "* Solo is applied for doublet removal. \n",
    "* scVI is applied for denoising and cell representation. \n",
    "* scVI representations are in anndata.obsm['scvi'], \n",
    "* scVI denoised expression matrix is in anndata.layers['denoised'].\n",
    "* Cell type annotations ('annotate_name') and ages ('timepoint') are available as obs annotations."
   ]
  },
  {
   "cell_type": "code",
   "execution_count": null,
   "id": "ab781641",
   "metadata": {},
   "outputs": [],
   "source": [
    "# Run this cell to download the data\n",
    "# If you already have the data, SKIP this step\n",
    "\n",
<<<<<<< HEAD
    "#!wget -P ./input_data https://storage.googleapis.com/worm_public/ad_worm_aging.h5ad"
=======
    "!wget -P ./input_data https://storage.googleapis.com/worm_public/ad_worm_aging.h5ad"
>>>>>>> 4f9883b7b192f8a4e75b4a862bbde3e23f50b29a
   ]
  },
  {
   "cell_type": "code",
   "execution_count": null,
   "id": "55665c93-de67-4a63-af23-789b26eb2ae4",
   "metadata": {},
   "outputs": [],
   "source": [
    "import os\n",
    "output_dir = \"./output_data\"\n",
    "if not os.path.exists(output_dir):\n",
    "    os.makedirs(output_dir)"
   ]
  },
  {
   "cell_type": "markdown",
   "id": "fd3e54c0",
   "metadata": {},
   "source": [
    "\n",
    "## [Annotated data](https://anndata.readthedocs.io/en/latest/)\n",
    "\n",
    "The diagram below provides a view of the file's overall structure and the data content's layout.\n",
    "  "
   ]
  },
  {
   "cell_type": "code",
   "execution_count": null,
   "id": "994bffd8",
   "metadata": {},
   "outputs": [],
   "source": [
    "%%html\n",
    "<h2>Annotated Data Scructure</h2>\n",
    "<img src=\"https://anndata.readthedocs.io/en/latest/_images/anndata_schema.svg\" width=400/>"
   ]
  },
  {
   "cell_type": "code",
   "execution_count": null,
   "id": "849e05da",
   "metadata": {},
   "outputs": [],
   "source": [
    "# Check the version of anndata we are using\n",
    "import anndata as ad\n",
    "ad.__version__"
   ]
  },
  {
   "cell_type": "code",
   "execution_count": null,
   "id": "167c2d37-6b7e-4e40-91b1-8764860b9455",
   "metadata": {},
   "outputs": [],
   "source": [
    "output_dir = \"./output_data\"\n",
    "if not os.path.exists(output_dir):\n",
    "    os.makedirs(output_dir)"
   ]
  },
  {
   "cell_type": "code",
   "execution_count": null,
   "id": "9c2d782d",
   "metadata": {},
   "outputs": [],
   "source": [
    "# Load the h5ad file\n",
    "input_dir='./input_data'\n",
    "ad_worm_aging = ad.read(f\"{input_dir}/ad_worm_aging.h5ad\")\n",
    "ad_worm_aging"
   ]
  },
  {
   "cell_type": "markdown",
   "id": "75264730",
   "metadata": {},
   "source": [
    "## Evaluation of observations data"
   ]
  },
  {
   "cell_type": "code",
   "execution_count": null,
   "id": "b018af5c",
   "metadata": {},
   "outputs": [],
   "source": [
    "# Let's take a look at observations\n",
    "# OBSERVED OUTPUT: obs contains: 'n_counts', 'n_genes', 'timepoint', 'annotate_name'\n",
    "obs_df = ad_worm_aging.obs\n",
    "obs_df"
   ]
  },
  {
   "cell_type": "markdown",
   "id": "a356f0ca-5fce-4a3a-a92f-d5eec390bf6e",
   "metadata": {},
   "source": [
    "### Questions on the cluster naming convention\n",
    "\n",
    "What naming/numbering convention is used for cell type/cluster names (`annotate_name`)? e.g., the 41 in this example 41_2:marginal. An initial hypothesis is that this is the order in which the UMAP algorithm discovered the clusters.\n",
    "\n",
    "What is the meaning of the prefixes _0, _1, _2 on the annotate_names? e.g., the _2 in this example 41_2:marginal. An initial hypothesis is that cluster definitions were defined, and then a refinement pass on clusters further broke down the cluster groups identifying additional clusters.\n",
    "\n"
   ]
  },
  {
   "cell_type": "code",
   "execution_count": null,
   "id": "27a16142",
   "metadata": {},
   "outputs": [],
   "source": [
    "# Let's confirm that annotate_name aligns with cell types\n",
    "# FROM PAPER: \"211 groups of cells that correspond to virtually every cell type in this organism\"\n",
    "\n",
    "# Yes, we see 211 Unique Cell types\n",
    "cell_types = obs_df['annotate_name'].unique()\n",
    "print(f\"Cell types = {len(cell_types)}\")\n",
    "\n",
    "\n",
    "# Let's look at BW_muscles and intestines\n",
    "# Not sure how to interpret the prefix encoding 4_0: 4_1: 1_1: etc.\n",
    "bw_muscles = [x for x in list(cell_types) if 'BW muscle' in x]\n",
    "intestines = [x for x in list(cell_types) if 'intestine' in x]\n",
    "print(f\"BW_muscles {bw_muscles}\\n\")\n",
    "print(f\"intestines {intestines}\\n\")\n",
    "\n",
    "print(\"Cell Types\")\n",
    "# All we are doing here is prefixing the cell_type names with spaces so we align on the : (colon)\n",
    "cell_types_formatted = [f' {x}' if x[1]=='_' else x for x in list(cell_types)]\n",
    "cell_types_formatted = [f' {x}' if x[2]=='_' else x for x in cell_types_formatted]\n",
    "#print(*sorted(list(cell_types_formatted)), sep='\\n')\n",
    "\n",
    "cell_types_formatted = [ x[6:] for x in cell_types_formatted]\n",
    "# Print the first 25\n",
    "print(*sorted(set(cell_types_formatted))[:25], sep='\\n')"
   ]
  },
  {
   "cell_type": "code",
   "execution_count": null,
   "id": "42dcdcba",
   "metadata": {},
   "outputs": [],
   "source": [
    "# Selecting rows if they have BW Muscles cell type\n",
    "bw_muscles_df = obs_df[obs_df['annotate_name'].isin(bw_muscles)] \n",
    "    \n",
    "print('\\nResult dataframe :\\n', bw_muscles_df)"
   ]
  },
  {
   "cell_type": "code",
   "execution_count": null,
   "id": "91621da5",
   "metadata": {},
   "outputs": [],
   "source": [
    "# Let's check how many unique days are captured\n",
    "# FROM PAPER: We first performed a course differential-expression analysis of \n",
    "# young cells (day 1, 3, and 5) versus old cells (days 8,11 and 15) \n",
    "\n",
    "# Is it interesting that Day 3 has the largest frequency of occurrence?\n",
    "\n",
    "timepoints = obs_df['timepoint'].unique()\n",
    "print(f\"Number of days = {len(timepoints)}\\n\")\n",
    "\n",
    "days = [int(x[1:]) for x in list(timepoints)]\n",
    "print(f\"Unique days {sorted(list(days))}\\n\")\n",
    "\n",
    "timepoint_freq = obs_df['timepoint'].value_counts().to_frame().reset_index()\n",
    "timepoint_freq.columns = ['timepoint', 'freq']\n",
    "timepoint_freq"
   ]
  },
  {
   "cell_type": "code",
   "execution_count": null,
   "id": "b659d171",
   "metadata": {},
   "outputs": [],
   "source": [
    "# Let's try to better understand n_counts & n_genes\n",
    "# QUESTION: Is n_genes the number of genes identified for this specific observation?\n",
    "# QUESTION: Is n_counts the aggregate sum of read counts for all genes for this observation?\n",
    "\n",
    "print(f'        n_counts   n_genes')\n",
    "print(f'Median  {obs_df.n_counts.median():.2f}\\t{obs_df.n_genes.median():.2f}')\n",
    "#print(f'Mode {obs_df.n_counts.mode()}\\t{obs_df.n_genes.mode()}')\n",
    "\n",
    "print(obs_df.describe())\n"
   ]
  },
  {
   "cell_type": "code",
   "execution_count": null,
   "id": "30fd10c5",
   "metadata": {},
   "outputs": [],
   "source": [
    "import matplotlib.pyplot as plt\n",
    "import numpy as np\n",
    "%matplotlib inline\n",
    "\n",
    "\n",
    "fig, (ax1, ax2) = plt.subplots(1,2, figsize=(20,8))\n",
    "ax1.hist(obs_df.n_counts, bins=100)  \n",
    "ax1.set_ylabel('Counts')\n",
    "ax1.set_xlabel('n_counts Data')\n",
    "\n",
    "ax2.hist(obs_df.n_genes, bins=100)\n",
    "ax2.set_ylabel('Counts')\n",
    "ax2.set_xlabel('n_genes Data')\n",
    "plt.show()\n",
    "\n",
    "fig, (ax1, ax2) = plt.subplots(1,2, figsize=(20,8))\n",
    "ax1.boxplot(obs_df.n_counts)  \n",
    "ax2.boxplot(obs_df.n_genes)\n",
    "plt.show()\n",
    "\n",
    "# So we have some skewed data not sure if that is normal or not"
   ]
  },
  {
   "cell_type": "markdown",
   "id": "2a9e58d1",
   "metadata": {},
   "source": [
    "## Evaluation of Var Data"
   ]
  },
  {
   "cell_type": "code",
   "execution_count": null,
   "id": "34fef253",
   "metadata": {},
   "outputs": [],
   "source": [
    "var_df = ad_worm_aging.var\n",
    "var_df"
   ]
  },
  {
   "cell_type": "code",
   "execution_count": null,
   "id": "a7c69fa6",
   "metadata": {},
   "outputs": [],
   "source": [
    "# Let's look at the gene_class\n",
    "# Looks like the majority is protein_coding\n",
    "gene_classes = var_df['gene_class'].unique()\n",
    "print(f\"Number of gene classes = {len(gene_classes)}\\n\")\n",
    "\n",
    "gene_classes_freq = var_df['gene_class'].value_counts().to_frame().reset_index()\n",
    "gene_classes_freq.columns = ['gene_class', 'counts']\n",
    "\n",
    "total_counts = gene_classes_freq['counts'].sum()\n",
    "gene_classes_freq['percent'] = gene_classes_freq.apply (lambda row: row['counts']/total_counts, axis=1)\n",
    "gene_classes_freq"
   ]
  },
  {
   "cell_type": "markdown",
   "id": "11730b1f",
   "metadata": {},
   "source": [
    "## Evaluation of the X Data"
   ]
  },
  {
   "cell_type": "code",
   "execution_count": null,
   "id": "c12bd99a",
   "metadata": {},
   "outputs": [],
   "source": [
    "import pandas as pd\n",
    "from scipy.sparse import csr_matrix\n",
    "\n",
    "# Let's confirm the number of genes (47,423 rows × 20,305 columns)\n",
    "# FROM PAPER: The final dataset contained 47,423 cells quantifying 20,305 genes across the full time series.\n",
    "x_df = pd.DataFrame(data=csr_matrix.todense(ad_worm_aging.X))\n",
    "x_df"
   ]
  },
  {
   "cell_type": "code",
   "execution_count": null,
   "id": "91c91990",
   "metadata": {},
   "outputs": [],
   "source": [
    "def check_detail_against_summary(x):\n",
    "    # Let's count the number of genes in observation x\n",
    "    observation_genes =x_df.iloc[x]\n",
    "    gene_count_dtl = observation_genes[observation_genes > 0].count()\n",
    "    gene_count_sum = int(obs_df[\"n_genes\"].iloc[x])\n",
    "\n",
    "    # Let's sum the expression values for all genes in observation x\n",
    "    observation_genes =x_df.iloc[x]\n",
    "    total_expression_dtl = observation_genes[observation_genes > 0].sum()\n",
    "    total_expression_sum = int(obs_df[\"n_counts\"].iloc[x])\n",
    "    \n",
    "    they_match = (gene_count_dtl==gene_count_sum and total_expression_dtl==total_expression_sum)\n",
    "    return (they_match, gene_count_sum-gene_count_dtl, total_expression_sum-total_expression_dtl)\n",
    "\n",
    "# Let's count the number of genes in observation one (The first observation)\n",
    "results = check_detail_against_summary(0)    \n",
    "# Let's see if they match\n",
    "print(f'They match {results[0]}|',end =\" \")\n",
    "print(f'Gene_count off by {results[1]}',end =\" \")\n",
    "print(f'Total_expression off by {results[2]}')\n",
    "\n",
    "# Looks like they match!!"
   ]
  },
  {
   "cell_type": "code",
   "execution_count": null,
   "id": "f222a11f",
   "metadata": {},
   "outputs": [],
   "source": [
    "# OK Lets check the whole dataframe\n",
    "# CAUTION: This takes a few seconds to run maybe a minute\n",
    "test_results = [check_detail_against_summary(x) for x in range(len(x_df))]\n",
    "test_results_df = pd.DataFrame(test_results, columns =['Match', 'genes_off_by', 'counts_off_by'])\n",
    "test_results_df\n",
    "# Do NOT all match!"
   ]
  },
  {
   "cell_type": "code",
   "execution_count": null,
   "id": "f89d75b6",
   "metadata": {},
   "outputs": [],
   "source": [
    "did_not_match_count = test_results_df.Match[test_results_df.Match == False].count()\n",
    "print(f'Failed to match count {did_not_match_count:,} observations {did_not_match_count/len(test_results_df):.2%}')\n",
    "has_negative_value = test_results_df.genes_off_by[test_results_df.genes_off_by < 0].count()\n",
    "print(f'Number of times that detail data had more genes than summary {has_negative_value}')\n",
    "# Looks like \n",
    "print(test_results_df.describe())"
   ]
  },
  {
   "cell_type": "code",
   "execution_count": null,
   "id": "0282dd50",
   "metadata": {},
   "outputs": [],
   "source": [
    "import matplotlib.pyplot as plt\n",
    "import numpy as np\n",
    "%matplotlib inline\n",
    "\n",
    "fig, (ax1, ax2) = plt.subplots(1,2, figsize=(20,8))\n",
    "ax1.hist(test_results_df.counts_off_by[test_results_df.Match == False], bins=50)  \n",
    "ax1.set_ylabel('Counts')\n",
    "ax1.set_xlabel('n_counts Data')\n",
    "\n",
    "ax2.hist(test_results_df.genes_off_by[test_results_df.Match == False], bins=50)\n",
    "ax2.set_ylabel('Counts')\n",
    "ax2.set_xlabel('n_genes Data')\n",
    "plt.show()\n",
    "\n",
    "fig, (ax1, ax2) = plt.subplots(1,2, figsize=(20,8))\n",
    "ax1.boxplot(test_results_df.counts_off_by[test_results_df.Match == False])  \n",
    "ax2.boxplot(test_results_df.genes_off_by[test_results_df.Match == False])\n",
    "plt.show()\n"
   ]
  },
  {
   "cell_type": "markdown",
   "id": "42a2056c",
   "metadata": {},
   "source": [
    "## Evaluation of obsm: 'X_umap', 'scvi'"
   ]
  },
  {
   "cell_type": "code",
   "execution_count": null,
   "id": "8dfadf17",
   "metadata": {},
   "outputs": [],
   "source": [
    "X_umap = ad_worm_aging.obsm['X_umap']\n",
    "print(type(X_umap))\n",
    "print(X_umap.shape)\n",
    "print(X_umap)\n",
    "print(X_umap.T)"
   ]
  },
  {
   "cell_type": "code",
   "execution_count": null,
   "id": "f76f612f",
   "metadata": {},
   "outputs": [],
   "source": [
    "plt.rcParams['figure.dpi'] = 500\n",
    "#plt.scatter(X_umap.T[0],X_umap.T[1],  cmap='Spectral', s=.01)\n",
    "plt.scatter(X_umap.T[0],X_umap.T[1], c='grey',  s=.008)\n",
    "plt.gca().set_aspect('equal', 'datalim')\n",
    "#plt.colorbar(boundaries=np.arange(11)-0.5).set_ticks(np.arange(10))\n",
    "plt.title('UMAP projection of the dataset', fontsize=18);"
   ]
  },
  {
   "cell_type": "code",
   "execution_count": null,
   "id": "e7c1f01f-aafa-480b-aee1-2ea3b99798b0",
   "metadata": {},
   "outputs": [],
   "source": [
    "# Create a category type list \n",
    "# for categories you can use the full cell type name or a partial name to collect common cell types\n",
    "def tissue_type_cat(row):\n",
    "    categories = ['neuron','glia','muscle','hypodermis','seam','epithelium','coelomocyte',\n",
    "                  'intestine','gland','germline','mesoderm','valve','gonad','pharyngeal']\n",
    "    ret_val='other'\n",
    "    for cat in categories:\n",
    "        if cat in row['annotate_name']:\n",
    "            ret_val=cat\n",
    "            break\n",
    "    return ret_val\n",
    "\n",
    "# Add category column to obs_df\n",
    "obs_df['category'] = obs_df.apply(lambda row: tissue_type_cat(row), axis=1)\n"
   ]
  },
  {
   "cell_type": "code",
   "execution_count": null,
   "id": "ba835cf7-d48b-46ab-b244-a42b04120201",
   "metadata": {},
   "outputs": [],
   "source": [
    "import matplotlib.pyplot as plt\n",
    "import matplotlib.patches as mpatches\n",
    "import matplotlib.colors as mcolors\n",
    "import numpy as np\n",
    "import pandas as pd\n",
    "%matplotlib inline\n",
    "\n",
    "# Map the categories from above to the UMAP \n",
    "X_umap = ad_worm_aging.obsm['X_umap']\n",
    "X_umap_df = pd.DataFrame(X_umap, columns = ['X','Y'])\n",
    "\n",
    "# Add the category to the X_umap_df\n",
    "obs2_df = obs_df.reset_index(drop=True)\n",
    "X_umap_df = X_umap_df.join(obs2_df['category'])\n",
    "\n",
    "# Create a color map\n",
    "colors = {'neuron':'#4eb3d3','glia':'#298dbe','muscle':'#97509f','hypodermis':'#e41e26','seam':'#f16b4e',\n",
    "          'epithelium':'#f47f20','coelomocyte':'#a65728','intestine':'#4bb049','gland':'#f5ee39','germline':'#cde7c4',\n",
    "          'mesoderm':'#b2cee4','valve':'#decbe3','gonad':'#cde9e4','other':'#7f7f7f','pharyngeal':'#860084'}\n",
    "\n",
    "\n",
    "plt.rcParams['figure.dpi'] = 500\n",
    "sss = plt.scatter(X_umap_df['X'],X_umap_df['Y'], c=X_umap_df['category'].map(colors), s=.008)\n",
    "plt.gca().set_aspect('equal', 'datalim')\n",
<<<<<<< HEAD
    "plt.title('Kenyon-Kelly Top 15 Categories', fontsize=18);\n",
=======
    "plt.title('UMAP projection of the dataset', fontsize=18);\n",
>>>>>>> 4f9883b7b192f8a4e75b4a862bbde3e23f50b29a
    "plt.yticks([])\n",
    "plt.xticks([])\n",
    "\n",
    "patches = [ mpatches.Patch(color=colors[key], label=key) for key in colors.keys()]\n",
    "plt.rcParams[\"legend.fontsize\"] = 5\n",
    "legend = plt.legend(handles=patches)\n",
    "legend.set_title('Cell Type')\n",
    "\n",
<<<<<<< HEAD
    "file_name='./output_data/kenyon-kelly_top_15_cell_categories.png'\n",
=======
    "file_name='./output_data/umap_top_15_cell_categories.png'\n",
>>>>>>> 4f9883b7b192f8a4e75b4a862bbde3e23f50b29a
    "plt.savefig(file_name)"
   ]
  },
  {
   "cell_type": "code",
   "execution_count": null,
   "id": "9ae19f86",
   "metadata": {},
   "outputs": [],
   "source": [
    "scvi = ad_worm_aging.obsm['scvi']\n",
    "print(type(scvi))\n",
    "print(scvi.shape)\n",
    "scvi"
   ]
  },
  {
   "cell_type": "markdown",
   "id": "fd4ccc15",
   "metadata": {},
   "source": [
    "## Extract data for testing on Wormcat"
   ]
  },
  {
   "cell_type": "code",
   "execution_count": null,
   "id": "81da5941",
   "metadata": {},
   "outputs": [],
   "source": [
    "# For this test we will \n",
    "# 1. Extract the Wormbase ID's related to BW Muscles and intestine (use all days)\n",
    "# 2. Sort the data by n_counts\n",
    "# 3. Select the top 1,000 Genes for Cell Type\n",
    "\n",
    "# x_df is all the raw data \n",
    "# every observation (47,423) mapped to every gene (20,305)\n",
    "# genes with no expression have a zero value\n",
    "x_df = pd.DataFrame(data=csr_matrix.todense(ad_worm_aging.X))\n",
    "\n",
    "# obs_df is a list of every observation mapped to annotate_name (i.e, Cell Type)\n",
    "obs_df = ad_worm_aging.obs\n",
    "obs_df.reset_index(drop=True,inplace=True)\n",
    "obs_df\n",
    "\n",
    "var_df = ad_worm_aging.var\n",
    "var_df.reset_index(drop=True,inplace=True)\n",
    "var_df\n",
    "\n",
    "# bw_muscles = ['4_0:BW muscles', '4_1:BW muscles', '1_1:BW muscles']\n",
    "# intestines = ['3_4:intestine', '3_2:intestine', '3_1:intestine', '3_5:intestine']\n",
    "\n"
   ]
  },
  {
   "cell_type": "code",
   "execution_count": null,
   "id": "6c652f89",
   "metadata": {},
   "outputs": [],
   "source": [
    "import os\n",
    "\n",
    "# Given an observation get the associated gene data\n",
    "# If a gene is referenced more than once accumulate the n_counts\n",
    "def get_gene_data_for_observation(obs_loc, x_df, gene_data_df=None):\n",
    "    if gene_data_df is None:\n",
    "        gene_data_df = pd.DataFrame(columns=['gene_id','n_counts'])\n",
    "    observation_genes =x_df.iloc[obs_loc]\n",
    "    for index, value in observation_genes.iteritems():\n",
    "        if value > 0: \n",
    "            if len(gene_data_df.loc[gene_data_df['gene_id'] == index]):\n",
    "                gene_data_df.loc[gene_data_df['gene_id']==index,'n_counts'] += value\n",
    "            else:\n",
    "                row = {'gene_id': index, 'n_counts': value}\n",
    "                gene_data_df.loc[gene_data_df.shape[0]]=row\n",
    "    return gene_data_df\n",
    "\n",
    "# Given a gene index location return the wormbase id\n",
    "def get_wormbase_id_for_gene_id(gene_loc, var_df):\n",
    "    gene_loc = int(gene_loc)\n",
    "    var_df_loc_dict = var_df.iloc[gene_loc].to_dict()\n",
    "    return var_df_loc_dict['gene_ids']\n",
    "\n",
    "# Given a gene index location return the wormbase id\n",
    "def get_wormbase_id_for_gene_name(gene_loc, var_df):\n",
    "    gene_loc = int(gene_loc)\n",
    "    var_df_loc_dict = var_df.iloc[gene_loc].to_dict()\n",
    "    return var_df_loc_dict['gene_names']\n",
    "\n",
    "# Given a cell_type and a timepoint get the genes related data from the raw data set (x_df)\n",
    "# accumulate the results of the n_counts and attach a wormbase_id and sort by n_counts decending order\n",
    "def get_gene_data_for_cell_type_and_timepoint(cell_type, timepoint, obs_df, var_df, x_df):\n",
    "    obs_subset_df = obs_df.loc[(obs_df['annotate_name'] == cell_type) & (obs_df['timepoint'] == timepoint)]\n",
    "    gene_data_df = None\n",
    "    for observation in obs_subset_df.index:\n",
    "        gene_data_df = get_gene_data_for_observation(observation, x_df, gene_data_df)\n",
    "    if gene_data_df is not None:\n",
    "        gene_data_df['Wormbase ID'] = gene_data_df.apply (lambda row: get_wormbase_id_for_gene_id(row['gene_id'],var_df), axis=1)\n",
    "        gene_data_df['gene_names'] = gene_data_df.apply (lambda row: get_wormbase_id_for_gene_name(row['gene_id'],var_df), axis=1)\n",
    "        gene_data_df.drop('gene_id', inplace=True, axis=1)\n",
    "        gene_data_df = gene_data_df.sort_values(by=['n_counts'], ascending=False)\n",
    "        gene_data_df.reset_index(drop=True,inplace=True)\n",
    "        gene_data_df = gene_data_df.reindex(columns=['Wormbase ID','gene_names','n_counts'])\n",
    "    return gene_data_df\n",
    "\n",
    "# Create an excel sheet that can be fed to wormcat\n",
    "def write_data_to_excel(cell_type, cutoff, days_dfs):\n",
    "    cell_type = cell_type.replace(\" \", \"-\")\n",
    "    cell_type = cell_type.replace(\"/\", \"\")\n",
    "    cell_type = cell_type.replace(\"\\\\\", \"\")\n",
    "    output_dir = \"./output_data\"\n",
    "    if not os.path.exists(output_dir):\n",
    "        os.makedirs(output_dir)\n",
    "    writer = pd.ExcelWriter(f'{output_dir}/{cell_type}_{cutoff}.xlsx', engine='xlsxwriter')\n",
    "    for key in days_dfs.keys():\n",
    "        days_dfs[key].to_excel(writer, sheet_name=key, index=False)\n",
    "    writer.save()\n",
    "\n",
    "\n",
    "\n"
   ]
  },
  {
   "cell_type": "code",
   "execution_count": null,
   "id": "79ac07eb",
   "metadata": {},
   "outputs": [],
   "source": [
    "# CAUTION: This could take a long time to to run depending on the configuration\n",
    "# Minutes to hours!!\n",
    "\n",
    "import warnings\n",
    "warnings.filterwarnings('ignore')\n",
    "\n",
    "bw_muscles = ['4_0:BW muscles', '4_1:BW muscles', '1_1:BW muscles']\n",
    "intestines = ['3_4:intestine', '3_2:intestine', '3_1:intestine', '3_5:intestine']\n",
    "#days = ['d1', 'd3', 'd5', 'd8', 'd11', 'd15']\n",
    "days = ['d1']\n",
    "#cutoffs = [500,1000,1500,2000]\n",
    "cutoffs = [500]\n",
    "\n",
    "\n",
    "cell_types = bw_muscles + intestines\n",
    "\n",
    "# Comment out the below to get the full run back!!\n",
    "cell_types= ['58_1:pharyngeal inter neurons 1/3/6']\n",
    "\n",
    "for cutoff in cutoffs:\n",
    "    print(f\"Processing cutoff {cutoff}\")\n",
    "    for cell_type in cell_types:\n",
    "        print(f\"Processing cell_type {cell_type}\")\n",
    "        days_dfs={}\n",
    "        for timepoint in days:\n",
    "            #print(f\"Processing timepoint {timepoint}\")\n",
    "            gene_data_df = get_gene_data_for_cell_type_and_timepoint(cell_type, timepoint, obs_df, var_df, x_df)\n",
    "            # Create an arbitrary cut off of genes\n",
    "            if gene_data_df is not None:\n",
    "                gene_data_df = gene_data_df[gene_data_df.index < cutoff] \n",
    "                days_dfs[timepoint]=gene_data_df\n",
    "        write_data_to_excel(cell_type, cutoff, days_dfs)\n",
    "     \n",
    "\n",
    "        \n",
    "        "
   ]
  },
  {
   "cell_type": "markdown",
   "id": "e146769c",
   "metadata": {},
   "source": [
    "### Analyze the Murphy data"
   ]
  },
  {
   "cell_type": "code",
   "execution_count": null,
   "id": "149961e9-2033-48c5-a68e-d6239487af55",
   "metadata": {},
   "outputs": [],
   "source": [
    "# If you do not have the data you can get it from here\n",
    "!wget -P ./input_data http://www.wormcat.com/static/download/Murphy_TS.xlsx"
   ]
  },
  {
   "cell_type": "code",
   "execution_count": null,
   "id": "4bbd1143",
   "metadata": {},
   "outputs": [],
   "source": [
    "import pandas as pd\n",
    "input_dir='./input_data'\n",
    "murphy_ts_dict = pd.read_excel(f'{input_dir}/Murphy_TS.xlsx', sheet_name=[\"intestine\",\"muscle\"])\n",
    "murphy_intestine_df = murphy_ts_dict.get('intestine')\n",
    "murphy_muscle_df = murphy_ts_dict.get('muscle')\n",
    "murphy_muscle_df.head()"
   ]
  },
  {
   "cell_type": "code",
   "execution_count": null,
   "id": "90cdb7e1",
   "metadata": {},
   "outputs": [],
   "source": [
    "# bw_muscles = ['4_0:BW muscles', '4_1:BW muscles', '1_1:BW muscles']\n",
    "# intestines = ['3_4:intestine', '3_2:intestine', '3_1:intestine', '3_5:intestine']\n",
    "# murphy_dfs = [(murphy_muscle_df,'muscle'),(murphy_intestine_df,'intestine')]\n",
    "# for murphy_df in murphy_dfs:\n",
    "#     print()\n",
    "#     for cell_type in bw_muscles+intestines:\n",
    "#         murphy_ts_dict = pd.read_excel(f'./{cell_type}_500.xlsx', None)\n",
    "#         kenyon_muscle_df = murphy_ts_dict.get(list(murphy_ts_dict.keys())[0])\n",
    "#         kenyon_in_murphy = kenyon_muscle_df['Wormbase ID'].isin(murphy_df[0]['Wormbase ID'])\n",
    "#         similar_test = kenyon_in_murphy.value_counts()\n",
    "#         similar_true = similar_test.iloc[0]\n",
    "#         similar_false = similar_test.iloc[1]\n",
    "\n",
    "#         print(f'murphy_{murphy_df[1]: <10} {cell_type:<15} {(round(similar_false/(similar_true+similar_false),2))*100:.0f}%')\n"
   ]
  },
  {
   "cell_type": "code",
   "execution_count": null,
   "id": "f82ccd3e-9e93-4a7d-8563-946cc44fe452",
   "metadata": {},
   "outputs": [],
   "source": []
  }
 ],
 "metadata": {
  "kernelspec": {
   "display_name": "Python [conda env:dan-dev-sc]",
   "language": "python",
   "name": "conda-env-dan-dev-sc-py"
  },
  "language_info": {
   "codemirror_mode": {
    "name": "ipython",
    "version": 3
   },
   "file_extension": ".py",
   "mimetype": "text/x-python",
   "name": "python",
   "nbconvert_exporter": "python",
   "pygments_lexer": "ipython3",
   "version": "3.9.16"
  }
 },
 "nbformat": 4,
 "nbformat_minor": 5
}
