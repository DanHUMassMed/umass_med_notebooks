{
 "cells": [
  {
   "cell_type": "code",
   "execution_count": 2,
   "id": "2f84f2f2-56ad-40ce-9240-bc6e866ffa92",
   "metadata": {},
   "outputs": [
    {
     "name": "stdout",
     "output_type": "stream",
     "text": [
      "--2023-03-31 13:36:13--  http://www.wormcat.com/static/download/Murphy_TS.xlsx\n",
      "Resolving www.wormcat.com (www.wormcat.com)... 3.85.241.50\n",
      "Connecting to www.wormcat.com (www.wormcat.com)|3.85.241.50|:80... connected.\n",
      "HTTP request sent, awaiting response... 200 OK\n",
      "Length: 377733 (369K) [application/vnd.openxmlformats-officedocument.spreadsheetml.sheet]\n",
      "Saving to: ‘./input_data/Murphy_TS.xlsx.1’\n",
      "\n",
      "Murphy_TS.xlsx.1    100%[===================>] 368.88K  --.-KB/s    in 0.1s    \n",
      "\n",
      "2023-03-31 13:36:13 (2.93 MB/s) - ‘./input_data/Murphy_TS.xlsx.1’ saved [377733/377733]\n",
      "\n"
     ]
    }
   ],
   "source": [
    "# If you do not have the data you can get it from here\n",
    "!wget -P ./input_data http://www.wormcat.com/static/download/Murphy_TS.xlsx"
   ]
  },
  {
   "cell_type": "code",
   "execution_count": 4,
   "id": "f607d084-1596-40eb-996f-d7a193ea5c8b",
   "metadata": {},
   "outputs": [
    {
     "name": "stderr",
     "output_type": "stream",
     "text": [
      "/home/dan/miniconda3/envs/dan-dev-sc/lib/python3.9/site-packages/openpyxl/worksheet/_reader.py:312: UserWarning: Unknown extension is not supported and will be removed\n",
      "  warn(msg)\n",
      "/home/dan/miniconda3/envs/dan-dev-sc/lib/python3.9/site-packages/openpyxl/worksheet/_reader.py:312: UserWarning: Unknown extension is not supported and will be removed\n",
      "  warn(msg)\n",
      "/home/dan/miniconda3/envs/dan-dev-sc/lib/python3.9/site-packages/openpyxl/worksheet/_reader.py:312: UserWarning: Unknown extension is not supported and will be removed\n",
      "  warn(msg)\n",
      "/home/dan/miniconda3/envs/dan-dev-sc/lib/python3.9/site-packages/openpyxl/worksheet/_reader.py:312: UserWarning: Unknown extension is not supported and will be removed\n",
      "  warn(msg)\n"
     ]
    },
    {
     "data": {
      "text/html": [
       "<div>\n",
       "<style scoped>\n",
       "    .dataframe tbody tr th:only-of-type {\n",
       "        vertical-align: middle;\n",
       "    }\n",
       "\n",
       "    .dataframe tbody tr th {\n",
       "        vertical-align: top;\n",
       "    }\n",
       "\n",
       "    .dataframe thead th {\n",
       "        text-align: right;\n",
       "    }\n",
       "</style>\n",
       "<table border=\"1\" class=\"dataframe\">\n",
       "  <thead>\n",
       "    <tr style=\"text-align: right;\">\n",
       "      <th></th>\n",
       "      <th>Wormbase ID</th>\n",
       "    </tr>\n",
       "  </thead>\n",
       "  <tbody>\n",
       "    <tr>\n",
       "      <th>0</th>\n",
       "      <td>WBGene00001444</td>\n",
       "    </tr>\n",
       "    <tr>\n",
       "      <th>1</th>\n",
       "      <td>WBGene00003756</td>\n",
       "    </tr>\n",
       "    <tr>\n",
       "      <th>2</th>\n",
       "      <td>WBGene00020854</td>\n",
       "    </tr>\n",
       "    <tr>\n",
       "      <th>3</th>\n",
       "      <td>WBGene00011392</td>\n",
       "    </tr>\n",
       "    <tr>\n",
       "      <th>4</th>\n",
       "      <td>WBGene00006843</td>\n",
       "    </tr>\n",
       "  </tbody>\n",
       "</table>\n",
       "</div>"
      ],
      "text/plain": [
       "      Wormbase ID\n",
       "0  WBGene00001444\n",
       "1  WBGene00003756\n",
       "2  WBGene00020854\n",
       "3  WBGene00011392\n",
       "4  WBGene00006843"
      ]
     },
     "execution_count": 4,
     "metadata": {},
     "output_type": "execute_result"
    }
   ],
   "source": [
    "import pandas as pd\n",
    "import warnings\n",
    "#warnings.simplefilter(action='ignore', category=pd.errors.UserWarning)\n",
    "\n",
    "# Note if you dont find CSV file look in 'backup-runs' directory\n",
    "murphy_ts_dict = pd.read_excel('./input_data/Murphy_TS.xlsx', sheet_name=[\"intestine\",\"muscle\",'hypodermis','neurons'])\n",
    "murphy_intestine_df = murphy_ts_dict.get('intestine')\n",
    "murphy_muscle_df = murphy_ts_dict.get('muscle')\n",
    "murphy_hypodemis_df = murphy_ts_dict.get('hypodermis')\n",
    "murphy_neurons_df = murphy_ts_dict.get('neurons')\n",
    "murphy_neurons_df.head()"
   ]
  },
  {
   "cell_type": "code",
   "execution_count": 5,
   "id": "9c5f4751-12d3-479b-b57d-b49f938d4229",
   "metadata": {},
   "outputs": [],
   "source": [
    "import random\n",
    "\n",
    "def select_random(unassigned_df):\n",
    "    random_unassigned = {}\n",
    "    while len(random_unassigned) < 200:\n",
    "        index = random.randint(0, unassigned_df.shape[0])\n",
    "        if index in random_unassigned.keys():\n",
    "            random_unassigned[index] +=1\n",
    "        else:\n",
    "            random_unassigned[index] =1\n",
    "\n",
    "    random_unassigned_df = pd.DataFrame() \n",
    "    random_unassigned_lst = []\n",
    "    #wormbase_id\n",
    "    for index in random_unassigned.keys():\n",
    "        random_unassigned_lst.append(unassigned_df.loc[index,['Wormbase ID']][0])\n",
    "    \n",
    "    random_unassigned_df['wormbase_id'] = random_unassigned_lst\n",
    "    return random_unassigned_df\n",
    "    \n",
    "# random_unassigned_df = select_random(unassigned_df)\n",
    "# random_unassigned_df.to_csv('random_unassigned.csv',index=False)\n",
    "# print(random_unassigned_df)"
   ]
  },
  {
   "cell_type": "code",
   "execution_count": 7,
   "id": "42ded99a-9cbc-40e5-b454-39d688e33e3b",
   "metadata": {},
   "outputs": [
    {
     "name": "stdout",
     "output_type": "stream",
     "text": [
      "        wormbase_id\n",
      "0    WBGene00011733\n",
      "1    WBGene00044795\n",
      "2    WBGene00021903\n",
      "3    WBGene00018475\n",
      "4    WBGene00021270\n",
      "..              ...\n",
      "195  WBGene00019776\n",
      "196  WBGene00018302\n",
      "197  WBGene00017257\n",
      "198  WBGene00008985\n",
      "199  WBGene00004914\n",
      "\n",
      "[200 rows x 1 columns]\n"
     ]
    }
   ],
   "source": [
    "#murphy_neurons_df.rename(columns={'Wormbase ID': 'wormbase_id'}, inplace=True)\n",
    "random_unassigned_df = select_random(murphy_neurons_df)\n",
    "random_unassigned_df.to_csv('./output_data/random_murphy_neurons.csv',index=False)\n",
    "print(random_unassigned_df)"
   ]
  },
  {
   "cell_type": "code",
   "execution_count": null,
   "id": "7f86265f-5c4b-495b-b11a-6cb119a0368f",
   "metadata": {},
   "outputs": [],
   "source": []
  }
 ],
 "metadata": {
  "kernelspec": {
   "display_name": "Python [conda env:dan-dev-sc]",
   "language": "python",
   "name": "conda-env-dan-dev-sc-py"
  },
  "language_info": {
   "codemirror_mode": {
    "name": "ipython",
    "version": 3
   },
   "file_extension": ".py",
   "mimetype": "text/x-python",
   "name": "python",
   "nbconvert_exporter": "python",
   "pygments_lexer": "ipython3",
   "version": "3.9.16"
  }
 },
 "nbformat": 4,
 "nbformat_minor": 5
}
