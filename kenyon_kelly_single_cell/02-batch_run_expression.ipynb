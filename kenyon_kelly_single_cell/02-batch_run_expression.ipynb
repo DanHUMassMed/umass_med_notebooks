{
 "cells": [
  {
   "cell_type": "markdown",
   "id": "0a639ffa-898e-455c-961a-4beaf12e2bf5",
   "metadata": {},
   "source": [
    "## Experiment with Gene sets to see where they map to the Kenyon-Kelley Atlas of Cell Types\n",
    "\n",
    "- Partition the cell type dataset by timepoint\n",
    "- Iterate through a list of genes \n",
    "- Identify if the gene is expressed at a given threshold and timepoint\n",
    "- Map the gene and its expression (yes/no) to the single-cell atlas of aging UMAP\n",
    "- Save the UMap Images for each timepoint and a CVS with Cell counts and the Cumulative Expressions used to create the image"
   ]
  },
  {
   "cell_type": "markdown",
   "id": "20d873df-80f8-4082-bc22-36fa01119d20",
   "metadata": {},
   "source": [
    "### Actions to be taken on the below cell to set up your experiment\n",
    "- Upload Wormbase Data to the single_cell directory\n",
    "  - You can also create a file and copy-paste the Wormbase IDs\n",
    "  - Make sure you have a CSV header of `wormbase_id` at the top of the file\n",
    "- Give the file a title\n",
    "  - This will be used in the plot output and also used to create the file names\n",
    "- Set the Min and Max expression levels to iterate over\n",
    "  - The levels are incremented by two, stepping through the range provided\n",
    "  - For the most part providing a 0 Min will show that your genes are expressed everywhere (not so helpful)\n"
   ]
  },
  {
   "cell_type": "code",
   "execution_count": null,
   "id": "66fc988f-9763-4c6e-bf79-b3637e09bf65",
   "metadata": {},
   "outputs": [],
   "source": [
    "import pandas as pd\n",
    "\n",
    "# Load Genes to be processes\n",
<<<<<<< HEAD
    "genes_to_evaluate_df = pd.read_csv('./input_data/C37A2.6-F23C8.5.csv') \n",
=======
    "genes_to_evaluate_df = pd.read_csv('./input_data/unassigned.csv') \n",
>>>>>>> 4f9883b7b192f8a4e75b4a862bbde3e23f50b29a
    "print(genes_to_evaluate_df)\n",
    "\n",
    "# Set the sub title for the chart \n",
    "# title is also used for prefix of output file\n",
<<<<<<< HEAD
    "title='Kenyon-Kelley C37A2.6-F23C8.5'\n",
    "\n",
    "# Set the min and max level of gene expression to evaluate\n",
    "# Note: expression evaluation steps 2 from min up to and including max \n",
    "express_min = 2\n",
    "express_max = 2\n",
=======
    "title='Poorly Annotated2'\n",
    "\n",
    "# Set the min and max level of gene expression to evaluate\n",
    "# Note: expression evaluation steps 2 from min up to and including max \n",
    "express_min = 20\n",
    "express_max = 20\n",
>>>>>>> 4f9883b7b192f8a4e75b4a862bbde3e23f50b29a
    "\n",
    "# include_gene_in_cells If True, create counts for Genes in Cells\n",
    "# NOTE: This will increase the run time substantially if True\n",
    "include_gene_in_cells = True "
   ]
  },
  {
   "cell_type": "markdown",
   "id": "e7ecb1fa-e1ca-48e8-895f-24e384d031d2",
   "metadata": {
    "tags": []
   },
   "source": [
    "### Load the `ad_worm_aging.h5ad` data\n",
    "- `x_df` contains the Dense Matrix of the data\n",
    "  - Each row represents an Observation of a Cell at a timepoint\n",
    "  - Each row contains a column for every gene and provides data on if it was expressed for this cell at this timepoint\n",
    "- `obs_df` contains summary data for all the observations\n",
    "- `var_df` contains summary data for all genes that showed some level of expression"
   ]
  },
  {
   "cell_type": "code",
   "execution_count": null,
   "id": "7ccbe3fe-554b-423f-9595-c7d475f06ece",
   "metadata": {},
   "outputs": [],
   "source": [
    "# Load anndata data and setup base variables\n",
    "import anndata as ad\n",
    "import pandas as pd\n",
    "from scipy.sparse import csr_matrix\n",
    "\n",
    "# Load the h5ad file\n",
    "ad_worm_aging = ad.read(\"input_data/ad_worm_aging.h5ad\")\n",
    "\n",
    "x_df = pd.DataFrame(data=csr_matrix.todense(ad_worm_aging.X))\n",
    "\n",
    "obs_df = ad_worm_aging.obs\n",
    "\n",
    "var_df = ad_worm_aging.var\n",
    "var_df.reset_index(drop=True, inplace=True)\n",
    "\n"
   ]
  },
  {
   "cell_type": "markdown",
   "id": "3b89e702-65fe-40a2-a430-367a1a2d3716",
   "metadata": {},
   "source": [
    "### Map Wormbase IDs to `x_df` Column index\n",
    "- Here, we map the provided wormbase ids to the column index in the x_df dataframe\n",
    "- If a Wormbase ID does not have an index, it is not included, and a summary of the number of Genes not found is printed after the cell executes"
   ]
  },
  {
   "cell_type": "code",
   "execution_count": null,
   "id": "3305a21c-b998-4448-bffc-ef1b62a944c1",
   "metadata": {},
   "outputs": [],
   "source": [
    "x_df"
   ]
  },
  {
   "cell_type": "code",
   "execution_count": null,
   "id": "82193f47-e70a-481d-8cae-05faefb2a967",
   "metadata": {},
   "outputs": [],
   "source": [
    "obs_df"
   ]
  },
  {
   "cell_type": "code",
   "execution_count": null,
   "id": "21b8462c-89c5-49c6-beba-9291487b1666",
   "metadata": {},
   "outputs": [],
   "source": [
    "var_df"
   ]
  },
  {
   "cell_type": "code",
   "execution_count": null,
   "id": "b90fdd27-af16-4519-b8ab-7a5f3c3ec70e",
   "metadata": {},
   "outputs": [],
   "source": [
    "################################################################\n",
    "#############               DAY ONE ONLY           #############\n",
    "################################################################\n",
    "#obs_df = obs_df.query(\"timepoint == 'd1'\")\n",
    "#obs_df\n",
    "# 12,336 Cells in Day One\n"
   ]
  },
  {
   "cell_type": "code",
   "execution_count": null,
   "id": "883ec8e7-3ddd-49e4-b57b-673a63445b2f",
   "metadata": {},
   "outputs": [],
   "source": [
    "# Find the gene's index location in the Var_df\n",
    "# This will provide the column position in Dense Matrix\n",
    "\n",
    "# Add a column index that has the index of the gene in the dense matrix\n",
    "# genes are indexed from 0 - 20,304\n",
    "\n",
    "def find_index(row, var_df):\n",
    "    ret_val = var_df.index[var_df['gene_ids'] == row['wormbase_id']].tolist()\n",
    "    if ret_val == []:\n",
    "        ret_val = None\n",
    "    else:\n",
    "        ret_val = int(ret_val[0])\n",
    "    return ret_val\n",
    "\n",
    "genes_to_evaluate_df['gene_index'] = genes_to_evaluate_df.apply(lambda row: find_index(row, var_df), axis=1)\n",
    "\n",
    "\n",
    "# Check if we matched all the wormbase_id's from our input data set\n",
    "\n",
    "# How many wormbase_id's where not found?\n",
    "print(f\"Wormbase Id's not found {genes_to_evaluate_df['gene_index'].isna().sum()}\")\n",
    "\n",
    "# Drop the Genes (Wormbase Ids) we did not find\n",
    "genes_to_evaluate_df = genes_to_evaluate_df.dropna()\n",
    "genes_to_evaluate_df.reset_index(drop=True, inplace=True)\n"
   ]
  },
  {
   "cell_type": "markdown",
   "id": "7c474a24-e937-4908-9298-b04d1b1e4dff",
   "metadata": {},
   "source": [
    "### Defining functions for Execution\n",
    "* `remove_unneeded_genes` removes the genes (columns) that we are not interested in from x_df\n",
    "* * This should improve the performance as we do not evaluate any genes that are not in the provided list\n",
    "* `is_expressed` simple boolean function that returns Yes (True) if ANY gene in the observation has an expression value greater than the set threshold\n",
    "* `plot_umap` Plots the results (Expressed / Not Expressed) on the UMAP and save the resulting image"
   ]
  },
  {
   "cell_type": "code",
   "execution_count": null,
   "id": "51becdc1-be82-4ccc-beeb-06f96e8f9ff4",
   "metadata": {},
   "outputs": [],
   "source": [
    "import numpy as np\n",
    "import time\n",
    "import matplotlib.pyplot as plt\n",
    "import matplotlib.patches as mpatches\n",
    "import matplotlib.colors as mcolors\n",
    "import numpy as np\n",
    "from pathlib import Path\n",
    "%matplotlib inline\n",
    "\n",
    "# remove the genes (columns) that we are not interested in from x_df\n",
    "def remove_unneeded_genes(x_df, genes_to_evaluate_df):\n",
    "    # Create an arrary of column indexies \n",
    "    gene_index = np.arange(0, len(x_df.columns), 1)\n",
    "    \n",
    "    # Create an array of the column indexies that we are interested in keeping\n",
    "    gene_index_to_keep = genes_to_evaluate_df['gene_index'].values.astype(int)\n",
    "    \n",
    "    # Test whether each element of gene_index array is also present in gene_index_to_keep\n",
    "    gene_keep_indicator = np.in1d(gene_index, gene_index_to_keep)\n",
    "    \n",
    "    # The list of columns to drop by negating the genes to keep list\n",
    "    drop_columns = gene_index[~gene_keep_indicator]\n",
    "    #print(f'drop_columns {len(drop_columns)} gene_index_to_keep {len(gene_index_to_keep)}  total {len(gene_index_to_keep)+len(drop_columns)}')\n",
    "    return x_df.drop(x_df.columns[drop_columns], axis = 1)\n",
    "\n",
    "# If ANY gene in the observation has an expression value greater than the set threshold return Yes\n",
    "def is_expressed(obs_row, expression_threshold = 4):\n",
    "    ret_val='No'\n",
    "    values = obs_row.values\n",
    "    if (values > expression_threshold).any():\n",
    "        ret_val='Yes'\n",
    "    return ret_val\n",
    "\n",
    "# Plot the results on the UMAP and save the resulting image\n",
    "def plot_umap(x_is_expressed_df, ad_worm_aging, title, threshold):\n",
    "    fn_prefix=title.replace(' ', '_').lower()\n",
    "    Path(f'./output_data/{fn_prefix}').mkdir(parents=True, exist_ok=True)\n",
    "\n",
    "    x_umap = ad_worm_aging.obsm['X_umap']\n",
    "    x_umap_df = pd.DataFrame(x_umap, columns = ['X','Y'])\n",
    "\n",
    "    # Add the expressed column to the x_umap_df\n",
    "    x_umap_df = x_umap_df.join(x_is_expressed_df['expressed'])\n",
    "    # print(x_umap_df)\n",
    "\n",
    "    # Create a color map\n",
    "    colors = {'No':'#1f77b4', 'Yes':'#d62728'}\n",
    "\n",
    "    plt.rcParams['figure.dpi'] = 500\n",
    "    sss = plt.scatter(x_umap_df['X'],x_umap_df['Y'], c=x_umap_df['expressed'].map(colors), s=.008)\n",
    "    plt.gca().set_aspect('equal', 'datalim')\n",
    "    plt.suptitle(f\"Projection of Genes [Threshold > {threshold}]\")\n",
    "    plt.title(title);\n",
    "    plt.yticks([])\n",
    "    plt.xticks([])\n",
    "    \n",
    "    patches = [ mpatches.Patch(color=colors[key], label=key) for key in colors.keys()]\n",
    "    legend = plt.legend(handles=patches)\n",
    "    legend.set_title(\"Expressed\") \n",
    "    \n",
    "    plt.savefig(f'./output_data/{fn_prefix}/{fn_prefix}_image_threshold_{threshold}.png')\n",
    "    x_umap_df.to_csv(f\"./output_data/{fn_prefix}/{fn_prefix}_x_umap_{threshold}.csv\", index = False)\n",
    "    \n",
    "    "
   ]
  },
  {
   "cell_type": "markdown",
   "id": "3c76384c-fe4c-48e3-bc25-0a712674b562",
   "metadata": {},
   "source": [
    "### Defining `collect_stats`; the summary stats that are collected\n",
    "\n",
    "**obs_count** is equal to the number of times a gene had a higher instance expression value than the provided __expression_threshold__ over all 47,423 observations\n",
    "\n",
    "**cum_expression** is equal to the cumulative observed expression for a gene whose instance expression value was higher than the provided __expression_threshold__ over all 47,423 observations\n",
    "\n",
    "**max_expression** is equal to the maximum observed instance expression value for a gene whose instance expression value was higher than the provided __expression_threshold__ over all 47,423 observations\n",
    "\n",
    "**instance expression value** is equal to the value found in the x_var (sparse matrix) [[column]] representing the gene expression for a given observation [[row]]\n"
   ]
  },
  {
   "cell_type": "code",
   "execution_count": null,
   "id": "0455bcc1-1bf4-4852-b95e-add17a4d24f5",
   "metadata": {},
   "outputs": [],
   "source": [
    "# Collect some basic stats on the run    \n",
    "def collect_stats(trimmed_x_df, var_df, title, threshold, include_gene_in_cells):\n",
    "    fn_prefix=title.replace(' ', '_').lower()\n",
    "    \n",
    "    # drop rows that are not expressed\n",
    "    x_is_expressed_df = trimmed_x_df[trimmed_x_df.expressed == 'Yes']\n",
    "    \n",
    "    # drop the column 'expressed' they all are equal to 'Yes' so it adds no information\n",
    "    x_is_expressed_df = x_is_expressed_df.drop(['expressed'], axis=1)\n",
    "    \n",
    "    # NOTE: This statement is interesting and may NOT be needed!\n",
    "    # If a gene in an observation has an expression less than or equal to the threshold set its value to zero\n",
    "    # Note: This does not impact the umap projection but may eliminate some noise in the stats data\n",
    "    x_is_expressed_df = x_is_expressed_df.mask(x_is_expressed_df <= threshold, 0)\n",
    "\n",
    "    # The number of time this gene showed up in an observation\n",
    "    obs_count = x_is_expressed_df.apply(np.count_nonzero, axis=0)\n",
    "    \n",
    "    # Get details on genes in cells\n",
    "    if include_gene_in_cells:\n",
    "        genes_in_cells(x_is_expressed_df, obs_df, var_df, fn_prefix)\n",
    "    \n",
    "    # The cumulative expression for this gene accross all observations\n",
    "    cum_expression = x_is_expressed_df.apply(np.sum, axis=0)\n",
    "    \n",
    "    # The maximinum expression value found over all observations\n",
    "    max_expression = x_is_expressed_df.apply(np.max, axis=0)\n",
    "\n",
    "    # Put the stats in a dataframe\n",
    "    totals_df = obs_count.to_frame()\n",
    "    totals_df = totals_df.rename(columns = {0:'obs_count'})\n",
    "    totals_df['cum_expression'] = cum_expression   \n",
    "    totals_df['max_expression'] = max_expression  \n",
    "\n",
    "    totals_df['wormbase_id'] = totals_df.apply(lambda row: var_df.at[row.name, 'gene_ids'],axis=1 )\n",
    "    totals_df['gene_index'] = totals_df.index\n",
    "\n",
    "    # Sort the results and save to a file\n",
    "    genes_to_evaluate_df_sorted = totals_df.sort_values(['obs_count', 'max_expression','cum_expression'],ascending = [True, True, True])\n",
    "    genes_to_evaluate_df_sorted.to_csv(f\"./output_data/{fn_prefix}/{fn_prefix}_stats_threshold_{threshold}.csv\", index = False)\n",
    "    return totals_df\n",
    "\n"
   ]
  },
  {
   "cell_type": "code",
   "execution_count": null,
   "id": "9849713c-16e8-47f8-8682-e488f3b3420a",
   "metadata": {},
   "outputs": [],
   "source": [
    "def genes_in_cells(x_is_expressed_df, obs_df, var_df, fn_prefix):\n",
    "    genes_in_cell_type = {}\n",
    "    genes_in_cell_type_group = {}\n",
    "    #Initialize a dict with keys of gene ids\n",
    "    for gene in x_is_expressed_df.columns:\n",
    "        genes_in_cell_type[gene]={}\n",
    "        \n",
    "        \n",
    "    obs_reset_index_df = obs_df.reset_index()\n",
    "    print(len(x_is_expressed_df)) \n",
    "    x_is_expressed_j_df = pd.merge(x_is_expressed_df, obs_reset_index_df, left_index=True, right_index=True, how='left')\n",
    "   \n",
    "    for index, row in x_is_expressed_j_df.iterrows():\n",
    "        for gene in genes_in_cell_type.keys():\n",
    "            if row[gene] > 0:\n",
    "                gene_in_cell_type = genes_in_cell_type[gene]\n",
    "                if row['annotate_name'] in gene_in_cell_type:\n",
    "                    gene_in_cell_type[row['annotate_name']] += 1\n",
    "                else:\n",
    "                    gene_in_cell_type[row['annotate_name']] = 1\n",
    "                    \n",
    "                    \n",
    "    ##############################\n",
    "    df = pd.DataFrame(genes_in_cell_type)\n",
    "    df = df.T\n",
    "\n",
    "    df['wormbase_id'] = df.apply(lambda row: var_df.at[row.name, 'gene_ids'],axis=1 )\n",
    "    df.insert(0, 'wormbase_id', df.pop('wormbase_id'))\n",
    "    df.to_csv(f\"./output_data/{fn_prefix}/annotate_name.csv\", index=False)\n",
    "    \n",
    "\n",
    "    #############################\n",
    "    x_is_expressed_j_df.to_csv(f\"./output_data/{fn_prefix}/{fn_prefix}_expressed_threshold_{threshold}.csv\")\n",
    "    "
   ]
  },
  {
   "cell_type": "markdown",
   "id": "4fdd933e-fe88-40c6-b321-efd290074fab",
   "metadata": {},
   "source": [
    "### Some addition details on is_expressed\n",
    "\n",
    "Since we use vectorization it is no obvious from the code to see the logic of how we determine if a observation is defined as expressed or not the below pseudo code may help provide some clarity\n",
    "\n",
    "```\n",
    "For each observation row\n",
    "    Look at the genes in the evaluation set (the ones provided in the CSV file)\n",
    "       If any gene in that observation row shares a gene from the evaluation set \n",
    "         and the expression of that shared gene is above a given threshold \n",
    "            mark that observation as being expressed\n",
    "```"
   ]
  },
  {
   "cell_type": "code",
   "execution_count": null,
   "id": "634b3e5e-b15e-42bd-84e7-508398598ca2",
   "metadata": {},
   "outputs": [],
   "source": [
    "\n",
    "# Remove the columns we are not interested in for this experiment\n",
    "trimmed_x_df = remove_unneeded_genes(x_df, genes_to_evaluate_df)\n",
    "\n",
    "step=2 # Set the step increment\n",
    "for threshold in range(express_min, express_max+step, step):\n",
    "    # Test if the gene have a high enough level of expression to be included in the results\n",
    "    x_is_expressed_series = trimmed_x_df.apply(lambda obs_row: is_expressed(obs_row, threshold), axis=1)\n",
    "    trimmed_x_df['expressed'] = x_is_expressed_series\n",
    "\n",
    "    # Plot the results on the UMAP Projection\n",
    "    plot_umap(trimmed_x_df, ad_worm_aging, title, threshold)\n",
    "\n",
    "    # Calculate some basic stats and save to a CSV file\n",
    "    collect_stats(trimmed_x_df, var_df, title, threshold, include_gene_in_cells)\n",
    "    \n",
    "    print(f'Completed threshold {threshold}.')\n",
    "    trimmed_x_df = trimmed_x_df.drop('expressed', axis = 1)\n",
    "\n",
    "print(f'Done')"
   ]
  },
  {
   "cell_type": "markdown",
   "id": "12f91e7c-b278-40f6-987d-85aae2132115",
   "metadata": {},
   "source": [
    "## Resize Images\n",
    "If you are experimenting and would like to resize the images for ease of display in the Notebook you can run the below code\n"
   ]
  },
  {
   "cell_type": "code",
   "execution_count": null,
   "id": "56e3eee0-36b9-486c-8e22-f84e57d1ed14",
   "metadata": {},
   "outputs": [],
   "source": [
    "# Resizing an Image by Percentage\n",
    "from PIL import Image\n",
    "from os import listdir\n",
    "from os.path import isfile, join\n",
    "\n",
    "\n",
    "def resize_by_percentage(image_file, percentage=0.40):\n",
    "    with Image.open (image_file) as im:\n",
    "        if im.size == (3200, 2400):\n",
    "            width, height = im.size\n",
    "            resized_dimensions = (int(width * percentage), int(height * percentage))\n",
    "            resized = im.resize(resized_dimensions)\n",
    "            resized.save(image_file)\n",
    "        else:\n",
    "            print(f'Already reduced {image_file}')\n",
    "\n",
    "\n",
    "dir_path=f\"./output_data/{title.replace(' ', '_').lower()}\"\n",
    "image_files = [join(dir_path, f) for f in listdir(dir_path) if isfile(join(dir_path, f)) and f[-4:]=='.png']\n",
    "for image_file in image_files:\n",
    "    resize_by_percentage(image_file)\n",
    "\n",
    "\n"
   ]
  },
  {
   "cell_type": "code",
   "execution_count": null,
   "id": "225b31f5-874e-4f13-b892-1d4144fee79d",
   "metadata": {},
   "outputs": [],
   "source": [
    "import os\n",
    "import zipfile\n",
    "\n",
    "def zip_directory(directory):\n",
    "    file_name=f\"{directory.replace(' ', '_').lower()}\"    \n",
    "    dir_path=f\"./output_data/{file_name}\"\n",
    "    # Create a ZipFile object\n",
    "    zip_file = zipfile.ZipFile(f'./output_data/{file_name}.zip', 'w')\n",
    "    \n",
    "    # Iterate over all the files in directory\n",
    "    for folder, subfolders, files in os.walk(dir_path):\n",
    "        for file in files:\n",
    "            # Create complete filepath of file in directory\n",
    "            file_path = os.path.join(folder, file)\n",
    "            # Add file to zip\n",
    "            zip_file.write(file_path)\n",
    "    \n",
    "    # Close the Zip File\n",
    "    zip_file.close()\n",
    "    print(f'Successfully created zip file: {file_name}.zip')\n",
    "    \n",
    "\n",
    "zip_directory(title)"
   ]
  },
  {
   "cell_type": "markdown",
   "id": "faa772ea-5d9d-40c1-8f01-ea7543a8cea7",
   "metadata": {},
   "source": [
    "# Appendix Cells\n",
    "* The below cell are Not used"
   ]
  },
  {
   "cell_type": "code",
   "execution_count": null,
   "id": "eced2920-8487-4208-bfc1-918442b73ff1",
   "metadata": {},
   "outputs": [],
   "source": [
    "#pip install line_profiler\n",
    "#%load_ext line_profiler\n",
    "#from time import sleep\n",
    "#%lprun -f sleep sleep(1)\n",
    "#%timeit sleep(1)"
   ]
  },
  {
   "cell_type": "code",
   "execution_count": null,
   "id": "0ced91ee-1b8f-4c58-9420-b8ff594c6501",
   "metadata": {},
   "outputs": [],
   "source": [
    "%%bash\n",
    "\n",
    "# Replace file name with the name of file to be resized\n",
    "file_nm='muscle_function_image_threshold_0.png'\n",
    "pic_size=`identify -format \"%[fx:w]x%[fx:h]\" ${file_nm}`\n",
    "\n",
    "if [[ \"${pic_size}\" == \"3200x2400\" ]]; then\n",
    "    echo image ${pic_size} resized\n",
    "    convert ${file_nm} -resize 40% tmp_${file_nm}\n",
    "    mv tmp_${file_nm} ${file_nm}\n",
    "else\n",
    "    echo image already resized ${pic_size}\n",
    "fi"
   ]
  },
  {
   "cell_type": "code",
   "execution_count": null,
   "id": "41a66a59-442b-4219-aa0c-2fce2048d971",
   "metadata": {},
   "outputs": [],
   "source": []
  }
 ],
 "metadata": {
  "kernelspec": {
   "display_name": "Python [conda env:dan-dev-sc]",
   "language": "python",
   "name": "conda-env-dan-dev-sc-py"
  },
  "language_info": {
   "codemirror_mode": {
    "name": "ipython",
    "version": 3
   },
   "file_extension": ".py",
   "mimetype": "text/x-python",
   "name": "python",
   "nbconvert_exporter": "python",
   "pygments_lexer": "ipython3",
   "version": "3.9.16"
  }
 },
 "nbformat": 4,
 "nbformat_minor": 5
}
