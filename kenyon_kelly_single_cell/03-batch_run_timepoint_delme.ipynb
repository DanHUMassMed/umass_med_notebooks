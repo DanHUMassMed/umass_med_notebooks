{
 "cells": [
  {
   "cell_type": "markdown",
   "id": "0a639ffa-898e-455c-961a-4beaf12e2bf5",
   "metadata": {},
   "source": [
    "## Experiment with Genes to see where they map to the Kenyon-Kelley Atlas of Cell Types\n",
    "\n",
    "- Iterate through a list of genes \n",
    "- Identify if the gene is expressed at a given threshold\n",
    "- Map the gene and its expression (yes/no) to the single-cell atlas of aging UMAP\n",
    "- Save the UMap Image and a CVS with Cell counts and the Cumulative Expressions used to create the image"
   ]
  },
  {
   "cell_type": "markdown",
   "id": "20d873df-80f8-4082-bc22-36fa01119d20",
   "metadata": {},
   "source": [
    "### Actions to be taken on the below cell to set up your experiment\n",
    "- Upload Wormbase Data to the single_cell directory\n",
    "  - You can also create a file and copy-paste the Wormbase IDs\n",
    "  - Make sure you have a CSV header of `wormbase_id` at the top of the file\n",
    "- Give the file a title\n",
    "  - This will be used in the plot output and also used to create the file names\n",
    "- Set the Min and Max expression levels to iterate over\n",
    "  - The levels are incremented by two, stepping through the range provided\n",
    "  - For the most part providing a 0 Min will show that your genes are expressed everywhere (not so helpful)\n"
   ]
  },
  {
   "cell_type": "code",
   "execution_count": 6,
   "id": "66fc988f-9763-4c6e-bf79-b3637e09bf65",
   "metadata": {},
   "outputs": [
    {
     "name": "stdout",
     "output_type": "stream",
     "text": [
      "        wormbase_id\n",
      "0    WBGene00007694\n",
      "1    WBGene00000516\n",
      "2    WBGene00022103\n",
      "3    WBGene00000522\n",
      "4    WBGene00009710\n",
      "..              ...\n",
      "574  WBGene00013592\n",
      "575  WBGene00022383\n",
      "576  WBGene00013884\n",
      "577  WBGene00014183\n",
      "578  WBGene00022679\n",
      "\n",
      "[579 rows x 1 columns]\n"
     ]
    }
   ],
   "source": [
    "import pandas as pd\n",
    "\n",
    "# Load Genes to be processes\n",
    "genes_to_evaluate_df = pd.read_csv('./input_data/sams1_up.csv') \n",
    "print(genes_to_evaluate_df)\n",
    "\n",
    "# Set the sub title for the chart \n",
    "# title is also used for prefix of output file\n",
    "title='sams 1 up'\n",
    "\n",
    "# Set the min and max level of gene expression to evaluate\n",
    "# Note: expression evaluation steps 2 from min up to and including max \n",
    "express_min = 4\n",
    "express_max = 10"
   ]
  },
  {
   "cell_type": "markdown",
   "id": "e7ecb1fa-e1ca-48e8-895f-24e384d031d2",
   "metadata": {},
   "source": [
    "### Load the `ad_worm_aging.h5ad` data\n",
    "- `x_df` contains the Sparse Matrix of the data\n",
    "  - Each row represents an Observation of a Cell at a timepoint\n",
    "  - Each row contains a column for every gene and provides data on if it was expressed for this cell at this timepoint\n",
    "- `obs_df` contains summary data for all the observations\n",
    "- `var_df` contains summary data for all genes that showed some level of expression"
   ]
  },
  {
   "cell_type": "code",
   "execution_count": 7,
   "id": "7ccbe3fe-554b-423f-9595-c7d475f06ece",
   "metadata": {},
   "outputs": [],
   "source": [
    "# Load anndata data and setup base variables\n",
    "import anndata as ad\n",
    "import pandas as pd\n",
    "from scipy.sparse import csr_matrix\n",
    "\n",
    "# Load the h5ad file\n",
    "ad_worm_aging = ad.read(\"./input_data/ad_worm_aging.h5ad\")\n",
    "\n",
    "x_df = pd.DataFrame(data=csr_matrix.todense(ad_worm_aging.X))\n",
    "\n",
    "obs_df = ad_worm_aging.obs\n",
    "obs_df['observation'] = obs_df.index\n",
    "obs_df.reset_index(drop=True, inplace=True)\n",
    "\n",
    "var_df = ad_worm_aging.var\n",
    "var_df.reset_index(drop=True, inplace=True)\n",
    "\n"
   ]
  },
  {
   "cell_type": "markdown",
   "id": "3b89e702-65fe-40a2-a430-367a1a2d3716",
   "metadata": {},
   "source": [
    "### Map Wormbase IDs to `x_df` Column index\n",
    "- Here, we map the provided wormbase ids to the column index in the x_df dataframe\n",
    "- If a Wormbase ID does not have an index, it is not included, and a summary of the number of Genes not found is printed after the cell executes"
   ]
  },
  {
   "cell_type": "code",
   "execution_count": 8,
   "id": "883ec8e7-3ddd-49e4-b57b-673a63445b2f",
   "metadata": {},
   "outputs": [
    {
     "name": "stdout",
     "output_type": "stream",
     "text": [
      "Wormbase Id's not found 19\n"
     ]
    }
   ],
   "source": [
    "# Find the gene's index location in the Var_df\n",
    "# This will provide the column position in Sparse Matrix\n",
    "\n",
    "# Add a column `index` that has the index of the gene in the dense matrix\n",
    "# genes are indexed from 0 - 20,304\n",
    "\n",
    "def find_index(row, var_df):\n",
    "    ret_val = var_df.index[var_df['gene_ids'] == row['wormbase_id']].tolist()\n",
    "    if ret_val == []:\n",
    "        ret_val = None\n",
    "    else:\n",
    "        ret_val = int(ret_val[0])\n",
    "    return ret_val\n",
    "\n",
    "genes_to_evaluate_df['gene_index'] = genes_to_evaluate_df.apply(lambda row: find_index(row, var_df), axis=1)\n",
    "\n",
    "\n",
    "# Check if we matched all the wormbase_id's from our input data set\n",
    "\n",
    "# How many wormbase_id's where not found?\n",
    "print(f\"Wormbase Id's not found {genes_to_evaluate_df['gene_index'].isna().sum()}\")\n",
    "\n",
    "# Drop the Genes (Wormbase Ids) we did not find\n",
    "genes_to_evaluate_df = genes_to_evaluate_df.dropna()\n",
    "genes_to_evaluate_df.reset_index(drop=True, inplace=True)\n"
   ]
  },
  {
   "cell_type": "code",
   "execution_count": 9,
   "id": "d2b0fd3e-ce98-4199-b9ab-49f4f90f9405",
   "metadata": {},
   "outputs": [
    {
     "name": "stdout",
     "output_type": "stream",
     "text": [
      "12336\n",
      "10442\n",
      "22778\n"
     ]
    }
   ],
   "source": [
    "x_df['timepoint']= obs_df['timepoint']\n",
    "young_x_df = obs_df[obs_df.timepoint.isin(['d1']) ]\n",
    "old_x_df = obs_df[obs_df.timepoint.isin(['d8']) ]\n",
    "print(len(young_x_df))\n",
    "print(len(old_x_df))\n",
    "print(len(young_x_df)+len(old_x_df))"
   ]
  },
  {
   "cell_type": "markdown",
   "id": "7c474a24-e937-4908-9298-b04d1b1e4dff",
   "metadata": {},
   "source": [
    "### Defining functions for Execution\n",
    "* `remove_unneeded_genes` removes the genes (columns) that we are not interested in from x_df\n",
    "  * This should improve the performance as we do not evaluate any genes that are not in the provided list\n",
    "* `is_expressed` simple boolean function that returns Yes (True) if ANY gene in the observation has an expression value greater than the set threshold\n",
    "* `plot_umap` Plots the results (Expressed / Not Expressed) on the UMAP and save the resulting image"
   ]
  },
  {
   "cell_type": "code",
   "execution_count": 10,
   "id": "51becdc1-be82-4ccc-beeb-06f96e8f9ff4",
   "metadata": {},
   "outputs": [],
   "source": [
    "import numpy as np\n",
    "import time\n",
    "import matplotlib.pyplot as plt\n",
    "import matplotlib.patches as mpatches\n",
    "import matplotlib.colors as mcolors\n",
    "import numpy as np\n",
    "from pathlib import Path\n",
    "%matplotlib inline\n",
    "\n",
    "# remove the genes (columns) that we are not interested in from x_df\n",
    "def remove_unneeded_genes(x_df, genes_to_evaluate_df):\n",
    "    # Create an arrary of column indexies \n",
    "    gene_index = np.arange(0, len(x_df.columns), 1)\n",
    "    \n",
    "    # Create an array of the column indexies that we are interested in keeping\n",
    "    gene_index_to_keep = genes_to_evaluate_df['gene_index'].values.astype(int)\n",
    "    \n",
    "    # Test whether each element of gene_index array is also present in gene_index_to_keep\n",
    "    gene_keep_indicator = np.in1d(gene_index, gene_index_to_keep)\n",
    "    \n",
    "    # The list of columns to drop by negating the genes to keep list\n",
    "    drop_columns = gene_index[~gene_keep_indicator]\n",
    "    #print(f'drop_columns {len(drop_columns)} gene_index_to_keep {len(gene_index_to_keep)}  total {len(gene_index_to_keep)+len(drop_columns)}')\n",
    "    return x_df.drop(x_df.columns[drop_columns], axis = 1)\n",
    "\n",
    "# If ANY gene in the observation has an expression value greater than the set threshold return Yes\n",
    "def is_expressed(obs_row, expression_threshold = 4):\n",
    "    ret_val='No'\n",
    "    values = obs_row.values\n",
    "    if (values > expression_threshold).any():\n",
    "        ret_val='Yes'\n",
    "    return ret_val\n",
    "\n",
    "# Plot the results on the UMAP and save the resulting image\n",
    "def plot_umap(young_x_is_expressed_df, old_x_is_expressed_df, ad_worm_aging, title, threshold):\n",
    "    fn_prefix=title.replace(' ', '_').lower()\n",
    "    Path(f'./output_data/{fn_prefix}').mkdir(parents=True, exist_ok=True)\n",
    "    \n",
    "    plot_umap_image(young_x_is_expressed_df, ad_worm_aging, title, threshold, 1)\n",
    "    plot_umap_image(old_x_is_expressed_df, ad_worm_aging, title, threshold, 2)\n",
    "    \n",
    "    plt.savefig(f'./output_data/{fn_prefix}/{fn_prefix}_image_threshold_{threshold}.png')\n",
    "\n",
    "def plot_umap_image(x_is_expressed_df, ad_worm_aging, title, threshold, pos):\n",
    "    age = ('old','young')\n",
    "    plt.subplot(1, 2, pos)\n",
    "    \n",
    "    x_umap = ad_worm_aging.obsm['X_umap']\n",
    "    x_umap_df = pd.DataFrame(x_umap, columns = ['X','Y'])\n",
    "\n",
    "    # Add the expressed column to the x_umap_df\n",
    "    x_umap_df = x_umap_df.join(x_is_expressed_df['expressed'])\n",
    "    # print(x_umap_df)\n",
    "\n",
    "    # Create a color map\n",
    "    colors = {'No':'#1f77b4', 'Yes':'#d62728'}\n",
    "\n",
    "    plt.rcParams['figure.dpi'] = 500\n",
    "    sss = plt.scatter(x_umap_df['X'],x_umap_df['Y'], c=x_umap_df['expressed'].map(colors), s=.008)\n",
    "    plt.gca().set_aspect('equal', 'datalim')\n",
    "    plt.suptitle(f\"Projection of Genes [Threshold > {threshold}]\")\n",
    "    plt.title(f'{title} {age[pos]}');\n",
    "    plt.yticks([])\n",
    "    plt.xticks([])\n",
    "    \n",
    "    patches = [ mpatches.Patch(color=colors[key], label=key) for key in colors.keys()]\n",
    "    legend = plt.legend(handles=patches)\n",
    "    legend.set_title(\"Expressed\") \n",
    "    \n",
    "    x_umap_df.to_csv(f\"./output_data/{fn_prefix}/{fn_prefix}_{age[pos]}_x_umap_{threshold}.csv\", index = False)\n",
    "    \n",
    "    "
   ]
  },
  {
   "cell_type": "markdown",
   "id": "3c76384c-fe4c-48e3-bc25-0a712674b562",
   "metadata": {},
   "source": [
    "### Defining `collect_stats`; the summary stats that are collected\n",
    "\n",
    "**obs_count** is equal to the number of times a gene had a higher instance expression value than the provided __expression_threshold__ over all 47,423 observations\n",
    "\n",
    "**cum_expression** is equal to the cumulative observed expression for a gene whos instance expression value was higher than the provided __expression_threshold__ over all 47,423 observations\n",
    "\n",
    "**max_expression** is equal to the maximum observed instance expression value for a gene whos instance expression value was higher than the provided __expression_threshold__ over all 47,423 observations\n",
    "\n",
    "**instance expression value** is equal to the value found in the x_var (sparse matrix) [[column]] representing the gene expression for a given observation [[row]]\n"
   ]
  },
  {
   "cell_type": "code",
   "execution_count": 11,
   "id": "0455bcc1-1bf4-4852-b95e-add17a4d24f5",
   "metadata": {},
   "outputs": [],
   "source": [
    "# Collect some basic stats on the run    \n",
    "def collect_stats(trimmed_x_df, var_df, title, threshold, pos):\n",
    "    age = ('old','young')\n",
    "    \n",
    "    # drop rows that are not expressed\n",
    "    x_is_expressed_df = trimmed_x_df[trimmed_x_df.expressed == 'Yes']\n",
    "    \n",
    "    # drop the column 'expressed' they all are equal to 'Yes' so it adds no information\n",
    "    x_is_expressed_df = x_is_expressed_df.drop(['expressed'], axis=1)\n",
    "    \n",
    "    # NOTE: This statement is interesting and may NOT be needed!\n",
    "    # If a gene in an observation has an expression less than or equal to the threshold set its value to zero\n",
    "    # Note: This does not impact the umap projection but may eliminate some noise in the stats data\n",
    "    x_is_expressed_df = x_is_expressed_df.mask(x_is_expressed_df <= threshold, 0)\n",
    "\n",
    "    # The number of time this gene showed up in an observation\n",
    "    obs_count = x_is_expressed_df.apply(np.count_nonzero, axis=0)\n",
    "    \n",
    "    # The cumulative expression for this gene accross all observations\n",
    "    cum_expression = x_is_expressed_df.apply(np.sum, axis=0)\n",
    "    \n",
    "    # The maximinum expression value found over all observations\n",
    "    max_expression = x_is_expressed_df.apply(np.max, axis=0)\n",
    "\n",
    "    # Put the stats in a dataframe\n",
    "    totals_df = obs_count.to_frame()\n",
    "    totals_df = totals_df.rename(columns = {0:'obs_count'})\n",
    "    totals_df['cum_expression'] = cum_expression   \n",
    "    totals_df['max_expression'] = max_expression  \n",
    "\n",
    "    totals_df['wormbase_id'] = totals_df.apply(lambda row: var_df.at[row.name, 'gene_ids'],axis=1 )\n",
    "    totals_df['gene_index'] = totals_df.index\n",
    "\n",
    "    # Sort the results and save to a file\n",
    "    genes_to_evaluate_df_sorted = totals_df.sort_values(['obs_count', 'max_expression','cum_expression'],ascending = [True, True, True])\n",
    "    fn_prefix=title.replace(' ', '_').lower()\n",
    "    genes_to_evaluate_df_sorted.to_csv(f\"./output_data/{fn_prefix}/{fn_prefix}_{age[pos]}_stats_threshold_{threshold}.csv\", index = False)\n",
    "    return totals_df\n",
    "\n"
   ]
  },
  {
   "cell_type": "markdown",
   "id": "4fdd933e-fe88-40c6-b321-efd290074fab",
   "metadata": {},
   "source": [
    "### Some addition details on is_expressed\n",
    "\n",
    "Since we use vectorization it is no obvious from the code to see the logic of how we determine if a observation is defined as expressed or not the below pseudo code may help provide some clarity\n",
    "\n",
    "```\n",
    "For each observation row\n",
    "    Look at the genes in the evaluation set (the ones provided in the CSV file)\n",
    "       If any gene in that observation row shares a gene from the evaluation set \n",
    "         and the expression of that shared gene is above a given threshold \n",
    "            mark that observation as being expressed\n",
    "```"
   ]
  },
  {
   "cell_type": "code",
   "execution_count": 12,
   "id": "634b3e5e-b15e-42bd-84e7-508398598ca2",
   "metadata": {},
   "outputs": [
    {
     "ename": "ValueError",
     "evalue": "'c' argument must be a color, a sequence of colors, or a sequence of numbers, not 0        NaN\n1        NaN\n2        NaN\n3        NaN\n4        NaN\n        ... \n47418    NaN\n47419    NaN\n47420    NaN\n47421    NaN\n47422    NaN\nName: expressed, Length: 47423, dtype: object",
     "output_type": "error",
     "traceback": [
      "\u001b[0;31m---------------------------------------------------------------------------\u001b[0m",
      "\u001b[0;31mValueError\u001b[0m                                Traceback (most recent call last)",
      "File \u001b[0;32m~/miniconda3/envs/dan-dev-sc/lib/python3.9/site-packages/matplotlib/axes/_axes.py:4350\u001b[0m, in \u001b[0;36mAxes._parse_scatter_color_args\u001b[0;34m(c, edgecolors, kwargs, xsize, get_next_color_func)\u001b[0m\n\u001b[1;32m   4349\u001b[0m \u001b[38;5;28;01mtry\u001b[39;00m:  \u001b[38;5;66;03m# Is 'c' acceptable as PathCollection facecolors?\u001b[39;00m\n\u001b[0;32m-> 4350\u001b[0m     colors \u001b[38;5;241m=\u001b[39m \u001b[43mmcolors\u001b[49m\u001b[38;5;241;43m.\u001b[39;49m\u001b[43mto_rgba_array\u001b[49m\u001b[43m(\u001b[49m\u001b[43mc\u001b[49m\u001b[43m)\u001b[49m\n\u001b[1;32m   4351\u001b[0m \u001b[38;5;28;01mexcept\u001b[39;00m (\u001b[38;5;167;01mTypeError\u001b[39;00m, \u001b[38;5;167;01mValueError\u001b[39;00m) \u001b[38;5;28;01mas\u001b[39;00m err:\n",
      "File \u001b[0;32m~/miniconda3/envs/dan-dev-sc/lib/python3.9/site-packages/matplotlib/colors.py:385\u001b[0m, in \u001b[0;36mto_rgba_array\u001b[0;34m(c, alpha)\u001b[0m\n\u001b[1;32m    384\u001b[0m \u001b[38;5;28;01melse\u001b[39;00m:\n\u001b[0;32m--> 385\u001b[0m     rgba \u001b[38;5;241m=\u001b[39m np\u001b[38;5;241m.\u001b[39marray([to_rgba(cc) \u001b[38;5;28;01mfor\u001b[39;00m cc \u001b[38;5;129;01min\u001b[39;00m c])\n\u001b[1;32m    387\u001b[0m \u001b[38;5;28;01mif\u001b[39;00m alpha \u001b[38;5;129;01mis\u001b[39;00m \u001b[38;5;129;01mnot\u001b[39;00m \u001b[38;5;28;01mNone\u001b[39;00m:\n",
      "File \u001b[0;32m~/miniconda3/envs/dan-dev-sc/lib/python3.9/site-packages/matplotlib/colors.py:385\u001b[0m, in \u001b[0;36m<listcomp>\u001b[0;34m(.0)\u001b[0m\n\u001b[1;32m    384\u001b[0m \u001b[38;5;28;01melse\u001b[39;00m:\n\u001b[0;32m--> 385\u001b[0m     rgba \u001b[38;5;241m=\u001b[39m np\u001b[38;5;241m.\u001b[39marray([\u001b[43mto_rgba\u001b[49m\u001b[43m(\u001b[49m\u001b[43mcc\u001b[49m\u001b[43m)\u001b[49m \u001b[38;5;28;01mfor\u001b[39;00m cc \u001b[38;5;129;01min\u001b[39;00m c])\n\u001b[1;32m    387\u001b[0m \u001b[38;5;28;01mif\u001b[39;00m alpha \u001b[38;5;129;01mis\u001b[39;00m \u001b[38;5;129;01mnot\u001b[39;00m \u001b[38;5;28;01mNone\u001b[39;00m:\n",
      "File \u001b[0;32m~/miniconda3/envs/dan-dev-sc/lib/python3.9/site-packages/matplotlib/colors.py:206\u001b[0m, in \u001b[0;36mto_rgba\u001b[0;34m(c, alpha)\u001b[0m\n\u001b[1;32m    205\u001b[0m \u001b[38;5;28;01mif\u001b[39;00m rgba \u001b[38;5;129;01mis\u001b[39;00m \u001b[38;5;28;01mNone\u001b[39;00m:  \u001b[38;5;66;03m# Suppress exception chaining of cache lookup failure.\u001b[39;00m\n\u001b[0;32m--> 206\u001b[0m     rgba \u001b[38;5;241m=\u001b[39m \u001b[43m_to_rgba_no_colorcycle\u001b[49m\u001b[43m(\u001b[49m\u001b[43mc\u001b[49m\u001b[43m,\u001b[49m\u001b[43m \u001b[49m\u001b[43malpha\u001b[49m\u001b[43m)\u001b[49m\n\u001b[1;32m    207\u001b[0m     \u001b[38;5;28;01mtry\u001b[39;00m:\n",
      "File \u001b[0;32m~/miniconda3/envs/dan-dev-sc/lib/python3.9/site-packages/matplotlib/colors.py:284\u001b[0m, in \u001b[0;36m_to_rgba_no_colorcycle\u001b[0;34m(c, alpha)\u001b[0m\n\u001b[1;32m    283\u001b[0m \u001b[38;5;28;01mif\u001b[39;00m \u001b[38;5;129;01mnot\u001b[39;00m np\u001b[38;5;241m.\u001b[39miterable(c):\n\u001b[0;32m--> 284\u001b[0m     \u001b[38;5;28;01mraise\u001b[39;00m \u001b[38;5;167;01mValueError\u001b[39;00m(\u001b[38;5;124mf\u001b[39m\u001b[38;5;124m\"\u001b[39m\u001b[38;5;124mInvalid RGBA argument: \u001b[39m\u001b[38;5;132;01m{\u001b[39;00morig_c\u001b[38;5;132;01m!r}\u001b[39;00m\u001b[38;5;124m\"\u001b[39m)\n\u001b[1;32m    285\u001b[0m \u001b[38;5;28;01mif\u001b[39;00m \u001b[38;5;28mlen\u001b[39m(c) \u001b[38;5;129;01mnot\u001b[39;00m \u001b[38;5;129;01min\u001b[39;00m [\u001b[38;5;241m3\u001b[39m, \u001b[38;5;241m4\u001b[39m]:\n",
      "\u001b[0;31mValueError\u001b[0m: Invalid RGBA argument: nan",
      "\nThe above exception was the direct cause of the following exception:\n",
      "\u001b[0;31mValueError\u001b[0m                                Traceback (most recent call last)",
      "Cell \u001b[0;32mIn[12], line 12\u001b[0m\n\u001b[1;32m      8\u001b[0m trimmed_old_x_df[\u001b[38;5;124m'\u001b[39m\u001b[38;5;124mexpressed\u001b[39m\u001b[38;5;124m'\u001b[39m] \u001b[38;5;241m=\u001b[39m trimmed_old_x_df\u001b[38;5;241m.\u001b[39mapply(\u001b[38;5;28;01mlambda\u001b[39;00m obs_row: is_expressed(obs_row, threshold), axis\u001b[38;5;241m=\u001b[39m\u001b[38;5;241m1\u001b[39m)\n\u001b[1;32m     11\u001b[0m \u001b[38;5;66;03m# Plot the results on the UMAP Projection\u001b[39;00m\n\u001b[0;32m---> 12\u001b[0m \u001b[43mplot_umap\u001b[49m\u001b[43m(\u001b[49m\u001b[43mtrimmed_young_x_df\u001b[49m\u001b[43m,\u001b[49m\u001b[43m \u001b[49m\u001b[43mtrimmed_old_x_df\u001b[49m\u001b[43m,\u001b[49m\u001b[43m \u001b[49m\u001b[43mad_worm_aging\u001b[49m\u001b[43m,\u001b[49m\u001b[43m \u001b[49m\u001b[43mtitle\u001b[49m\u001b[43m,\u001b[49m\u001b[43m \u001b[49m\u001b[43mthreshold\u001b[49m\u001b[43m)\u001b[49m\n\u001b[1;32m     14\u001b[0m \u001b[38;5;66;03m# Calculate some basic stats and save to a CSV file\u001b[39;00m\n\u001b[1;32m     15\u001b[0m collect_stats(trimmed_young_x_df, var_df, title, threshold, \u001b[38;5;241m1\u001b[39m)\n",
      "Cell \u001b[0;32mIn[10], line 39\u001b[0m, in \u001b[0;36mplot_umap\u001b[0;34m(young_x_is_expressed_df, old_x_is_expressed_df, ad_worm_aging, title, threshold)\u001b[0m\n\u001b[1;32m     36\u001b[0m fn_prefix\u001b[38;5;241m=\u001b[39mtitle\u001b[38;5;241m.\u001b[39mreplace(\u001b[38;5;124m'\u001b[39m\u001b[38;5;124m \u001b[39m\u001b[38;5;124m'\u001b[39m, \u001b[38;5;124m'\u001b[39m\u001b[38;5;124m_\u001b[39m\u001b[38;5;124m'\u001b[39m)\u001b[38;5;241m.\u001b[39mlower()\n\u001b[1;32m     37\u001b[0m Path(\u001b[38;5;124mf\u001b[39m\u001b[38;5;124m'\u001b[39m\u001b[38;5;124m./output_data/\u001b[39m\u001b[38;5;132;01m{\u001b[39;00mfn_prefix\u001b[38;5;132;01m}\u001b[39;00m\u001b[38;5;124m'\u001b[39m)\u001b[38;5;241m.\u001b[39mmkdir(parents\u001b[38;5;241m=\u001b[39m\u001b[38;5;28;01mTrue\u001b[39;00m, exist_ok\u001b[38;5;241m=\u001b[39m\u001b[38;5;28;01mTrue\u001b[39;00m)\n\u001b[0;32m---> 39\u001b[0m \u001b[43mplot_umap_image\u001b[49m\u001b[43m(\u001b[49m\u001b[43myoung_x_is_expressed_df\u001b[49m\u001b[43m,\u001b[49m\u001b[43m \u001b[49m\u001b[43mad_worm_aging\u001b[49m\u001b[43m,\u001b[49m\u001b[43m \u001b[49m\u001b[43mtitle\u001b[49m\u001b[43m,\u001b[49m\u001b[43m \u001b[49m\u001b[43mthreshold\u001b[49m\u001b[43m,\u001b[49m\u001b[43m \u001b[49m\u001b[38;5;241;43m1\u001b[39;49m\u001b[43m)\u001b[49m\n\u001b[1;32m     40\u001b[0m plot_umap_image(old_x_is_expressed_df, ad_worm_aging, title, threshold, \u001b[38;5;241m2\u001b[39m)\n\u001b[1;32m     42\u001b[0m plt\u001b[38;5;241m.\u001b[39msavefig(\u001b[38;5;124mf\u001b[39m\u001b[38;5;124m'\u001b[39m\u001b[38;5;124m./output_data/\u001b[39m\u001b[38;5;132;01m{\u001b[39;00mfn_prefix\u001b[38;5;132;01m}\u001b[39;00m\u001b[38;5;124m/\u001b[39m\u001b[38;5;132;01m{\u001b[39;00mfn_prefix\u001b[38;5;132;01m}\u001b[39;00m\u001b[38;5;124m_image_threshold_\u001b[39m\u001b[38;5;132;01m{\u001b[39;00mthreshold\u001b[38;5;132;01m}\u001b[39;00m\u001b[38;5;124m.png\u001b[39m\u001b[38;5;124m'\u001b[39m)\n",
      "Cell \u001b[0;32mIn[10], line 59\u001b[0m, in \u001b[0;36mplot_umap_image\u001b[0;34m(x_is_expressed_df, ad_worm_aging, title, threshold, pos)\u001b[0m\n\u001b[1;32m     56\u001b[0m colors \u001b[38;5;241m=\u001b[39m {\u001b[38;5;124m'\u001b[39m\u001b[38;5;124mNo\u001b[39m\u001b[38;5;124m'\u001b[39m:\u001b[38;5;124m'\u001b[39m\u001b[38;5;124m#1f77b4\u001b[39m\u001b[38;5;124m'\u001b[39m, \u001b[38;5;124m'\u001b[39m\u001b[38;5;124mYes\u001b[39m\u001b[38;5;124m'\u001b[39m:\u001b[38;5;124m'\u001b[39m\u001b[38;5;124m#d62728\u001b[39m\u001b[38;5;124m'\u001b[39m}\n\u001b[1;32m     58\u001b[0m plt\u001b[38;5;241m.\u001b[39mrcParams[\u001b[38;5;124m'\u001b[39m\u001b[38;5;124mfigure.dpi\u001b[39m\u001b[38;5;124m'\u001b[39m] \u001b[38;5;241m=\u001b[39m \u001b[38;5;241m500\u001b[39m\n\u001b[0;32m---> 59\u001b[0m sss \u001b[38;5;241m=\u001b[39m \u001b[43mplt\u001b[49m\u001b[38;5;241;43m.\u001b[39;49m\u001b[43mscatter\u001b[49m\u001b[43m(\u001b[49m\u001b[43mx_umap_df\u001b[49m\u001b[43m[\u001b[49m\u001b[38;5;124;43m'\u001b[39;49m\u001b[38;5;124;43mX\u001b[39;49m\u001b[38;5;124;43m'\u001b[39;49m\u001b[43m]\u001b[49m\u001b[43m,\u001b[49m\u001b[43mx_umap_df\u001b[49m\u001b[43m[\u001b[49m\u001b[38;5;124;43m'\u001b[39;49m\u001b[38;5;124;43mY\u001b[39;49m\u001b[38;5;124;43m'\u001b[39;49m\u001b[43m]\u001b[49m\u001b[43m,\u001b[49m\u001b[43m \u001b[49m\u001b[43mc\u001b[49m\u001b[38;5;241;43m=\u001b[39;49m\u001b[43mx_umap_df\u001b[49m\u001b[43m[\u001b[49m\u001b[38;5;124;43m'\u001b[39;49m\u001b[38;5;124;43mexpressed\u001b[39;49m\u001b[38;5;124;43m'\u001b[39;49m\u001b[43m]\u001b[49m\u001b[38;5;241;43m.\u001b[39;49m\u001b[43mmap\u001b[49m\u001b[43m(\u001b[49m\u001b[43mcolors\u001b[49m\u001b[43m)\u001b[49m\u001b[43m,\u001b[49m\u001b[43m \u001b[49m\u001b[43ms\u001b[49m\u001b[38;5;241;43m=\u001b[39;49m\u001b[38;5;241;43m.008\u001b[39;49m\u001b[43m)\u001b[49m\n\u001b[1;32m     60\u001b[0m plt\u001b[38;5;241m.\u001b[39mgca()\u001b[38;5;241m.\u001b[39mset_aspect(\u001b[38;5;124m'\u001b[39m\u001b[38;5;124mequal\u001b[39m\u001b[38;5;124m'\u001b[39m, \u001b[38;5;124m'\u001b[39m\u001b[38;5;124mdatalim\u001b[39m\u001b[38;5;124m'\u001b[39m)\n\u001b[1;32m     61\u001b[0m plt\u001b[38;5;241m.\u001b[39msuptitle(\u001b[38;5;124mf\u001b[39m\u001b[38;5;124m\"\u001b[39m\u001b[38;5;124mProjection of Genes [Threshold > \u001b[39m\u001b[38;5;132;01m{\u001b[39;00mthreshold\u001b[38;5;132;01m}\u001b[39;00m\u001b[38;5;124m]\u001b[39m\u001b[38;5;124m\"\u001b[39m)\n",
      "File \u001b[0;32m~/miniconda3/envs/dan-dev-sc/lib/python3.9/site-packages/matplotlib/pyplot.py:3068\u001b[0m, in \u001b[0;36mscatter\u001b[0;34m(x, y, s, c, marker, cmap, norm, vmin, vmax, alpha, linewidths, edgecolors, plotnonfinite, data, **kwargs)\u001b[0m\n\u001b[1;32m   3063\u001b[0m \u001b[38;5;129m@_copy_docstring_and_deprecators\u001b[39m(Axes\u001b[38;5;241m.\u001b[39mscatter)\n\u001b[1;32m   3064\u001b[0m \u001b[38;5;28;01mdef\u001b[39;00m \u001b[38;5;21mscatter\u001b[39m(\n\u001b[1;32m   3065\u001b[0m         x, y, s\u001b[38;5;241m=\u001b[39m\u001b[38;5;28;01mNone\u001b[39;00m, c\u001b[38;5;241m=\u001b[39m\u001b[38;5;28;01mNone\u001b[39;00m, marker\u001b[38;5;241m=\u001b[39m\u001b[38;5;28;01mNone\u001b[39;00m, cmap\u001b[38;5;241m=\u001b[39m\u001b[38;5;28;01mNone\u001b[39;00m, norm\u001b[38;5;241m=\u001b[39m\u001b[38;5;28;01mNone\u001b[39;00m,\n\u001b[1;32m   3066\u001b[0m         vmin\u001b[38;5;241m=\u001b[39m\u001b[38;5;28;01mNone\u001b[39;00m, vmax\u001b[38;5;241m=\u001b[39m\u001b[38;5;28;01mNone\u001b[39;00m, alpha\u001b[38;5;241m=\u001b[39m\u001b[38;5;28;01mNone\u001b[39;00m, linewidths\u001b[38;5;241m=\u001b[39m\u001b[38;5;28;01mNone\u001b[39;00m, \u001b[38;5;241m*\u001b[39m,\n\u001b[1;32m   3067\u001b[0m         edgecolors\u001b[38;5;241m=\u001b[39m\u001b[38;5;28;01mNone\u001b[39;00m, plotnonfinite\u001b[38;5;241m=\u001b[39m\u001b[38;5;28;01mFalse\u001b[39;00m, data\u001b[38;5;241m=\u001b[39m\u001b[38;5;28;01mNone\u001b[39;00m, \u001b[38;5;241m*\u001b[39m\u001b[38;5;241m*\u001b[39mkwargs):\n\u001b[0;32m-> 3068\u001b[0m     __ret \u001b[38;5;241m=\u001b[39m \u001b[43mgca\u001b[49m\u001b[43m(\u001b[49m\u001b[43m)\u001b[49m\u001b[38;5;241;43m.\u001b[39;49m\u001b[43mscatter\u001b[49m\u001b[43m(\u001b[49m\n\u001b[1;32m   3069\u001b[0m \u001b[43m        \u001b[49m\u001b[43mx\u001b[49m\u001b[43m,\u001b[49m\u001b[43m \u001b[49m\u001b[43my\u001b[49m\u001b[43m,\u001b[49m\u001b[43m \u001b[49m\u001b[43ms\u001b[49m\u001b[38;5;241;43m=\u001b[39;49m\u001b[43ms\u001b[49m\u001b[43m,\u001b[49m\u001b[43m \u001b[49m\u001b[43mc\u001b[49m\u001b[38;5;241;43m=\u001b[39;49m\u001b[43mc\u001b[49m\u001b[43m,\u001b[49m\u001b[43m \u001b[49m\u001b[43mmarker\u001b[49m\u001b[38;5;241;43m=\u001b[39;49m\u001b[43mmarker\u001b[49m\u001b[43m,\u001b[49m\u001b[43m \u001b[49m\u001b[43mcmap\u001b[49m\u001b[38;5;241;43m=\u001b[39;49m\u001b[43mcmap\u001b[49m\u001b[43m,\u001b[49m\u001b[43m \u001b[49m\u001b[43mnorm\u001b[49m\u001b[38;5;241;43m=\u001b[39;49m\u001b[43mnorm\u001b[49m\u001b[43m,\u001b[49m\n\u001b[1;32m   3070\u001b[0m \u001b[43m        \u001b[49m\u001b[43mvmin\u001b[49m\u001b[38;5;241;43m=\u001b[39;49m\u001b[43mvmin\u001b[49m\u001b[43m,\u001b[49m\u001b[43m \u001b[49m\u001b[43mvmax\u001b[49m\u001b[38;5;241;43m=\u001b[39;49m\u001b[43mvmax\u001b[49m\u001b[43m,\u001b[49m\u001b[43m \u001b[49m\u001b[43malpha\u001b[49m\u001b[38;5;241;43m=\u001b[39;49m\u001b[43malpha\u001b[49m\u001b[43m,\u001b[49m\u001b[43m \u001b[49m\u001b[43mlinewidths\u001b[49m\u001b[38;5;241;43m=\u001b[39;49m\u001b[43mlinewidths\u001b[49m\u001b[43m,\u001b[49m\n\u001b[1;32m   3071\u001b[0m \u001b[43m        \u001b[49m\u001b[43medgecolors\u001b[49m\u001b[38;5;241;43m=\u001b[39;49m\u001b[43medgecolors\u001b[49m\u001b[43m,\u001b[49m\u001b[43m \u001b[49m\u001b[43mplotnonfinite\u001b[49m\u001b[38;5;241;43m=\u001b[39;49m\u001b[43mplotnonfinite\u001b[49m\u001b[43m,\u001b[49m\n\u001b[1;32m   3072\u001b[0m \u001b[43m        \u001b[49m\u001b[38;5;241;43m*\u001b[39;49m\u001b[38;5;241;43m*\u001b[39;49m\u001b[43m(\u001b[49m\u001b[43m{\u001b[49m\u001b[38;5;124;43m\"\u001b[39;49m\u001b[38;5;124;43mdata\u001b[39;49m\u001b[38;5;124;43m\"\u001b[39;49m\u001b[43m:\u001b[49m\u001b[43m \u001b[49m\u001b[43mdata\u001b[49m\u001b[43m}\u001b[49m\u001b[43m \u001b[49m\u001b[38;5;28;43;01mif\u001b[39;49;00m\u001b[43m \u001b[49m\u001b[43mdata\u001b[49m\u001b[43m \u001b[49m\u001b[38;5;129;43;01mis\u001b[39;49;00m\u001b[43m \u001b[49m\u001b[38;5;129;43;01mnot\u001b[39;49;00m\u001b[43m \u001b[49m\u001b[38;5;28;43;01mNone\u001b[39;49;00m\u001b[43m \u001b[49m\u001b[38;5;28;43;01melse\u001b[39;49;00m\u001b[43m \u001b[49m\u001b[43m{\u001b[49m\u001b[43m}\u001b[49m\u001b[43m)\u001b[49m\u001b[43m,\u001b[49m\u001b[43m \u001b[49m\u001b[38;5;241;43m*\u001b[39;49m\u001b[38;5;241;43m*\u001b[39;49m\u001b[43mkwargs\u001b[49m\u001b[43m)\u001b[49m\n\u001b[1;32m   3073\u001b[0m     sci(__ret)\n\u001b[1;32m   3074\u001b[0m     \u001b[38;5;28;01mreturn\u001b[39;00m __ret\n",
      "File \u001b[0;32m~/miniconda3/envs/dan-dev-sc/lib/python3.9/site-packages/matplotlib/__init__.py:1361\u001b[0m, in \u001b[0;36m_preprocess_data.<locals>.inner\u001b[0;34m(ax, data, *args, **kwargs)\u001b[0m\n\u001b[1;32m   1358\u001b[0m \u001b[38;5;129m@functools\u001b[39m\u001b[38;5;241m.\u001b[39mwraps(func)\n\u001b[1;32m   1359\u001b[0m \u001b[38;5;28;01mdef\u001b[39;00m \u001b[38;5;21minner\u001b[39m(ax, \u001b[38;5;241m*\u001b[39margs, data\u001b[38;5;241m=\u001b[39m\u001b[38;5;28;01mNone\u001b[39;00m, \u001b[38;5;241m*\u001b[39m\u001b[38;5;241m*\u001b[39mkwargs):\n\u001b[1;32m   1360\u001b[0m     \u001b[38;5;28;01mif\u001b[39;00m data \u001b[38;5;129;01mis\u001b[39;00m \u001b[38;5;28;01mNone\u001b[39;00m:\n\u001b[0;32m-> 1361\u001b[0m         \u001b[38;5;28;01mreturn\u001b[39;00m \u001b[43mfunc\u001b[49m\u001b[43m(\u001b[49m\u001b[43max\u001b[49m\u001b[43m,\u001b[49m\u001b[43m \u001b[49m\u001b[38;5;241;43m*\u001b[39;49m\u001b[38;5;28;43mmap\u001b[39;49m\u001b[43m(\u001b[49m\u001b[43msanitize_sequence\u001b[49m\u001b[43m,\u001b[49m\u001b[43m \u001b[49m\u001b[43margs\u001b[49m\u001b[43m)\u001b[49m\u001b[43m,\u001b[49m\u001b[43m \u001b[49m\u001b[38;5;241;43m*\u001b[39;49m\u001b[38;5;241;43m*\u001b[39;49m\u001b[43mkwargs\u001b[49m\u001b[43m)\u001b[49m\n\u001b[1;32m   1363\u001b[0m     bound \u001b[38;5;241m=\u001b[39m new_sig\u001b[38;5;241m.\u001b[39mbind(ax, \u001b[38;5;241m*\u001b[39margs, \u001b[38;5;241m*\u001b[39m\u001b[38;5;241m*\u001b[39mkwargs)\n\u001b[1;32m   1364\u001b[0m     auto_label \u001b[38;5;241m=\u001b[39m (bound\u001b[38;5;241m.\u001b[39marguments\u001b[38;5;241m.\u001b[39mget(label_namer)\n\u001b[1;32m   1365\u001b[0m                   \u001b[38;5;129;01mor\u001b[39;00m bound\u001b[38;5;241m.\u001b[39mkwargs\u001b[38;5;241m.\u001b[39mget(label_namer))\n",
      "File \u001b[0;32m~/miniconda3/envs/dan-dev-sc/lib/python3.9/site-packages/matplotlib/axes/_axes.py:4516\u001b[0m, in \u001b[0;36mAxes.scatter\u001b[0;34m(self, x, y, s, c, marker, cmap, norm, vmin, vmax, alpha, linewidths, edgecolors, plotnonfinite, **kwargs)\u001b[0m\n\u001b[1;32m   4513\u001b[0m \u001b[38;5;28;01mif\u001b[39;00m edgecolors \u001b[38;5;129;01mis\u001b[39;00m \u001b[38;5;28;01mNone\u001b[39;00m:\n\u001b[1;32m   4514\u001b[0m     orig_edgecolor \u001b[38;5;241m=\u001b[39m kwargs\u001b[38;5;241m.\u001b[39mget(\u001b[38;5;124m'\u001b[39m\u001b[38;5;124medgecolor\u001b[39m\u001b[38;5;124m'\u001b[39m, \u001b[38;5;28;01mNone\u001b[39;00m)\n\u001b[1;32m   4515\u001b[0m c, colors, edgecolors \u001b[38;5;241m=\u001b[39m \\\n\u001b[0;32m-> 4516\u001b[0m     \u001b[38;5;28;43mself\u001b[39;49m\u001b[38;5;241;43m.\u001b[39;49m\u001b[43m_parse_scatter_color_args\u001b[49m\u001b[43m(\u001b[49m\n\u001b[1;32m   4517\u001b[0m \u001b[43m        \u001b[49m\u001b[43mc\u001b[49m\u001b[43m,\u001b[49m\u001b[43m \u001b[49m\u001b[43medgecolors\u001b[49m\u001b[43m,\u001b[49m\u001b[43m \u001b[49m\u001b[43mkwargs\u001b[49m\u001b[43m,\u001b[49m\u001b[43m \u001b[49m\u001b[43mx\u001b[49m\u001b[38;5;241;43m.\u001b[39;49m\u001b[43msize\u001b[49m\u001b[43m,\u001b[49m\n\u001b[1;32m   4518\u001b[0m \u001b[43m        \u001b[49m\u001b[43mget_next_color_func\u001b[49m\u001b[38;5;241;43m=\u001b[39;49m\u001b[38;5;28;43mself\u001b[39;49m\u001b[38;5;241;43m.\u001b[39;49m\u001b[43m_get_patches_for_fill\u001b[49m\u001b[38;5;241;43m.\u001b[39;49m\u001b[43mget_next_color\u001b[49m\u001b[43m)\u001b[49m\n\u001b[1;32m   4520\u001b[0m \u001b[38;5;28;01mif\u001b[39;00m plotnonfinite \u001b[38;5;129;01mand\u001b[39;00m colors \u001b[38;5;129;01mis\u001b[39;00m \u001b[38;5;28;01mNone\u001b[39;00m:\n\u001b[1;32m   4521\u001b[0m     c \u001b[38;5;241m=\u001b[39m np\u001b[38;5;241m.\u001b[39mma\u001b[38;5;241m.\u001b[39mmasked_invalid(c)\n",
      "File \u001b[0;32m~/miniconda3/envs/dan-dev-sc/lib/python3.9/site-packages/matplotlib/axes/_axes.py:4359\u001b[0m, in \u001b[0;36mAxes._parse_scatter_color_args\u001b[0;34m(c, edgecolors, kwargs, xsize, get_next_color_func)\u001b[0m\n\u001b[1;32m   4356\u001b[0m             \u001b[38;5;28;01mraise\u001b[39;00m invalid_shape_exception(c\u001b[38;5;241m.\u001b[39msize, xsize) \u001b[38;5;28;01mfrom\u001b[39;00m \u001b[38;5;21;01merr\u001b[39;00m\n\u001b[1;32m   4357\u001b[0m         \u001b[38;5;66;03m# Both the mapping *and* the RGBA conversion failed: pretty\u001b[39;00m\n\u001b[1;32m   4358\u001b[0m         \u001b[38;5;66;03m# severe failure => one may appreciate a verbose feedback.\u001b[39;00m\n\u001b[0;32m-> 4359\u001b[0m         \u001b[38;5;28;01mraise\u001b[39;00m \u001b[38;5;167;01mValueError\u001b[39;00m(\n\u001b[1;32m   4360\u001b[0m             \u001b[38;5;124mf\u001b[39m\u001b[38;5;124m\"\u001b[39m\u001b[38;5;124m'\u001b[39m\u001b[38;5;124mc\u001b[39m\u001b[38;5;124m'\u001b[39m\u001b[38;5;124m argument must be a color, a sequence of colors, \u001b[39m\u001b[38;5;124m\"\u001b[39m\n\u001b[1;32m   4361\u001b[0m             \u001b[38;5;124mf\u001b[39m\u001b[38;5;124m\"\u001b[39m\u001b[38;5;124mor a sequence of numbers, not \u001b[39m\u001b[38;5;132;01m{\u001b[39;00mc\u001b[38;5;132;01m}\u001b[39;00m\u001b[38;5;124m\"\u001b[39m) \u001b[38;5;28;01mfrom\u001b[39;00m \u001b[38;5;21;01merr\u001b[39;00m\n\u001b[1;32m   4362\u001b[0m \u001b[38;5;28;01melse\u001b[39;00m:\n\u001b[1;32m   4363\u001b[0m     \u001b[38;5;28;01mif\u001b[39;00m \u001b[38;5;28mlen\u001b[39m(colors) \u001b[38;5;129;01mnot\u001b[39;00m \u001b[38;5;129;01min\u001b[39;00m (\u001b[38;5;241m0\u001b[39m, \u001b[38;5;241m1\u001b[39m, xsize):\n\u001b[1;32m   4364\u001b[0m         \u001b[38;5;66;03m# NB: remember that a single color is also acceptable.\u001b[39;00m\n\u001b[1;32m   4365\u001b[0m         \u001b[38;5;66;03m# Besides *colors* will be an empty array if c == 'none'.\u001b[39;00m\n",
      "\u001b[0;31mValueError\u001b[0m: 'c' argument must be a color, a sequence of colors, or a sequence of numbers, not 0        NaN\n1        NaN\n2        NaN\n3        NaN\n4        NaN\n        ... \n47418    NaN\n47419    NaN\n47420    NaN\n47421    NaN\n47422    NaN\nName: expressed, Length: 47423, dtype: object"
     ]
    },
    {
     "data": {
      "image/png": "[encoded data removed]",
      "text/plain": [
       "<Figure size 640x480 with 1 Axes>"
      ]
     },
     "metadata": {},
     "output_type": "display_data"
    }
   ],
   "source": [
    "\n",
    "# Remove the columns we are not interested in for this experiment\n",
    "trimmed_young_x_df = remove_unneeded_genes(young_x_df, genes_to_evaluate_df)\n",
    "trimmed_old_x_df = remove_unneeded_genes(old_x_df, genes_to_evaluate_df)\n",
    "step=2 # Set the step increment\n",
    "for threshold in range(express_min, express_max+step, step):\n",
    "    # Test if the gene have a high enough level of expression to be included in the results\n",
    "    trimmed_young_x_df['expressed'] = trimmed_young_x_df.apply(lambda obs_row: is_expressed(obs_row, threshold), axis=1)\n",
    "    trimmed_old_x_df['expressed'] = trimmed_old_x_df.apply(lambda obs_row: is_expressed(obs_row, threshold), axis=1)\n",
    "    \n",
    "\n",
    "    # Plot the results on the UMAP Projection\n",
    "    plot_umap(trimmed_young_x_df, trimmed_old_x_df, ad_worm_aging, title, threshold)\n",
    "\n",
    "    # Calculate some basic stats and save to a CSV file\n",
    "    collect_stats(trimmed_young_x_df, var_df, title, threshold, 1)\n",
    "    collect_stats(trimmed__old_x_df, var_df, title, threshold, 2)\n",
    "    \n",
    "    print(f'Completed threshold {threshold}.')\n",
    "    trimmed_young_x_df = trimmed_young_x_df.drop('expressed', axis = 1)\n",
    "    trimmed_old_x_df = trimmed_old_x_df.drop('expressed', axis = 1)\n",
    "\n",
    "print(f'Done')"
   ]
  },
  {
   "cell_type": "code",
   "execution_count": null,
   "id": "964085f2-0a1d-4872-9a46-1d09dd100c0c",
   "metadata": {},
   "outputs": [],
   "source": []
  }
 ],
 "metadata": {
  "kernelspec": {
   "display_name": "Python [conda env:dan-dev-sc]",
   "language": "python",
   "name": "conda-env-dan-dev-sc-py"
  },
  "language_info": {
   "codemirror_mode": {
    "name": "ipython",
    "version": 3
   },
   "file_extension": ".py",
   "mimetype": "text/x-python",
   "name": "python",
   "nbconvert_exporter": "python",
   "pygments_lexer": "ipython3",
   "version": "3.9.16"
  }
 },
 "nbformat": 4,
 "nbformat_minor": 5
}
