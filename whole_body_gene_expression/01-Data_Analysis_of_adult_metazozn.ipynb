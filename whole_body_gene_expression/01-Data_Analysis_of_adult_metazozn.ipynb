{
 "cells": [
  {
   "cell_type": "markdown",
   "id": "24af8fc4",
   "metadata": {
    "tags": []
   },
   "source": [
    "# Data Analysis of ad_worm_aging file\n",
    "\n",
    "\n",
    "In this notebook we evaluate the contents of [cds_baseline.h5ad](https://zenodo.org/record/7296547/files/cds_baseline.h5ad)\n",
    "\n",
    "The data in the ad_worm_aging file was create for this paper\n",
    "[hole-body gene expression atlas of an adult metazoan](https://www.biorxiv.org/content/10.1101/2022.11.06.515345v1)\n",
    "\n"
   ]
  },
  {
   "cell_type": "code",
   "execution_count": null,
   "id": "ab781641",
   "metadata": {},
   "outputs": [],
   "source": [
    "# Run this cell to download the data\n",
    "# If you already have the data, SKIP this step\n",
    "\n",
    "!wget -P ./input_data https://zenodo.org/record/7296547/files/cds_baseline.h5ad"
   ]
  },
  {
   "cell_type": "code",
   "execution_count": null,
   "id": "65e052ef-031e-4f2c-ab88-df103e98dfbb",
   "metadata": {},
   "outputs": [],
   "source": [
    "import os\n",
    "output_dir = \"./output_data\"\n",
    "if not os.path.exists(output_dir):\n",
    "    os.makedirs(output_dir)"
   ]
  },
  {
   "cell_type": "markdown",
   "id": "fd3e54c0",
   "metadata": {},
   "source": [
    "\n",
    "## [Annotated data](https://anndata.readthedocs.io/en/latest/)\n",
    "\n",
    "The below diagram provides a view of the overall structure of the file and the layout of the data content.\n",
    "  "
   ]
  },
  {
   "cell_type": "code",
   "execution_count": null,
   "id": "994bffd8",
   "metadata": {},
   "outputs": [],
   "source": [
    "%%html\n",
    "<h2>Annotated Data Scructure</h2>\n",
    "<img src=\"https://anndata.readthedocs.io/en/latest/_images/anndata_schema.svg\" width=400/>"
   ]
  },
  {
   "cell_type": "code",
   "execution_count": null,
   "id": "849e05da",
   "metadata": {},
   "outputs": [],
   "source": [
    "# Check the version of anndata we are using\n",
    "import anndata as ad\n",
    "ad.__version__"
   ]
  },
  {
   "cell_type": "code",
   "execution_count": null,
   "id": "9c2d782d",
   "metadata": {},
   "outputs": [],
   "source": [
    "# Load the h5ad file\n",
    "input_dir='./input_data'\n",
    "adult_metazoan = ad.read(f\"{input_dir}/cds_baseline.h5ad\")\n",
    "adult_metazoan"
   ]
  },
  {
   "cell_type": "code",
   "execution_count": null,
   "id": "2702aa74-1f80-450c-ad42-4b2fb9101b60",
   "metadata": {},
   "outputs": [],
   "source": [
    "adult_metazoan.uns['cds_version']"
   ]
  },
  {
   "cell_type": "markdown",
   "id": "75264730",
   "metadata": {},
   "source": [
    "## Evaluation of observations data"
   ]
  },
  {
   "cell_type": "code",
   "execution_count": null,
   "id": "b018af5c",
   "metadata": {},
   "outputs": [],
   "source": [
    "# Let's take a look at observations\n",
    "obs_df = adult_metazoan.obs\n",
    "obs_df"
   ]
  },
  {
   "cell_type": "markdown",
   "id": "a356f0ca-5fce-4a3a-a92f-d5eec390bf6e",
   "metadata": {},
   "source": [
    "### Questions on the cluster naming convension\n",
    "\n",
    "What naming/numbering convention is used for cell type/cluster names (`annotate_name`)? e.g., the 41 in this example 41_2:marginal. An initial hypothesis is that this is the order in which the UMAP algorithm discovered the clusters.\n",
    "\n",
    "What is the meaning of the prefixes _0, _1, _2 on the annotate_names? e.g., the _2 in this example 41_2:marginal. An initial hypothesis is that cluster definitions were defined and then a refinement pass on clusters further broke down the cluster groups identifying additional clusters.\n",
    "\n"
   ]
  },
  {
   "cell_type": "code",
   "execution_count": null,
   "id": "27a16142",
   "metadata": {},
   "outputs": [],
   "source": [
    "# Let's confirm that annotate_name aligns with cell types\n",
    "# FROM PAPER: \"Identification of over 163 distinct C. elegans cell types and subtypes \"\n",
    "\n",
    "# Yes, we see 163 Unique Cell types\n",
    "cell_types = obs_df['assigned_cell_type'].unique()\n",
    "print(f\"Cell types = {len(cell_types)}\")\n",
    "\n",
    "print(\"Cell Types\")\n",
    "# All we are doing here is prefixing the cell_type names with spaces so we align on the : (colon)\n",
    "print(*sorted(list(cell_types)), sep='\\n')\n"
   ]
  },
  {
   "cell_type": "code",
   "execution_count": null,
   "id": "da05230a-055b-41d5-b712-a0935c188202",
   "metadata": {},
   "outputs": [],
   "source": [
    "\n",
    "cell_type_group = obs_df['cell_type_group'].unique()\n",
    "print(f\"Cell type Groups = {len(cell_type_group)}\")\n",
    "\n",
    "print(\"Cell Type Groups\")\n",
    "\n",
    "print(*sorted(list(cell_type_group)), sep='\\n')\n"
   ]
  },
  {
   "cell_type": "markdown",
   "id": "2a9e58d1",
   "metadata": {},
   "source": [
    "## Evaluation of Var Data"
   ]
  },
  {
   "cell_type": "code",
   "execution_count": null,
   "id": "b659d171",
   "metadata": {},
   "outputs": [],
   "source": [
    "#var: 'id', 'gene_short_name', 'num_cells_expressed', 'use_for_ordering'\n",
    "var_df = adult_metazoan.var\n",
    "var_df"
   ]
  },
  {
   "cell_type": "markdown",
   "id": "11730b1f",
   "metadata": {},
   "source": [
    "## Evaluation of the X Data"
   ]
  },
  {
   "cell_type": "code",
   "execution_count": null,
   "id": "c12bd99a",
   "metadata": {},
   "outputs": [],
   "source": [
    "import pandas as pd\n",
    "from scipy.sparse import csr_matrix\n",
    "\n",
    "\n",
    "x_df = pd.DataFrame(data=csr_matrix.todense(adult_metazoan.X))\n",
    "x_df"
   ]
  },
  {
   "cell_type": "markdown",
   "id": "42a2056c",
   "metadata": {},
   "source": [
    "## Evaluation of obsm: 'X_umap', 'scvi'"
   ]
  },
  {
   "cell_type": "code",
   "execution_count": null,
   "id": "8dfadf17",
   "metadata": {},
   "outputs": [],
   "source": [
    "X_umap = adult_metazoan.obsm['UMAP']\n",
    "print(type(X_umap))\n",
    "print(X_umap.shape)\n",
    "print(X_umap)\n",
    "print(X_umap.T)"
   ]
  },
  {
   "cell_type": "code",
   "execution_count": null,
   "id": "f76f612f",
   "metadata": {},
   "outputs": [],
   "source": [
    "import matplotlib.pyplot as plt\n",
    "import numpy as np\n",
    "%matplotlib inline\n",
    "\n",
    "plt.rcParams['figure.dpi'] = 500\n",
    "#plt.scatter(X_umap.T[0],X_umap.T[1],  cmap='Spectral', s=.01)\n",
    "plt.scatter(X_umap.T[0],X_umap.T[1], c='grey',  s=.008)\n",
    "plt.gca().set_aspect('equal', 'datalim')\n",
    "#plt.colorbar(boundaries=np.arange(11)-0.5).set_ticks(np.arange(10))\n",
    "plt.title('UMAP projection of the dataset', fontsize=18);"
   ]
  },
  {
   "cell_type": "code",
   "execution_count": null,
   "id": "e7c1f01f-aafa-480b-aee1-2ea3b99798b0",
   "metadata": {},
   "outputs": [],
   "source": [
    "# Create a category type list \n",
    "import matplotlib.pyplot as plt\n",
    "\n",
    "def cell_type_group(row, cell_type_group):\n",
    "    ret_val='other'\n",
    "    for cat in cell_type_group:\n",
    "        if cat in row['cell_type_group']:\n",
    "            ret_val=cat\n",
    "            break\n",
    "    return ret_val\n",
    "\n",
    "cell_type_group_series = obs_df['cell_type_group'].unique()\n",
    "cell_type_group_list = list(cell_type_group_series)\n",
    "\n",
    "obs_df['category'] = obs_df.apply(lambda row: cell_type_group(row, cell_type_group_list), axis=1)\n",
    "\n",
    "colors = {}\n",
    "cm = plt.get_cmap('gist_rainbow')\n",
    "for index, group in enumerate(cell_type_group_list):\n",
    "    color= cm(1.*index/len(cell_type_group_list))\n",
    "    colors[group]=color\n",
    "\n",
    "colors['Unassigned']='#7f7f7f'\n",
    "colors['Hypodermis']='#a65728'\n",
    "colors    "
   ]
  },
  {
   "cell_type": "code",
   "execution_count": null,
   "id": "ba835cf7-d48b-46ab-b244-a42b04120201",
   "metadata": {},
   "outputs": [],
   "source": [
    "import matplotlib.pyplot as plt\n",
    "import matplotlib.patches as mpatches\n",
    "import matplotlib.colors as mcolors\n",
    "import numpy as np\n",
    "import pandas as pd\n",
    "%matplotlib inline\n",
    "\n",
    "# Map the categories from above to the UMAP \n",
    "X_umap = adult_metazoan.obsm['UMAP']\n",
    "X_umap_df = pd.DataFrame(X_umap, columns = ['X','Y'])\n",
    "\n",
    "# Add the category to the X_umap_df\n",
    "obs2_df = obs_df.reset_index(drop=True)\n",
    "X_umap_df = X_umap_df.join(obs2_df['category'])\n",
    "\n",
    "\n",
    "\n",
    "####################################\n",
    "\n",
    "plt.rcParams['figure.dpi'] = 500\n",
    "sss = plt.scatter(X_umap_df['X'],X_umap_df['Y'], c=X_umap_df['category'].map(colors), s=.008)\n",
    "plt.gca().set_aspect('equal', 'datalim')\n",
    "plt.title('UMAP projection of the dataset', fontsize=18);\n",
    "plt.yticks([])\n",
    "plt.xticks([])\n",
    "\n",
    "patches = [ mpatches.Patch(color=colors[key], label=key) for key in colors.keys()]\n",
    "plt.rcParams[\"legend.fontsize\"] = 5\n",
    "legend = plt.legend(handles=patches)\n",
    "legend.set_title('Cell Group')\n",
    "\n",
    "output_dir='./output_data'\n",
    "file_name='umap_top_15_cell_categories.png'\n",
    "plt.savefig(f'{output_dir}/{file_name}')"
   ]
  },
  {
   "cell_type": "code",
   "execution_count": null,
   "id": "24f611f9-5621-43fb-8899-4b942fa8e532",
   "metadata": {},
   "outputs": [],
   "source": [
    "X_umap_df['category']"
   ]
  },
  {
   "cell_type": "code",
   "execution_count": null,
   "id": "fbfb7b12-c62e-4145-8071-fc3cb2e84590",
   "metadata": {},
   "outputs": [],
   "source": []
  }
 ],
 "metadata": {
  "kernelspec": {
   "display_name": "Python [conda env:dan-dev-sc]",
   "language": "python",
   "name": "conda-env-dan-dev-sc-py"
  },
  "language_info": {
   "codemirror_mode": {
    "name": "ipython",
    "version": 3
   },
   "file_extension": ".py",
   "mimetype": "text/x-python",
   "name": "python",
   "nbconvert_exporter": "python",
   "pygments_lexer": "ipython3",
   "version": "3.9.16"
  }
 },
 "nbformat": 4,
 "nbformat_minor": 5
}
