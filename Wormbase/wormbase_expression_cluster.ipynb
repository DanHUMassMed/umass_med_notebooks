{
 "cells": [
  {
   "cell_type": "markdown",
   "id": "1918dc28-e19f-45fa-b3d1-1f3de7e8340b",
   "metadata": {},
   "source": [
    "# Wormbase Expression Cluster Data\n",
    "Collect Data from Wormbase about Papers written for each `Live`, `Protien Coding Gene` Wormbase Id\n",
    "\n",
    "---\n",
    "Wormbase has the below genes we only look at protein_coding_gene\n",
    "##### Summary of Gene Types for all Wormbase ID's\n",
    "```\n",
    "protein_coding_gene      19,985\n",
    "piRNA_gene               15,363\n",
    "ncRNA_gene                8,487\n",
    "pseudogene                2,131\n",
    "gene                      1,525\n",
    "tRNA_gene                   634\n",
    "snoRNA_gene                 346\n",
    "miRNA_gene                  261\n",
    "lincRNA_gene                193\n",
    "snRNA_gene                  129\n",
    "antisense_lncRNA_gene       100\n",
    "rRNA_gene                    22\n",
    "scRNA_gene                    1\n",
    "```\n",
    "\n",
    "---\n",
    "### Findindings\n",
    "* 4,028 Papers are sourced\n",
    "* 106 protein coding genes do not has any references\n",
    "* Wormbase ID Summary of Expression Cluster\n",
    "```\n",
    "count    19879.000000\n",
    "mean       102.675084\n",
    "std         59.409525\n",
    "min          1.000000\n",
    "25%         60.000000\n",
    "50%         99.000000\n",
    "75%        136.500000\n",
    "max        451.000000\n",
    "```\n",
    "\n",
    "#### Notes\n",
    "\n"
   ]
  },
  {
   "cell_type": "code",
   "execution_count": null,
   "id": "5bbb236f-0413-43a6-8afe-aef338a17607",
   "metadata": {},
   "outputs": [],
   "source": [
    "import numpy as np\n",
    "import pandas as pd\n",
    "import math\n",
    "import requests\n",
    "import json\n",
    "import csv\n",
    "import time\n",
    "import os\n",
    "from datetime import datetime\n",
    "\n",
    "OUTPUT_DATA='./output_data/expression_output'"
   ]
  },
  {
   "cell_type": "code",
   "execution_count": null,
   "id": "dac3aa51-3506-4f7b-8e7d-e25074cb83fb",
   "metadata": {},
   "outputs": [],
   "source": [
    "# This is what the output record will look like\n",
    "class expression_cluster_record:\n",
    "    wormbase_id   = 0\n",
    "    cluster_id    = 1\n",
    "    cluster_label = 2 \n",
    "    description   = 3\n",
    "    header = ['wormbase_id', 'cluster_id', 'cluster_label', 'description']\n",
    "    empty = [None, None, None, None]\n",
    "    \n",
    "output_record = expression_cluster_record"
   ]
  },
  {
   "cell_type": "code",
   "execution_count": null,
   "id": "5f2dd240-30a0-4f89-81d6-d4ef5f693d7b",
   "metadata": {},
   "outputs": [],
   "source": [
    "# Flatten the JSON response into a set od records\n",
    "def wormbase_json_to_dataframe(json_data):\n",
    "    records = []\n",
    "    json_data_data = json_data[\"expression_cluster\"]['data']\n",
    "    if json_data_data == None:\n",
    "        record = output_record.empty.copy()\n",
    "        record[output_record.wormbase_id] = json_data[\"name\"]\n",
    "        records.append(record)\n",
    "        print(f'No expression_cluster data for {record[output_record.wormbase_id]}')\n",
    "    else:\n",
    "        #print(len(expression_cluster_data))\n",
    "        for index, activity in enumerate(json_data_data):\n",
    "            record = output_record.empty.copy()\n",
    "            evidence = None\n",
    "            record[output_record.wormbase_id] = json_data[\"name\"]\n",
    "            #print(f\"{index=} {'='*80}\")\n",
    "            if 'expression_cluster' in activity:\n",
    "                record[output_record.cluster_id] = activity['expression_cluster']['id']\n",
    "                record[output_record.cluster_label] = activity['expression_cluster']['label']\n",
    "            if 'description' in activity:\n",
    "                record[output_record.description] = activity['description'][0]\n",
    "                    \n",
    "            records.append(record)\n",
    "            \n",
    "    return records\n"
   ]
  },
  {
   "cell_type": "code",
   "execution_count": null,
   "id": "39f527e4-6ed4-47bb-a6d1-63c92bf39fc4",
   "metadata": {},
   "outputs": [],
   "source": [
    "# Very simple HTTP call    \n",
    "def call_wormbase(wormbase_id):\n",
    "    api_url = f'http://rest.wormbase.org/rest/field/gene/{wormbase_id}/expression_cluster'\n",
    "    # Absolutley no error checking is done!!\n",
    "    response = requests.get(api_url)\n",
    "    json_data = json.loads(response.text)\n",
    "    return response.status_code, json_data\n",
    "\n",
    "# Process the results\n",
    "def process_response(status_code, json_data):\n",
    "    ret_val = None\n",
    "    if status_code == 200:\n",
    "        ret_val = wormbase_json_to_dataframe(json_data)\n",
    "    else:\n",
    "        print(f\"Error code {status_code}\")\n",
    "        if reason in json_data:\n",
    "            print(json_data['reason'])\n",
    "    return ret_val\n",
    "\n",
    "# write the records to a file \n",
    "def write_records(filename, records):\n",
    "    write_type='w'\n",
    "    if os.path.isfile(filename):\n",
    "        write_type='a'\n",
    "\n",
    "    with open(filename, write_type, newline='') as file:\n",
    "        writer = csv.writer(file)\n",
    "        if(write_type == 'w'):\n",
    "            writer.writerows([output_record.header])\n",
    "        \n",
    "        writer.writerows(records)\n",
    "\n"
   ]
  },
  {
   "cell_type": "code",
   "execution_count": null,
   "id": "079a1b64-d979-4f31-be21-da7b13d1d73b",
   "metadata": {},
   "outputs": [],
   "source": [
    "# iterate a collection of wormbase ids\n",
    "def process_all(genes_to_evaluate_df, filename):\n",
    "    \n",
    "    if os.path.isfile(filename):\n",
    "        os.remove(filename)\n",
    "\n",
    "    df_len = len(genes_to_evaluate_df)\n",
    "    index_pos=0\n",
    "    for index, row in genes_to_evaluate_df.iterrows():\n",
    "        try:\n",
    "            print(f\"processing {row[0]} {index_pos+1:04} of {df_len}\")\n",
    "            index_pos +=1\n",
    "            wormbase_id = row[0]\n",
    "            status_code, json_data = call_wormbase(wormbase_id)\n",
    "            records = process_response(status_code, json_data)\n",
    "            if records:\n",
    "                #print(records)\n",
    "                write_records(filename, records)\n",
    "            time.sleep(.4)\n",
    "        except Exception as e:\n",
    "            print(f\"An error occurred: {e}\")\n",
    "            #print(json.dumps(json_data,indent=4))\n",
    "        \n"
   ]
  },
  {
   "cell_type": "code",
   "execution_count": null,
   "id": "9e15b016-98a9-4da7-8b7a-d2d9e90d0fc3",
   "metadata": {},
   "outputs": [],
   "source": [
    "# Load the wormbase category list\n",
    "# Setup. to be queried\n",
    "wormbase_ids_df = pd.read_csv('./input_data/WB_protein_coding_genes.csv') \n",
    "wormbase_ids_df.columns"
   ]
  },
  {
   "cell_type": "code",
   "execution_count": null,
   "id": "dc6f5fb9-3f39-4c03-a839-50ac60fe998d",
   "metadata": {},
   "outputs": [],
   "source": [
    "filename = './output_data/output_expression_cluster/expression_cluster.csv'\n",
    "### Uncomment to run (This will take appozimately 3 hours)\n",
    "### process_all(wormbase_ids_df,filename)"
   ]
  },
  {
   "cell_type": "markdown",
   "id": "bc8cc3ae-5b77-4167-9e89-babe091931dc",
   "metadata": {},
   "source": [
    "## Evaluate results\n",
    "---\n",
    "* 106 of 19,985 records did not have an associated expression_cluster returned (NA)\n",
    "* These rows were dropped\n",
    "\n",
    "---\n",
    "* `cluster_id` and `cluster_label` had the same value for all rows `cluster_id` was threfore dropped"
   ]
  },
  {
   "cell_type": "code",
   "execution_count": null,
   "id": "5e3954f6-3709-4168-a116-e18f9209769d",
   "metadata": {},
   "outputs": [],
   "source": [
    "filename = './output_data/output_expression_cluster/expression_cluster.csv'\n",
    "expression_cluster = pd.read_csv(filename)\n",
    "expression_cluster"
   ]
  },
  {
   "cell_type": "markdown",
   "id": "b990e1bb-dbbe-427a-a7a3-3488c9f84bae",
   "metadata": {},
   "source": [
    "### Evaluate and removed rows\n",
    "\n",
    "* The below code no longer executes as the data was removed\n",
    "* Saving 86 MB on the disk"
   ]
  },
  {
   "cell_type": "code",
   "execution_count": null,
   "id": "28dfb49f-505c-4211-b3ab-2d1c16f3a9dc",
   "metadata": {},
   "outputs": [],
   "source": [
    "# result = expression_cluster['cluster_id'] == expression_cluster['cluster_label']\n",
    "# false_values = result[result == False]\n",
    "# false_rows = expression_cluster.loc[false_values.index]\n",
    "# false_rows"
   ]
  },
  {
   "cell_type": "code",
   "execution_count": null,
   "id": "8c110159-9ced-4308-a0c5-38fcfdf1fb68",
   "metadata": {},
   "outputs": [],
   "source": [
    "# Expect 2041184 - 106 = 2041078 Rows after drop of NA\n",
    "\n",
    "# expression_cluster = expression_cluster.dropna(subset=['cluster_id'])\n",
    "# expression_cluster"
   ]
  },
  {
   "cell_type": "code",
   "execution_count": null,
   "id": "f99b540b-2996-40c3-a48a-89ba409db41f",
   "metadata": {},
   "outputs": [],
   "source": [
    "# expression_cluster = expression_cluster.drop('cluster_id', axis=1)\n",
    "# expression_cluster"
   ]
  },
  {
   "cell_type": "code",
   "execution_count": null,
   "id": "27857144-0218-4071-a734-486dbdddfb30",
   "metadata": {},
   "outputs": [],
   "source": [
    "# filename = './output_expression_cluster/expression_cluster.csv'\n",
    "# expression_cluster.to_csv(filename,index=False)"
   ]
  },
  {
   "cell_type": "code",
   "execution_count": null,
   "id": "ca41fc25-3e9e-4113-b8bd-439ee7285279",
   "metadata": {},
   "outputs": [],
   "source": [
    "expression_cluster_labels =expression_cluster['cluster_label'].value_counts()\n",
    "expression_cluster_labels.head(50)"
   ]
  },
  {
   "cell_type": "code",
   "execution_count": null,
   "id": "ce1b5239-7d45-4b3a-b8ff-5ef1c91976d3",
   "metadata": {},
   "outputs": [],
   "source": [
    "wormbase_id_values_counts =expression_cluster['wormbase_id'].value_counts()\n",
    "wormbase_id_values_counts.describe()"
   ]
  },
  {
   "cell_type": "code",
   "execution_count": null,
   "id": "49926168-d329-4512-af60-31c2452f8a02",
   "metadata": {},
   "outputs": [],
   "source": []
  }
 ],
 "metadata": {
  "kernelspec": {
   "display_name": "Python [conda env:dan-dev-sc]",
   "language": "python",
   "name": "conda-env-dan-dev-sc-py"
  },
  "language_info": {
   "codemirror_mode": {
    "name": "ipython",
    "version": 3
   },
   "file_extension": ".py",
   "mimetype": "text/x-python",
   "name": "python",
   "nbconvert_exporter": "python",
   "pygments_lexer": "ipython3",
   "version": "3.9.16"
  }
 },
 "nbformat": 4,
 "nbformat_minor": 5
}
