{
 "cells": [
  {
   "cell_type": "markdown",
   "id": "cc82d5b9-4eed-4e13-aac9-f83f5420f0d2",
   "metadata": {},
   "source": [
    "# Read Wormbase Gene ID's File\n",
    "---\n",
    "\n",
    "Read the Gene ID's from Wormbase Repo and save some subset of the data for downstream testing."
   ]
  },
  {
   "cell_type": "code",
   "execution_count": null,
   "id": "9fe4339c-29a1-46d2-87c9-6e0dbf63ff27",
   "metadata": {},
   "outputs": [],
   "source": [
    "import pandas as pd"
   ]
  },
  {
   "cell_type": "code",
   "execution_count": null,
   "id": "93c85d85-c017-4fea-a132-067c78a3d0a7",
   "metadata": {},
   "outputs": [],
   "source": [
    "# Set the output directory and create it if it does not exist\n",
    "import os\n",
    "output_dir = \"./output_data\"\n",
    "if not os.path.exists(output_dir):\n",
    "    os.makedirs(output_dir)"
   ]
  },
  {
   "cell_type": "code",
   "execution_count": null,
   "id": "d9d8a11e-b762-4f31-969d-6e6957a09f76",
   "metadata": {},
   "outputs": [],
   "source": [
    "# Pull down the gene ids from Wormbase and unzip\n",
    "!wget -P ./input_data ftp://ftp.wormbase.org/pub/wormbase/releases/WS287/species/c_elegans/PRJNA13758/annotation/c_elegans.PRJNA13758.WS287.geneIDs.txt.gz\n",
    "!gunzip ./input_data/c_elegans.PRJNA13758.WS287.geneIDs.txt.gz"
   ]
  },
  {
   "cell_type": "code",
   "execution_count": null,
   "id": "516a5bbf-fafd-4107-b7c3-2bcd5c26eb5f",
   "metadata": {},
   "outputs": [],
   "source": [
    "# Note: The raw data does not have columns assigned\n",
    "INPUT_DATA='./input_data'\n",
    "gene_id_file=f'{INPUT_DATA}/c_elegans.PRJNA13758.WS287.geneIDs.txt'\n",
    "\n",
    "columns = [\"junk\", \"Wormbase_Id\", \"Gene_name\", \"Sequence_id\", \"Status\", \"Gene_Type\"]\n",
    "gene_id_df = pd.read_csv(gene_id_file,low_memory=False, header=None, names=columns)"
   ]
  },
  {
   "cell_type": "code",
   "execution_count": null,
   "id": "055e5f71-9136-430e-92d4-9f9296fb2a0c",
   "metadata": {},
   "outputs": [],
   "source": [
    "gene_id_df \n",
    "print(f'There {len(gene_id_df):,} Genes in the file')\n",
    "gene_id_df['Status'].value_counts()"
   ]
  },
  {
   "cell_type": "code",
   "execution_count": null,
   "id": "0a037209-1f9e-49ff-98a1-ae5330e47c9c",
   "metadata": {},
   "outputs": [],
   "source": [
    "# We just wanted to get the \"Live\" actively used Gene IDs\n",
    "gene_id_live_df = gene_id_df.query(\"Status == 'Live'\")\n",
    "len(gene_id_live_df)"
   ]
  },
  {
   "cell_type": "code",
   "execution_count": null,
   "id": "7daabb01-1ed6-4c12-bffb-5f266695eaf8",
   "metadata": {},
   "outputs": [],
   "source": [
    "gene_id_live_df['Gene_Type'].value_counts()"
   ]
  },
  {
   "cell_type": "code",
   "execution_count": null,
   "id": "02369eb2-54f8-443f-b225-ba0ca8daf940",
   "metadata": {},
   "outputs": [],
   "source": [
    "# We only want the protein_coding_gene for this experiment\n",
    "gene_id_live__pc_df = gene_id_live_df.query(\"Gene_Type == 'protein_coding_gene'\")\n",
    "len(gene_id_live__pc_df)"
   ]
  },
  {
   "cell_type": "code",
   "execution_count": null,
   "id": "a3b0f4fb-0111-4c00-898d-9be137ca2e0e",
   "metadata": {},
   "outputs": [],
   "source": [
    "# Drop the columns that we do not need\n",
    "gene_id_live__pc_df = gene_id_live__pc_df.drop(columns=['junk','Gene_Type','Status'], axis=1)\n",
    "gene_id_live__pc_df"
   ]
  },
  {
   "cell_type": "code",
   "execution_count": null,
   "id": "d53b32bb-c04f-4bf1-8f82-87820c73660a",
   "metadata": {},
   "outputs": [],
   "source": [
    "# Save the Wormbase \"protein coding gene\" ID's to a file\n",
    "gene_id_live__pc_df.to_csv(f'{output_dir}/WB_protein_coding_genes.csv',index=False)"
   ]
  },
  {
   "cell_type": "code",
   "execution_count": null,
   "id": "5f393f35-73d3-44a1-91da-ac89462d0447",
   "metadata": {},
   "outputs": [],
   "source": []
  }
 ],
 "metadata": {
  "kernelspec": {
   "display_name": "Python [conda env:dan-dev-sc]",
   "language": "python",
   "name": "conda-env-dan-dev-sc-py"
  },
  "language_info": {
   "codemirror_mode": {
    "name": "ipython",
    "version": 3
   },
   "file_extension": ".py",
   "mimetype": "text/x-python",
   "name": "python",
   "nbconvert_exporter": "python",
   "pygments_lexer": "ipython3",
   "version": "3.9.16"
  }
 },
 "nbformat": 4,
 "nbformat_minor": 5
}
