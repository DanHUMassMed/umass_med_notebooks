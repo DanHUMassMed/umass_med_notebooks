{
 "cells": [
  {
   "cell_type": "markdown",
   "id": "9313f613-736f-4c2e-b879-477499bcfbee",
   "metadata": {},
   "source": [
    "# Wormbase Phenotype Data\n",
    "\n",
    "Collect Phentotype data from Wormbase\n",
    "\n",
    "__Notes:__\n",
    "\n",
    "* We define Poorly Annotated Genes (PAG) as Genes in Category 1 of WormCat with the descriptions ['Unassigned','Transmembrane protein', 'Transmembrane transport']"
   ]
  },
  {
   "cell_type": "code",
   "execution_count": 21,
   "id": "97295687-f1e5-4366-923a-1379f4c4df6a",
   "metadata": {},
   "outputs": [],
   "source": [
    "import numpy as np\n",
    "import pandas as pd\n",
    "import math\n",
    "import requests\n",
    "import json\n",
    "import csv\n",
    "import time\n",
    "import os\n",
    "from datetime import datetime\n",
    "\n",
    "OUTPUT_DATA='./output_data/phenotype_output'"
   ]
  },
  {
   "cell_type": "markdown",
   "id": "b1acd264-101e-45fa-997d-683bae648e91",
   "metadata": {},
   "source": [
    "# Get Phenotype Data\n",
    "\n",
    "For the following:\n",
    "* Unassigned\n",
    "* Transcription_factor\n",
    "* Neuronal_function"
   ]
  },
  {
   "cell_type": "code",
   "execution_count": 22,
   "id": "4886c157-a3db-4c33-9e7f-e127ab4c95de",
   "metadata": {},
   "outputs": [],
   "source": [
    "# This is what our output record will look like\n",
    "class phenotype_record:\n",
    "    wormbase_id     = 0\n",
    "    phenotype_id    = 1\n",
    "    phenotype_label = 2 \n",
    "    evidence_type   = 3\n",
    "    evidence_id     = 4\n",
    "    evidence_label  = 5 \n",
    "    evidence_class  = 6\n",
    "    header = ['wormbase_id', 'phenotype_id', 'phenotype_label', 'evidence_type', 'evidence_id', 'evidence_label', 'evidence_class']\n",
    "    empty = [None, None, None, None, None, None, None]\n",
    "\n",
    "# Very simple HTTP call    \n",
    "def call_wormbase(wormbase_id):\n",
    "    api_url = f'http://rest.wormbase.org/rest/field/gene/{wormbase_id}/phenotype'\n",
    "    # Absolutley no error checking is done!!\n",
    "    response = requests.get(api_url)\n",
    "    json_data = json.loads(response.text)\n",
    "    return response.status_code, json_data\n",
    "\n",
    "# Process the results\n",
    "def process_response(status_code, json_data):\n",
    "    ret_val = None\n",
    "    if status_code == 200:\n",
    "        ret_val = phenotype_json_to_dataframe(json_data)\n",
    "    else:\n",
    "        print(f\"Error code {status_code}\")\n",
    "        if reason in json_data:\n",
    "            print(json_data['reason'])\n",
    "    return ret_val\n",
    "\n",
    "# Flatten the JSON response into a set of records\n",
    "def phenotype_json_to_dataframe(json_data):\n",
    "    records = []\n",
    "    phenotype_data = json_data[\"phenotype\"]['data']\n",
    "    if phenotype_data == None:\n",
    "        record = phenotype_record.empty.copy()\n",
    "        record[phenotype_record.wormbase_id] = json_data[\"name\"]\n",
    "        records.append(record)\n",
    "        print(f'No phenotype data for {record[phenotype_record.wormbase_id]}')\n",
    "    else:\n",
    "        #print(len(phenotype_data))\n",
    "        for index, activity in enumerate(phenotype_data):\n",
    "            record = phenotype_record.empty.copy()\n",
    "            evidence = None\n",
    "            record[phenotype_record.wormbase_id] = json_data[\"name\"]\n",
    "            #print(f\"{index=} {'='*80}\")\n",
    "            if 'phenotype' in activity:\n",
    "                record[phenotype_record.phenotype_id] = activity['phenotype']['id']\n",
    "                record[phenotype_record.phenotype_label] = activity['phenotype']['label']\n",
    "            if 'evidence' in activity:\n",
    "                if 'Allele' in activity['evidence']:\n",
    "                    evidence = 'Allele'\n",
    "                elif 'RNAi' in activity['evidence']:\n",
    "                    evidence = 'RNAi'\n",
    "                    \n",
    "                if evidence:\n",
    "                    record[phenotype_record.evidence_type] = evidence\n",
    "                    record[phenotype_record.evidence_id] = activity['evidence'][evidence]['text']['id']\n",
    "                    record[phenotype_record.evidence_label] = activity['evidence'][evidence]['text']['label']\n",
    "                    record[phenotype_record.evidence_class] = activity['evidence'][evidence]['text']['class']\n",
    "                    \n",
    "            records.append(record)\n",
    "            \n",
    "    return records\n",
    "    \n",
    "# write the records to a file \n",
    "def write_records(filename, records):\n",
    "    write_type='w'\n",
    "    if os.path.isfile(filename):\n",
    "        write_type='a'\n",
    "\n",
    "    with open(filename, write_type, newline='') as file:\n",
    "        writer = csv.writer(file)\n",
    "        if(write_type == 'w'):\n",
    "            writer.writerows([phenotype_record.header])\n",
    "        \n",
    "        writer.writerows(records)\n"
   ]
  },
  {
   "cell_type": "code",
   "execution_count": 23,
   "id": "9388b3b3-2761-4fc9-a9df-fcf458786fe1",
   "metadata": {},
   "outputs": [],
   "source": [
    "\n",
    "# iterate a collection of wormbase ids\n",
    "def process_all(genes_to_evaluate_df, filename):\n",
    "    \n",
    "    if os.path.isfile(filename):\n",
    "        os.remove(filename)\n",
    "\n",
    "    df_len = len(genes_to_evaluate_df)\n",
    "    index_pos=0\n",
    "    for index, row in genes_to_evaluate_df.iterrows():\n",
    "        try:\n",
    "            print(f\"processing {row[0]} {index_pos+1:04} of {df_len}\")\n",
    "            index_pos +=1\n",
    "            wormbase_id = row[0]\n",
    "            status_code, json_data = call_wormbase(wormbase_id)\n",
    "            records = process_response(status_code, json_data)\n",
    "            if records:\n",
    "                #print(records)\n",
    "                write_records(filename, records)\n",
    "            time.sleep(.25)\n",
    "        except Exception as e:\n",
    "            print(f\"An error occurred: {e}\")\n",
    "            #print(json.dumps(json_data,indent=4))\n",
    "        \n"
   ]
  },
  {
   "cell_type": "code",
   "execution_count": null,
   "id": "6ec2b543-506b-4ba2-9db0-a94200b91982",
   "metadata": {},
   "outputs": [],
   "source": [
    "# Load the wormbase category list\n",
    "# Setup. to be queried\n",
    "wormcat_df = pd.read_csv('./input_data/whole_genome_v2_nov-11-2021.csv') \n",
    "wormcat_df = wormcat_df.rename(columns={'Sequence ID':'sequence_id','Wormbase ID':'wormbase_id','Category 1':'category_1','Category 2':'category_2','Category 3':'category_3'})\n",
    "wormcat_df.columns"
   ]
  },
  {
   "cell_type": "code",
   "execution_count": null,
   "id": "b5c1dbfc-041b-448f-8bfb-d77865f032fc",
   "metadata": {},
   "outputs": [],
   "source": [
    "# Query the catalog for Neuronal function and look up phenotype data\n",
    "unassigned = wormcat_df.query(\"category_1 == 'Unassigned'\")['wormbase_id']\n",
    "unassigned_df = unassigned.to_frame()\n",
    "print(f'{len(unassigned)=}')\n",
    "\n",
    "filename = 'unassigned_phenotypes.csv'\n",
    "\n",
    "#process_all(unassigned_df,filename)"
   ]
  },
  {
   "cell_type": "code",
   "execution_count": null,
   "id": "a270fbb5-3e61-41db-82c0-db203590a65a",
   "metadata": {},
   "outputs": [],
   "source": [
    "# Query the catalog for Neuronal function and look up phenotype data\n",
    "neuronal_function = wormcat_df.query(\"category_1 == 'Neuronal function'\")['wormbase_id']\n",
    "neuronal_function_df = neuronal_function.to_frame()\n",
    "len(neuronal_function)\n",
    "\n",
    "filename = 'neuronal_function_phenotypes.csv'\n",
    "\n",
    "#process_all(neuronal_function_df,filename)"
   ]
  },
  {
   "cell_type": "code",
   "execution_count": null,
   "id": "b881f520-9ba8-46cf-9965-6726f7993d3c",
   "metadata": {},
   "outputs": [],
   "source": [
    "# Query the catalog for Transcription factor and look up phenotype data\n",
    "transcription_factor = wormcat_df.query(\"category_1 == 'Transcription factor'\")['wormbase_id']\n",
    "transcription_factor_df = transcription_factor.to_frame()\n",
    "len(transcription_factor_df)\n",
    "\n",
    "filename = 'transcription_factor_phenotypes.csv'\n",
    "\n",
    "#process_all(transcription_factor_df,filename)"
   ]
  },
  {
   "cell_type": "code",
   "execution_count": null,
   "id": "1386667d-12c7-41d2-950b-45095ac668c3",
   "metadata": {},
   "outputs": [],
   "source": [
    "# Query the catalog for Transcription factor and look up phenotype data\n",
    "unassigned = wormcat_df.query(\"category_1 == 'Unassigned'\")['wormbase_id']\n",
    "unassigned_df = unassigned.to_frame()\n",
    "print(f' {len(unassigned_df)=}')\n",
    "\n",
    "filename = 'unassigned_phenotypes.csv'\n",
    "\n",
    "#process_all(transcription_factor_df,filename)"
   ]
  },
  {
   "cell_type": "markdown",
   "id": "0a60523c-0e69-4efd-9a47-fab230cd8edc",
   "metadata": {},
   "source": [
    "# Get the Unique Phenotypes"
   ]
  },
  {
   "cell_type": "code",
   "execution_count": null,
   "id": "e5c19ee7-335a-4efe-9a09-1da8e73ee352",
   "metadata": {},
   "outputs": [],
   "source": [
    "# Load the raw phenotype data info for the wormcat category\n",
    "# find all the unique phenotype labels\n",
    "# write back to a file\n",
    "\n",
    "filenames = ['unassigned_phenotypes.csv','transcription_factor_phenotypes.csv','neuronal_function_phenotypes.csv']\n",
    "for filename in filenames:\n",
    "    phenotypes_df = pd.read_csv(f'{OUTPUT_DATA}/{filename}') \n",
    "    phenotype_labels = phenotypes_df['phenotype_label'].value_counts()\n",
    "    phenotype_labels = phenotype_labels.to_frame()\n",
    "    phenotype_labels = phenotype_labels.reset_index()\n",
    "    phenotype_labels = phenotype_labels.rename(columns={'index':'phenotype_label','phenotype_label':'count'})\n",
    "    phenotype_labels.to_csv(f'{OUTPUT_DATA}/{filename[:-4]}_labels.csv', index=False)\n",
    "    print(f'Process {OUTPUT_DATA}/{filename[:-4]}_labels.csv')\n",
    "    phenotype_labels"
   ]
  },
  {
   "cell_type": "code",
   "execution_count": null,
   "id": "1beface4-eaf3-404a-a568-bf19323897da",
   "metadata": {},
   "outputs": [],
   "source": [
    "# Load the phenotype data and unique labels for the wormcat categories ['unassigned','transcription_factor','neuronal_function']\n",
    "\n",
    "\n",
    "class phenotype:\n",
    "    unassigned = 0\n",
    "    transcription_factor = 1\n",
    "    neuronal_function = 2\n",
    "    categories = ['unassigned','transcription_factor','neuronal_function']\n",
    "    \n",
    "\n",
    "phenotypes = [None] * len(phenotype.categories)\n",
    "phenotypes_labels = [None] * len(phenotype.categories)\n",
    "\n",
    "for index, category in enumerate(phenotype.categories):\n",
    "    phenotypes[index] = pd.read_csv(f'{OUTPUT_DATA}/{phenotype.categories[index]}_phenotypes.csv') \n",
    "    phenotypes_labels[index] = pd.read_csv(f'{OUTPUT_DATA}/{phenotype.categories[index]}_phenotypes_labels.csv') \n",
    " "
   ]
  },
  {
   "cell_type": "code",
   "execution_count": null,
   "id": "3458368d-e964-4148-9657-ab0de77f8040",
   "metadata": {},
   "outputs": [],
   "source": [
    "unassigned_df = phenotypes[phenotype.unassigned]\n",
    "unassigned_df"
   ]
  },
  {
   "cell_type": "code",
   "execution_count": null,
   "id": "91b6b218-2795-40ec-8890-ffe139f9d03d",
   "metadata": {},
   "outputs": [],
   "source": [
    "\n",
    "for index, category in enumerate(phenotype.categories):\n",
    "    print(f'Number of categories for {category} = {len(phenotypes[index]):,d}')\n",
    "    phenotypes_labels[index]['percent_of_all']= phenotypes_labels[index]['count']/len(phenotypes[index])\n",
    "    for index1, category1 in enumerate(phenotype.categories):\n",
    "        if index1 != index:\n",
    "            phenotypes_labels[index][f'in_{phenotype.categories[index1]}'] = phenotypes_labels[index].apply(\n",
    "                lambda row: row.phenotype_label in list(phenotypes_labels[index1]['phenotype_label']), axis=1)\n",
    "    "
   ]
  },
  {
   "cell_type": "code",
   "execution_count": null,
   "id": "e37dbbb9-cbd0-4ccf-ae6d-fd8ab016de97",
   "metadata": {},
   "outputs": [],
   "source": [
    "# Create and excel file making one sheet per phenotype category ['unassigned','transcription_factor','neuronal_function']\n",
    "for index, category in enumerate(phenotype.categories):\n",
    "    print(f'Save {category}')\n",
    "    mode = 'w' if index==0 else 'a'\n",
    "    with pd.ExcelWriter(f'{OUTPUT_DATA}/wormcat_phenotype_summary.xlsx', mode=mode) as writer:\n",
    "        phenotypes_labels[index].to_excel(writer, sheet_name=category.title(), index=False)\n"
   ]
  },
  {
   "cell_type": "code",
   "execution_count": null,
   "id": "cabb70ae-0c81-46ee-a02a-a9365fbceab4",
   "metadata": {},
   "outputs": [],
   "source": [
    "import matplotlib.pyplot as plt\n",
    "from matplotlib_venn import venn3\n",
    "\n",
    "venn3_data = [ set(phenotypes_labels[i]['phenotype_label']) for i in range(3)]\n",
    "venn3_labels = [ phenotype.categories[i].title() for i in range(3)]\n",
    "venn3(venn3_data, set_labels=venn3_labels)\n",
    "\n",
    "# Add titles and labels\n",
    "plt.title('Phenotype Venn Diagram')\n",
    "\n",
    "\n",
    "file_name='phenotype_venn_diagram.png'\n",
    "plt.savefig(f'{OUTPUT_DATA}/{file_name}')\n",
    "plt.show()"
   ]
  },
  {
   "cell_type": "markdown",
   "id": "357d3c90-c7d4-4735-8551-40c3884a4190",
   "metadata": {},
   "source": [
    "# Essential Genes\n",
    "\n",
    "* lethal, arrest\n",
    "* sterile\n",
    "* lipid"
   ]
  },
  {
   "cell_type": "code",
   "execution_count": null,
   "id": "c414e237-ffb0-43eb-89d2-59d042037d47",
   "metadata": {},
   "outputs": [],
   "source": [
    "unassigned_df = phenotypes[phenotype.unassigned]\n",
    "unassigned_df = unassigned_df.dropna(subset=['phenotype_label'])\n",
    "\n",
    "unassigned_lethal_df = unassigned_df[unassigned_df['phenotype_label'].str.contains('lethal|arrest')].copy()\n",
    "unassigned_lethal_df['essential']='lethal'\n",
    "print(f'{len(unassigned_lethal_df)=}')\n",
    "\n",
    "unassigned_sterile_df = unassigned_df[unassigned_df['phenotype_label'].str.contains('sterile')].copy()\n",
    "unassigned_sterile_df['essential']='sterile'\n",
    "print(f'{len(unassigned_sterile_df)=}')\n",
    "\n",
    "unassigned_lipid_df = unassigned_df[unassigned_df['phenotype_label'].str.contains('lipid')].copy()\n",
    "unassigned_lipid_df['essential']='lipid'\n",
    "print(f'{len(unassigned_lipid_df)=}')\n",
    "\n",
    "essential_df = pd.concat([unassigned_lethal_df, unassigned_sterile_df, unassigned_lipid_df], axis=0)\n",
    "essential_df\n",
    "\n"
   ]
  },
  {
   "cell_type": "code",
   "execution_count": null,
   "id": "313f1f12-f787-4773-8b81-4002778e0ba4",
   "metadata": {},
   "outputs": [],
   "source": [
    "grouped_wormbase_id = essential_df.groupby('wormbase_id')\n",
    "essential_dedup_df = grouped_wormbase_id['essential'].count()\n",
    "essential_dedup_df"
   ]
  },
  {
   "cell_type": "code",
   "execution_count": null,
   "id": "3926d41b-03b8-4d38-83b3-5a17e0463618",
   "metadata": {},
   "outputs": [],
   "source": [
    "essential_df.columns\n"
   ]
  },
  {
   "cell_type": "code",
   "execution_count": null,
   "id": "daa1e095-b75a-4d7e-bdc0-8ba06bd601a4",
   "metadata": {},
   "outputs": [],
   "source": [
    "essential1_df = essential_df.drop(columns=['phenotype_id', 'evidence_type',\n",
    "       'evidence_id', 'evidence_label', 'evidence_class'])\n",
    "essential_dedup = {}\n",
    "phenotype_label = {'lipid':set(),'lethal':set(),'sterile':set()}\n",
    "\n",
    "for index, row in essential1_df.iterrows():\n",
    "    if row[0] in essential_dedup:\n",
    "        essential = essential_dedup[row[0]]\n",
    "        essential[row[2]] +=1\n",
    "        phenotype_label[row[2]].add(row[1])\n",
    "    else:\n",
    "        essential = {'lipid':0,'lethal':0,'sterile':0}\n",
    "        essential[row[2]] +=1\n",
    "        phenotype_label[row[2]].add(row[1])\n",
    "        essential_dedup[row[0]] = essential\n",
    "        \n",
    "#essential_dedup\n",
    "phenotype_label = {'lipid':list(phenotype_label['lipid']),'lethal':list(phenotype_label['lethal']),'sterile':list(phenotype_label['sterile'])}\n",
    "print(json.dumps(phenotype_label, indent=4))\n"
   ]
  },
  {
   "cell_type": "code",
   "execution_count": null,
   "id": "8f634633-30e5-4c70-9990-0b18cf16aeab",
   "metadata": {},
   "outputs": [],
   "source": [
    "dataframe_dict = {}\n",
    "dataframe_dict['wormbase_id']=[]\n",
    "dataframe_dict['lipid']=[]\n",
    "dataframe_dict['lethal']=[]\n",
    "dataframe_dict['sterile']=[]\n",
    "\n",
    "for key in essential_dedup.keys():\n",
    "    essential = essential_dedup[key]\n",
    "    dataframe_dict['wormbase_id'].append(key)\n",
    "    dataframe_dict['lipid'].append(essential['lipid'])\n",
    "    dataframe_dict['lethal'].append(essential['lethal'])\n",
    "    dataframe_dict['sterile'].append(essential['sterile'])\n",
    "    \n",
    "essential_dedup_df = pd.DataFrame(dataframe_dict)\n",
    "essential_dedup_df.to_csv(f'{OUTPUT_DATA}/essential_pags.csv',index=False)"
   ]
  },
  {
   "cell_type": "code",
   "execution_count": null,
   "id": "7ac4ff93-4b1e-4e57-9948-f829ca49e15e",
   "metadata": {},
   "outputs": [],
   "source": [
    "print(f\"lipid   {len(essential_dedup_df[essential_dedup_df['lipid'] > 0])}\")\n",
    "print(f\"lethal  {len(essential_dedup_df[essential_dedup_df['lethal'] > 0])}\")\n",
    "print(f\"sterile {len(essential_dedup_df[essential_dedup_df['sterile'] > 0])}\")"
   ]
  },
  {
   "cell_type": "code",
   "execution_count": null,
   "id": "2b5d903e-b79d-4f73-a333-e7b6d0a66691",
   "metadata": {},
   "outputs": [],
   "source": [
    "round(672/6343,4)*100"
   ]
  },
  {
   "cell_type": "markdown",
   "id": "33820f1b-3019-4fe2-89b1-9c29db9b1295",
   "metadata": {},
   "source": [
    "# All Protein Coding Genes"
   ]
  },
  {
   "cell_type": "code",
   "execution_count": 16,
   "id": "b78018d3-6ff3-4049-9cfe-b6ed5440d55d",
   "metadata": {},
   "outputs": [
    {
     "data": {
      "text/plain": [
       "19985"
      ]
     },
     "execution_count": 16,
     "metadata": {},
     "output_type": "execute_result"
    }
   ],
   "source": [
    "# Load all genes\n",
    "# Define the column names as a list\n",
    "column_names = ['Code_1', 'Wormbase_id', 'Code_2','Gene_id','id_status','gene_type']\n",
    "gene_ids_df = pd.read_csv('./input_data/c_elegans.PRJNA13758.WS287.geneIDs.txt',header=None, names=column_names) \n",
    "gene_ids_df = gene_ids_df.query(\"id_status == 'Live'\")\n",
    "gene_ids_df = gene_ids_df.query(\"gene_type == 'protein_coding_gene'\")\n",
    "len(gene_ids_df)\n"
   ]
  },
  {
   "cell_type": "code",
   "execution_count": null,
   "id": "be3b969c-d88b-4850-ad48-5428012991c8",
   "metadata": {},
   "outputs": [],
   "source": [
    "wormbase_ids = gene_ids_df['Wormbase_id']\n",
    "wormbase_ids_df = wormbase_ids.to_frame()\n",
    "print(f'{len(wormbase_ids_df)=}')\n",
    "\n",
    "filename = 'protein_coding_phenotypes.csv'\n",
    "\n",
    "process_all(wormbase_ids_df,filename)"
   ]
  },
  {
   "cell_type": "code",
   "execution_count": null,
   "id": "bb15a38d-f7be-4496-94d6-fa9da22a3c26",
   "metadata": {},
   "outputs": [],
   "source": []
  },
  {
   "cell_type": "code",
   "execution_count": null,
   "id": "33afc149-716b-4c8c-a8a4-5e8c8f18c6a7",
   "metadata": {},
   "outputs": [],
   "source": []
  },
  {
   "cell_type": "code",
   "execution_count": null,
   "id": "bcccba1a-10c2-42ac-bc40-d22f4ba56fe9",
   "metadata": {},
   "outputs": [],
   "source": []
  },
  {
   "cell_type": "markdown",
   "id": "f04d1db2-0fb9-43e1-8c73-1e6d8c506c44",
   "metadata": {},
   "source": [
    "# Appendix"
   ]
  },
  {
   "cell_type": "code",
   "execution_count": null,
   "id": "65c2f811-78e0-4dac-85a6-75b5037af71a",
   "metadata": {},
   "outputs": [],
   "source": [
    "# Drop the 'Automated Description' filed to save space when checking into git hub.\n",
    "# Also speed up load time of this file\n",
    "import pandas as pd\n",
    "# Load the wormbase category list\n",
    "# Setup. to be queried\n",
    "wormcat_df = pd.read_csv('./input_data/whole_genome_v2_nov-11-2021.csv') \n",
    "wormcat_df = wormcat_df.rename(columns={'Sequence ID':'sequence_id','Wormbase ID':'wormbase_id','Category 1':'category_1','Category 2':'category_2','Category 3':'category_3'})\n",
    "wormcat_df.columns"
   ]
  },
  {
   "cell_type": "code",
   "execution_count": null,
   "id": "c32c0df4-16b8-4803-a5e8-8ace741a9a5a",
   "metadata": {},
   "outputs": [],
   "source": [
    "delete_column='Automated Description'\n",
    "if delete_column in wormcat_df.columns:\n",
    "    wormcat_df = wormcat_df.drop(columns=[delete_column])\n",
    "wormcat_df"
   ]
  },
  {
   "cell_type": "code",
   "execution_count": null,
   "id": "645fb8e6-29eb-4269-bb6f-2c6b974e69a0",
   "metadata": {},
   "outputs": [],
   "source": [
    "wormcat_df.to_csv('./input_data/whole_genome_v2_nov-11-2021.csv', index=False)"
   ]
  },
  {
   "cell_type": "code",
   "execution_count": null,
   "id": "f11b6601-eb8f-4769-84e8-534da6ad8caf",
   "metadata": {},
   "outputs": [],
   "source": []
  }
 ],
 "metadata": {
  "kernelspec": {
   "display_name": "Python [conda env:dan-dev-sc]",
   "language": "python",
   "name": "conda-env-dan-dev-sc-py"
  },
  "language_info": {
   "codemirror_mode": {
    "name": "ipython",
    "version": 3
   },
   "file_extension": ".py",
   "mimetype": "text/x-python",
   "name": "python",
   "nbconvert_exporter": "python",
   "pygments_lexer": "ipython3",
   "version": "3.9.16"
  }
 },
 "nbformat": 4,
 "nbformat_minor": 5
}
