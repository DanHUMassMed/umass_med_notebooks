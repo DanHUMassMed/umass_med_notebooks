{
 "cells": [
  {
   "cell_type": "markdown",
   "id": "34dde513-7133-4f24-90a7-55c2c41759d2",
   "metadata": {},
   "source": [
    "# FPKM expression data from selected modENCODE libraries\n",
    "\n",
    "Data for the plots come from the below Wormbase FTP site\n",
    "\n",
    "[ftp.wormbase.org/pub/wormbase/releases/WS287/species/c_elegans/PRJNA13758/annotation/c_elegans.PRJNA13758.WS287.expr_graph.csv.gz](ftp://ftp.wormbase.org/pub/wormbase/releases/WS287/species/c_elegans/PRJNA13758/annotation/c_elegans.PRJNA13758.WS287.expr_graph.csv.gz)\n",
    "\n",
    "The purpose of this notebook is the __reproducibility__ of the Wormbase modENCODE plot focus on the Classical Stages\n",
    "\n",
    "\n",
    "![Image](./input_data/FPKM_Plot.png)\n",
    "__Note__:\n",
    "* \n"
   ]
  },
  {
   "cell_type": "code",
   "execution_count": null,
   "id": "502f9ad2-3c9e-4b78-a8fe-c9511effd368",
   "metadata": {},
   "outputs": [],
   "source": [
    "import pandas as pd\n",
    "import os\n",
    "import time\n",
    "import matplotlib.pyplot as plt\n",
    "import seaborn as sns\n",
    "from jupyter_utilities import formatted_elapsed_time"
   ]
  },
  {
   "cell_type": "code",
   "execution_count": null,
   "id": "a4aefd5c-34c2-4e81-ae87-717a4e991df3",
   "metadata": {},
   "outputs": [],
   "source": [
    "# UNCOMMENT IF YOU DO NOT HAVE THE DATA\n",
<<<<<<< HEAD
    "!wget -P ./input_data ftp://ftp.wormbase.org/pub/wormbase/releases/WS287/species/c_elegans/PRJNA13758/annotation/c_elegans.PRJNA13758.WS287.expr_graph.csv.gz\n",
=======
    "!wget -P ./input_data ftp://ftp.wormbase.org/pub/wormbase//releases/WS287/species/c_elegans/PRJNA13758/annotation/c_elegans.PRJNA13758.WS287.expr_graph.csv.gz\n",
>>>>>>> 4f9883b7b192f8a4e75b4a862bbde3e23f50b29a
    "!gunzip ./input_data/c_elegans.PRJNA13758.WS287.expr_graph.csv.gz"
   ]
  },
  {
   "cell_type": "code",
   "execution_count": null,
   "id": "8808a662-da44-4a0e-b005-6782b629a3d4",
   "metadata": {},
   "outputs": [],
   "source": [
    "INPUT_DATA='./input_data'\n",
    "expr_graph=f'{INPUT_DATA}/c_elegans.PRJNA13758.WS287.expr_graph.csv'\n",
    "clean_str = lambda x: x.replace('\"','').strip()\n",
    "clean_float = lambda x: float(x.replace('\"','').strip())\n",
    "\n",
    "columns = [\"Gene\", \"Gene_name\", \"Life_stage\", \"Library\", \"Protocol\", \"FPKM_value\"]\n",
    "expr_graph_df = pd.read_csv(expr_graph,low_memory=False, header=None, names=columns,\n",
    "                            skiprows=1,\n",
    "                            converters={'Gene_name':clean_str, 'Life_stage':clean_str, \n",
    "                                        'Library':clean_str, 'Protocol':clean_str,\n",
    "                                        'FPKM_value':clean_float})\n"
   ]
  },
  {
   "cell_type": "code",
   "execution_count": null,
   "id": "45a384f1-bd73-4c46-ba53-13a6e0570aa6",
   "metadata": {},
   "outputs": [],
   "source": [
    "print(f\"{len(expr_graph_df):,} rows of data\")"
   ]
  },
  {
   "cell_type": "code",
   "execution_count": null,
   "id": "6fee5ddf-6129-465f-b271-f0b2d7e58bec",
   "metadata": {},
   "outputs": [],
   "source": [
    "expr_graph_df"
   ]
  },
  {
   "cell_type": "code",
   "execution_count": null,
   "id": "036f7c51-af62-4953-ab14-49f64c4ffc4d",
   "metadata": {},
   "outputs": [],
   "source": [
    "expr_graph_df['Life_stage'].value_counts()"
   ]
  },
  {
   "cell_type": "code",
   "execution_count": null,
   "id": "44248557-7f55-44d4-90d3-96d7e1eecdaf",
   "metadata": {},
   "outputs": [],
   "source": [
    "import matplotlib.pyplot as plt\n",
    "import numpy as np\n",
    "\n",
    "def get_data_dict(data_df):\n",
    "    classical_stages = ['EE','LE','L1','L2','L3','L4','YA']\n",
    "    stages_dict = {val:index for index,val in enumerate(classical_stages)}\n",
    "    swap_dict   = {index:val for index,val in enumerate(classical_stages)}\n",
    "    \n",
    "    #columns = [\"Gene\", \"Gene_name\", \"Life_stage\", \"Library\", \"Protocol\", \"FPKM_value\"]\n",
    "    col_dict = {val:index for index,val in enumerate(data_df.columns)}\n",
    "    \n",
    "    \n",
    "    classical_stages_df = data_df.query(\"Life_stage in @classical_stages\")\n",
    "    #median_df = classical_stages_df.query(\"Protocol == 'Median'\")\n",
    "    #ribozero_df = classical_stages_df.query(\"Protocol == 'ribozero'\")\n",
    "    #polya_df = classical_stages_df.query(\"Protocol == 'polyA'\")\n",
    "    \n",
    "    median_fpkm=[0]*7\n",
    "    points_ribozero_x = []\n",
    "    points_ribozero_y = []\n",
    "    points_polya_x = []\n",
    "    points_polya_y = []\n",
    "    \n",
    "    for index,row in classical_stages_df.iterrows():\n",
    "        #print(f\"{row[col_dict['Life_stage']]=}, {row[col_dict['Protocol']]=}, {row[col_dict['FPKM_value']]=}\")\n",
    "        if row[col_dict['Protocol']] == 'Median':\n",
    "            median_fpkm[stages_dict[row[col_dict['Life_stage']]]] = row[col_dict['FPKM_value']]\n",
    "        elif row[col_dict['Protocol']] == 'ribozero':\n",
    "            points_ribozero_y.append(row[col_dict['FPKM_value']])\n",
    "            points_ribozero_x.append(row[col_dict['Life_stage']])                        \n",
    "        elif row[col_dict['Protocol']] == 'polyA':\n",
    "            points_polya_y.append(row[col_dict['FPKM_value']])\n",
    "            points_polya_x.append(row[col_dict['Life_stage']])                        \n",
    "            \n",
    "            \n",
    "    ret_val={'median':(classical_stages,median_fpkm),\n",
    "             'ribozero':(points_ribozero_x,points_ribozero_y),\n",
    "             'polya':(points_polya_x,points_polya_y)\n",
    "            }\n",
    "        \n",
    "    return ret_val\n",
    "    \n",
    "def create_plot_classical_stages(plot_data, gene_name):\n",
    "    \n",
    "    fig, ax = plt.subplots(figsize=(4, 4))\n",
    "    #ax.set_ylim([0, 200])\n",
    "    # Create bar plot\n",
    "    plt.bar(plot_data['median'][0], plot_data['median'][1], color='lightgrey', width=0.5, zorder=2)\n",
    "    plt.scatter(plot_data['ribozero'][0], plot_data['ribozero'][1], marker='D', s=10,color='purple',zorder=3)\n",
    "    plt.scatter(plot_data['polya'][0], plot_data['polya'][1], color='green',s=10,zorder=4)\n",
    "\n",
    "    # Set title and labels\n",
    "    plt.title(f\"Classical stages {gene_name}\")\n",
    "    plt.ylabel(\"Expression (FPMK)\")\n",
    "    plt.xlabel(\"Life stages\")\n",
    "    plt.grid(axis='y', linestyle='-', linewidth=0.5)\n",
    "    #plt.setp(ax.get_xticklabels(), rotation=45, ha=\"right\",rotation_mode=\"anchor\")\n",
    "    # Show plot\n",
    "    plt.show()\n"
   ]
  },
  {
   "cell_type": "code",
   "execution_count": null,
   "id": "27c2573c-de5c-4953-af62-86b924e441cf",
   "metadata": {},
   "outputs": [],
   "source": [
    "#WBGene00019126\n",
    "#'WBGene00015540\n",
    "gene_data = expr_graph_df.query(\"Gene == 'WBGene00019199'\")\n",
    "gene_name = gene_data.iloc[0]['Gene_name']\n",
    "plot_data = get_data_dict(gene_data)\n",
    "print(plot_data)"
   ]
  },
  {
   "cell_type": "code",
   "execution_count": null,
   "id": "cb810bf1-ff77-4a52-a089-2c1b730a7267",
   "metadata": {},
   "outputs": [],
   "source": [
    "create_plot_classical_stages(plot_data, gene_name)"
   ]
  },
  {
   "cell_type": "code",
   "execution_count": null,
   "id": "2a756f8f-7c76-4552-b62e-f1e358a2cacb",
   "metadata": {},
   "outputs": [],
   "source": [
    "classical_stages=['EE','LE','L1','L2','L3','L4','YA']\n",
    "classical_stages_df = gene_data.query(\"Life_stage in @classical_stages\")\n",
    "median_df = classical_stages_df.query(\"Protocol == 'Median'\")\n",
    "ribozero_df = classical_stages_df.query(\"Protocol == 'ribozero'\")\n",
    "polya_df = classical_stages_df.query(\"Protocol == 'polyA'\")\n",
    "\n",
    "classical_stages_df = classical_stages_df.sort_values(by=['Life_stage'], ascending=True)\n",
    "classical_stages_df"
   ]
  },
  {
   "cell_type": "code",
   "execution_count": null,
   "id": "bafdd635-49de-4fb6-bf85-9234728fbe36",
   "metadata": {},
   "outputs": [],
   "source": []
  }
 ],
 "metadata": {
  "kernelspec": {
   "display_name": "Python [conda env:dan-dev-sc]",
   "language": "python",
   "name": "conda-env-dan-dev-sc-py"
  },
  "language_info": {
   "codemirror_mode": {
    "name": "ipython",
    "version": 3
   },
   "file_extension": ".py",
   "mimetype": "text/x-python",
   "name": "python",
   "nbconvert_exporter": "python",
   "pygments_lexer": "ipython3",
   "version": "3.9.16"
  }
 },
 "nbformat": 4,
 "nbformat_minor": 5
}
