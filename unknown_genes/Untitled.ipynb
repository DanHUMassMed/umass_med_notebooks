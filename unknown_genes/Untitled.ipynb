{
 "cells": [
  {
   "cell_type": "markdown",
   "id": "b27e431c-67e7-4d7d-804a-6e899dc16cd5",
   "metadata": {},
   "source": [
    "# Papers\n",
    "Find papers given a gene set\n"
   ]
  },
  {
   "cell_type": "code",
   "execution_count": 1,
   "id": "67a704fe-dae6-4175-8457-2badddb21db4",
   "metadata": {},
   "outputs": [
    {
     "name": "stdout",
     "output_type": "stream",
     "text": [
      "Requirement already satisfied: pub_worm in /home/dan/miniconda3/envs/dan-dev-sc/lib/python3.9/site-packages (0.2.4)\n",
      "Collecting pub_worm\n",
      "  Downloading pub_worm-0.2.5.tar.gz (387 kB)\n",
      "\u001b[2K     \u001b[90m━━━━━━━━━━━━━━━━━━━━━━━━━━━━━━━━━━━━━━━\u001b[0m \u001b[32m387.5/387.5 kB\u001b[0m \u001b[31m2.6 MB/s\u001b[0m eta \u001b[36m0:00:00\u001b[0m00:01\u001b[0m00:01\u001b[0m\n",
      "\u001b[?25h  Preparing metadata (setup.py) ... \u001b[?25ldone\n",
      "\u001b[?25hRequirement already satisfied: pandas in /home/dan/miniconda3/envs/dan-dev-sc/lib/python3.9/site-packages (from pub_worm) (1.4.2)\n",
      "Requirement already satisfied: python-dateutil>=2.8.1 in /home/dan/miniconda3/envs/dan-dev-sc/lib/python3.9/site-packages (from pandas->pub_worm) (2.8.2)\n",
      "Requirement already satisfied: pytz>=2020.1 in /home/dan/miniconda3/envs/dan-dev-sc/lib/python3.9/site-packages (from pandas->pub_worm) (2022.7.1)\n",
      "Requirement already satisfied: numpy>=1.18.5 in /home/dan/miniconda3/envs/dan-dev-sc/lib/python3.9/site-packages (from pandas->pub_worm) (1.23.5)\n",
      "Requirement already satisfied: six>=1.5 in /home/dan/miniconda3/envs/dan-dev-sc/lib/python3.9/site-packages (from python-dateutil>=2.8.1->pandas->pub_worm) (1.16.0)\n",
      "Building wheels for collected packages: pub_worm\n",
      "  Building wheel for pub_worm (setup.py) ... \u001b[?25ldone\n",
      "\u001b[?25h  Created wheel for pub_worm: filename=pub_worm-0.2.5-py3-none-any.whl size=391877 sha256=42085d8802a815e7193f9fcdae5049d44b10186c8c001b90edc8c4bd950ae2be\n",
      "  Stored in directory: /home/dan/.cache/pip/wheels/5d/18/28/4b7727b0595cb9f34d17c73d29f49483553aea878a1f8c040a\n",
      "Successfully built pub_worm\n",
      "Installing collected packages: pub_worm\n",
      "  Attempting uninstall: pub_worm\n",
      "    Found existing installation: pub-worm 0.2.4\n",
      "    Uninstalling pub-worm-0.2.4:\n",
      "      Successfully uninstalled pub-worm-0.2.4\n",
      "Successfully installed pub_worm-0.2.5\n"
     ]
    }
   ],
   "source": [
    "!pip install --upgrade pub_worm"
   ]
  },
  {
   "cell_type": "code",
   "execution_count": 2,
   "id": "e5169dcb-2f74-46e7-a782-8af9ec21f7b5",
   "metadata": {},
   "outputs": [
    {
     "name": "stdout",
     "output_type": "stream",
     "text": [
      "Full path to the file: /home/dan/miniconda3/envs/dan-dev-sc/lib/python3.9/site-packages/pub_worm/impact_factor/data/2022_JCR_IF.csv\n"
     ]
    }
   ],
   "source": [
    "import os\n",
    "import numpy as np\n",
    "import pandas as pd\n",
    "import pandas as pd\n",
    "from sklearn.cluster import KMeans\n",
    "from sklearn.preprocessing import StandardScaler\n",
    "from sklearn.decomposition import PCA\n",
    "import matplotlib.pyplot as plt\n",
    "\n",
    "import seaborn as sns\n",
    "import umap\n",
    "import matplotlib.pyplot as plt\n",
    "\n",
    "# Get the API\n",
    "from pub_worm.wormbase.wormbase_api import WormbaseAPI\n",
    "from pub_worm.impact_factor.impact_factor_lookup import get_impact_factor\n",
    "from pub_worm.ncbi.entreze_api import EntrezAPI"
   ]
  },
  {
   "cell_type": "code",
   "execution_count": 3,
   "id": "c41f0231-4406-42b7-89b0-441e24568783",
   "metadata": {},
   "outputs": [],
   "source": [
    "# Core Annotation Gene Categories\n",
    "category_names_core=['Cell cycle', 'Chaperone', 'Cilia', 'Cytoskeleton', 'Development','DNA', 'Extracellular material', \n",
    "                     'Globin', 'Lysosome', 'Major sperm protein', 'Metabolism', 'mRNA functions','Muscle function', \n",
    "                     'Neuronal function', 'Nuclear pore', 'Nucleic acid', 'Peroxisome', 'Protein modification', \n",
    "                     'Proteolysis general', 'Proteolysis proteasome',  'Ribosome', 'Signaling', 'Stress response', \n",
    "                     'Trafficking', 'Transcription factor', 'Transcription: chromatin', 'Transcription: dosage compensation', \n",
    "                     'Transcription: general machinery']\n",
    "\n",
    "# Poorly Annotated Genes Categories\n",
    "category_names_pag = ['Transcription: unassigned', 'Transmembrane protein', 'Transmembrane transport', 'Unassigned']\n",
    "\n",
    "# Other Annotated Genes Categories\n",
    "category_names_other = ['Non-coding RNA', 'Pseudogene']\n",
    "\n",
    "category_names_lst = category_names_core + category_names_pag + category_names_other\n"
   ]
  },
  {
   "cell_type": "code",
   "execution_count": 4,
   "id": "8d83909a-ce73-44f4-8826-6ac49c32c9bd",
   "metadata": {},
   "outputs": [
    {
     "name": "stdout",
     "output_type": "stream",
     "text": [
      "Cell cycle                             4,576\n",
      "Chaperone                                820\n",
      "Cilia                                  1,851\n",
      "Cytoskeleton                           7,176\n",
      "DNA                                    3,248\n",
      "Development                           11,360\n",
      "Extracellular material                 6,582\n",
      "Globin                                   125\n",
      "Lysosome                               1,527\n",
      "Major sperm protein                      147\n",
      "Metabolism                            12,635\n",
      "Muscle function                        2,438\n",
      "Neuronal function                     11,956\n",
      "Nuclear pore                             528\n",
      "Nucleic acid                           1,735\n",
      "Peroxisome                               115\n",
      "Protein modification                   1,967\n",
      "Proteolysis general                    2,390\n",
      "Proteolysis proteasome                 3,931\n",
      "Ribosome                               1,646\n",
      "Signaling                             26,543\n",
      "Stress response                       14,596\n",
      "Trafficking                            2,561\n",
      "Transcription factor                  11,835\n",
      "Transcription: chromatin               3,633\n",
      "Transcription: dosage compensation     1,128\n",
      "Transcription: general machinery       1,548\n",
      "Transcription: unassigned                166\n",
      "Transmembrane protein                  4,633\n",
      "Transmembrane transport               10,219\n",
      "Unassigned                             4,527\n",
      "mRNA functions                         6,534\n",
      "=============================================\n",
      "Count:  32                           164,676\n"
     ]
    }
   ],
   "source": [
    "# Load the primary Data for Analysis\n",
    "\n",
    "# Create a dictionary to map to file names\n",
    "category_names_dict = {}\n",
    "for category_name in category_names_lst:\n",
    "    file_name_root = f\"{category_name.lower().replace(' ', '_')}\"\n",
    "    category_names_dict[file_name_root]=category_name\n",
    "    \n",
    "directory = './input_data/references'\n",
    "category_dfs = {}\n",
    "\n",
    "for filename in os.listdir(directory):\n",
    "    \n",
    "    if filename.startswith(\"wc_\"):\n",
    "        file_path = os.path.join(directory, filename)\n",
    "        df = pd.read_csv(file_path)\n",
    "        wc_category = category_names_dict[filename[3:-4]]\n",
    "        category_dfs[wc_category]=df\n",
    "        \n",
    "total=0\n",
    "count=0        \n",
    "reference_data_full_df = pd.DataFrame()\n",
    "for wc_category in sorted(category_dfs.keys()):\n",
    "    length = len(category_dfs[wc_category])\n",
    "    total += length\n",
    "    count += 1\n",
    "    print(f\"{wc_category:<35} {length:>8,}\")\n",
    "    reference_data_full_df = pd.concat([reference_data_full_df, category_dfs[wc_category]], ignore_index=True)\n",
    " \n",
    "print(\"=\"*45)\n",
    "print(f\"Count:{count:>4} {total:>33,}\")\n"
   ]
  },
  {
   "cell_type": "code",
   "execution_count": 5,
   "id": "30ef4349-f9fa-4e3c-9f5c-a598239df962",
   "metadata": {},
   "outputs": [
    {
     "name": "stdout",
     "output_type": "stream",
     "text": [
      "papers_only_df 121,922\n"
     ]
    }
   ],
   "source": [
    "papers_only_df = reference_data_full_df[~reference_data_full_df['journal'].astype(str).str.lower().str.contains(\"meeting\")]\n",
    "print(f\"papers_only_df {len(papers_only_df):,}\")"
   ]
  },
  {
   "cell_type": "code",
   "execution_count": 6,
   "id": "039f865a-d0b9-43f5-9477-f760614e9403",
   "metadata": {},
   "outputs": [
    {
     "name": "stdout",
     "output_type": "stream",
     "text": [
      "Unique Genes 2,052\n"
     ]
    }
   ],
   "source": [
    "up_down_genes=\"./input_data/acb16_abc291_up_down.csv\"\n",
    "up_down_genes_df = pd.read_csv(up_down_genes)\n",
    "\n",
    "up_down_gene_ids_df = pd.DataFrame(up_down_genes_df['ID'])\n",
    "print(f\"Unique Genes {len(up_down_gene_ids_df['ID'].unique()):,}\")"
   ]
  },
  {
   "cell_type": "code",
   "execution_count": 7,
   "id": "404ed50a-f073-4ed1-a87d-83f6ba57cffa",
   "metadata": {},
   "outputs": [
    {
     "data": {
      "text/plain": [
       "15643"
      ]
     },
     "execution_count": 7,
     "metadata": {},
     "output_type": "execute_result"
    }
   ],
   "source": [
    "merged_df = pd.merge(up_down_gene_ids_df, papers_only_df, left_on='ID', right_on='wormbase_id', how='left')\n",
    "len(merged_df)"
   ]
  },
  {
   "cell_type": "code",
   "execution_count": 8,
   "id": "a466e9a6-8c27-447d-b89a-669c8385d2e7",
   "metadata": {},
   "outputs": [
    {
     "data": {
      "text/plain": [
       "1264"
      ]
     },
     "execution_count": 8,
     "metadata": {},
     "output_type": "execute_result"
    }
   ],
   "source": [
    "len(merged_df['wormbase_id'].unique())"
   ]
  },
  {
   "cell_type": "code",
   "execution_count": 9,
   "id": "43cc1eb7-ce95-41b3-afd6-073a08ecab97",
   "metadata": {},
   "outputs": [
    {
     "data": {
      "text/html": [
       "<div>\n",
       "<style scoped>\n",
       "    .dataframe tbody tr th:only-of-type {\n",
       "        vertical-align: middle;\n",
       "    }\n",
       "\n",
       "    .dataframe tbody tr th {\n",
       "        vertical-align: top;\n",
       "    }\n",
       "\n",
       "    .dataframe thead th {\n",
       "        text-align: right;\n",
       "    }\n",
       "</style>\n",
       "<table border=\"1\" class=\"dataframe\">\n",
       "  <thead>\n",
       "    <tr style=\"text-align: right;\">\n",
       "      <th></th>\n",
       "      <th>ID</th>\n",
       "      <th>id</th>\n",
       "      <th>title</th>\n",
       "      <th>journal</th>\n",
       "      <th>year</th>\n",
       "      <th>author</th>\n",
       "      <th>wormbase_id</th>\n",
       "      <th>category</th>\n",
       "    </tr>\n",
       "  </thead>\n",
       "  <tbody>\n",
       "    <tr>\n",
       "      <th>0</th>\n",
       "      <td>WBGene00000216</td>\n",
       "      <td>WBPaper00030985</td>\n",
       "      <td>Genome-wide investigation reveals pathogen-spe...</td>\n",
       "      <td>Genome Biol</td>\n",
       "      <td>2007.0</td>\n",
       "      <td>Wong D|Bazopoulou D|Pujol N|Tavernarakis N|Ewb...</td>\n",
       "      <td>WBGene00000216</td>\n",
       "      <td>Proteolysis general</td>\n",
       "    </tr>\n",
       "    <tr>\n",
       "      <th>1</th>\n",
       "      <td>WBGene00000216</td>\n",
       "      <td>WBPaper00004299</td>\n",
       "      <td>Aspartic proteases from the nematode Caenorhab...</td>\n",
       "      <td>J Biol Chem</td>\n",
       "      <td>2000.0</td>\n",
       "      <td>Tcherepanova IY|Bhattacharyya L|Rubin CS|Freed...</td>\n",
       "      <td>WBGene00000216</td>\n",
       "      <td>Proteolysis general</td>\n",
       "    </tr>\n",
       "    <tr>\n",
       "      <th>2</th>\n",
       "      <td>WBGene00000216</td>\n",
       "      <td>WBPaper00062473</td>\n",
       "      <td>Non-canonical necrosis in two different cell t...</td>\n",
       "      <td>G3 (Bethesda)</td>\n",
       "      <td>2022.0</td>\n",
       "      <td>Reza RN|Serra ND|Detwiler AC|Hanna-Rose W|Crook M</td>\n",
       "      <td>WBGene00000216</td>\n",
       "      <td>Proteolysis general</td>\n",
       "    </tr>\n",
       "    <tr>\n",
       "      <th>3</th>\n",
       "      <td>WBGene00000216</td>\n",
       "      <td>WBPaper00025088</td>\n",
       "      <td>Analysis of long-lived C. elegans daf-2 mutant...</td>\n",
       "      <td>Genome Res</td>\n",
       "      <td>2005.0</td>\n",
       "      <td>Halaschek-Wiener J|Khattra JS|McKay S|Pouzyrev...</td>\n",
       "      <td>WBGene00000216</td>\n",
       "      <td>Proteolysis general</td>\n",
       "    </tr>\n",
       "    <tr>\n",
       "      <th>4</th>\n",
       "      <td>WBGene00000216</td>\n",
       "      <td>WBPaper00005753</td>\n",
       "      <td>Dying for a cause: invertebrate genetics takes...</td>\n",
       "      <td>Nat Rev Genet</td>\n",
       "      <td>2003.0</td>\n",
       "      <td>Driscoll M|Gerstbrein B</td>\n",
       "      <td>WBGene00000216</td>\n",
       "      <td>Proteolysis general</td>\n",
       "    </tr>\n",
       "  </tbody>\n",
       "</table>\n",
       "</div>"
      ],
      "text/plain": [
       "               ID               id  \\\n",
       "0  WBGene00000216  WBPaper00030985   \n",
       "1  WBGene00000216  WBPaper00004299   \n",
       "2  WBGene00000216  WBPaper00062473   \n",
       "3  WBGene00000216  WBPaper00025088   \n",
       "4  WBGene00000216  WBPaper00005753   \n",
       "\n",
       "                                               title        journal    year  \\\n",
       "0  Genome-wide investigation reveals pathogen-spe...    Genome Biol  2007.0   \n",
       "1  Aspartic proteases from the nematode Caenorhab...    J Biol Chem  2000.0   \n",
       "2  Non-canonical necrosis in two different cell t...  G3 (Bethesda)  2022.0   \n",
       "3  Analysis of long-lived C. elegans daf-2 mutant...     Genome Res  2005.0   \n",
       "4  Dying for a cause: invertebrate genetics takes...  Nat Rev Genet  2003.0   \n",
       "\n",
       "                                              author     wormbase_id  \\\n",
       "0  Wong D|Bazopoulou D|Pujol N|Tavernarakis N|Ewb...  WBGene00000216   \n",
       "1  Tcherepanova IY|Bhattacharyya L|Rubin CS|Freed...  WBGene00000216   \n",
       "2  Reza RN|Serra ND|Detwiler AC|Hanna-Rose W|Crook M  WBGene00000216   \n",
       "3  Halaschek-Wiener J|Khattra JS|McKay S|Pouzyrev...  WBGene00000216   \n",
       "4                            Driscoll M|Gerstbrein B  WBGene00000216   \n",
       "\n",
       "              category  \n",
       "0  Proteolysis general  \n",
       "1  Proteolysis general  \n",
       "2  Proteolysis general  \n",
       "3  Proteolysis general  \n",
       "4  Proteolysis general  "
      ]
     },
     "execution_count": 9,
     "metadata": {},
     "output_type": "execute_result"
    }
   ],
   "source": [
    "merged_df.head()\n"
   ]
  },
  {
   "cell_type": "code",
   "execution_count": 10,
   "id": "f30cf3a4-b98e-4053-9dd1-c545884e7798",
   "metadata": {},
   "outputs": [
    {
     "data": {
      "text/plain": [
       "6446"
      ]
     },
     "execution_count": 10,
     "metadata": {},
     "output_type": "execute_result"
    }
   ],
   "source": [
    "# Get all the WBPaper000XXXXX that are unique\n",
    "merged_not_null_df = merged_df[~merged_df['wormbase_id'].isnull()]\n",
    "merged_unique_df = merged_not_null_df[~merged_not_null_df['id'].duplicated(keep='first')]\n",
    "len(merged_unique_df)\n"
   ]
  },
  {
   "cell_type": "code",
   "execution_count": 11,
   "id": "a377c829-b598-4df3-879c-61dd45d2533f",
   "metadata": {},
   "outputs": [],
   "source": [
    "def get_pmid(wormbase_id):\n",
    "    ret_val = None\n",
    "    wormbase_api = WormbaseAPI(\"field\", \"paper\", \"pmid\")\n",
    "    ret_data = wormbase_api.get_wormbase_data(wormbase_id)\n",
    "    if 'pmid' in ret_data:\n",
    "        ret_val = ret_data['pmid']\n",
    "    return ret_val"
   ]
  },
  {
   "cell_type": "code",
   "execution_count": 50,
   "id": "f3e74f35-8c0d-4bb4-8aa3-9ec7ff6671f2",
   "metadata": {},
   "outputs": [],
   "source": [
    "def check_issn_essn(json_data):\n",
    "    if \"issn\" in json_data:\n",
    "        return json_data[\"issn\"]\n",
    "    elif \"essn\" in json_data:\n",
    "        return json_data[\"essn\"]\n",
    "    else:\n",
    "        return None\n",
    "\n",
    "def get_issn_essn(pmid, wb_paper_id):\n",
    "    search_params = {'term':f\"{pmid}[UID]\"}\n",
    "    summary_ret_data = EntrezAPI.get_ncbi_data(search_params, \"paper_summary\")\n",
    "    if summary_ret_data:\n",
    "        summary_ret_data['pmid']=pmid\n",
    "        summary_ret_data['wb_paper_id']=wb_paper_id\n",
    "        \n",
    "    issn_essn = check_issn_essn(summary_ret_data)\n",
    "    if issn_essn:\n",
    "        imapact_factor = get_impact_factor(issn_essn)\n",
    "        summary_ret_data['impact_factor']=imapact_factor\n",
    "    return summary_ret_data\n",
    "   \n",
    "\n",
    "    \n",
    "def collect_ncbi_data(pmid_df):\n",
    "    ncbi_data_lst = []\n",
    "    counter=0\n",
    "    number_of_rows = len(pmid_df)\n",
    "    for index, row in pmid_df.iterrows():\n",
    "        print(\".\", end='')\n",
    "        counter +=1\n",
    "        print(f\"{row['pmid']:.0f}, {row['id']}\")\n",
    "        issn_essn = get_issn_essn(f\"{row['pmid']:.0f}\", row['id'])\n",
    "        print(f\"{issn_essn=}\")\n",
    "        ncbi_data_lst.append(issn_essn)\n",
    "\n",
    "        # Show progress\n",
    "        if counter % 100 == 0:\n",
    "            print(f\"{counter:>4} of {number_of_rows:>6,}\")\n",
    "\n",
    "    print(f\"{counter:>4} of {number_of_rows:>6,}\")\n",
    "    return ncbi_data_lst\n"
   ]
  },
  {
   "cell_type": "code",
   "execution_count": 51,
   "id": "b4496f75-611a-442a-9959-bf0161c9b253",
   "metadata": {},
   "outputs": [
    {
     "name": "stdout",
     "output_type": "stream",
     "text": [
      "{'source': 'J Cell Sci', 'lastauthor': 'Yoder BK', 'issn': '0021-9533', 'pmid': '16291722', 'wb_paper_id': 'WBPaper00030985', 'impact_factor': 5.235}\n"
     ]
    }
   ],
   "source": [
    "print(get_issn_essn('16291722','WBPaper00030985'))"
   ]
  },
  {
   "cell_type": "code",
   "execution_count": 52,
   "id": "6bc43dfa-7793-412e-9049-55f68204cfed",
   "metadata": {},
   "outputs": [],
   "source": [
    "\n",
    "#merged_unique_df['pmid'] = merged_unique_df['id'].apply(get_pmid)\n",
    "merged_unique_df = pd.read_csv('merged_unique_df.csv')\n",
    "os.environ['NCBI_API_KEY'] = '5a1e23e51e6bf572435b326f1452a339ce08'"
   ]
  },
  {
   "cell_type": "code",
   "execution_count": 53,
   "id": "4010fdac-d980-4233-9ff3-ded18c07f745",
   "metadata": {},
   "outputs": [],
   "source": [
    "#merged_unique_df.to_csv('merged_unique_df.csv')"
   ]
  },
  {
   "cell_type": "code",
   "execution_count": 56,
   "id": "5f780a34-b027-4b34-8ad4-2739c61cf31f",
   "metadata": {},
   "outputs": [
    {
     "data": {
      "text/plain": [
       "0    17875205.0\n",
       "1    10854422.0\n",
       "2    35143646.0\n",
       "3    15837805.0\n",
       "4    12610523.0\n",
       "5    17889653.0\n",
       "6    15943973.0\n",
       "7    21647448.0\n",
       "8    18028414.0\n",
       "9    23091037.0\n",
       "Name: pmid, dtype: float64"
      ]
     },
     "execution_count": 56,
     "metadata": {},
     "output_type": "execute_result"
    }
   ],
   "source": [
    "pmid_df = merged_unique_df[merged_unique_df['pmid'].notnull()]\n",
    "pmid_df['pmid'].head(10)"
   ]
  },
  {
   "cell_type": "code",
   "execution_count": 57,
   "id": "0e19a6ff-6860-4bee-8a91-da21abf3d29f",
   "metadata": {},
   "outputs": [
    {
     "name": "stdout",
     "output_type": "stream",
     "text": [
      ".17875205, WBPaper00030985\n",
      "issn_essn={'source': 'Genome Biol', 'lastauthor': 'Ewbank JJ', 'issn': '1465-6906', 'essn': '1474-760X', 'pmid': '17875205', 'wb_paper_id': 'WBPaper00030985', 'impact_factor': None}\n",
      ".10854422, WBPaper00004299\n",
      "issn_essn={'source': 'J Biol Chem', 'lastauthor': 'Freedman JH', 'issn': '0021-9258', 'pmid': '10854422', 'wb_paper_id': 'WBPaper00004299', 'impact_factor': None}\n",
      ".35143646, WBPaper00062473\n",
      "issn_essn={'source': 'G3 (Bethesda)', 'lastauthor': 'Crook M', 'essn': '2160-1836', 'pmid': '35143646', 'wb_paper_id': 'WBPaper00062473', 'impact_factor': 3.542}\n",
      ".15837805, WBPaper00025088\n",
      "issn_essn={'source': 'Genome Res', 'lastauthor': 'Riddle DL', 'issn': '1088-9051', 'pmid': '15837805', 'wb_paper_id': 'WBPaper00025088', 'impact_factor': 9.438}\n",
      ".12610523, WBPaper00005753\n",
      "issn_essn={'source': 'Nat Rev Genet', 'lastauthor': 'Gerstbrein B', 'issn': '1471-0056', 'pmid': '12610523', 'wb_paper_id': 'WBPaper00005753', 'impact_factor': 59.581}\n",
      ".17889653, WBPaper00031025\n",
      "issn_essn={'source': 'Cell', 'lastauthor': 'Silverman GA', 'issn': '0092-8674', 'essn': '1097-4172', 'pmid': '17889653', 'wb_paper_id': 'WBPaper00031025', 'impact_factor': 66.85}\n",
      ".15943973, WBPaper00026694\n",
      "issn_essn={'source': 'FEBS Lett', 'lastauthor': 'Tavernarakis N', 'issn': '0014-5793', 'pmid': '15943973', 'wb_paper_id': 'WBPaper00026694', 'impact_factor': 3.864}\n",
      ".21647448, WBPaper00038491\n",
      "issn_essn={'source': 'PLoS One', 'lastauthor': 'Greenwald I', 'essn': '1932-6203', 'pmid': '21647448', 'wb_paper_id': 'WBPaper00038491', 'impact_factor': 3.752}\n",
      ".18028414, WBPaper00031238\n",
      "issn_essn={'source': 'Environ Microbiol', 'lastauthor': 'Tunlid A', 'issn': '1462-2912', 'essn': '1462-2920', 'pmid': '18028414', 'wb_paper_id': 'WBPaper00031238', 'impact_factor': 5.476}\n",
      ".23091037, WBPaper00041673\n",
      "issn_essn={'source': 'Proc Natl Acad Sci U S A', 'lastauthor': 'Xue D', 'issn': '0027-8424', 'essn': '1091-6490', 'pmid': '23091037', 'wb_paper_id': 'WBPaper00041673', 'impact_factor': 12.779}\n",
      "  10 of     10\n"
     ]
    }
   ],
   "source": [
    "top_10 = pmid_df.head(10)\n",
    "ncbi_data_lst = collect_ncbi_data(top_10)\n"
   ]
  },
  {
   "cell_type": "code",
   "execution_count": null,
   "id": "0cc6d070-44b6-4740-bee6-af79f84d0560",
   "metadata": {},
   "outputs": [],
   "source": [
    "\n",
    "ncbi_data_df = pd.DataFrame(ncbi_data_lst)\n",
    "ncbi_data_lst\n"
   ]
  },
  {
   "cell_type": "code",
   "execution_count": null,
   "id": "0733af69-bd3c-4115-bcae-2a27a715c605",
   "metadata": {},
   "outputs": [],
   "source": []
  }
 ],
 "metadata": {
  "kernelspec": {
   "display_name": "Python [conda env:dan-dev-sc]",
   "language": "python",
   "name": "conda-env-dan-dev-sc-py"
  },
  "language_info": {
   "codemirror_mode": {
    "name": "ipython",
    "version": 3
   },
   "file_extension": ".py",
   "mimetype": "text/x-python",
   "name": "python",
   "nbconvert_exporter": "python",
   "pygments_lexer": "ipython3",
   "version": "3.9.16"
  }
 },
 "nbformat": 4,
 "nbformat_minor": 5
}
