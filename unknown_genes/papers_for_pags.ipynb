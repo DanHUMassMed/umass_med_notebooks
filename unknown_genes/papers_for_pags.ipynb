{
 "cells": [
  {
   "cell_type": "markdown",
   "id": "d71fa044-abc2-490e-96c7-e7937b6f37f0",
   "metadata": {},
   "source": [
    "# Get All the Paper References for a Gene\n",
    "\n",
    "### This notebook pulls all the Paper References for all the Wormcat Genes\n",
    "\n",
    "* Except for genes in the \"Non-coding RNA\", \"Pseudogene\" Categories of WormCat\n",
    "\n",
    "---\n",
    "All other data is queried by WormCat category and pulled into seperate csv files.\n"
   ]
  },
  {
   "cell_type": "code",
   "execution_count": 95,
   "id": "19ccc1ff-cfd1-4e55-a31f-a55c2461abda",
   "metadata": {},
   "outputs": [
    {
     "name": "stdout",
     "output_type": "stream",
     "text": [
      "Requirement already satisfied: pub_worm in /home/dan/miniconda3/envs/dan-dev-sc/lib/python3.9/site-packages (0.2.0)\n",
      "Requirement already satisfied: pandas in /home/dan/miniconda3/envs/dan-dev-sc/lib/python3.9/site-packages (from pub_worm) (1.4.2)\n",
      "Requirement already satisfied: python-dateutil>=2.8.1 in /home/dan/miniconda3/envs/dan-dev-sc/lib/python3.9/site-packages (from pandas->pub_worm) (2.8.2)\n",
      "Requirement already satisfied: pytz>=2020.1 in /home/dan/miniconda3/envs/dan-dev-sc/lib/python3.9/site-packages (from pandas->pub_worm) (2022.7.1)\n",
      "Requirement already satisfied: numpy>=1.18.5 in /home/dan/miniconda3/envs/dan-dev-sc/lib/python3.9/site-packages (from pandas->pub_worm) (1.23.5)\n",
      "Requirement already satisfied: six>=1.5 in /home/dan/miniconda3/envs/dan-dev-sc/lib/python3.9/site-packages (from python-dateutil>=2.8.1->pandas->pub_worm) (1.16.0)\n"
     ]
    }
   ],
   "source": [
    "!pip install --upgrade pub_worm"
   ]
  },
  {
   "cell_type": "code",
   "execution_count": 86,
   "id": "23a3223c-43a6-43cc-96f6-46da5bc0c2f2",
   "metadata": {},
   "outputs": [],
   "source": [
    "import numpy as np\n",
    "import pandas as pd\n",
    "import datetime\n",
    "import math\n",
    "import requests\n",
    "import json\n",
    "import csv\n",
    "import time\n",
    "import os\n",
    "import psutil\n",
    "from datetime import datetime\n",
    "\n",
    "# Get the API\n",
    "from pub_worm.wormbase.wormbase_api import WormbaseAPI\n",
    "from pub_worm.wormbase.to_csv_helpers import ontology_to_csv, refereneces_to_csv"
   ]
  },
  {
   "cell_type": "code",
   "execution_count": 87,
   "id": "ad31cc95-1348-46cb-a036-8540166804d1",
   "metadata": {},
   "outputs": [
    {
     "name": "stdout",
     "output_type": "stream",
     "text": [
      "File exists and will not be pulled.\n"
     ]
    }
   ],
   "source": [
    "%%bash\n",
    "# Pull Wormcat Category List from source location as needed\n",
    "cd /media/data1/Code/Notebooks/UMass_Med/unknown_genes/input_data\n",
    "\n",
    "WORMCAT_DB=\"whole_genome_v2_nov-11-2021.csv\"\n",
    "WORMCAT_REPO=\" http://www.wormcat.com/static/download\"\n",
    "\n",
    "if [ -f \"$WORMCAT_DB\" ]; then\n",
    "   echo \"File exists and will not be pulled.\"\n",
    "else\n",
    "   echo \"File does not exist locally pulling from repo.\"\n",
    "   wget -q ${WORMCAT_REPO}/${WORMCAT_DB}\n",
    "fi\n"
   ]
  },
  {
   "cell_type": "code",
   "execution_count": 88,
   "id": "f74610f3-34ea-438e-8f8e-655397e1e898",
   "metadata": {},
   "outputs": [
    {
     "data": {
      "text/plain": [
       "'WS291'"
      ]
     },
     "execution_count": 88,
     "metadata": {},
     "output_type": "execute_result"
    }
   ],
   "source": [
    "# Get the most current Wormbase DB\n",
    "def current_wormbase_version():\n",
    "    api_url = f'http://rest.wormbase.org//rest/database/version'\n",
    "    # Absolutley no error checking is done!!\n",
    "    response = requests.get(api_url)\n",
    "    json_data = json.loads(response.text)\n",
    "    if  response.status_code == 200:\n",
    "        return json_data['data']\n",
    "    else:\n",
    "        return {'error':'somthing is not right'}\n",
    "    \n",
    "current_wormbase_version()"
   ]
  },
  {
   "cell_type": "code",
   "execution_count": 4,
   "id": "acce71c6-94c6-427a-b0db-4a78faf05617",
   "metadata": {},
   "outputs": [
    {
     "name": "stdout",
     "output_type": "stream",
     "text": [
      "Starting Wormbase Download with version WS291\n",
      "created c_elegans.PRJNA13758.WS291.geneIDs.csv\n"
     ]
    }
   ],
   "source": [
    "%%bash\n",
    "# Pull Wormbase data from source location\n",
    "\n",
    "cd /media/data1/Code/Notebooks/UMass_Med/unknown_genes/input_data\n",
    "\n",
    "#### UPDATE WORMBASE DB ####\n",
    "wormbase_version='WS291'\n",
    "\n",
    "echo \"Starting Wormbase Download with version $wormbase_version\"\n",
    "\n",
    "base_url=\"ftp://ftp.wormbase.org/pub/wormbase/releases/${wormbase_version}/species/c_elegans/PRJNA13758\"\n",
    "gene_ids=\"c_elegans.PRJNA13758.${wormbase_version}.geneIDs.txt.gz\"\n",
    "\n",
    "wget -q ${base_url}/annotation/${gene_ids}\n",
    "gunzip --force ${gene_ids}\n",
    "\n",
    "# Create GeneIDs.csv\n",
    "gene_ids_txt=$(echo \"$gene_ids\" | sed 's/.\\{3\\}$//') # remove .gz\n",
    "gene_ids_csv=$(echo \"$gene_ids\" | sed 's/.\\{7\\}$//') # remove .txt.gz\n",
    "gene_ids_csv=\"${gene_ids_csv}.csv\"                   # add .csv\n",
    "\n",
    "# Drop the first column and Only include Live genes\n",
    "awk -F',' '$5==\"Live\" {print $2\",\"$3\",\"$4\",\"$6}' \"$gene_ids_txt\" > \"$gene_ids_csv\"\n",
    "# Add Header line  \n",
    "sed -i '1iWormbase_Id,Gene_name,Sequence_id,Gene_Type' \"$gene_ids_csv\"\n",
    "echo created $gene_ids_csv"
   ]
  },
  {
   "cell_type": "code",
   "execution_count": 89,
   "id": "d02ddc7f-8bc7-4d18-8902-3f544b1e8472",
   "metadata": {},
   "outputs": [
    {
     "name": "stdout",
     "output_type": "stream",
     "text": [
      "31,389\n"
     ]
    },
    {
     "data": {
      "text/html": [
       "<div>\n",
       "<style scoped>\n",
       "    .dataframe tbody tr th:only-of-type {\n",
       "        vertical-align: middle;\n",
       "    }\n",
       "\n",
       "    .dataframe tbody tr th {\n",
       "        vertical-align: top;\n",
       "    }\n",
       "\n",
       "    .dataframe thead th {\n",
       "        text-align: right;\n",
       "    }\n",
       "</style>\n",
       "<table border=\"1\" class=\"dataframe\">\n",
       "  <thead>\n",
       "    <tr style=\"text-align: right;\">\n",
       "      <th></th>\n",
       "      <th>wc_sequence_id</th>\n",
       "      <th>wormbase_id</th>\n",
       "      <th>category_1</th>\n",
       "      <th>category_2</th>\n",
       "      <th>category_3</th>\n",
       "    </tr>\n",
       "  </thead>\n",
       "  <tbody>\n",
       "    <tr>\n",
       "      <th>0</th>\n",
       "      <td>F15H10.3</td>\n",
       "      <td>WBGene00000144</td>\n",
       "      <td>Cell cycle</td>\n",
       "      <td>Cell cycle: APC</td>\n",
       "      <td>Cell cycle: APC</td>\n",
       "    </tr>\n",
       "    <tr>\n",
       "      <th>1</th>\n",
       "      <td>F35G12.9</td>\n",
       "      <td>WBGene00000145</td>\n",
       "      <td>Cell cycle</td>\n",
       "      <td>Cell cycle: APC</td>\n",
       "      <td>Cell cycle: APC</td>\n",
       "    </tr>\n",
       "    <tr>\n",
       "      <th>2</th>\n",
       "      <td>C09H10.7</td>\n",
       "      <td>WBGene00007501</td>\n",
       "      <td>Cell cycle</td>\n",
       "      <td>Cell cycle: APC</td>\n",
       "      <td>Cell cycle: APC</td>\n",
       "    </tr>\n",
       "    <tr>\n",
       "      <th>3</th>\n",
       "      <td>K06H7.6</td>\n",
       "      <td>WBGene00000143</td>\n",
       "      <td>Cell cycle</td>\n",
       "      <td>Cell cycle: APC</td>\n",
       "      <td>Cell cycle: APC</td>\n",
       "    </tr>\n",
       "    <tr>\n",
       "      <th>4</th>\n",
       "      <td>B0511.9</td>\n",
       "      <td>WBGene00015235</td>\n",
       "      <td>Cell cycle</td>\n",
       "      <td>Cell cycle: APC</td>\n",
       "      <td>Cell cycle: APC</td>\n",
       "    </tr>\n",
       "  </tbody>\n",
       "</table>\n",
       "</div>"
      ],
      "text/plain": [
       "  wc_sequence_id     wormbase_id  category_1       category_2       category_3\n",
       "0       F15H10.3  WBGene00000144  Cell cycle  Cell cycle: APC  Cell cycle: APC\n",
       "1       F35G12.9  WBGene00000145  Cell cycle  Cell cycle: APC  Cell cycle: APC\n",
       "2       C09H10.7  WBGene00007501  Cell cycle  Cell cycle: APC  Cell cycle: APC\n",
       "3        K06H7.6  WBGene00000143  Cell cycle  Cell cycle: APC  Cell cycle: APC\n",
       "4        B0511.9  WBGene00015235  Cell cycle  Cell cycle: APC  Cell cycle: APC"
      ]
     },
     "execution_count": 89,
     "metadata": {},
     "output_type": "execute_result"
    }
   ],
   "source": [
    "# Load the Wormbase Annotation List\n",
    "\n",
    "wormcat_df = pd.read_csv('./input_data/whole_genome_v2_nov-11-2021.csv') \n",
    "wormcat_df = wormcat_df.rename(columns={'Sequence ID':'wc_sequence_id','Wormbase ID':'wormbase_id','Category 1':'category_1','Category 2':'category_2','Category 3':'category_3'})\n",
    "wormcat_df = wormcat_df.drop(columns=['Automated Description'])\n",
    "print(f\"{len(wormcat_df):,}\")\n",
    "wormcat_df.head()"
   ]
  },
  {
   "cell_type": "code",
   "execution_count": 90,
   "id": "c09950be-9d98-43d6-8f80-f7f4c164dc0b",
   "metadata": {},
   "outputs": [],
   "source": [
    "# Load each Category into its own dataframe\n",
    "category1=wormcat_df['category_1'].unique()\n",
    "category_dfs = {}\n",
    "for category in category1:\n",
    "    df = wormcat_df.query(f\"category_1 == '{category}'\")\n",
    "    category_dfs[category]=df\n"
   ]
  },
  {
   "cell_type": "code",
   "execution_count": 98,
   "id": "0066dc56-ed4f-449e-b327-d3c32b85ebe5",
   "metadata": {},
   "outputs": [],
   "source": [
    "# Core Annotation Gene Categories\n",
    "category_names_core=['Cell cycle', 'Chaperone', 'Cilia', 'Cytoskeleton', 'Development','DNA', 'Extracellular material', \n",
    "                     'Globin', 'Lysosome', 'Major sperm protein', 'Metabolism', 'mRNA functions','Muscle function', \n",
    "                     'Neuronal function', 'Nuclear pore', 'Nucleic acid', 'Peroxisome', 'Protein modification', \n",
    "                     'Proteolysis general', 'Proteolysis proteasome',  'Ribosome', 'Signaling', 'Stress response', \n",
    "                     'Trafficking', 'Transcription factor', 'Transcription: chromatin', 'Transcription: dosage compensation', \n",
    "                     'Transcription: general machinery']\n",
    "\n",
    "# Poorly Annotated Genes Categories\n",
    "category_names_pag = ['Transcription: unassigned', 'Transmembrane protein', 'Transmembrane transport', 'Unassigned']\n",
    "\n",
    "# Other Annotated Genes Categories\n",
    "category_names_other = ['Non-coding RNA', 'Pseudogene']\n",
    "\n",
    "category_names_lst = category_names_core + category_names_pag + category_names_other\n"
   ]
  },
  {
   "cell_type": "code",
   "execution_count": 101,
   "id": "7fe43983-58bc-4fc0-abcf-1eae6a7d118a",
   "metadata": {},
   "outputs": [
    {
     "name": "stdout",
     "output_type": "stream",
     "text": [
      "Cell cycle                               172\n",
      "Chaperone                                 92\n",
      "Cilia                                     60\n",
      "Cytoskeleton                             371\n",
      "DNA                                      176\n",
      "Development                              295\n",
      "Extracellular material                   495\n",
      "Globin                                    36\n",
      "Lysosome                                  91\n",
      "Major sperm protein                       31\n",
      "Metabolism                             1,601\n",
      "Muscle function                           62\n",
      "Neuronal function                        308\n",
      "Non-coding RNA                         9,535\n",
      "Nuclear pore                              36\n",
      "Nucleic acid                             231\n",
      "Peroxisome                                15\n",
      "Protein modification                     271\n",
      "Proteolysis general                      394\n",
      "Proteolysis proteasome                   733\n",
      "Pseudogene                             2,081\n",
      "Ribosome                                 244\n",
      "Signaling                              1,188\n",
      "Stress response                          833\n",
      "Trafficking                              205\n",
      "Transcription factor                     581\n",
      "Transcription: chromatin                 222\n",
      "Transcription: dosage compensation        10\n",
      "Transcription: general machinery         154\n",
      "Transcription: unassigned                 15\n",
      "Transmembrane protein                  3,200\n",
      "Transmembrane transport                  901\n",
      "Unassigned                             6,343\n",
      "mRNA functions                           407\n",
      "=============================================\n",
      "Count:  34                            31,389\n"
     ]
    }
   ],
   "source": [
    "# How many wormbase ids for each category?\n",
    "def df_summary(dict_of_dfs, dict_keys):\n",
    "    total=0\n",
    "    count=0\n",
    "    for key in sorted(dict_keys):\n",
    "        length = len(dict_of_dfs[key])\n",
    "        print(f\"{key:<35} {length:>8,}\")\n",
    "        total += length\n",
    "        count += 1\n",
    "\n",
    "    print(\"=\"*45)\n",
    "    print(f\"Count:{count:>4} {total:>33,}\")\n",
    "    \n",
    "df_summary(category_dfs, category_names_lst)"
   ]
  },
  {
   "cell_type": "code",
   "execution_count": 102,
   "id": "cea8fcd3-cea2-4533-85af-ab4252835a26",
   "metadata": {},
   "outputs": [
    {
     "name": "stdout",
     "output_type": "stream",
     "text": [
      "Transcription: unassigned                 15\n",
      "Transmembrane protein                  3,200\n",
      "Transmembrane transport                  901\n",
      "Unassigned                             6,343\n",
      "=============================================\n",
      "Count:   4                            10,459\n"
     ]
    }
   ],
   "source": [
    "# How many wormbase ids for each category of Poorly Annotated genes?\n",
    "df_summary(category_dfs, category_names_pag)\n"
   ]
  },
  {
   "cell_type": "code",
   "execution_count": 94,
   "id": "290def07-2d96-42e2-a268-879a6e8720d3",
   "metadata": {},
   "outputs": [
    {
     "name": "stdout",
     "output_type": "stream",
     "text": [
      "CPU 0.4% Memory 55.0% Mem Avail 56.49 GB\n"
     ]
    }
   ],
   "source": [
    "# Function to monitor memory usage\n",
    "def print_memory_usage():\n",
    "    cpu_percent=psutil.cpu_percent()\n",
    "    memory_percent=psutil.virtual_memory().percent\n",
    "    memory_available=psutil.virtual_memory().available / (1024 ** 3)\n",
    "    print(f\"CPU {cpu_percent}% Memory {memory_percent}% Mem Avail {memory_available:,.2f} GB\")\n",
    "print_memory_usage()"
   ]
  },
  {
   "cell_type": "code",
   "execution_count": 136,
   "id": "8b1516e4-68a0-44ad-80a5-22b13059c2e9",
   "metadata": {},
   "outputs": [],
   "source": [
    "# Function to iterate a list of Wormcat items\n",
    "def get_reference_data(wormcat_df, category_nm):\n",
    "    formatted_date = datetime.today().strftime('%Y_%m_%d')\n",
    "    file_name = f\"{category_nm.lower().replace(' ', '_')}_references_{formatted_date}.csv\"\n",
    "    method_params = {}\n",
    "    method_params['data_request']='references'\n",
    "    method_params['call_type']='field'\n",
    "    method_params['call_class']='gene'\n",
    "    wormbaseAPI = WormbaseAPI()\n",
    "    \n",
    "    concatenated_df = pd.DataFrame()\n",
    "    dfs = []\n",
    "    index=0\n",
    "    number_of_rows=len(wormcat_df)\n",
    "    for df_index, row in wormcat_df.iterrows():\n",
    "        method_params['object_id']=row['wormbase_id']\n",
    "        print(\".\", end='')\n",
    "        index +=1\n",
    "        #print(f\"{index:<4} of {len(transmembrane_transport_df)} {row['wormbase_id']}\")\n",
    "        ret_data = wormbaseAPI.get_wormbase_data(method_params)\n",
    "        if 'references_list' in ret_data:\n",
    "            if isinstance(ret_data['references_list'], dict):\n",
    "                references_df = pd.DataFrame(ret_data['references_list'], index=[0])\n",
    "            else:\n",
    "                references_df = pd.DataFrame(ret_data['references_list'])\n",
    "            if 'abstract' in references_df.columns:\n",
    "                references_df = references_df.drop(columns=['abstract'])\n",
    "            references_df['wormbase_id']=row['wormbase_id']\n",
    "            references_df['category']=category_nm\n",
    "            dfs.append(references_df)\n",
    "        else:\n",
    "            print(\"-\", end='')\n",
    "            #print(f\"Return has no references_list!\\n{ret_data}\")\n",
    "\n",
    "        # Concatenate every 100 DataFrames\n",
    "        # If something crashes we may be able to recover without a full rerun\n",
    "        if index % 100 == 0:\n",
    "            print(f\"{index:>4} of {number_of_rows} {row['wormbase_id']}\")\n",
    "            concatenated_df = pd.concat([concatenated_df] + dfs, ignore_index=True)\n",
    "            concatenated_df.to_csv(file_name, index=False)\n",
    "            print_memory_usage()\n",
    "            dfs = []  # Reset the list for the next batch\n",
    "\n",
    "    # Concatenate the remaining DataFrames\n",
    "    if dfs:\n",
    "        concatenated_df = pd.concat([concatenated_df] + dfs, ignore_index=True)\n",
    "        concatenated_df.to_csv(file_name, index=False)\n",
    "        print_memory_usage()\n",
    "    return concatenated_df\n",
    "\n"
   ]
  },
  {
   "cell_type": "code",
   "execution_count": 98,
   "id": "8910caf9-2459-4088-a5fe-89bc63a5159a",
   "metadata": {},
   "outputs": [
    {
     "name": "stdout",
     "output_type": "stream",
     "text": [
      "2694\n",
      "937\n"
     ]
    }
   ],
   "source": [
    "paper_ids = references_df['id'].unique()\n",
    "wormbase_ids = references_df['wormbase_id'].unique()\n",
    "print(len(paper_ids))\n",
    "print(len(wormbase_ids))"
   ]
  },
  {
   "cell_type": "code",
   "execution_count": null,
   "id": "4fb0810e-5c71-4942-8d51-f8e3f46d6d49",
   "metadata": {},
   "outputs": [],
   "source": [
    "### CAUTION This cell can take a long time to run ###\n",
    "# Get all the Papers for a Category of Wormcat\n",
    "\n",
    "reference_data_full_df = pd.DataFrame()\n",
    "for name in category_names:\n",
    "    print(f\"{name} {len(category_dfs[name])}\")\n",
    "    temp_df = get_reference_data(category_dfs[name],name)   \n",
    "    reference_data_full_df = pd.concat([reference_data_full_df, temp_df], ignore_index=True)\n",
    "    "
   ]
  },
  {
   "cell_type": "code",
   "execution_count": 138,
   "id": "7068be1d-9ae5-47de-82ff-bd71ad4c11cd",
   "metadata": {},
   "outputs": [
    {
     "data": {
      "text/plain": [
       "Index(['id', 'title', 'journal', 'year', 'author', 'wormbase_id', 'category'], dtype='object')"
      ]
     },
     "execution_count": 138,
     "metadata": {},
     "output_type": "execute_result"
    }
   ],
   "source": [
    "reference_data_full_df.columns"
   ]
  },
  {
   "cell_type": "code",
   "execution_count": 139,
   "id": "971839b2-606c-4970-bf7e-5efca2d4d639",
   "metadata": {},
   "outputs": [
    {
     "data": {
      "text/plain": [
       "array(['Major sperm protein', 'Metabolism', 'mRNA functions',\n",
       "       'Muscle function', 'Neuronal function', 'Nuclear pore',\n",
       "       'Nucleic acid', 'Peroxisome', 'Protein modification',\n",
       "       'Proteolysis general', 'Proteolysis proteasome', 'Ribosome',\n",
       "       'Signaling', 'Stress response', 'Trafficking',\n",
       "       'Transcription factor', 'Transcription: chromatin',\n",
       "       'Transcription: dosage compensation',\n",
       "       'Transcription: general machinery'], dtype=object)"
      ]
     },
     "execution_count": 139,
     "metadata": {},
     "output_type": "execute_result"
    }
   ],
   "source": [
    "reference_data_full_df['category'].unique()"
   ]
  },
  {
   "cell_type": "markdown",
   "id": "ed8fa9d0-3716-482c-affa-0ec5ceae82d1",
   "metadata": {},
   "source": [
    "# After all categories are processed"
   ]
  },
  {
   "cell_type": "code",
   "execution_count": 105,
   "id": "b3505657-b922-4803-8340-be876a1376b9",
   "metadata": {},
   "outputs": [
    {
     "name": "stdout",
     "output_type": "stream",
     "text": [
      "Cell cycle                             4,576\n",
      "Chaperone                                820\n",
      "Cilia                                  1,851\n",
      "Cytoskeleton                           7,176\n",
      "DNA                                    3,248\n",
      "Development                           11,360\n",
      "Extracellular material                 6,582\n",
      "Globin                                   125\n",
      "Lysosome                               1,527\n",
      "Major sperm protein                      147\n",
      "Metabolism                            12,635\n",
      "Muscle function                        2,438\n",
      "Neuronal function                     11,956\n",
      "Nuclear pore                             528\n",
      "Nucleic acid                           1,735\n",
      "Peroxisome                               115\n",
      "Protein modification                   1,967\n",
      "Proteolysis general                    2,390\n",
      "Proteolysis proteasome                 3,931\n",
      "Ribosome                               1,646\n",
      "Signaling                             26,543\n",
      "Stress response                       14,596\n",
      "Trafficking                            2,561\n",
      "Transcription factor                  11,835\n",
      "Transcription: chromatin               3,633\n",
      "Transcription: dosage compensation     1,128\n",
      "Transcription: general machinery       1,548\n",
      "Transcription: unassigned                166\n",
      "Transmembrane protein                  4,633\n",
      "Transmembrane transport               10,219\n",
      "Unassigned                             4,527\n",
      "mRNA functions                         6,534\n",
      "=============================================\n",
      "Count:  32                           164,676\n"
     ]
    }
   ],
   "source": [
    "# Load the primary Data for Analysis\n",
    "\n",
    "# Create a dictionary to map to file names\n",
    "category_names_dict = {}\n",
    "for category_name in category_names_lst:\n",
    "    file_name_root = f\"{category_name.lower().replace(' ', '_')}\"\n",
    "    category_names_dict[file_name_root]=category_name\n",
    "    \n",
    "directory = './input_data/references'\n",
    "category_dfs = {}\n",
    "\n",
    "for filename in os.listdir(directory):\n",
    "    \n",
    "    if filename.startswith(\"wc_\"):\n",
    "        file_path = os.path.join(directory, filename)\n",
    "        df = pd.read_csv(file_path)\n",
    "        wc_category = category_names_dict[filename[3:-4]]\n",
    "        category_dfs[wc_category]=df\n",
    "\n",
    "df_summary(dfs, dfs.keys())        \n"
   ]
  },
  {
   "cell_type": "code",
   "execution_count": 106,
   "id": "72dc0c86-ee71-4aa7-9a06-02bfbea9d504",
   "metadata": {},
   "outputs": [
    {
     "name": "stdout",
     "output_type": "stream",
     "text": [
      "Total count of Papers 164,676\n"
     ]
    }
   ],
   "source": [
    "# Concat all the dataframes into on large dataframe\n",
    "reference_data_full_df = pd.DataFrame()\n",
    "for name in dfs:  \n",
    "    reference_data_full_df = pd.concat([reference_data_full_df, dfs[name]], ignore_index=True)\n",
    "print(f\"Total count of Papers {len(reference_data_full_df):>6,}\")"
   ]
  },
  {
   "cell_type": "code",
   "execution_count": 107,
   "id": "53f81702-61c6-4029-8703-bc4a5f6a2bd0",
   "metadata": {},
   "outputs": [
    {
     "name": "stdout",
     "output_type": "stream",
     "text": [
      "Unique Papers 34,518\n"
     ]
    }
   ],
   "source": [
    "# How many Unique papers do we have?\n",
    "unquie_papers = reference_data_full_df['id'].unique()\n",
    "print(f\"Unique Papers {len(unquie_papers):,}\")"
   ]
  },
  {
   "cell_type": "code",
   "execution_count": 7,
   "id": "8903fc13-dd7c-4844-bf76-4e5c9d715ec8",
   "metadata": {},
   "outputs": [],
   "source": [
    "# Function to Get Abstracts for a collection of Papers\n",
    "def get_abstracts(paper_ids, file_nm):\n",
    "    formatted_date = datetime.today().strftime('%Y_%m_%d')\n",
    "    file_name = f\"{file_nm.lower().replace(' ', '_')}_references_{formatted_date}.csv\"\n",
    "    wormbase_abstract = WormbaseAPI(\"field\", \"paper\", \"abstract\")\n",
    "    concatenated_df = pd.DataFrame()\n",
    "    dfs = []\n",
    "    index=0\n",
    "    number_of_rows=len(paper_ids)\n",
    "    for  paper_id in paper_ids:\n",
    "        #print(f\"{index:>4} of {number_of_rows} {paper_id}\")\n",
    "        print(\".\", end='')\n",
    "        index +=1\n",
    "        #print(f\"{index:<4} of {len(transmembrane_transport_df)} {row['wormbase_id']}\")\n",
    "        abstract_data = wormbase_abstract.get_wormbase_data(paper_id)\n",
    "        if abstract_data:\n",
    "                abstract_data_dict ={'paper_id':paper_id}\n",
    "                abstract_data_dict.update(abstract_data)\n",
    "                abstract_data_df = pd.DataFrame(abstract_data_dict, index=[0])\n",
    "                dfs.append(abstract_data_df)\n",
    "        else:\n",
    "            print(\"-\", end='')\n",
    "            #print(f\"Return has no references_list!\\n{ret_data}\")\n",
    "\n",
    "        # Concatenate every 100 DataFrames\n",
    "        # If something crashes we may be able to recover without a full rerun\n",
    "        if index % 500 == 0:\n",
    "            print(f\"{index:>4} of {number_of_rows} {paper_id}\")\n",
    "            concatenated_df = pd.concat([concatenated_df] + dfs, ignore_index=True)\n",
    "            concatenated_df.to_csv(file_name, index=False)\n",
    "            print_memory_usage()\n",
    "            dfs = []  # Reset the list for the next batch\n",
    "\n",
    "    # Concatenate the remaining DataFrames\n",
    "    if dfs:\n",
    "        concatenated_df = pd.concat([concatenated_df] + dfs, ignore_index=True)\n",
    "        concatenated_df.to_csv(file_name, index=False)\n",
    "        print_memory_usage()\n",
    "    return concatenated_df"
   ]
  },
  {
   "cell_type": "code",
   "execution_count": null,
   "id": "107f9a22-08f0-43b7-829e-3123894c9f68",
   "metadata": {},
   "outputs": [],
   "source": [
    "abstract_df = get_abstracts(unquie_papers, \"abstract\")\n",
    "print(f\"Size {len(abstract_df)}\")"
   ]
  },
  {
   "cell_type": "code",
   "execution_count": 82,
   "id": "5d10fbb7-4075-47cb-8c7b-004fb1add8e2",
   "metadata": {},
   "outputs": [],
   "source": [
    "%%capture notebook_variables\n",
    "%whos\n",
    "# What Vaiables are in use"
   ]
  },
  {
   "cell_type": "code",
   "execution_count": 83,
   "id": "dd83303d-5077-47d3-9766-cef581564585",
   "metadata": {},
   "outputs": [
    {
     "name": "stdout",
     "output_type": "stream",
     "text": [
      "Variable                     Type        Data/Info\n",
      "----------------------------------------------------\n",
      "noteboo_variables            CapturedIO  Variable                 <...>31389 rows x 5 columns]\\n\n",
      "df                           DataFrame   id    <...>\\n[3248 rows x 7 columns]\n",
      "reference_data_full_df       DataFrame   id  <...>[164676 rows x 7 columns]\n",
      "wormcat_df                   DataFrame   wc_sequence_id     <...>n[31389 rows x 5 columns]\n",
      "category_dfs                 dict        n=34\n",
      "dfs                          dict        n=32\n",
      "reference_dfs                dict        n=32\n",
      "current_wormbase_version     function    <function current_wormbas<...>ersion at 0x7f25b095adc0>\n",
      "df_summary                   function    <function df_summary at 0x7f25a2a283a0>\n",
      "ontology_to_csv              function    <function ontology_to_csv at 0x7f25b095a3a0>\n",
      "print_memory_usage           function    <function print_memory_usage at 0x7f25a2a281f0>\n",
      "refereneces_to_csv           function    <function refereneces_to_csv at 0x7f25b095a820>\n",
      "pos                          int         0\n",
      "total                        int         9314\n",
      "category_names               list        n=28\n",
      "category_not_covered_names   list        n=2\n",
      "category_pag_names           list        n=4\n",
      "lines                        list        n=35\n",
      "popped_records               list        n=2\n",
      "records                      list        n=33\n",
      "sorted_list                  list        n=33\n",
      "sorted_records               list        n=35\n",
      "csv                          module      <module 'csv' from '/home<...>sc/lib/python3.9/csv.py'>\n",
      "json                         module      <module 'json' from '/hom<...>hon3.9/json/__init__.py'>\n",
      "math                         module      <module 'math' from '/hom<...>-39-x86_64-linux-gnu.so'>\n",
      "np                           module      <module 'numpy' from '/ho<...>kages/numpy/__init__.py'>\n",
      "os                           module      <module 'os' from '/home/<...>-sc/lib/python3.9/os.py'>\n",
      "pd                           module      <module 'pandas' from '/h<...>ages/pandas/__init__.py'>\n",
      "psutil                       module      <module 'psutil' from '/h<...>ages/psutil/__init__.py'>\n",
      "requests                     module      <module 'requests' from '<...>es/requests/__init__.py'>\n",
      "time                         module      <module 'time' (built-in)>\n",
      "category1                    ndarray     34: 34 elems, type `object`, 272 bytes\n",
      "unquie_papers                ndarray     34518: 34518 elems, type `object`, 276144 bytes (269.671875 kb)\n",
      "category                     str         DNA\n",
      "data_into                    str         wc_sequence_id     <...>n[31389 rows x 5 columns]\n",
      "directory                    str         ./output_data2\n",
      "filename                     str         dna_references_2024_03_08.csv\n",
      "filepath                     str         ./output_data2/dna_references_2024_03_08.csv\n",
      "item                         str         \\n\n",
      "line                         str         wormcat_df               <...>n[31389 rows x 5 columns]\n",
      "name                         str         DNA\n",
      "type_nm                      str         DataFrame\n",
      "variable                     str         wormcat_df\n",
      "record                       tuple       n=3\n",
      "WormbaseAPI                  type        <class 'pub_worm.wormbase<...>ormbase_api.WormbaseAPI'>\n",
      "datetime                     type        <class 'datetime.datetime'>\n"
     ]
    }
   ],
   "source": [
    "def sorted_whos(notebook_variables):\n",
    "    pos=0\n",
    "    line=\"\"\n",
    "    lines=[]\n",
    "    for item in notebook_variables.stdout:\n",
    "        if item=='\\n':\n",
    "            lines.append(line)\n",
    "            line = \"\"\n",
    "        else:\n",
    "            line +=item\n",
    "\n",
    "    records=[]\n",
    "    for line in lines:\n",
    "        variable =line[0:29].strip()\n",
    "        type_nm  =line[29:42].strip()\n",
    "        data_into=line[42:].strip()\n",
    "        records.append((variable,type_nm,data_into))\n",
    "\n",
    "    popped_records = [records.pop(0) for _ in range(2)]\n",
    "    sorted_records = sorted(records, key=lambda x: x[1])\n",
    "    sorted_records = popped_records + sorted_records\n",
    "    for record in sorted_records:\n",
    "        print(f\"{record[0]:<29}{record[1]:<12}{record[2]}\")\n",
    "        \n",
    "sorted_whos(notebook_variables)"
   ]
  },
  {
   "cell_type": "code",
   "execution_count": 85,
   "id": "b022cdd1-1e0b-473f-a0e7-e61557b1a558",
   "metadata": {},
   "outputs": [
    {
     "name": "stdout",
     "output_type": "stream",
     "text": [
      "{\n",
      "    \"gene_ontology_summary\": {\n",
      "        \"Cellular_component\": [\n",
      "            {\n",
      "                \"name\": \"centriole\",\n",
      "                \"id\": \"GO:0005814\"\n",
      "            },\n",
      "            {\n",
      "                \"name\": \"nucleus\",\n",
      "                \"id\": \"GO:0005634\"\n",
      "            },\n",
      "            {\n",
      "                \"name\": \"motile cilium\",\n",
      "                \"id\": \"GO:0031514\"\n",
      "            },\n",
      "            {\n",
      "                \"name\": \"cilium\",\n",
      "                \"id\": \"GO:0005929\"\n",
      "            },\n",
      "            {\n",
      "                \"name\": \"ciliary basal body\",\n",
      "                \"id\": \"GO:0036064\"\n",
      "            },\n",
      "            {\n",
      "                \"name\": \"microtubule\",\n",
      "                \"id\": \"GO:0005874\"\n",
      "            },\n",
      "            {\n",
      "                \"name\": \"cytoplasm\",\n",
      "                \"id\": \"GO:0005737\"\n",
      "            },\n",
      "            {\n",
      "                \"name\": \"axonemal microtubule\",\n",
      "                \"id\": \"GO:0005879\"\n",
      "            },\n",
      "            {\n",
      "                \"name\": \"cytoskeleton\",\n",
      "                \"id\": \"GO:0005856\"\n",
      "            },\n",
      "            {\n",
      "                \"name\": \"cell projection\",\n",
      "                \"id\": \"GO:0042995\"\n",
      "            }\n",
      "        ],\n",
      "        \"Biological_process\": [\n",
      "            {\n",
      "                \"name\": \"positive regulation of cell motility\",\n",
      "                \"id\": \"GO:2000147\"\n",
      "            },\n",
      "            {\n",
      "                \"name\": \"regulation of cilium beat frequency involved in ciliary motility\",\n",
      "                \"id\": \"GO:0060296\"\n",
      "            },\n",
      "            {\n",
      "                \"name\": \"cilium assembly\",\n",
      "                \"id\": \"GO:0060271\"\n",
      "            },\n",
      "            {\n",
      "                \"name\": \"positive regulation of feeding behavior\",\n",
      "                \"id\": \"GO:2000253\"\n",
      "            }\n",
      "        ]\n",
      "    }\n",
      "}\n"
     ]
    }
   ],
   "source": [
    "wormbase_id = \"WBGene00008288\"\n",
    "uuid = \"999\"\n",
    "wormbase_api = WormbaseAPI(\"field\", \"gene\", \"gene_ontology_summary\")\n",
    "ret_data = wormbase_api.get_wormbase_data(wormbase_id)\n",
    "pretty_data = json.dumps(ret_data, indent=4)\n",
    "print(pretty_data)\n",
    "with open(f\"result_{uuid}.json\", 'w') as file:\n",
    "        file.write(pretty_data)\n"
   ]
  },
  {
   "cell_type": "code",
   "execution_count": null,
   "id": "596a40bb-bdd7-4bd9-af49-eb907b35785e",
   "metadata": {},
   "outputs": [],
   "source": []
  }
 ],
 "metadata": {
  "kernelspec": {
   "display_name": "Python [conda env:dan-dev-sc]",
   "language": "python",
   "name": "conda-env-dan-dev-sc-py"
  },
  "language_info": {
   "codemirror_mode": {
    "name": "ipython",
    "version": 3
   },
   "file_extension": ".py",
   "mimetype": "text/x-python",
   "name": "python",
   "nbconvert_exporter": "python",
   "pygments_lexer": "ipython3",
   "version": "3.9.16"
  }
 },
 "nbformat": 4,
 "nbformat_minor": 5
}
