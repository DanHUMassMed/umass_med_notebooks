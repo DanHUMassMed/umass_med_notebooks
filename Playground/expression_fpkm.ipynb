{
 "cells": [
  {
   "cell_type": "markdown",
   "id": "3384cfd2-4db7-4bfc-b351-49914430b96e",
   "metadata": {},
   "source": [
    "\n",
    "Ribosome to Drop WBGene00004567\n"
   ]
  },
  {
   "cell_type": "code",
   "execution_count": null,
   "id": "502f9ad2-3c9e-4b78-a8fe-c9511effd368",
   "metadata": {},
   "outputs": [],
   "source": [
    "import pandas as pd"
   ]
  },
  {
   "cell_type": "code",
   "execution_count": null,
   "id": "f6a8dc1b-b6f8-4d5f-97ef-bab75e7e01f9",
   "metadata": {},
   "outputs": [],
   "source": [
    "!pwd"
   ]
  },
  {
   "cell_type": "code",
   "execution_count": null,
   "id": "8808a662-da44-4a0e-b005-6782b629a3d4",
   "metadata": {},
   "outputs": [],
   "source": [
    "expr_graph='c_elegans.PRJNA13758.WS287.expr_graph.csv'\n",
    "clean_str = lambda x: x.replace('\"','').strip()\n",
    "clean_float = lambda x: float(x.replace('\"','').strip())\n",
    "\n",
    "columns = [\"Gene\", \"Gene_name\", \"Life_stage\", \"Library\", \"Protocol\", \"FPKM_value\"]\n",
    "expr_graph_df = pd.read_csv(expr_graph,low_memory=False, header=None, names=columns,\n",
    "                            skiprows=1,\n",
    "                            converters={'Gene_name':clean_str, 'Life_stage':clean_str, \n",
    "                                        'Library':clean_str, 'Protocol':clean_str,\n",
    "                                        'FPKM_value':clean_float})\n"
   ]
  },
  {
   "cell_type": "code",
   "execution_count": null,
   "id": "45a384f1-bd73-4c46-ba53-13a6e0570aa6",
   "metadata": {},
   "outputs": [],
   "source": [
    "print(f\"{len(expr_graph_df):,}\")"
   ]
  },
  {
   "cell_type": "code",
   "execution_count": null,
   "id": "6fee5ddf-6129-465f-b271-f0b2d7e58bec",
   "metadata": {},
   "outputs": [],
   "source": [
    "expr_graph_df"
   ]
  },
  {
   "cell_type": "code",
   "execution_count": null,
   "id": "036f7c51-af62-4953-ab14-49f64c4ffc4d",
   "metadata": {},
   "outputs": [],
   "source": [
    "expr_graph_df['Life_stage'].value_counts()"
   ]
  },
  {
   "cell_type": "code",
   "execution_count": null,
   "id": "4bec4506-c6ae-4e62-906d-11151a045dc0",
   "metadata": {},
   "outputs": [],
   "source": [
    "sams_4 = expr_graph_df.query(\"Gene == 'WBGene00195017'\")\n",
    "sams_4"
   ]
  },
  {
   "cell_type": "code",
   "execution_count": null,
   "id": "2f6370a2-b975-4e3d-9539-25818b59954c",
   "metadata": {},
   "outputs": [],
   "source": [
    "classical_stages=['EE','LE','L1','L2','L3','L4','YA']\n",
    "classical_stages_df = sams_4.query(\"Life_stage in @classical_stages\")\n",
    "median_df = classical_stages_df.query(\"Protocol == 'Median'\")\n",
    "ribozero_df = classical_stages_df.query(\"Protocol == 'ribozero'\")\n",
    "polya_df = classical_stages_df.query(\"Protocol == 'polyA'\")\n",
    "\n",
    "classical_stages_df = classical_stages_df.sort_values(by=['Life_stage'], ascending=True)\n",
    "classical_stages_df"
   ]
  },
  {
   "cell_type": "code",
   "execution_count": null,
   "id": "44248557-7f55-44d4-90d3-96d7e1eecdaf",
   "metadata": {},
   "outputs": [],
   "source": [
    "import matplotlib.pyplot as plt\n",
    "import numpy as np\n",
    "\n",
    "def get_data_dict(data_df):\n",
    "    classical_stages = ['EE','LE','L1','L2','L3','L4','YA']\n",
    "    stages_dict = {val:index for index,val in enumerate(classical_stages)}\n",
    "    swap_dict   = {index:val for index,val in enumerate(classical_stages)}\n",
    "    \n",
    "    #columns = [\"Gene\", \"Gene_name\", \"Life_stage\", \"Library\", \"Protocol\", \"FPKM_value\"]\n",
    "    col_dict = {val:index for index,val in enumerate(data_df.columns)}\n",
    "    \n",
    "    \n",
    "    classical_stages_df = data_df.query(\"Life_stage in @classical_stages\")\n",
    "    #median_df = classical_stages_df.query(\"Protocol == 'Median'\")\n",
    "    #ribozero_df = classical_stages_df.query(\"Protocol == 'ribozero'\")\n",
    "    #polya_df = classical_stages_df.query(\"Protocol == 'polyA'\")\n",
    "    \n",
    "    \n",
    "    \n",
    "    median_fpkm=[0]*7\n",
    "    points_ribozero_x = []\n",
    "    points_ribozero_y = []\n",
    "    points_polya_x = []\n",
    "    points_polya_y = []\n",
    "    \n",
    "    for index,row in classical_stages_df.iterrows():\n",
    "        #print(f\"{row[col_dict['Life_stage']]=}, {row[col_dict['Protocol']]=}, {row[col_dict['FPKM_value']]=}\")\n",
    "        if row[col_dict['Protocol']] == 'Median':\n",
    "            median_fpkm[stages_dict[row[col_dict['Life_stage']]]] = row[col_dict['FPKM_value']]\n",
    "        elif row[col_dict['Protocol']] == 'ribozero':\n",
    "            points_ribozero_y.append(row[col_dict['FPKM_value']])\n",
    "            points_ribozero_x.append(row[col_dict['Life_stage']])                        \n",
    "        elif row[col_dict['Protocol']] == 'polyA':\n",
    "            points_polya_y.append(row[col_dict['FPKM_value']])\n",
    "            points_polya_x.append(row[col_dict['Life_stage']])                        \n",
    "            \n",
    "            \n",
    "    ret_val={'median':(classical_stages,median_fpkm),\n",
    "             'ribozero':(points_ribozero_x,points_ribozero_y),\n",
    "             'polya':(points_polya_x,points_polya_y)\n",
    "            }\n",
    "        \n",
    "    return ret_val\n",
    "    \n",
    "def create_plot_classical_stages(plot_data, gene_name):\n",
    "    \n",
    "    x = classical_stages\n",
    "    y = classical_fpkm\n",
    "\n",
    "    fig, ax = plt.subplots(figsize=(4, 4))\n",
    "    #ax.set_ylim([0, 150])\n",
    "    # Create bar plot\n",
    "    plt.bar(plot_data['median'][0], plot_data['median'][1], color='lightgrey', width=0.5, zorder=2)\n",
    "    plt.scatter(plot_data['ribozero'][0], plot_data['ribozero'][1], marker='D', s=10,color='purple',zorder=3)\n",
    "    plt.scatter(plot_data['polya'][0], plot_data['polya'][1], color='green',s=10,zorder=4)\n",
    "\n",
    "    # Set title and labels\n",
    "    plt.title(f\"Classical stages {gene_name}\")\n",
    "    plt.ylabel(\"Expression (FPMK)\")\n",
    "    plt.xlabel(\"Life stages\")\n",
    "    plt.grid(axis='y', linestyle='-', linewidth=0.5)\n",
    "    #plt.setp(ax.get_xticklabels(), rotation=45, ha=\"right\",rotation_mode=\"anchor\")\n",
    "    # Show plot\n",
    "    plt.show()\n"
   ]
  },
  {
   "cell_type": "code",
   "execution_count": null,
   "id": "27c2573c-de5c-4953-af62-86b924e441cf",
   "metadata": {},
   "outputs": [],
   "source": [
    "data = get_data_dict(sams_4)\n",
    "for index, x in enumerate(data['median'][1]):\n",
    "    print(f\"{data['median'][0][index]} = {x:,.2f}\")\n"
   ]
  },
  {
   "cell_type": "code",
   "execution_count": null,
   "id": "cb810bf1-ff77-4a52-a089-2c1b730a7267",
   "metadata": {},
   "outputs": [],
   "source": [
    "create_plot_classical_stages(data, \"sams-4\")"
   ]
  },
  {
   "cell_type": "markdown",
   "id": "f1eab428-5112-4b39-8afc-52fd7d0a2462",
   "metadata": {},
   "source": [
    "## Look at distributions"
   ]
  },
  {
   "cell_type": "code",
   "execution_count": null,
   "id": "56357e2b-10e3-4508-8a54-ed86b7671188",
   "metadata": {},
   "outputs": [],
   "source": [
    "expr_graph_df.columns"
   ]
  },
  {
   "cell_type": "code",
   "execution_count": null,
   "id": "adc28bce-17b2-45df-8adc-bbf56b51bea4",
   "metadata": {},
   "outputs": [],
   "source": [
    "classical_stages=['EE','LE','L1','L2','L3','L4','YA']\n",
    "classical_stages_df = expr_graph_df.query(\"Life_stage in @classical_stages\")\n",
    "classical_stages_median_df = classical_stages_df.query(\"Protocol == 'Median'\")\n",
    "classical_stages_median_df"
   ]
  },
  {
   "cell_type": "code",
   "execution_count": null,
   "id": "bbcb53f9-3d8c-45e0-9f07-301b8394b868",
   "metadata": {},
   "outputs": [],
   "source": [
    "classical_stages_EE_df = classical_stages_median_df[classical_stages_median_df['Life_stage'] == 'EE']\n",
    "classical_stages_EE_df"
   ]
  },
  {
   "cell_type": "code",
   "execution_count": null,
   "id": "7e2474c7-fccb-47fb-80aa-fc49e0b22548",
   "metadata": {},
   "outputs": [],
   "source": [
    "classical_stages_EE_copy_df = classical_stages_EE_df.copy()\n",
    "classical_stages_EE_copy_df['FPKM_value_p']= classical_stages_EE_copy_df['FPKM_value']+0.000000001\n",
    "#classical_stages_EE_copy_df['log2fpkm'] = np.log2(classical_stages_EE_copy_df['FPKM_value_p'])\n",
    "classical_stages_EE_copy_df['FPKM_value_Whole'] = np.round(classical_stages_EE_copy_df['FPKM_value'],0)"
   ]
  },
  {
   "cell_type": "code",
   "execution_count": null,
   "id": "25918f55-60f9-4859-9c5a-d87f78929e32",
   "metadata": {},
   "outputs": [],
   "source": [
    "print(classical_stages_EE_copy_df['FPKM_value_Whole'].min())\n",
    "print(classical_stages_EE_copy_df['FPKM_value_Whole'].max())\n",
    "classical_stages_EE_copy_df['FPKM_value_Whole'].value_counts()"
   ]
  },
  {
   "cell_type": "code",
   "execution_count": null,
   "id": "cc395c1d-072e-4b25-8143-0319d592f079",
   "metadata": {},
   "outputs": [],
   "source": [
    "\n",
    "classical_stages_EE_1_plus = classical_stages_EE_copy_df[classical_stages_EE_copy_df['FPKM_value'] > 1.0]\n",
    "print(f'{len(classical_stages_EE_1_plus)}')\n",
    "# plot a histogram of the 'values' column\n",
    "dist_fpkm = classical_stages_EE_1_plus['FPKM_value_Whole'].value_counts()\n",
    "dist_fpkm_df = dist_fpkm.to_frame()\n",
    "\n",
    "x = list(dist_fpkm_df.index)\n",
    "y = list(dist_fpkm_df.FPKM_value_Whole)\n",
    "print(f'{len(x)=}')\n",
    "print(f'{len(y)=}')\n",
    "#x = [1, 2, 3, 4, 5]\n",
    "#y = [10, 8, 6, 4, 2]\n",
    "fig, ax = plt.subplots()\n",
    "ax.bar(x, y)\n",
    "\n",
    "#classical_stages_EE_1_plus.hist(column='FPKM_value_Whole',bins=10)\n",
    "\n",
    "# set plot title and axis labels\n",
    "plt.title('Histogram of Values')\n",
    "plt.xlabel('Value')\n",
    "plt.ylabel('Frequency')\n",
    "#what = plt.axis('tight')\n",
    "#ax.set_xticklabels([])\n",
    "\n",
    "# display the plot\n",
    "plt.show()"
   ]
  },
  {
   "cell_type": "code",
   "execution_count": null,
   "id": "977b75ea-395a-4264-826f-e93895cd815b",
   "metadata": {},
   "outputs": [],
   "source": [
    "print(classical_stages_EE_1_plus['FPKM_value_Whole'].min())\n",
    "print(classical_stages_EE_1_plus['FPKM_value_Whole'].max())\n",
    "classical_stages_EE_1_plus['FPKM_value_Whole'].value_counts()"
   ]
  },
  {
   "cell_type": "code",
   "execution_count": null,
   "id": "7fd72af9-bba2-4def-a456-0e49797d8c17",
   "metadata": {},
   "outputs": [],
   "source": [
    "classical_stages_EE_df.describe()"
   ]
  },
  {
   "cell_type": "code",
   "execution_count": null,
   "id": "8515bd8f-7f51-44b6-a4ac-43c477b45d42",
   "metadata": {},
   "outputs": [],
   "source": [
    "disease_association_df.index"
   ]
  },
  {
   "cell_type": "code",
   "execution_count": null,
   "id": "9d271ae3-5421-4d42-9cd7-cd0e3680817b",
   "metadata": {},
   "outputs": [],
   "source": [
    "# calculate the Z-score\n",
    "mean = np.mean(classical_stages_EE_df['FPKM_value'])\n",
    "std = np.std(classical_stages_EE_df['FPKM_value'])\n",
    "classical_stages_EE_df['zscore'] = (classical_stages_EE_df['FPKM_value'] - mean) / std\n",
    "\n",
    "# identify outliers\n",
    "outliers = classical_stages_EE_df[abs(classical_stages_EE_df['zscore']) > 1]\n",
    "print(len(outliers['Gene']))\n"
   ]
  },
  {
   "cell_type": "code",
   "execution_count": null,
   "id": "2a756f8f-7c76-4552-b62e-f1e358a2cacb",
   "metadata": {},
   "outputs": [],
   "source": [
    "#list(outliers['Gene'])"
   ]
  },
  {
   "cell_type": "code",
   "execution_count": null,
   "id": "a8c68006-5ce4-484f-8e5a-3bb9d8d25fca",
   "metadata": {},
   "outputs": [],
   "source": [
    "#outliers = ['WBGene00004424', 'WBGene00004443', 'WBGene00004453', 'WBGene00004497', 'WBGene00004567', 'WBGene00004677', 'WBGene00011558', 'WBGene00023020', 'WBGene00023068', 'WBGene00044704', 'WBGene00045370', 'WBGene00268212', 'WBGene00305379']\n",
    "\n",
    "classical_stages_EE_df = classical_stages_EE_df[~classical_stages_EE_df['Gene'].isin(list(outliers['Gene']))]\n",
    "len(classical_stages_EE_df)"
   ]
  },
  {
   "cell_type": "code",
   "execution_count": null,
   "id": "e4660de0-2d1b-4e3d-9831-ebd146b70561",
   "metadata": {},
   "outputs": [],
   "source": [
    "import matplotlib.pyplot as plt\n",
    "\n",
    "# generate some example data\n",
    "x = [1, 2, 3, 4, 5]\n",
    "y = [10, 8, 6, 4, 2]\n",
    "\n",
    "# create a bar plot\n",
    "fig, ax = plt.subplots()\n",
    "ax.bar(x, y)\n",
    "\n",
    "# hide the x-axis labels\n",
    "#ax.set_xticklabels([])\n",
    "\n",
    "# show the plot\n",
    "plt.show()\n"
   ]
  },
  {
   "cell_type": "code",
   "execution_count": null,
   "id": "1d09be37-0a0e-46ba-b96e-02c59f6b7dd8",
   "metadata": {},
   "outputs": [],
   "source": [
    "dist_fpkm_df"
   ]
  },
  {
   "cell_type": "code",
   "execution_count": null,
   "id": "f3b68c73-740c-45ff-b7f1-157756801e44",
   "metadata": {},
   "outputs": [],
   "source": [
    "import requests\n",
    "from bs4 import BeautifulSoup\n",
    "\n",
    "base_url=\"https://wormbase.org/species/c_elegans/gene/WBGene00195017\"\n",
    "expression_url = \"https://wormbase.org/species/c_elegans/gene/WBGene00008205#0-9f16c324-10-9f6c324/tools/rnaseq/expression_dataset_locator.cgi\"\n",
    "# send a GET request to the web page\n",
    "response = requests.get(expression_url)\n",
    "\n",
    "# parse the HTML content of the web page using Beautiful Soup\n",
    "soup = BeautifulSoup(response.content, 'html.parser')\n",
    "\n",
    "# get the formatted HTML as a string\n",
    "html_content = soup.prettify()\n",
    "\n",
    "# write the HTML content to a file\n",
    "with open('output.html', 'w') as f:\n",
    "    f.write(html_content)\n",
    "\n",
    "# find all the links on the page\n",
    "#links = soup.find_all('a')\n",
    "my_div = soup.find('div', {'id': 'highcharts-0'})\n",
    "\n",
    "print(my_div)\n",
    "# print out the links\n",
    "#for link in links:\n",
    "#    print(link.get('href'))\n"
   ]
  },
  {
   "cell_type": "code",
   "execution_count": null,
   "id": "0283ea8f-3c29-4d1c-85f5-a204d370239e",
   "metadata": {},
   "outputs": [],
   "source": [
    "from bs4 import BeautifulSoup\n",
    "\n",
    "# create a BeautifulSoup object from an HTML file\n",
    "with open('example.html') as f:\n",
    "    soup = BeautifulSoup(f, 'html.parser')\n",
    "\n",
    "# get the formatted HTML as a string\n",
    "html_content = soup.prettify()\n",
    "\n",
    "# write the HTML content to a file\n",
    "with open('output.html', 'w') as f:\n",
    "    f.write(html_content)\n"
   ]
  },
  {
   "cell_type": "code",
   "execution_count": null,
   "id": "fa70879a-02c3-4043-8949-eb8d6c4525c9",
   "metadata": {},
   "outputs": [],
   "source": []
  },
  {
   "cell_type": "code",
   "execution_count": null,
   "id": "2c6b7278-c339-440a-afc3-f73962f0a9c9",
   "metadata": {},
   "outputs": [],
   "source": [
    "\n"
   ]
  },
  {
   "cell_type": "code",
   "execution_count": null,
   "id": "ba9f84f6-0ce4-4a4c-b5d9-9f5f317e66a1",
   "metadata": {},
   "outputs": [],
   "source": [
    "import os\n",
    "import sys\n",
    "os.path.dirname(sys.executable)"
   ]
  },
  {
   "cell_type": "code",
   "execution_count": null,
   "id": "2ce0e621-c2db-48e7-a7d5-8e58b27d9f7e",
   "metadata": {},
   "outputs": [],
   "source": [
    "!pwd\n"
   ]
  },
  {
   "cell_type": "code",
   "execution_count": null,
   "id": "e16501ae-eb77-41c1-9fe5-ffb4a93e7413",
   "metadata": {},
   "outputs": [],
   "source": []
  }
 ],
 "metadata": {
  "kernelspec": {
   "display_name": "Python 3",
   "language": "python",
   "name": "python3"
  },
  "language_info": {
   "codemirror_mode": {
    "name": "ipython",
    "version": 3
   },
   "file_extension": ".py",
   "mimetype": "text/x-python",
   "name": "python",
   "nbconvert_exporter": "python",
   "pygments_lexer": "ipython3",
   "version": "3.9.16"
  }
 },
 "nbformat": 4,
 "nbformat_minor": 5
}
