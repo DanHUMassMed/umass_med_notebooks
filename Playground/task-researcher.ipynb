{
 "cells": [
  {
   "cell_type": "code",
   "execution_count": 25,
   "id": "f1e8e4f3-614e-4f8a-85ea-457f9e221ec2",
   "metadata": {},
   "outputs": [],
   "source": [
    "import os\n",
    "from dotenv import load_dotenv \n",
    "load_dotenv()\n",
    "from llm_analyst.core.research_analyst import LLMAnalyst\n",
    "from llm_analyst.core.research_publisher import LLMPublisher\n",
    "from llm_analyst.core.research_editor import LLMEditor\n",
    "\n"
   ]
  },
  {
   "cell_type": "code",
   "execution_count": null,
   "id": "9f40f0a6-987b-4fe5-be86-596e5ae809b8",
   "metadata": {},
   "outputs": [],
   "source": [
    "load_dotenv()"
   ]
  },
  {
   "cell_type": "code",
   "execution_count": 28,
   "id": "d739a6e9-2817-4195-91ad-381587111d02",
   "metadata": {},
   "outputs": [
    {
     "data": {
      "text/plain": [
       "<llm_analyst.core.research_state.ResearchState at 0x7fa943f05550>"
      ]
     },
     "execution_count": 28,
     "metadata": {},
     "output_type": "execute_result"
    }
   ],
   "source": [
    "#research_topic=\"Research small batch coffee roasting. Understand the importance of carefully sourcing the highest quality beans from around the globe.\"\n",
    "research_topic=\"Research how to select green bean coffee and cofee importation process.\"\n",
    "llm_analyst = LLMAnalyst(research_topic)\n",
    "research_results = await llm_analyst.conduct_research()\n",
    "research_results = await llm_analyst.write_report()\n",
    "research_results"
   ]
  },
  {
   "cell_type": "code",
   "execution_count": 29,
   "id": "c9648512-ed32-4411-9af7-cdefdbce83d2",
   "metadata": {},
   "outputs": [
    {
     "name": "stdout",
     "output_type": "stream",
     "text": [
      "Report written to /home/dan/llm_analyst_out/8b39250ec7b94578bd3b33f1297ffe01.pdf\n"
     ]
    },
    {
     "data": {
      "text/plain": [
       "'/home/dan/llm_analyst_out/8b39250ec7b94578bd3b33f1297ffe01.pdf'"
      ]
     },
     "execution_count": 29,
     "metadata": {},
     "output_type": "execute_result"
    }
   ],
   "source": [
    "llm_publisher = LLMPublisher.init(research_results)\n",
    "pdf_file = await llm_publisher.publish_to_pdf_file()\n",
    "pdf_file"
   ]
  },
  {
   "cell_type": "code",
   "execution_count": 26,
   "id": "ce72edb5-a1d1-42e7-9e7c-a658e458412b",
   "metadata": {},
   "outputs": [
    {
     "name": "stdout",
     "output_type": "stream",
     "text": [
      "Researching Sourcing High-Quality Coffee Beans\n",
      "Researching Small Batch Coffee Roasting Techniques\n",
      "Researching Integration of Advanced Roasting Technology\n"
     ]
    }
   ],
   "source": [
    "#research_topic=\"Research small batch coffee roasting. Understand the importance of carefully sourcing the highest quality beans from around the globe. \"\n",
    "research_topic=\"Research how to select green bean coffee selection and importation.\"\n",
    "\n",
    "llm_editor = LLMEditor(research_topic)\n",
    "detailed_report = await llm_editor.create_detailed_report()\n"
   ]
  },
  {
   "cell_type": "code",
   "execution_count": 27,
   "id": "617ac34e-ce05-4072-9b2d-adb6ac62f20a",
   "metadata": {},
   "outputs": [
    {
     "name": "stdout",
     "output_type": "stream",
     "text": [
      "Report written to /home/dan/llm_analyst_out/8398855c7df749ae8a7c029946924fd1.pdf\n"
     ]
    },
    {
     "data": {
      "text/plain": [
       "'/home/dan/llm_analyst_out/8398855c7df749ae8a7c029946924fd1.pdf'"
      ]
     },
     "execution_count": 27,
     "metadata": {},
     "output_type": "execute_result"
    }
   ],
   "source": [
    "llm_publisher = LLMPublisher.init(detailed_report)\n",
    "pdf_file = await llm_publisher.publish_to_pdf_file()\n",
    "pdf_file"
   ]
  },
  {
   "cell_type": "code",
   "execution_count": null,
   "id": "d5969255-e165-47a0-a7b2-0866b9d91612",
   "metadata": {},
   "outputs": [],
   "source": []
  }
 ],
 "metadata": {
  "kernelspec": {
   "display_name": "Python [conda env:research-task]",
   "language": "python",
   "name": "conda-env-research-task-py"
  },
  "language_info": {
   "codemirror_mode": {
    "name": "ipython",
    "version": 3
   },
   "file_extension": ".py",
   "mimetype": "text/x-python",
   "name": "python",
   "nbconvert_exporter": "python",
   "pygments_lexer": "ipython3",
   "version": "3.11.9"
  }
 },
 "nbformat": 4,
 "nbformat_minor": 5
}
