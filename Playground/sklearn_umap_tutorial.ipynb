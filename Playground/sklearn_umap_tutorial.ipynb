{
 "cells": [
  {
   "cell_type": "code",
   "execution_count": null,
   "id": "80a030c1-7c40-408f-b597-e5f1b09198f7",
   "metadata": {},
   "outputs": [],
   "source": [
    "from sklearn.datasets import fetch_openml\n",
    "from sklearn.decomposition import PCA\n",
    "import numpy as np\n",
    "import matplotlib.pyplot as plt\n",
    "%matplotlib inline\n",
    "\n",
    "# Dimension reduction and clustering libraries\n",
    "import umap\n",
    "\n",
    "import hdbscan\n",
    "import sklearn.cluster as cluster\n",
    "from sklearn.metrics import adjusted_rand_score, adjusted_mutual_info_score"
   ]
  },
  {
   "cell_type": "code",
   "execution_count": null,
   "id": "12218d53-551e-483e-b0d6-a4dc0baa5ad8",
   "metadata": {},
   "outputs": [],
   "source": [
    "mnist = fetch_openml('mnist_784', version=1)\n",
    "mnist.target = mnist.target.astype(int)"
   ]
  },
  {
   "cell_type": "code",
   "execution_count": null,
   "id": "e8cd93af-1123-43d1-86cd-b7a8610b1de7",
   "metadata": {},
   "outputs": [],
   "source": [
    "from umap.umap_ import UMAP\n",
    "standard_embedding = UMAP(random_state=42).fit_transform(mnist.data)\n",
    "plt.scatter(standard_embedding[:, 0], standard_embedding[:, 1], c=mnist.target.astype(int), s=0.1, cmap='Spectral');\n"
   ]
  },
  {
   "cell_type": "code",
   "execution_count": null,
   "id": "9b5c1930-3de7-45d2-b2c8-deea46eaddb6",
   "metadata": {},
   "outputs": [],
   "source": [
    "kmeans_labels = cluster.KMeans(n_clusters=10).fit_predict(mnist.data)\n",
    "plt.scatter(standard_embedding[:, 0], standard_embedding[:, 1], c=kmeans_labels, s=0.1, cmap='Spectral');\n"
   ]
  },
  {
   "cell_type": "code",
   "execution_count": null,
   "id": "e2b9df14-76ea-4b5e-8060-7c80f91719cb",
   "metadata": {},
   "outputs": [],
   "source": [
    "(\n",
    "    adjusted_rand_score(mnist.target, kmeans_labels),\n",
    "    adjusted_mutual_info_score(mnist.target, kmeans_labels)\n",
    ")\n"
   ]
  },
  {
   "cell_type": "code",
   "execution_count": null,
   "id": "98566052-62b3-4469-a574-bb4d309b0e44",
   "metadata": {},
   "outputs": [],
   "source": [
    "lowd_mnist = PCA(n_components=50).fit_transform(mnist.data)\n",
    "hdbscan_labels = hdbscan.HDBSCAN(min_samples=10, min_cluster_size=500).fit_predict(lowd_mnist)"
   ]
  },
  {
   "cell_type": "code",
   "execution_count": null,
   "id": "29b703c2-ef5c-4f21-9712-700117d6ff84",
   "metadata": {},
   "outputs": [],
   "source": [
    "clustered = (hdbscan_labels >= 0)\n",
    "plt.scatter(standard_embedding[~clustered, 0],\n",
    "            standard_embedding[~clustered, 1],\n",
    "            color=(0.5, 0.5, 0.5),\n",
    "            s=0.1,\n",
    "            alpha=0.5)\n",
    "plt.scatter(standard_embedding[clustered, 0],\n",
    "            standard_embedding[clustered, 1],\n",
    "            c=hdbscan_labels[clustered],\n",
    "            s=0.1,\n",
    "            cmap='Spectral');\n"
   ]
  },
  {
   "cell_type": "code",
   "execution_count": null,
   "id": "6b6038a6-e4fa-4e3c-8d3e-1b6a752c029d",
   "metadata": {},
   "outputs": [],
   "source": [
    "(\n",
    "    adjusted_rand_score(mnist.target, hdbscan_labels),\n",
    "    adjusted_mutual_info_score(mnist.target, hdbscan_labels)\n",
    ")"
   ]
  },
  {
   "cell_type": "code",
   "execution_count": null,
   "id": "75a30fcb-d17c-4d85-8c7b-57e03958251b",
   "metadata": {},
   "outputs": [],
   "source": [
    "clustered = (hdbscan_labels >= 0)\n",
    "(\n",
    "    adjusted_rand_score(mnist.target[clustered], hdbscan_labels[clustered]),\n",
    "    adjusted_mutual_info_score(mnist.target[clustered], hdbscan_labels[clustered])\n",
    ")"
   ]
  },
  {
   "cell_type": "code",
   "execution_count": null,
   "id": "4e656e15-8eae-4c12-8520-971e7fbcd693",
   "metadata": {},
   "outputs": [],
   "source": [
    "clusterable_embedding = UMAP(\n",
    "    n_neighbors=30,\n",
    "    min_dist=0.0,\n",
    "    n_components=2,\n",
    "    random_state=42,\n",
    ").fit_transform(mnist.data)\n"
   ]
  },
  {
   "cell_type": "code",
   "execution_count": null,
   "id": "8857c67b-a54b-4b06-8d9b-d7988907928a",
   "metadata": {},
   "outputs": [],
   "source": [
    "plt.scatter(clusterable_embedding[:, 0], clusterable_embedding[:, 1],\n",
    "            c=mnist.target, s=0.1, cmap='Spectral');"
   ]
  },
  {
   "cell_type": "code",
   "execution_count": null,
   "id": "55555add-8834-4faa-880a-10346e03e42d",
   "metadata": {},
   "outputs": [],
   "source": []
  }
 ],
 "metadata": {
  "kernelspec": {
   "display_name": "Python [conda env:dan-dev-sc]",
   "language": "python",
   "name": "conda-env-dan-dev-sc-py"
  },
  "language_info": {
   "codemirror_mode": {
    "name": "ipython",
    "version": 3
   },
   "file_extension": ".py",
   "mimetype": "text/x-python",
   "name": "python",
   "nbconvert_exporter": "python",
   "pygments_lexer": "ipython3",
   "version": "3.9.16"
  }
 },
 "nbformat": 4,
 "nbformat_minor": 5
}
