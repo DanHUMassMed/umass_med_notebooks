{
 "cells": [
  {
   "cell_type": "code",
   "execution_count": null,
   "id": "169b0e99-32d8-4e04-99af-efca29974d8a",
   "metadata": {},
   "outputs": [],
   "source": [
    "import twitter\n",
    "import json"
   ]
  },
  {
   "cell_type": "code",
   "execution_count": null,
   "id": "2678a4e4-d4e2-4332-9a7f-2e0ab016f28d",
   "metadata": {},
   "outputs": [],
   "source": [
    "TWITTER_CREDENTIALS = {\n",
    "    \"consumer_key\": \"9W2NVxupjmq1rN28Yc7MzCTHE\",\n",
    "    \"consumer_secret\": \"XI1YEXnYzuCinLTPgAwFbGZfl2o2yKn62jg6knHnWfkqCr5DfG\",\n",
    "    \"access_token_key\": \"1328239503388123142-si8v9bwZX6QLZiWcvtnV4PdvaJL309\",\n",
    "    \"access_token_secret\": \"UhBBzmjjf7YFvARpA89GFkamfMyCVAF3K60NH0jOVz6GY\",\n",
    "}\n",
    "\n",
    "class TwitterAPI(object):\n",
    "    def __init__(self, credentials=TWITTER_CREDENTIALS):\n",
    "        self._api = twitter.api.(\n",
    "            consumer_key=credentials[\"consumer_key\"],\n",
    "            consumer_secret=credentials[\"consumer_secret\"],\n",
    "            access_token_key=credentials[\"access_token_key\"],\n",
    "            access_token_secret=credentials[\"access_token_secret\"],\n",
    "            tweet_mode='extended'\n",
    "        )\n",
    "\n",
    "    def get_tweets_for_screen_name(self, screen_name, max_tweet_id):\n",
    "        done=False\n",
    "        full_timeline = []\n",
    "        earliest_tweet_id = 0\n",
    "        full_timeline_earliest_tweet_id = -1\n",
    "\n",
    "        while not done:\n",
    "            timeline_segment = self._api.GetUserTimeline(screen_name=screen_name,\n",
    "                                                max_id=earliest_tweet_id, trim_user=True, count=200)\n",
    "\n",
    "            earliest_tweet_id = min(timeline_segment, key=lambda x: x.id).id\n",
    "            if max_tweet_id >= earliest_tweet_id:\n",
    "                done = True\n",
    "\n",
    "            if full_timeline_earliest_tweet_id == earliest_tweet_id or not timeline_segment:\n",
    "                done = True\n",
    "            else:\n",
    "                full_timeline_earliest_tweet_id = earliest_tweet_id\n",
    "                full_timeline += timeline_segment\n",
    "\n",
    "        return full_timeline\n",
    "\n",
    "    def get_tweets_as_json(self, screen_name, max_tweet_id):\n",
    "        full_timeline = self.get_tweets_for_screen_name(screen_name, max_tweet_id)\n",
    "        tweets_as_json=[]\n",
    "        for tweet in full_timeline:\n",
    "            tweets_as_json.append(tweet._json)\n",
    "        return tweets_as_json\n",
    "    "
   ]
  },
  {
   "cell_type": "code",
   "execution_count": null,
   "id": "df438903-123a-4c76-808d-f0b33f0f984a",
   "metadata": {},
   "outputs": [],
   "source": [
    "twitter_api = TwitterAPI()"
   ]
  },
  {
   "cell_type": "code",
   "execution_count": null,
   "id": "cad4a822-7c52-4690-bcf8-33e64567808b",
   "metadata": {},
   "outputs": [],
   "source": []
  }
 ],
 "metadata": {
  "kernelspec": {
   "display_name": "Python [conda env:dan-dev-sc]",
   "language": "python",
   "name": "conda-env-dan-dev-sc-py"
  },
  "language_info": {
   "codemirror_mode": {
    "name": "ipython",
    "version": 3
   },
   "file_extension": ".py",
   "mimetype": "text/x-python",
   "name": "python",
   "nbconvert_exporter": "python",
   "pygments_lexer": "ipython3",
   "version": "3.9.16"
  }
 },
 "nbformat": 4,
 "nbformat_minor": 5
}
