{
 "cells": [
  {
   "cell_type": "markdown",
   "id": "9a156862-4384-4283-b945-13690ca59593",
   "metadata": {},
   "source": [
    "# 3D Plot"
   ]
  },
  {
   "cell_type": "code",
   "execution_count": null,
   "id": "375c358d-e2c8-428e-89a1-8f1db3783c20",
   "metadata": {},
   "outputs": [],
   "source": [
    "import anndata as ad\n",
    "import scanpy as sc\n",
    "import scvi\n",
    "import seaborn as sns\n",
    "import os\n",
    "import matplotlib.pyplot as plt\n",
    "import matplotlib.patches as mpatches\n",
    "import matplotlib.colors as mcolors\n",
    "import numpy as np\n",
    "import pandas as pd\n",
    "%matplotlib inline"
   ]
  },
  {
   "cell_type": "code",
   "execution_count": null,
   "id": "ca081dfe-74a6-4960-86cf-84cc0d3aee42",
   "metadata": {},
   "outputs": [],
   "source": [
    "adata = sc.read_h5ad(\"cds_baseline.h5ad\")\n",
    "adata"
   ]
  },
  {
   "cell_type": "code",
   "execution_count": null,
   "id": "7c56fc37-4d79-4719-95ac-798d82428bc1",
   "metadata": {},
   "outputs": [],
   "source": [
    "len(adata.X)"
   ]
  },
  {
   "cell_type": "code",
   "execution_count": null,
   "id": "666b8234-301e-49e8-aa63-bdd5cd4f915b",
   "metadata": {},
   "outputs": [],
   "source": [
    "sc.pp.filter_genes(adata, min_cells = 10) #only keep genes that are in at least 10 of the cells\n"
   ]
  },
  {
   "cell_type": "code",
   "execution_count": null,
   "id": "51c60218-05ad-4613-b03f-f8e8994d1d97",
   "metadata": {},
   "outputs": [],
   "source": [
    "# closer to 1 is more clusters\n",
    "# closer to 0 is fewer. clusters\n",
    "sc.tl.leiden(adata, resolution = 0.5)\n",
    "sc.tl.umap(adata, n_components=3)\n"
   ]
  },
  {
   "cell_type": "code",
   "execution_count": null,
   "id": "6dfbba31-8628-4c7d-af5a-140f490ef7ec",
   "metadata": {},
   "outputs": [],
   "source": [
    "leiden_series = adata.obs.leiden.unique()\n",
    "leiden_list = list(leiden_series)\n",
    "\n",
    "colors = {}\n",
    "cm = plt.get_cmap('gist_rainbow')\n",
    "for index, group in enumerate(leiden_list):\n",
    "    color= cm(1.*index/len(leiden_list))\n",
    "    colors[group]=color"
   ]
  },
  {
   "cell_type": "code",
   "execution_count": null,
   "id": "f26f0a29-5a01-406b-aa15-31513524d07a",
   "metadata": {},
   "outputs": [],
   "source": [
    "leiden_colors = adata.obs['leiden']\n",
    "leiden_colors = leiden_colors.reset_index(drop=True)\n",
    "leiden_colors.astype('str').map(colors"
   ]
  },
  {
   "cell_type": "code",
   "execution_count": null,
   "id": "17d037fe-0f90-4522-92bb-135546ba4bf6",
   "metadata": {},
   "outputs": [],
   "source": [
    "for i in range(0, 360, 2):\n",
    "    fig = plt.figure(figsize = (15,15))\n",
    "    ax = fig.add_subplot(projection = '3d')\n",
    "    ax.scatter(umap[:,0], umap[:,1], umap[:,2], \n",
    "               c = leiden_colors.astype('str').map(colors))\n",
    "\n",
    "    x_center = (umap[:,0].max() + umap[:,0].min())/2\n",
    "    y_center = (umap[:,1].max() + umap[:,1].min())/2\n",
    "    z_center = (umap[:,2].max() + umap[:,2].min())/2\n",
    "\n",
    "    extend=10\n",
    "    ax.plot([x_center,x_center],[y_center,y_center],[umap[:,2].min()-extend,umap[:,2].max()+extend],c='k',lw=5)\n",
    "    ax.plot([x_center,x_center],[umap[:,1].min()-extend,umap[:,1].max()+extend],[z_center,z_center],c='k',lw=5)\n",
    "    ax.plot([umap[:,1].min()-extend,umap[:,1].max()+extend],[y_center,y_center],[z_center,z_center],c='k',lw=5)\n",
    "\n",
    "    ax.view_init(20,i)\n",
    "    ax.axis('off')\n",
    "    plt.savefig(f'figures/{i:003}.png', dpi=100, facecolor='white')\n",
    "   "
   ]
  },
  {
   "cell_type": "code",
   "execution_count": null,
   "id": "a9a74322-bf0e-4adc-bba5-0de4afdaf036",
   "metadata": {},
   "outputs": [],
   "source": [
    "!convert -delay 5 figures/*.png umap.gif"
   ]
  }
 ],
 "metadata": {
  "kernelspec": {
   "display_name": "Python [conda env:dan-dev-sc]",
   "language": "python",
   "name": "conda-env-dan-dev-sc-py"
  },
  "language_info": {
   "codemirror_mode": {
    "name": "ipython",
    "version": 3
   },
   "file_extension": ".py",
   "mimetype": "text/x-python",
   "name": "python",
   "nbconvert_exporter": "python",
   "pygments_lexer": "ipython3",
   "version": "3.9.16"
  }
 },
 "nbformat": 4,
 "nbformat_minor": 5
}
