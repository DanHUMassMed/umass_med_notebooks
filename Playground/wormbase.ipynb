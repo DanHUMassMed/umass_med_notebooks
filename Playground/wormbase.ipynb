{
 "cells": [
  {
   "cell_type": "code",
   "execution_count": null,
   "id": "502f9ad2-3c9e-4b78-a8fe-c9511effd368",
   "metadata": {},
   "outputs": [],
   "source": [
    "import pandas as pd"
   ]
  },
  {
   "cell_type": "code",
   "execution_count": null,
   "id": "f6a8dc1b-b6f8-4d5f-97ef-bab75e7e01f9",
   "metadata": {},
   "outputs": [],
   "source": []
  },
  {
   "cell_type": "code",
   "execution_count": null,
   "id": "8808a662-da44-4a0e-b005-6782b629a3d4",
   "metadata": {},
   "outputs": [],
   "source": [
    "expr_graph='c_elegans.PRJNA13758.WS287.expr_graph.csv'\n",
    "clean_str = lambda x: x.replace('\"','').strip()\n",
    "clean_float = lambda x: float(x.replace('\"','').strip())\n",
    "\n",
    "columns = [\"Gene\", \"Gene_name\", \"Life_stage\", \"Library\", \"Protocol\", \"FPKM_value\"]\n",
    "expr_graph_df = pd.read_csv(expr_graph,low_memory=False, header=None, names=columns,\n",
    "                            skiprows=1,\n",
    "                            converters={'Gene_name':clean_str, 'Life_stage':clean_str, \n",
    "                                        'Library':clean_str, 'Protocol':clean_str,\n",
    "                                        'FPKM_value':clean_float})\n"
   ]
  },
  {
   "cell_type": "code",
   "execution_count": null,
   "id": "45a384f1-bd73-4c46-ba53-13a6e0570aa6",
   "metadata": {},
   "outputs": [],
   "source": [
    "print(f\"{len(expr_graph_df):,}\")"
   ]
  },
  {
   "cell_type": "code",
   "execution_count": null,
   "id": "6fee5ddf-6129-465f-b271-f0b2d7e58bec",
   "metadata": {},
   "outputs": [],
   "source": [
    "expr_graph_df"
   ]
  },
  {
   "cell_type": "code",
   "execution_count": null,
   "id": "036f7c51-af62-4953-ab14-49f64c4ffc4d",
   "metadata": {},
   "outputs": [],
   "source": [
    "expr_graph_df['Life_stage'].value_counts()"
   ]
  },
  {
   "cell_type": "code",
   "execution_count": null,
   "id": "4bec4506-c6ae-4e62-906d-11151a045dc0",
   "metadata": {},
   "outputs": [],
   "source": [
    "sams_4 = expr_graph_df.query(\"Gene == 'WBGene00015540'\")\n",
    "sams_4"
   ]
  },
  {
   "cell_type": "code",
   "execution_count": null,
   "id": "2f6370a2-b975-4e3d-9539-25818b59954c",
   "metadata": {},
   "outputs": [],
   "source": [
    "classical_stages=['EE','LE','L1','L2','L3','L4','YA']\n",
    "classical_stages_df = sams_4.query(\"Life_stage in @classical_stages\")\n",
    "median_df = classical_stages_df.query(\"Protocol == 'Median'\")\n",
    "ribozero_df = classical_stages_df.query(\"Protocol == 'ribozero'\")\n",
    "polya_df = classical_stages_df.query(\"Protocol == 'polyA'\")\n",
    "\n",
    "classical_stages_df = classical_stages_df.sort_values(by=['Life_stage'], ascending=True)\n",
    "classical_stages_df"
   ]
  },
  {
   "cell_type": "code",
   "execution_count": null,
   "id": "44248557-7f55-44d4-90d3-96d7e1eecdaf",
   "metadata": {},
   "outputs": [],
   "source": [
    "import matplotlib.pyplot as plt\n",
    "import numpy as np\n",
    "\n",
    "def get_data_dict(data_df):\n",
    "    classical_stages = ['EE','LE','L1','L2','L3','L4','YA']\n",
    "    stages_dict = {val:index for index,val in enumerate(classical_stages)}\n",
    "    swap_dict   = {index:val for index,val in enumerate(classical_stages)}\n",
    "    \n",
    "    #columns = [\"Gene\", \"Gene_name\", \"Life_stage\", \"Library\", \"Protocol\", \"FPKM_value\"]\n",
    "    col_dict = {val:index for index,val in enumerate(data_df.columns)}\n",
    "    \n",
    "    \n",
    "    classical_stages_df = data_df.query(\"Life_stage in @classical_stages\")\n",
    "    #median_df = classical_stages_df.query(\"Protocol == 'Median'\")\n",
    "    #ribozero_df = classical_stages_df.query(\"Protocol == 'ribozero'\")\n",
    "    #polya_df = classical_stages_df.query(\"Protocol == 'polyA'\")\n",
    "    \n",
    "    \n",
    "    \n",
    "    median_fpkm=[0]*7\n",
    "    points_ribozero_x = []\n",
    "    points_ribozero_y = []\n",
    "    points_polya_x = []\n",
    "    points_polya_y = []\n",
    "    \n",
    "    for index,row in classical_stages_df.iterrows():\n",
    "        #print(f\"{row[col_dict['Life_stage']]=}, {row[col_dict['Protocol']]=}, {row[col_dict['FPKM_value']]=}\")\n",
    "        if row[col_dict['Protocol']] == 'Median':\n",
    "            median_fpkm[stages_dict[row[col_dict['Life_stage']]]] = row[col_dict['FPKM_value']]\n",
    "        elif row[col_dict['Protocol']] == 'ribozero':\n",
    "            points_ribozero_y.append(row[col_dict['FPKM_value']])\n",
    "            points_ribozero_x.append(row[col_dict['Life_stage']])                        \n",
    "        elif row[col_dict['Protocol']] == 'polyA':\n",
    "            points_polya_y.append(row[col_dict['FPKM_value']])\n",
    "            points_polya_x.append(row[col_dict['Life_stage']])                        \n",
    "            \n",
    "            \n",
    "    ret_val={'median':(classical_stages,median_fpkm),\n",
    "             'ribozero':(points_ribozero_x,points_ribozero_y),\n",
    "             'polya':(points_polya_x,points_polya_y)\n",
    "            }\n",
    "        \n",
    "    return ret_val\n",
    "    \n",
    "def create_plot_classical_stages(plot_data, gene_name):\n",
    "    \n",
    "    x = classical_stages\n",
    "    y = classical_fpkm\n",
    "\n",
    "    fig, ax = plt.subplots(figsize=(4, 4))\n",
    "    ax.set_ylim([0, 150])\n",
    "    # Create bar plot\n",
    "    plt.bar(plot_data['median'][0], plot_data['median'][1], color='lightgrey', width=0.5, zorder=2)\n",
    "    plt.scatter(plot_data['ribozero'][0], plot_data['ribozero'][1], marker='D', s=10,color='purple',zorder=3)\n",
    "    plt.scatter(plot_data['polya'][0], plot_data['polya'][1], color='green',s=10,zorder=4)\n",
    "\n",
    "    # Set title and labels\n",
    "    plt.title(f\"Classical stages {gene_name}\")\n",
    "    plt.ylabel(\"Expression (FPMK)\")\n",
    "    plt.xlabel(\"Life stages\")\n",
    "    plt.grid(axis='y', linestyle='-', linewidth=0.5)\n",
    "    #plt.setp(ax.get_xticklabels(), rotation=45, ha=\"right\",rotation_mode=\"anchor\")\n",
    "    # Show plot\n",
    "    plt.show()\n"
   ]
  },
  {
   "cell_type": "code",
   "execution_count": null,
   "id": "27c2573c-de5c-4953-af62-86b924e441cf",
   "metadata": {},
   "outputs": [],
   "source": [
    "data = get_data_dict(sams_4)\n",
    "print(data)"
   ]
  },
  {
   "cell_type": "code",
   "execution_count": null,
   "id": "cb810bf1-ff77-4a52-a089-2c1b730a7267",
   "metadata": {},
   "outputs": [],
   "source": [
    "create_plot_classical_stages(data, \"sams-4\")"
   ]
  },
  {
   "cell_type": "code",
   "execution_count": null,
   "id": "56357e2b-10e3-4508-8a54-ed86b7671188",
   "metadata": {},
   "outputs": [],
   "source": [
    "disease_association_df.columns\n",
    "new_names = {x:f'a{x}' for x in disease_association_df.columns}\n",
    "disease_association_df = disease_association_df.rename(columns=new_names)\n",
    "disease_association_df.columns"
   ]
  },
  {
   "cell_type": "code",
   "execution_count": null,
   "id": "adc28bce-17b2-45df-8adc-bbf56b51bea4",
   "metadata": {},
   "outputs": [],
   "source": [
    "disease_association_df['a1'].value_counts()"
   ]
  },
  {
   "cell_type": "code",
   "execution_count": null,
   "id": "bbcb53f9-3d8c-45e0-9f07-301b8394b868",
   "metadata": {},
   "outputs": [],
   "source": [
    "ttt = disease_association_df.query(\"a1 == 'gene'\")\n",
    "len(ttt)"
   ]
  },
  {
   "cell_type": "code",
   "execution_count": null,
   "id": "cc395c1d-072e-4b25-8143-0319d592f079",
   "metadata": {},
   "outputs": [],
   "source": [
    "import numpy as np\n",
    "import matplotlib.pyplot as plt\n",
    "\n",
    "# Fixing random state for reproducibility\n",
    "np.random.seed(19680801)\n",
    "\n",
    "dt = 0.01\n",
    "t = np.arange(0, 30, dt)\n",
    "nse1 = np.random.randn(len(t))                 # white noise 1\n",
    "nse2 = np.random.randn(len(t))                 # white noise 2\n",
    "\n",
    "# Two signals with a coherent part at 10 Hz and a random part\n",
    "s1 = np.sin(2 * np.pi * 10 * t) + nse1\n",
    "s2 = np.sin(2 * np.pi * 10 * t) + nse2\n",
    "\n",
    "fig, axs = plt.subplots(2, 1)\n",
    "axs[0].plot(t, s1, t, s2)\n",
    "axs[0].set_xlim(0, 2)\n",
    "axs[0].set_xlabel('Time')\n",
    "axs[0].set_ylabel('s1 and s2')\n",
    "axs[0].grid(True)\n",
    "\n",
    "cxy, f = axs[1].cohere(s1, s2, 256, 1. / dt)\n",
    "axs[1].set_ylabel('Coherence')\n",
    "\n",
    "fig.tight_layout()\n",
    "plt.show()"
   ]
  },
  {
   "cell_type": "code",
   "execution_count": null,
   "id": "7fd72af9-bba2-4def-a456-0e49797d8c17",
   "metadata": {},
   "outputs": [],
   "source": [
    "import matplotlib.pyplot as plt\n",
    "import numpy as np\n",
    "\n",
    "# Create some data\n",
    "x = np.array(['A', 'B', 'C', 'D'])\n",
    "y = np.array([3, 8, 1, 10])\n",
    "point_x = np.array(['B'])\n",
    "point_y = np.array([6])\n",
    "\n",
    "# Create a bar plot\n",
    "plt.bar(x, y, zorder=2)\n",
    "\n",
    "# Show a scatter plot point on top of the bar\n",
    "plt.scatter(point_x, point_y, color='red', zorder=3)\n",
    "\n",
    "# Set the limits of the y-axis to make the point visible\n",
    "#plt.ylim([0, 12])\n",
    "\n",
    "# Show the plot\n",
    "plt.show()\n"
   ]
  },
  {
   "cell_type": "code",
   "execution_count": null,
   "id": "8515bd8f-7f51-44b6-a4ac-43c477b45d42",
   "metadata": {},
   "outputs": [],
   "source": [
    "disease_association_df.index"
   ]
  },
  {
   "cell_type": "code",
   "execution_count": null,
   "id": "9d271ae3-5421-4d42-9cd7-cd0e3680817b",
   "metadata": {},
   "outputs": [],
   "source": []
  },
  {
   "cell_type": "code",
   "execution_count": null,
   "id": "2a756f8f-7c76-4552-b62e-f1e358a2cacb",
   "metadata": {},
   "outputs": [],
   "source": []
  },
  {
   "cell_type": "code",
   "execution_count": null,
   "id": "a8c68006-5ce4-484f-8e5a-3bb9d8d25fca",
   "metadata": {},
   "outputs": [],
   "source": []
  }
 ],
 "metadata": {
  "kernelspec": {
   "display_name": "Python [conda env:dan-dev-sc]",
   "language": "python",
   "name": "conda-env-dan-dev-sc-py"
  },
  "language_info": {
   "codemirror_mode": {
    "name": "ipython",
    "version": 3
   },
   "file_extension": ".py",
   "mimetype": "text/x-python",
   "name": "python",
   "nbconvert_exporter": "python",
   "pygments_lexer": "ipython3",
   "version": "3.9.16"
  }
 },
 "nbformat": 4,
 "nbformat_minor": 5
}
