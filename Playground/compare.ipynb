{
 "cells": [
  {
   "cell_type": "code",
   "execution_count": null,
   "id": "094028a9-0254-44fe-b37f-bcc2b6e07ed2",
   "metadata": {},
   "outputs": [],
   "source": [
    "import anndata as ad\n",
    "ad.__version__"
   ]
  },
  {
   "cell_type": "code",
   "execution_count": null,
   "id": "d201a9f1-bccb-4b81-99f7-2cbbc10df595",
   "metadata": {},
   "outputs": [],
   "source": [
    "# Load the h5ad file\n",
    "ad_worm_aging = ad.read(\"../kenyon_kelly_single_cell/input_data/ad_worm_aging.h5ad\")\n",
    "ad_worm_aging"
   ]
  },
  {
   "cell_type": "code",
   "execution_count": null,
   "id": "d666da47-1614-4ee3-b74a-9cf21cab90a5",
   "metadata": {},
   "outputs": [],
   "source": [
    "# Load the h5ad file\n",
    "cds_baseline = ad.read(\"../whole_body_gene_expression/input_data/cds_baseline.h5ad\")\n",
    "cds_baseline"
   ]
  },
  {
   "cell_type": "code",
   "execution_count": null,
   "id": "278e8b07-2f9b-4f57-80e7-99494dc8dd19",
   "metadata": {},
   "outputs": [],
   "source": [
    "cds_baseline_lables = cds_baseline.obs\n",
    "cds_baseline_lables['lables'] = cds_baseline_lables.apply(lambda r: r['cell'][0:16], axis=1)\n",
    "cds_baseline_lables_unique_values = cds_baseline_lables['lables'].value_counts()\n",
    "cds_baseline_lables_unique_values_df = cds_baseline_lables_unique_values.to_frame()\n",
    "len(cds_baseline_lables_unique_values_df)"
   ]
  },
  {
   "cell_type": "code",
   "execution_count": null,
   "id": "d545e69b-680b-43a1-bf80-d6adb7af500c",
   "metadata": {},
   "outputs": [],
   "source": [
    "ad_worm_aging.obs['n_counts']"
   ]
  },
  {
   "cell_type": "code",
   "execution_count": null,
   "id": "3055af8c-410b-4862-ba2f-c7d95c14df67",
   "metadata": {},
   "outputs": [],
   "source": [
    "ad_worm_aging.X"
   ]
  },
  {
   "cell_type": "code",
   "execution_count": null,
   "id": "536556ff-f7a7-471f-9ff9-0b16596c0f14",
   "metadata": {},
   "outputs": [],
   "source": [
    "ad_worm_aging_lables = ad_worm_aging.obs\n",
    "ad_worm_aging_lables['index_column'] =ad_worm_aging_lables.index\n",
    "ad_worm_aging_lables['lables'] = ad_worm_aging_lables.apply(lambda r: r['index_column'][0:16], axis=1)\n",
    "ad_worm_agin_unique_values = ad_worm_aging_lables['lables'].value_counts()\n",
    "ad_worm_agin_unique_values_df = ad_worm_agin_unique_values.to_frame()\n",
    "len(ad_worm_agin_unique_values)\n"
   ]
  },
  {
   "cell_type": "code",
   "execution_count": null,
   "id": "3fd327db-28f3-48a9-b2bb-2df08dff8025",
   "metadata": {},
   "outputs": [],
   "source": [
    "ad_worm_agin_unique_values\n"
   ]
  },
  {
   "cell_type": "code",
   "execution_count": null,
   "id": "b4077ea2-8c43-46f4-bf92-b6da68a221ce",
   "metadata": {},
   "outputs": [],
   "source": [
    "df3=cds_baseline_lables_unique_values_df.join(ad_worm_agin_unique_values_df, lsuffix=\"_left\", rsuffix=\"_right\", how='outer')"
   ]
  },
  {
   "cell_type": "code",
   "execution_count": null,
   "id": "2a11986b-5289-4e28-bc8d-789d059ffa39",
   "metadata": {},
   "outputs": [],
   "source": [
    "df3.query(\"lables_left > 0 and lables_right > 0\")"
   ]
  },
  {
   "cell_type": "code",
   "execution_count": null,
   "id": "3621c91e-cba4-4c90-b814-981aa0c9d1e0",
   "metadata": {},
   "outputs": [],
   "source": [
    "df3.columns"
   ]
  },
  {
   "cell_type": "code",
   "execution_count": null,
   "id": "59c9af69-ef4a-4635-8f9a-0271b8692154",
   "metadata": {},
   "outputs": [],
   "source": []
  }
 ],
 "metadata": {
  "kernelspec": {
<<<<<<< HEAD
   "display_name": "Python 3 (ipykernel)",
=======
   "display_name": "Python 3",
>>>>>>> 4f9883b7b192f8a4e75b4a862bbde3e23f50b29a
   "language": "python",
   "name": "python3"
  },
  "language_info": {
   "codemirror_mode": {
    "name": "ipython",
    "version": 3
   },
   "file_extension": ".py",
   "mimetype": "text/x-python",
   "name": "python",
   "nbconvert_exporter": "python",
   "pygments_lexer": "ipython3",
   "version": "3.9.16"
  }
 },
 "nbformat": 4,
 "nbformat_minor": 5
}
