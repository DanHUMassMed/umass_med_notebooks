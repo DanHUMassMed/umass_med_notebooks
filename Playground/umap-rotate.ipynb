{
 "cells": [
  {
   "cell_type": "markdown",
   "id": "e4c4b08f-983d-46af-83a7-be9b039e6794",
   "metadata": {},
   "source": [
    "https://www.youtube.com/watch?v=XzAryDJTi1M\n",
    "\n",
    "https://www.youtube.com/watch?v=5HuOGZEu2HY"
   ]
  },
  {
   "cell_type": "code",
   "execution_count": null,
   "id": "8970b274-b519-405c-aa67-8239f31af750",
   "metadata": {},
   "outputs": [],
   "source": [
    "import scanpy as sc\n",
    "import numpy as np\n",
    "import pandas as pd"
   ]
  },
  {
   "cell_type": "code",
   "execution_count": null,
   "id": "d9503892-6803-4e48-bf18-1078d4b5fc94",
   "metadata": {},
   "outputs": [],
   "source": [
    "adata = sc.read_10x_h5('lung1.h5')\n",
    "sc.pp.filter_cells(adata,min_genes=200)\n",
    "sc.pp.filter_genes(adata,min_cells=3)\n",
    "adata.var['mt'] = adata.var_names.str.startswith('MT-')\n",
    "sc.pp.calculate_qc_metrics(adata, qc_vars=['mt'], percent_top=None, \n",
    "                           log1p=False, inplace=True)\n",
    "upper_lim = np.quantile(adata.obs.n_genes_by_counts.values, .98)\n",
    "lower_lim = np.quantile(adata.obs.n_genes_by_counts.values, .02)\n",
    "adata = adata[(adata.obs.n_genes_by_counts.values < upper_lim) &\n",
    "              (adata.obs.n_genes_by_counts.values > lower_lim)]\n",
    "adata = adata[adata.obs.pct_counts_mt < 20]\n",
    "sc.pp.normilize_total(adata, target_sum=1e4)\n",
    "sc.pp.log1p(adata)\n",
    "sc.pp.highly_variable_genes(adata, min_mean=0.0125, max_mean=3, min_disp=0.5)\n",
    "adata = adata[:, adata.var.highly_variable]\n",
    "sc.pp.regress_out(adata, ['total_counts', 'pct_counts_mt'])\n",
    "sc.pp.scale(adata, max_value=10)\n",
    "sc.tl.pca(adata, svd_solver='arpack')\n",
    "sc.pp.neighbors(adata, n_neighbors=10, n_pcs=20)\n",
    "sc.tl.leiden(adata, resolution = 0.25)\n"
   ]
  },
  {
   "cell_type": "code",
   "execution_count": null,
   "id": "7ebe2eb5-efeb-427c-9cf2-c655fa715446",
   "metadata": {},
   "outputs": [],
   "source": []
  }
 ],
 "metadata": {
  "kernelspec": {
   "display_name": "Python [conda env:dan-dev-sc]",
   "language": "python",
   "name": "conda-env-dan-dev-sc-py"
  },
  "language_info": {
   "codemirror_mode": {
    "name": "ipython",
    "version": 3
   },
   "file_extension": ".py",
   "mimetype": "text/x-python",
   "name": "python",
   "nbconvert_exporter": "python",
   "pygments_lexer": "ipython3",
   "version": "3.9.16"
  }
 },
 "nbformat": 4,
 "nbformat_minor": 5
}
