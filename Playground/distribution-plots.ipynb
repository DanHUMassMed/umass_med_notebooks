{
 "cells": [
  {
   "cell_type": "code",
   "execution_count": null,
   "id": "354ae97c-9cef-4257-ad67-1ec26dc03f1c",
   "metadata": {},
   "outputs": [],
   "source": [
    "import numpy as np\n",
    "import matplotlib.pyplot as plt\n",
    "from scipy.stats import nbinom\n",
    "\n",
    "# Define parameters for negative binomial distribution\n",
    "r = 5  # number of successes needed\n",
    "p = 0.3  # success probability\n",
    "\n",
    "# Generate data from negative binomial distribution\n",
    "x = np.arange(0, 21)  # range of values for x-axis\n",
    "nbinom_pmf = nbinom.pmf(x, n=r, p=p)  # probability mass function of negative binomial distribution\n",
    "\n",
    "# Plot negative binomial distribution\n",
    "plt.figure(figsize=(10, 6))\n",
    "plt.plot(x, nbinom_pmf, 'b-', label='Negative Binomial Distribution')\n",
    "plt.xlabel('X')\n",
    "plt.ylabel('Probability')\n",
    "plt.title('Negative Binomial Distribution')\n",
    "plt.legend()\n",
    "plt.grid(True)\n",
    "plt.show()\n"
   ]
  },
  {
   "cell_type": "code",
   "execution_count": null,
<<<<<<< HEAD
   "id": "27d5ff66-82c6-400f-81aa-dcdb887e34af",
   "metadata": {},
   "outputs": [],
   "source": [
    "# Python code\n",
    "import matplotlib.pyplot as plt\n",
    "from scipy.stats import nbinom\n",
    "import numpy as np\n",
    "\n",
    "mu = 10  # mean\n",
    "size = 10  # dispersion parameter\n",
    "\n",
    "x = np.arange(0, 51)\n",
    "y = nbinom.pmf(x, size, mu / (size + mu))\n",
    "\n",
    "plt.plot(x, y)\n",
    "plt.show()"
   ]
  },
  {
   "cell_type": "code",
   "execution_count": null,
=======
>>>>>>> 4f9883b7b192f8a4e75b4a862bbde3e23f50b29a
   "id": "4a1c1340-38bf-408b-8912-d9b412db0faf",
   "metadata": {},
   "outputs": [],
   "source": [
    "import numpy as np\n",
    "import matplotlib.pyplot as plt\n",
    "from scipy.stats import nbinom\n",
    "\n",
    "# Parameters for the negative binomial distribution\n",
    "k = 5  # Number of successes required\n",
    "p = 0.3  # Probability of success\n",
    "\n",
    "# Generate x values\n",
    "x = np.arange(nbinom.ppf(0.01, k, p), nbinom.ppf(0.99, k, p))\n",
    "\n",
    "# Calculate corresponding probability density function (PMF)\n",
    "pmf = nbinom.pmf(x, k, p)\n",
    "\n",
    "# Plot the negative binomial distribution\n",
    "plt.figure(figsize=(10, 6))\n",
    "plt.plot(x, pmf, 'bo', ms=5, label='Negative Binomial PMF')\n",
    "plt.plot(x, pmf, 'b-', label='Negative Binomial Distribution')\n",
    "plt.vlines(x, 0, pmf, colors='b', lw=2)\n",
    "plt.xlabel('Number of Failures')\n",
    "plt.ylabel('Probability')\n",
    "plt.title('Negative Binomial Distribution')\n",
    "plt.legend()\n",
    "plt.show()\n"
   ]
  },
  {
   "cell_type": "code",
   "execution_count": null,
<<<<<<< HEAD
   "id": "db54ec35-2319-4e54-95e5-c82ab4464860",
   "metadata": {},
   "outputs": [],
   "source": []
  },
  {
   "cell_type": "code",
   "execution_count": null,
=======
>>>>>>> 4f9883b7b192f8a4e75b4a862bbde3e23f50b29a
   "id": "eb26c819-8ab7-4168-b3dd-865362c3b9b5",
   "metadata": {},
   "outputs": [],
   "source": [
    "import numpy as np\n",
    "import matplotlib.pyplot as plt\n",
    "from scipy.stats import poisson\n",
    "\n",
    "# Parameter for the Poisson distribution\n",
    "lambda_val = 3.5  # Average rate of events\n",
    "\n",
    "# Generate x values\n",
    "x = np.arange(0, 15)\n",
    "\n",
    "# Calculate corresponding probability mass function (PMF)\n",
    "pmf = poisson.pmf(x, lambda_val)\n",
    "\n",
    "# Plot the Poisson distribution\n",
    "plt.bar(x, pmf)\n",
    "plt.xlabel('Number of Events')\n",
    "plt.ylabel('Probability')\n",
    "plt.title('Poisson Distribution (λ = 3.5)')\n",
    "plt.show()\n"
   ]
  },
  {
   "cell_type": "code",
   "execution_count": null,
   "id": "27e8f83c-aef4-4e14-87af-716dd1601915",
   "metadata": {},
   "outputs": [],
   "source": [
    "import numpy as np\n",
    "import matplotlib.pyplot as plt\n",
    "from scipy.stats import gamma\n",
    "\n",
    "# Parameters for the gamma distribution\n",
    "shape = 2.5  # Shape parameter\n",
    "scale = 1.0  # Scale parameter\n",
    "\n",
    "# Generate x values\n",
    "x = np.linspace(0, 10, 1000)\n",
    "\n",
    "# Calculate corresponding probability density function (PDF)\n",
    "pdf = gamma.pdf(x, shape, scale=scale)\n",
    "\n",
    "# Plot the gamma distribution\n",
    "plt.plot(x, pdf, 'r-', lw=2)\n",
    "plt.xlabel('x')\n",
    "plt.ylabel('Probability Density')\n",
    "plt.title('Gamma Distribution (shape = 2.5, scale = 1.0)')\n",
    "plt.show()\n"
   ]
  },
  {
   "cell_type": "code",
   "execution_count": null,
   "id": "9801e872-e777-4d4a-a5cf-8311bce7b179",
   "metadata": {},
   "outputs": [],
   "source": [
    "import numpy as np\n",
    "import matplotlib.pyplot as plt\n",
    "from scipy.stats import norm\n",
    "\n",
    "# Parameters for the normal distribution\n",
    "mu = 0  # Mean\n",
    "sigma = 1  # Standard deviation\n",
    "\n",
    "# Generate x values\n",
    "x = np.linspace(-5, 5, 1000)\n",
    "\n",
    "# Calculate corresponding probability density function (PDF)\n",
    "pdf = norm.pdf(x, mu, sigma)\n",
    "\n",
    "# Plot the normal distribution\n",
    "plt.plot(x, pdf, 'b-', lw=2)\n",
    "plt.xlabel('x')\n",
    "plt.ylabel('Probability Density')\n",
    "plt.title('Normal Distribution (μ = 0, σ = 1)')\n",
    "plt.show()\n"
   ]
  },
  {
   "cell_type": "markdown",
   "id": "2848bc9a-d65e-4d89-a682-99c26318c165",
   "metadata": {},
   "source": [
    "The normal distribution has several important properties, including:\n",
    "\n",
    "1. It is symmetric, with the mean, median, and mode all equal to μ.\n",
    "2. The total area under the curve is equal to 1.\n",
    "3. It is completely determined by its mean and standard deviation.\n",
    "4. The distribution is continuous and defined for all real numbers.\n",
    "\n",
    "Note: the terms \"normal distribution\" and \"Gaussian distribution\" generally refer to the same concept. The normal distribution is a specific case of Gaussian distributions, characterized by its mean and standard deviation.\n"
   ]
  },
  {
   "cell_type": "markdown",
   "id": "ccc0885c-a33e-4bd6-a646-492bf04a1228",
   "metadata": {},
   "source": [
    "* Beta\n",
    "* Binomial\n",
    "* Cauchy\n",
    "* Chi-squared (noncentral)\n",
    "* Exponential\n",
    "* F\n",
    "* Gamma \n",
    "* Geometric \n",
    "* Hypergeometric \n",
    "* Lognormal\n",
    "* Logistic \n",
    "* Multinomial \n",
    "* Negative binomial \n",
    "* Normal\n",
    "* Poisson\n",
    "* T\n",
    "* Uniform\n",
    "* Weibull\n",
    "* Wilcoxon rank sum (wilcox)\n",
    "* Wilcoxon signed rank (signrank)\n"
   ]
  },
  {
   "cell_type": "code",
   "execution_count": null,
   "id": "53dd51fd-a13a-434f-b1e3-fa5ccb5b7163",
   "metadata": {},
   "outputs": [],
   "source": [
    "import numpy as np\n",
    "from scipy.stats import norm\n",
    "from scipy.stats import rankdata\n",
    "import matplotlib.pyplot as plt\n",
    "\n",
    "# Parameters\n",
    "sample_size = 1000  # Size of the sample\n",
    "mean = 1.0  # Mean of the distribution\n",
    "std_dev = 1.0  # Standard deviation of the distribution\n",
    "\n",
    "# Generate random sample\n",
    "np.random.seed(42)\n",
    "sample = norm.rvs(loc=mean, scale=std_dev, size=sample_size)\n",
    "\n",
    "# Calculate the ranks of the sample\n",
    "ranks = rankdata(sample)\n",
    "\n",
    "# Calculate empirical cumulative distribution function (ECDF)\n",
    "x = np.sort(ranks)\n",
    "y = np.arange(1, len(x) + 1) / len(x)\n",
    "\n",
    "# Plotting the ECDF\n",
    "plt.plot(x, y, marker='o', linestyle='-', color='b')\n",
    "plt.xlabel('Rank')\n",
    "plt.ylabel('Cumulative Probability')\n",
    "plt.title('Empirical Cumulative Distribution Function')\n",
    "plt.grid(True)\n",
    "plt.show()\n"
   ]
  },
  {
   "cell_type": "code",
   "execution_count": null,
   "id": "63bf992f-8df8-4345-8051-0dc605179270",
   "metadata": {},
   "outputs": [],
   "source": []
  }
 ],
 "metadata": {
  "kernelspec": {
   "display_name": "Python [conda env:dan-dev-sc]",
   "language": "python",
   "name": "conda-env-dan-dev-sc-py"
  },
  "language_info": {
   "codemirror_mode": {
    "name": "ipython",
    "version": 3
   },
   "file_extension": ".py",
   "mimetype": "text/x-python",
   "name": "python",
   "nbconvert_exporter": "python",
   "pygments_lexer": "ipython3",
   "version": "3.9.16"
  }
 },
 "nbformat": 4,
 "nbformat_minor": 5
}
