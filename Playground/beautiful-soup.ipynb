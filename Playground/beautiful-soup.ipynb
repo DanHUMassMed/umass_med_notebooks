{
 "cells": [
  {
   "cell_type": "markdown",
   "id": "fdd3f2e4-fca7-4826-b2eb-b012c45b8a61",
   "metadata": {},
   "source": [
    "## Parse HTML"
   ]
  },
  {
   "cell_type": "code",
   "execution_count": null,
   "id": "f777d20b-8396-4b28-8170-0a6c105b95cc",
   "metadata": {},
   "outputs": [],
   "source": [
    "\n",
    "with open('sams-1-expression.html','r') as html_file:\n",
    "    sams_1_expression_f = html_file.readlines()\n",
    "\n",
    "#print(sams_1_expression_f)"
   ]
  },
  {
   "cell_type": "code",
   "execution_count": null,
   "id": "789e53f1-acec-4fb0-8d5b-601473787fa6",
   "metadata": {},
   "outputs": [],
   "source": [
    "from bs4 import BeautifulSoup\n",
    "\n",
    "# create a BeautifulSoup object from an HTML file\n",
    "with open('sams-1-expression.html') as f:\n",
    "    soup = BeautifulSoup(f, 'html.parser')\n",
    "\n",
    "# get the formatted HTML as a string\n",
    "html_content = soup.prettify()\n",
    "\n",
    "# write the HTML content to a file\n",
    "with open('output.html', 'w') as f:\n",
    "    f.write(html_content)\n",
    "\n",
    "print(html_content)"
   ]
  },
  {
   "cell_type": "code",
   "execution_count": null,
   "id": "52027887-8f74-4b35-aca8-67d91e235b61",
   "metadata": {},
   "outputs": [],
   "source": []
  }
 ],
 "metadata": {
  "kernelspec": {
   "display_name": "Python [conda env:dan-dev-sc]",
   "language": "python",
   "name": "conda-env-dan-dev-sc-py"
  },
  "language_info": {
   "codemirror_mode": {
    "name": "ipython",
    "version": 3
   },
   "file_extension": ".py",
   "mimetype": "text/x-python",
   "name": "python",
   "nbconvert_exporter": "python",
   "pygments_lexer": "ipython3",
   "version": "3.9.16"
  }
 },
 "nbformat": 4,
 "nbformat_minor": 5
}
