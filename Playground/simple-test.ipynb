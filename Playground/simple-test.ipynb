{
 "cells": [
  {
   "cell_type": "code",
   "execution_count": null,
   "id": "3be4442e-1b9e-49bd-96eb-c5929e1e6a45",
   "metadata": {},
   "outputs": [],
   "source": [
    "# Open the file in read mode\n",
    "lines = []\n",
    "active_gene = \"\"\n",
    "with open('./input_data/frustrating exel file.csv', 'r') as file:\n",
    "    # Read the file line by line\n",
    "    for line in file:\n",
    "        line = line.strip()\n",
    "        if line != ',':\n",
    "            split_string = line.split(',', 1)\n",
    "            current_gene = split_string[0]\n",
    "            if current_gene == \"\":\n",
    "                split_string[0]=active_gene\n",
    "                #print(f'{split_string}')\n",
    "                line = ', '.join(split_string)\n",
    "            else:\n",
    "                active_gene = current_gene\n",
    "            print(type(line))\n",
    "            lines.append(line)\n",
    "        \n",
    "        \n",
    "lines"
   ]
  },
  {
   "cell_type": "code",
   "execution_count": null,
   "id": "51a228a3-271d-488d-afee-a304cf6473ec",
   "metadata": {},
   "outputs": [],
   "source": [
    "import csv\n",
    "\n",
    "# CSV file name\n",
    "active_gene = \"\"\n",
    "# Read the CSV file into a list\n",
    "my_list = []\n",
    "with open('./input_data/frustrating exel file.csv', 'r') as file:\n",
    "    reader = csv.reader(file)\n",
    "    for row in reader:\n",
    "        if row[0]=='' and row[1]=='':\n",
    "            pass\n",
    "        else:\n",
    "            my_list.append(row)\n",
    "\n",
    "current_gene=''\n",
    "second_pass=[]\n",
    "for line in my_list:\n",
    "    #print(type(line))\n",
    "    if line[0] == '':\n",
    "        line[0] = current_gene\n",
    "    \n",
    "    current_gene = line[0]\n",
    "    second_pass.append(line)\n",
    "    \n",
    "    \n",
    "second_pass  "
   ]
  },
  {
   "cell_type": "code",
   "execution_count": null,
   "id": "258afe2b-ada0-4df7-b6cc-26f9f4d69ab4",
   "metadata": {},
   "outputs": [],
   "source": [
    "lines[2]"
   ]
  },
  {
   "cell_type": "code",
   "execution_count": null,
   "id": "cf0b551f-b5f3-4f4c-b44d-8bf15296d332",
   "metadata": {},
   "outputs": [],
   "source": [
    "import csv\n",
    "with open('outfile.csv', 'w', newline='') as file:\n",
    "    writer = csv.writer(file)\n",
    "    writer.writerows(second_pass)"
   ]
  },
  {
   "cell_type": "code",
   "execution_count": null,
   "id": "cd5e2417-1d27-48e6-814a-4a207d42d0a6",
   "metadata": {},
   "outputs": [],
   "source": [
    "with open('outfile2.csv', 'w') as file:\n",
    "    for row in second_pass:\n",
    "        file.write(f'\"{row[0]}\",\"{row[1]}\"\\n')\n",
    "\n",
    "\n"
   ]
  },
  {
   "cell_type": "code",
   "execution_count": 10,
   "id": "071a552b-d202-4199-98ba-c253cf3bd229",
   "metadata": {},
   "outputs": [
    {
     "name": "stdout",
     "output_type": "stream",
     "text": [
      "Success! Updated data written to Panther.output2.csv.\n"
     ]
    }
   ],
   "source": [
    "import csv\n",
    "\n",
    "# Input and output file paths\n",
    "input_file = 'Panther.output.csv'\n",
    "output_file = 'Panther.output2.csv'\n",
    "\n",
    "# Read input CSV file\n",
    "with open(input_file, 'r', encoding='utf-8-sig') as file:\n",
    "    reader = csv.DictReader(file)\n",
    "    fieldnames = reader.fieldnames\n",
    "    data = []\n",
    "    current_gene = None\n",
    "    for row in reader:\n",
    "        #print(type(row))\n",
    "        #print(row['Genes'])\n",
    "        gene = row['Genes']\n",
    "        if not gene:\n",
    "            # If current line is blank, fill it with the current gene name\n",
    "            row['Genes'] = current_gene\n",
    "        else:\n",
    "            # If current line has a gene, update the current gene name\n",
    "            current_gene = gene\n",
    "        data.append(row)\n",
    "\n",
    "# Write updated data to output CSV file\n",
    "with open(output_file, 'w', newline='') as file:\n",
    "    writer = csv.DictWriter(file, fieldnames=fieldnames)\n",
    "    writer.writeheader()\n",
    "    writer.writerows(data)\n",
    "\n",
    "print(f'Success! Updated data written to {output_file}.')\n"
   ]
  },
  {
   "cell_type": "code",
   "execution_count": null,
   "id": "6b3d2a8f-4c3a-4983-a76b-14e6f5155ac5",
   "metadata": {},
   "outputs": [],
   "source": []
  }
 ],
 "metadata": {
  "kernelspec": {
   "display_name": "Python [conda env:dan-dev-sc]",
   "language": "python",
   "name": "conda-env-dan-dev-sc-py"
  },
  "language_info": {
   "codemirror_mode": {
    "name": "ipython",
    "version": 3
   },
   "file_extension": ".py",
   "mimetype": "text/x-python",
   "name": "python",
   "nbconvert_exporter": "python",
   "pygments_lexer": "ipython3",
   "version": "3.9.16"
  }
 },
 "nbformat": 4,
 "nbformat_minor": 5
}
